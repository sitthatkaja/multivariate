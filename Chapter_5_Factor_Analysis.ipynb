{
  "nbformat": 4,
  "nbformat_minor": 0,
  "metadata": {
    "colab": {
      "name": "Chapter 5 Factor Analysis.ipynb",
      "provenance": [],
      "authorship_tag": "ABX9TyOOnpH1Nrhe0mpO7B/ujQgh",
      "include_colab_link": true
    },
    "kernelspec": {
      "name": "python3",
      "display_name": "Python 3"
    },
    "language_info": {
      "name": "python"
    }
  },
  "cells": [
    {
      "cell_type": "markdown",
      "metadata": {
        "id": "view-in-github",
        "colab_type": "text"
      },
      "source": [
        "<a href=\"https://colab.research.google.com/github/sitthatkaja/multivariate/blob/main/Chapter_5_Factor_Analysis.ipynb\" target=\"_parent\"><img src=\"https://colab.research.google.com/assets/colab-badge.svg\" alt=\"Open In Colab\"/></a>"
      ]
    },
    {
      "cell_type": "markdown",
      "metadata": {
        "id": "BgxVpObpEtoi"
      },
      "source": [
        "https://www.datacamp.com/community/tutorials/introduction-factor-analysis\n"
      ]
    },
    {
      "cell_type": "code",
      "metadata": {
        "id": "T3oNKlUGGQ3a"
      },
      "source": [
        "import pandas as pd"
      ],
      "execution_count": 1,
      "outputs": []
    },
    {
      "cell_type": "code",
      "metadata": {
        "id": "6eBYBAKTD8-i"
      },
      "source": [
        "BFI_data = pd.read_csv('https://vincentarelbundock.github.io/Rdatasets/csv/psych/bfi.csv')"
      ],
      "execution_count": 2,
      "outputs": []
    },
    {
      "cell_type": "code",
      "metadata": {
        "colab": {
          "base_uri": "https://localhost:8080/",
          "height": 195
        },
        "id": "INRA3vteGcd7",
        "outputId": "766f66ba-5488-4c5e-9a83-35bb55151aac"
      },
      "source": [
        "BFI_data.head()"
      ],
      "execution_count": 3,
      "outputs": [
        {
          "output_type": "execute_result",
          "data": {
            "text/html": [
              "<div>\n",
              "<style scoped>\n",
              "    .dataframe tbody tr th:only-of-type {\n",
              "        vertical-align: middle;\n",
              "    }\n",
              "\n",
              "    .dataframe tbody tr th {\n",
              "        vertical-align: top;\n",
              "    }\n",
              "\n",
              "    .dataframe thead th {\n",
              "        text-align: right;\n",
              "    }\n",
              "</style>\n",
              "<table border=\"1\" class=\"dataframe\">\n",
              "  <thead>\n",
              "    <tr style=\"text-align: right;\">\n",
              "      <th></th>\n",
              "      <th>Unnamed: 0</th>\n",
              "      <th>A1</th>\n",
              "      <th>A2</th>\n",
              "      <th>A3</th>\n",
              "      <th>A4</th>\n",
              "      <th>A5</th>\n",
              "      <th>C1</th>\n",
              "      <th>C2</th>\n",
              "      <th>C3</th>\n",
              "      <th>C4</th>\n",
              "      <th>C5</th>\n",
              "      <th>E1</th>\n",
              "      <th>E2</th>\n",
              "      <th>E3</th>\n",
              "      <th>E4</th>\n",
              "      <th>E5</th>\n",
              "      <th>N1</th>\n",
              "      <th>N2</th>\n",
              "      <th>N3</th>\n",
              "      <th>N4</th>\n",
              "      <th>N5</th>\n",
              "      <th>O1</th>\n",
              "      <th>O2</th>\n",
              "      <th>O3</th>\n",
              "      <th>O4</th>\n",
              "      <th>O5</th>\n",
              "      <th>gender</th>\n",
              "      <th>education</th>\n",
              "      <th>age</th>\n",
              "    </tr>\n",
              "  </thead>\n",
              "  <tbody>\n",
              "    <tr>\n",
              "      <th>0</th>\n",
              "      <td>61617</td>\n",
              "      <td>2.0</td>\n",
              "      <td>4.0</td>\n",
              "      <td>3.0</td>\n",
              "      <td>4.0</td>\n",
              "      <td>4.0</td>\n",
              "      <td>2.0</td>\n",
              "      <td>3.0</td>\n",
              "      <td>3.0</td>\n",
              "      <td>4.0</td>\n",
              "      <td>4.0</td>\n",
              "      <td>3.0</td>\n",
              "      <td>3.0</td>\n",
              "      <td>3.0</td>\n",
              "      <td>4.0</td>\n",
              "      <td>4.0</td>\n",
              "      <td>3.0</td>\n",
              "      <td>4.0</td>\n",
              "      <td>2.0</td>\n",
              "      <td>2.0</td>\n",
              "      <td>3.0</td>\n",
              "      <td>3.0</td>\n",
              "      <td>6</td>\n",
              "      <td>3.0</td>\n",
              "      <td>4.0</td>\n",
              "      <td>3.0</td>\n",
              "      <td>1</td>\n",
              "      <td>NaN</td>\n",
              "      <td>16</td>\n",
              "    </tr>\n",
              "    <tr>\n",
              "      <th>1</th>\n",
              "      <td>61618</td>\n",
              "      <td>2.0</td>\n",
              "      <td>4.0</td>\n",
              "      <td>5.0</td>\n",
              "      <td>2.0</td>\n",
              "      <td>5.0</td>\n",
              "      <td>5.0</td>\n",
              "      <td>4.0</td>\n",
              "      <td>4.0</td>\n",
              "      <td>3.0</td>\n",
              "      <td>4.0</td>\n",
              "      <td>1.0</td>\n",
              "      <td>1.0</td>\n",
              "      <td>6.0</td>\n",
              "      <td>4.0</td>\n",
              "      <td>3.0</td>\n",
              "      <td>3.0</td>\n",
              "      <td>3.0</td>\n",
              "      <td>3.0</td>\n",
              "      <td>5.0</td>\n",
              "      <td>5.0</td>\n",
              "      <td>4.0</td>\n",
              "      <td>2</td>\n",
              "      <td>4.0</td>\n",
              "      <td>3.0</td>\n",
              "      <td>3.0</td>\n",
              "      <td>2</td>\n",
              "      <td>NaN</td>\n",
              "      <td>18</td>\n",
              "    </tr>\n",
              "    <tr>\n",
              "      <th>2</th>\n",
              "      <td>61620</td>\n",
              "      <td>5.0</td>\n",
              "      <td>4.0</td>\n",
              "      <td>5.0</td>\n",
              "      <td>4.0</td>\n",
              "      <td>4.0</td>\n",
              "      <td>4.0</td>\n",
              "      <td>5.0</td>\n",
              "      <td>4.0</td>\n",
              "      <td>2.0</td>\n",
              "      <td>5.0</td>\n",
              "      <td>2.0</td>\n",
              "      <td>4.0</td>\n",
              "      <td>4.0</td>\n",
              "      <td>4.0</td>\n",
              "      <td>5.0</td>\n",
              "      <td>4.0</td>\n",
              "      <td>5.0</td>\n",
              "      <td>4.0</td>\n",
              "      <td>2.0</td>\n",
              "      <td>3.0</td>\n",
              "      <td>4.0</td>\n",
              "      <td>2</td>\n",
              "      <td>5.0</td>\n",
              "      <td>5.0</td>\n",
              "      <td>2.0</td>\n",
              "      <td>2</td>\n",
              "      <td>NaN</td>\n",
              "      <td>17</td>\n",
              "    </tr>\n",
              "    <tr>\n",
              "      <th>3</th>\n",
              "      <td>61621</td>\n",
              "      <td>4.0</td>\n",
              "      <td>4.0</td>\n",
              "      <td>6.0</td>\n",
              "      <td>5.0</td>\n",
              "      <td>5.0</td>\n",
              "      <td>4.0</td>\n",
              "      <td>4.0</td>\n",
              "      <td>3.0</td>\n",
              "      <td>5.0</td>\n",
              "      <td>5.0</td>\n",
              "      <td>5.0</td>\n",
              "      <td>3.0</td>\n",
              "      <td>4.0</td>\n",
              "      <td>4.0</td>\n",
              "      <td>4.0</td>\n",
              "      <td>2.0</td>\n",
              "      <td>5.0</td>\n",
              "      <td>2.0</td>\n",
              "      <td>4.0</td>\n",
              "      <td>1.0</td>\n",
              "      <td>3.0</td>\n",
              "      <td>3</td>\n",
              "      <td>4.0</td>\n",
              "      <td>3.0</td>\n",
              "      <td>5.0</td>\n",
              "      <td>2</td>\n",
              "      <td>NaN</td>\n",
              "      <td>17</td>\n",
              "    </tr>\n",
              "    <tr>\n",
              "      <th>4</th>\n",
              "      <td>61622</td>\n",
              "      <td>2.0</td>\n",
              "      <td>3.0</td>\n",
              "      <td>3.0</td>\n",
              "      <td>4.0</td>\n",
              "      <td>5.0</td>\n",
              "      <td>4.0</td>\n",
              "      <td>4.0</td>\n",
              "      <td>5.0</td>\n",
              "      <td>3.0</td>\n",
              "      <td>2.0</td>\n",
              "      <td>2.0</td>\n",
              "      <td>2.0</td>\n",
              "      <td>5.0</td>\n",
              "      <td>4.0</td>\n",
              "      <td>5.0</td>\n",
              "      <td>2.0</td>\n",
              "      <td>3.0</td>\n",
              "      <td>4.0</td>\n",
              "      <td>4.0</td>\n",
              "      <td>3.0</td>\n",
              "      <td>3.0</td>\n",
              "      <td>3</td>\n",
              "      <td>4.0</td>\n",
              "      <td>3.0</td>\n",
              "      <td>3.0</td>\n",
              "      <td>1</td>\n",
              "      <td>NaN</td>\n",
              "      <td>17</td>\n",
              "    </tr>\n",
              "  </tbody>\n",
              "</table>\n",
              "</div>"
            ],
            "text/plain": [
              "   Unnamed: 0   A1   A2   A3   A4   A5  ...   O3   O4   O5  gender  education  age\n",
              "0       61617  2.0  4.0  3.0  4.0  4.0  ...  3.0  4.0  3.0       1        NaN   16\n",
              "1       61618  2.0  4.0  5.0  2.0  5.0  ...  4.0  3.0  3.0       2        NaN   18\n",
              "2       61620  5.0  4.0  5.0  4.0  4.0  ...  5.0  5.0  2.0       2        NaN   17\n",
              "3       61621  4.0  4.0  6.0  5.0  5.0  ...  4.0  3.0  5.0       2        NaN   17\n",
              "4       61622  2.0  3.0  3.0  4.0  5.0  ...  4.0  3.0  3.0       1        NaN   17\n",
              "\n",
              "[5 rows x 29 columns]"
            ]
          },
          "metadata": {
            "tags": []
          },
          "execution_count": 3
        }
      ]
    },
    {
      "cell_type": "markdown",
      "metadata": {
        "id": "pVHtLnZTHqwN"
      },
      "source": [
        "#**Factor Analysis**\n",
        "\n",
        "**Assumptions :**\n",
        "\n",
        "ในข้อมูล multivariale ที่มีตัวแปร observe variable จำนวน n ตัว\n",
        "\n",
        "มีตัวแปร Factor (Latent  Variables) จำนวน k ตัวที่สามารถอธิบายข้อมูลทั้งหมดได้ \n",
        "\n",
        "โดย k < n\n",
        "\n",
        "\n",
        "\n"
      ]
    },
    {
      "cell_type": "markdown",
      "metadata": {
        "id": "yFSHE9UfNx-4"
      },
      "source": [
        "![166226255_217522026820331_4848334884372471181_n.png](data:image/png;base64,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)"
      ]
    },
    {
      "cell_type": "markdown",
      "metadata": {
        "id": "J-NsLqeqLS_m"
      },
      "source": [
        "## **Assumptions ในการทำ Factor analysis**\n",
        "\n",
        "* There are no outliers in data.\n",
        "\n",
        "* Sample size should be greater than the factor.\n",
        "\n",
        "* There should not be perfect ***multicollinearity***.\n",
        "\n",
        "* There should not be ***homoscedasticity*** between the variables."
      ]
    },
    {
      "cell_type": "markdown",
      "metadata": {
        "id": "tMMvRqy5O3_P"
      },
      "source": [
        "***\n",
        "## **การทำ Factor Analysis**"
      ]
    },
    {
      "cell_type": "code",
      "metadata": {
        "colab": {
          "base_uri": "https://localhost:8080/"
        },
        "id": "lsfI_v89O3EQ",
        "outputId": "896a036f-0383-4fa7-dfd1-55632c0da598"
      },
      "source": [
        "!pip install factor_analyzer\n",
        "##แก้ Error ด้วยการ install\n",
        "from factor_analyzer import FactorAnalyzer\n",
        "import matplotlib.pyplot as plt \n",
        "## เหมือนกับ from matplotlib import pyplot as plt"
      ],
      "execution_count": 4,
      "outputs": [
        {
          "output_type": "stream",
          "text": [
            "Collecting factor_analyzer\n",
            "\u001b[?25l  Downloading https://files.pythonhosted.org/packages/44/b5/cbd83484ca6dd4c6562c6d66a6a3a0ecf526e79b2b575b9fb4bf5ad172dd/factor_analyzer-0.3.2.tar.gz (40kB)\n",
            "\r\u001b[K     |████████▏                       | 10kB 16.8MB/s eta 0:00:01\r\u001b[K     |████████████████▍               | 20kB 23.2MB/s eta 0:00:01\r\u001b[K     |████████████████████████▌       | 30kB 16.8MB/s eta 0:00:01\r\u001b[K     |████████████████████████████████| 40kB 2.8MB/s \n",
            "\u001b[?25hRequirement already satisfied: pandas in /usr/local/lib/python3.7/dist-packages (from factor_analyzer) (1.1.5)\n",
            "Requirement already satisfied: scipy in /usr/local/lib/python3.7/dist-packages (from factor_analyzer) (1.4.1)\n",
            "Requirement already satisfied: numpy in /usr/local/lib/python3.7/dist-packages (from factor_analyzer) (1.19.5)\n",
            "Requirement already satisfied: scikit-learn in /usr/local/lib/python3.7/dist-packages (from factor_analyzer) (0.22.2.post1)\n",
            "Requirement already satisfied: pytz>=2017.2 in /usr/local/lib/python3.7/dist-packages (from pandas->factor_analyzer) (2018.9)\n",
            "Requirement already satisfied: python-dateutil>=2.7.3 in /usr/local/lib/python3.7/dist-packages (from pandas->factor_analyzer) (2.8.1)\n",
            "Requirement already satisfied: joblib>=0.11 in /usr/local/lib/python3.7/dist-packages (from scikit-learn->factor_analyzer) (1.0.1)\n",
            "Requirement already satisfied: six>=1.5 in /usr/local/lib/python3.7/dist-packages (from python-dateutil>=2.7.3->pandas->factor_analyzer) (1.15.0)\n",
            "Building wheels for collected packages: factor-analyzer\n",
            "  Building wheel for factor-analyzer (setup.py) ... \u001b[?25l\u001b[?25hdone\n",
            "  Created wheel for factor-analyzer: filename=factor_analyzer-0.3.2-cp37-none-any.whl size=40383 sha256=0009cdfdb7d5f408b974585c29a2596226a332d2d585354a7864b699d0cf776b\n",
            "  Stored in directory: /root/.cache/pip/wheels/4a/d0/57/f1330cb9c80e82d8d05391c74c94ed61ce3f03bf6157f3d6db\n",
            "Successfully built factor-analyzer\n",
            "Installing collected packages: factor-analyzer\n",
            "Successfully installed factor-analyzer-0.3.2\n"
          ],
          "name": "stdout"
        }
      ]
    },
    {
      "cell_type": "markdown",
      "metadata": {
        "id": "EJVyTojCTDlM"
      },
      "source": [
        "## Quiz 5 เลือกข้อมูลมาเฉพาะ a1,a2,...,o5,o6"
      ]
    },
    {
      "cell_type": "code",
      "metadata": {
        "colab": {
          "base_uri": "https://localhost:8080/"
        },
        "id": "9s3j4thJTeGn",
        "outputId": "06f670c7-4f26-43a8-93c5-99e678325ecc"
      },
      "source": [
        "BFI_data.shape"
      ],
      "execution_count": 5,
      "outputs": [
        {
          "output_type": "execute_result",
          "data": {
            "text/plain": [
              "(2800, 29)"
            ]
          },
          "metadata": {
            "tags": []
          },
          "execution_count": 5
        }
      ]
    },
    {
      "cell_type": "code",
      "metadata": {
        "colab": {
          "base_uri": "https://localhost:8080/",
          "height": 402
        },
        "id": "EZq5IUqCK6EW",
        "outputId": "011a6a67-d427-4cc1-c68d-17ac3daf9984"
      },
      "source": [
        "BFI_data_dropped = BFI_data.iloc[:,1:26]\n",
        "BFI_data_dropped"
      ],
      "execution_count": 6,
      "outputs": [
        {
          "output_type": "execute_result",
          "data": {
            "text/html": [
              "<div>\n",
              "<style scoped>\n",
              "    .dataframe tbody tr th:only-of-type {\n",
              "        vertical-align: middle;\n",
              "    }\n",
              "\n",
              "    .dataframe tbody tr th {\n",
              "        vertical-align: top;\n",
              "    }\n",
              "\n",
              "    .dataframe thead th {\n",
              "        text-align: right;\n",
              "    }\n",
              "</style>\n",
              "<table border=\"1\" class=\"dataframe\">\n",
              "  <thead>\n",
              "    <tr style=\"text-align: right;\">\n",
              "      <th></th>\n",
              "      <th>A1</th>\n",
              "      <th>A2</th>\n",
              "      <th>A3</th>\n",
              "      <th>A4</th>\n",
              "      <th>A5</th>\n",
              "      <th>C1</th>\n",
              "      <th>C2</th>\n",
              "      <th>C3</th>\n",
              "      <th>C4</th>\n",
              "      <th>C5</th>\n",
              "      <th>E1</th>\n",
              "      <th>E2</th>\n",
              "      <th>E3</th>\n",
              "      <th>E4</th>\n",
              "      <th>E5</th>\n",
              "      <th>N1</th>\n",
              "      <th>N2</th>\n",
              "      <th>N3</th>\n",
              "      <th>N4</th>\n",
              "      <th>N5</th>\n",
              "      <th>O1</th>\n",
              "      <th>O2</th>\n",
              "      <th>O3</th>\n",
              "      <th>O4</th>\n",
              "      <th>O5</th>\n",
              "    </tr>\n",
              "  </thead>\n",
              "  <tbody>\n",
              "    <tr>\n",
              "      <th>0</th>\n",
              "      <td>2.0</td>\n",
              "      <td>4.0</td>\n",
              "      <td>3.0</td>\n",
              "      <td>4.0</td>\n",
              "      <td>4.0</td>\n",
              "      <td>2.0</td>\n",
              "      <td>3.0</td>\n",
              "      <td>3.0</td>\n",
              "      <td>4.0</td>\n",
              "      <td>4.0</td>\n",
              "      <td>3.0</td>\n",
              "      <td>3.0</td>\n",
              "      <td>3.0</td>\n",
              "      <td>4.0</td>\n",
              "      <td>4.0</td>\n",
              "      <td>3.0</td>\n",
              "      <td>4.0</td>\n",
              "      <td>2.0</td>\n",
              "      <td>2.0</td>\n",
              "      <td>3.0</td>\n",
              "      <td>3.0</td>\n",
              "      <td>6</td>\n",
              "      <td>3.0</td>\n",
              "      <td>4.0</td>\n",
              "      <td>3.0</td>\n",
              "    </tr>\n",
              "    <tr>\n",
              "      <th>1</th>\n",
              "      <td>2.0</td>\n",
              "      <td>4.0</td>\n",
              "      <td>5.0</td>\n",
              "      <td>2.0</td>\n",
              "      <td>5.0</td>\n",
              "      <td>5.0</td>\n",
              "      <td>4.0</td>\n",
              "      <td>4.0</td>\n",
              "      <td>3.0</td>\n",
              "      <td>4.0</td>\n",
              "      <td>1.0</td>\n",
              "      <td>1.0</td>\n",
              "      <td>6.0</td>\n",
              "      <td>4.0</td>\n",
              "      <td>3.0</td>\n",
              "      <td>3.0</td>\n",
              "      <td>3.0</td>\n",
              "      <td>3.0</td>\n",
              "      <td>5.0</td>\n",
              "      <td>5.0</td>\n",
              "      <td>4.0</td>\n",
              "      <td>2</td>\n",
              "      <td>4.0</td>\n",
              "      <td>3.0</td>\n",
              "      <td>3.0</td>\n",
              "    </tr>\n",
              "    <tr>\n",
              "      <th>2</th>\n",
              "      <td>5.0</td>\n",
              "      <td>4.0</td>\n",
              "      <td>5.0</td>\n",
              "      <td>4.0</td>\n",
              "      <td>4.0</td>\n",
              "      <td>4.0</td>\n",
              "      <td>5.0</td>\n",
              "      <td>4.0</td>\n",
              "      <td>2.0</td>\n",
              "      <td>5.0</td>\n",
              "      <td>2.0</td>\n",
              "      <td>4.0</td>\n",
              "      <td>4.0</td>\n",
              "      <td>4.0</td>\n",
              "      <td>5.0</td>\n",
              "      <td>4.0</td>\n",
              "      <td>5.0</td>\n",
              "      <td>4.0</td>\n",
              "      <td>2.0</td>\n",
              "      <td>3.0</td>\n",
              "      <td>4.0</td>\n",
              "      <td>2</td>\n",
              "      <td>5.0</td>\n",
              "      <td>5.0</td>\n",
              "      <td>2.0</td>\n",
              "    </tr>\n",
              "    <tr>\n",
              "      <th>3</th>\n",
              "      <td>4.0</td>\n",
              "      <td>4.0</td>\n",
              "      <td>6.0</td>\n",
              "      <td>5.0</td>\n",
              "      <td>5.0</td>\n",
              "      <td>4.0</td>\n",
              "      <td>4.0</td>\n",
              "      <td>3.0</td>\n",
              "      <td>5.0</td>\n",
              "      <td>5.0</td>\n",
              "      <td>5.0</td>\n",
              "      <td>3.0</td>\n",
              "      <td>4.0</td>\n",
              "      <td>4.0</td>\n",
              "      <td>4.0</td>\n",
              "      <td>2.0</td>\n",
              "      <td>5.0</td>\n",
              "      <td>2.0</td>\n",
              "      <td>4.0</td>\n",
              "      <td>1.0</td>\n",
              "      <td>3.0</td>\n",
              "      <td>3</td>\n",
              "      <td>4.0</td>\n",
              "      <td>3.0</td>\n",
              "      <td>5.0</td>\n",
              "    </tr>\n",
              "    <tr>\n",
              "      <th>4</th>\n",
              "      <td>2.0</td>\n",
              "      <td>3.0</td>\n",
              "      <td>3.0</td>\n",
              "      <td>4.0</td>\n",
              "      <td>5.0</td>\n",
              "      <td>4.0</td>\n",
              "      <td>4.0</td>\n",
              "      <td>5.0</td>\n",
              "      <td>3.0</td>\n",
              "      <td>2.0</td>\n",
              "      <td>2.0</td>\n",
              "      <td>2.0</td>\n",
              "      <td>5.0</td>\n",
              "      <td>4.0</td>\n",
              "      <td>5.0</td>\n",
              "      <td>2.0</td>\n",
              "      <td>3.0</td>\n",
              "      <td>4.0</td>\n",
              "      <td>4.0</td>\n",
              "      <td>3.0</td>\n",
              "      <td>3.0</td>\n",
              "      <td>3</td>\n",
              "      <td>4.0</td>\n",
              "      <td>3.0</td>\n",
              "      <td>3.0</td>\n",
              "    </tr>\n",
              "    <tr>\n",
              "      <th>...</th>\n",
              "      <td>...</td>\n",
              "      <td>...</td>\n",
              "      <td>...</td>\n",
              "      <td>...</td>\n",
              "      <td>...</td>\n",
              "      <td>...</td>\n",
              "      <td>...</td>\n",
              "      <td>...</td>\n",
              "      <td>...</td>\n",
              "      <td>...</td>\n",
              "      <td>...</td>\n",
              "      <td>...</td>\n",
              "      <td>...</td>\n",
              "      <td>...</td>\n",
              "      <td>...</td>\n",
              "      <td>...</td>\n",
              "      <td>...</td>\n",
              "      <td>...</td>\n",
              "      <td>...</td>\n",
              "      <td>...</td>\n",
              "      <td>...</td>\n",
              "      <td>...</td>\n",
              "      <td>...</td>\n",
              "      <td>...</td>\n",
              "      <td>...</td>\n",
              "    </tr>\n",
              "    <tr>\n",
              "      <th>2795</th>\n",
              "      <td>6.0</td>\n",
              "      <td>1.0</td>\n",
              "      <td>3.0</td>\n",
              "      <td>3.0</td>\n",
              "      <td>3.0</td>\n",
              "      <td>6.0</td>\n",
              "      <td>6.0</td>\n",
              "      <td>6.0</td>\n",
              "      <td>1.0</td>\n",
              "      <td>1.0</td>\n",
              "      <td>1.0</td>\n",
              "      <td>4.0</td>\n",
              "      <td>5.0</td>\n",
              "      <td>5.0</td>\n",
              "      <td>6.0</td>\n",
              "      <td>1.0</td>\n",
              "      <td>1.0</td>\n",
              "      <td>1.0</td>\n",
              "      <td>NaN</td>\n",
              "      <td>1.0</td>\n",
              "      <td>6.0</td>\n",
              "      <td>1</td>\n",
              "      <td>6.0</td>\n",
              "      <td>6.0</td>\n",
              "      <td>1.0</td>\n",
              "    </tr>\n",
              "    <tr>\n",
              "      <th>2796</th>\n",
              "      <td>2.0</td>\n",
              "      <td>4.0</td>\n",
              "      <td>4.0</td>\n",
              "      <td>3.0</td>\n",
              "      <td>5.0</td>\n",
              "      <td>2.0</td>\n",
              "      <td>3.0</td>\n",
              "      <td>4.0</td>\n",
              "      <td>4.0</td>\n",
              "      <td>3.0</td>\n",
              "      <td>2.0</td>\n",
              "      <td>2.0</td>\n",
              "      <td>4.0</td>\n",
              "      <td>4.0</td>\n",
              "      <td>3.0</td>\n",
              "      <td>NaN</td>\n",
              "      <td>3.0</td>\n",
              "      <td>2.0</td>\n",
              "      <td>3.0</td>\n",
              "      <td>3.0</td>\n",
              "      <td>6.0</td>\n",
              "      <td>3</td>\n",
              "      <td>5.0</td>\n",
              "      <td>4.0</td>\n",
              "      <td>2.0</td>\n",
              "    </tr>\n",
              "    <tr>\n",
              "      <th>2797</th>\n",
              "      <td>2.0</td>\n",
              "      <td>3.0</td>\n",
              "      <td>5.0</td>\n",
              "      <td>2.0</td>\n",
              "      <td>5.0</td>\n",
              "      <td>5.0</td>\n",
              "      <td>5.0</td>\n",
              "      <td>5.0</td>\n",
              "      <td>1.0</td>\n",
              "      <td>1.0</td>\n",
              "      <td>2.0</td>\n",
              "      <td>2.0</td>\n",
              "      <td>6.0</td>\n",
              "      <td>3.0</td>\n",
              "      <td>6.0</td>\n",
              "      <td>3.0</td>\n",
              "      <td>4.0</td>\n",
              "      <td>3.0</td>\n",
              "      <td>3.0</td>\n",
              "      <td>1.0</td>\n",
              "      <td>5.0</td>\n",
              "      <td>1</td>\n",
              "      <td>6.0</td>\n",
              "      <td>4.0</td>\n",
              "      <td>3.0</td>\n",
              "    </tr>\n",
              "    <tr>\n",
              "      <th>2798</th>\n",
              "      <td>5.0</td>\n",
              "      <td>2.0</td>\n",
              "      <td>2.0</td>\n",
              "      <td>4.0</td>\n",
              "      <td>4.0</td>\n",
              "      <td>5.0</td>\n",
              "      <td>5.0</td>\n",
              "      <td>5.0</td>\n",
              "      <td>2.0</td>\n",
              "      <td>6.0</td>\n",
              "      <td>2.0</td>\n",
              "      <td>2.0</td>\n",
              "      <td>4.0</td>\n",
              "      <td>5.0</td>\n",
              "      <td>4.0</td>\n",
              "      <td>5.0</td>\n",
              "      <td>5.0</td>\n",
              "      <td>6.0</td>\n",
              "      <td>4.0</td>\n",
              "      <td>1.0</td>\n",
              "      <td>5.0</td>\n",
              "      <td>2</td>\n",
              "      <td>5.0</td>\n",
              "      <td>5.0</td>\n",
              "      <td>1.0</td>\n",
              "    </tr>\n",
              "    <tr>\n",
              "      <th>2799</th>\n",
              "      <td>2.0</td>\n",
              "      <td>3.0</td>\n",
              "      <td>1.0</td>\n",
              "      <td>4.0</td>\n",
              "      <td>2.0</td>\n",
              "      <td>5.0</td>\n",
              "      <td>5.0</td>\n",
              "      <td>3.0</td>\n",
              "      <td>3.0</td>\n",
              "      <td>3.0</td>\n",
              "      <td>3.0</td>\n",
              "      <td>3.0</td>\n",
              "      <td>1.0</td>\n",
              "      <td>2.0</td>\n",
              "      <td>2.0</td>\n",
              "      <td>1.0</td>\n",
              "      <td>2.0</td>\n",
              "      <td>2.0</td>\n",
              "      <td>1.0</td>\n",
              "      <td>1.0</td>\n",
              "      <td>3.0</td>\n",
              "      <td>1</td>\n",
              "      <td>3.0</td>\n",
              "      <td>5.0</td>\n",
              "      <td>1.0</td>\n",
              "    </tr>\n",
              "  </tbody>\n",
              "</table>\n",
              "<p>2800 rows × 25 columns</p>\n",
              "</div>"
            ],
            "text/plain": [
              "       A1   A2   A3   A4   A5   C1   C2  ...   N4   N5   O1  O2   O3   O4   O5\n",
              "0     2.0  4.0  3.0  4.0  4.0  2.0  3.0  ...  2.0  3.0  3.0   6  3.0  4.0  3.0\n",
              "1     2.0  4.0  5.0  2.0  5.0  5.0  4.0  ...  5.0  5.0  4.0   2  4.0  3.0  3.0\n",
              "2     5.0  4.0  5.0  4.0  4.0  4.0  5.0  ...  2.0  3.0  4.0   2  5.0  5.0  2.0\n",
              "3     4.0  4.0  6.0  5.0  5.0  4.0  4.0  ...  4.0  1.0  3.0   3  4.0  3.0  5.0\n",
              "4     2.0  3.0  3.0  4.0  5.0  4.0  4.0  ...  4.0  3.0  3.0   3  4.0  3.0  3.0\n",
              "...   ...  ...  ...  ...  ...  ...  ...  ...  ...  ...  ...  ..  ...  ...  ...\n",
              "2795  6.0  1.0  3.0  3.0  3.0  6.0  6.0  ...  NaN  1.0  6.0   1  6.0  6.0  1.0\n",
              "2796  2.0  4.0  4.0  3.0  5.0  2.0  3.0  ...  3.0  3.0  6.0   3  5.0  4.0  2.0\n",
              "2797  2.0  3.0  5.0  2.0  5.0  5.0  5.0  ...  3.0  1.0  5.0   1  6.0  4.0  3.0\n",
              "2798  5.0  2.0  2.0  4.0  4.0  5.0  5.0  ...  4.0  1.0  5.0   2  5.0  5.0  1.0\n",
              "2799  2.0  3.0  1.0  4.0  2.0  5.0  5.0  ...  1.0  1.0  3.0   1  3.0  5.0  1.0\n",
              "\n",
              "[2800 rows x 25 columns]"
            ]
          },
          "metadata": {
            "tags": []
          },
          "execution_count": 6
        }
      ]
    },
    {
      "cell_type": "markdown",
      "metadata": {
        "id": "Vnd0m5A7r7X9"
      },
      "source": [
        "30 มีนาคม 2564"
      ]
    },
    {
      "cell_type": "code",
      "metadata": {
        "id": "bHMysdLq0EBp",
        "colab": {
          "base_uri": "https://localhost:8080/"
        },
        "outputId": "9853d4ec-8947-4f3f-ac8b-8b3ddf4ab366"
      },
      "source": [
        "BFI_data_dropped = BFI_data_dropped.dropna()\n",
        "BFI_data_dropped.shape"
      ],
      "execution_count": 7,
      "outputs": [
        {
          "output_type": "execute_result",
          "data": {
            "text/plain": [
              "(2436, 25)"
            ]
          },
          "metadata": {
            "tags": []
          },
          "execution_count": 7
        }
      ]
    },
    {
      "cell_type": "code",
      "metadata": {
        "id": "eZ2Jpc_p1Fbe",
        "colab": {
          "base_uri": "https://localhost:8080/"
        },
        "outputId": "fdff66a1-a033-4014-bf7d-249e4bae1127"
      },
      "source": [
        "from factor_analyzer.factor_analyzer import calculate_bartlett_sphericity\n",
        "chi_square_value,p_value=calculate_bartlett_sphericity(BFI_data_dropped)\n",
        "chi_square_value, p_value"
      ],
      "execution_count": 8,
      "outputs": [
        {
          "output_type": "execute_result",
          "data": {
            "text/plain": [
              "(18170.966350869243, 0.0)"
            ]
          },
          "metadata": {
            "tags": []
          },
          "execution_count": 8
        }
      ]
    },
    {
      "cell_type": "markdown",
      "metadata": {
        "id": "LBasLMtC2XMF"
      },
      "source": [
        "In this Bartlett ’s test, the p-value is 0. The test was statistically significant, indicating that the observed correlation matrix is not an identity matrix."
      ]
    },
    {
      "cell_type": "markdown",
      "metadata": {
        "id": "oeKSDcgX2chu"
      },
      "source": [
        "## **Kaiser-Meyer-Olkin (KMO) Test**\n",
        "\n",
        "ถ้าค่า KMO model มีค่ามากกว่า 0.6 แปลว่าข้อมูลเหมาะสมที่จะนำไปใช้ใน Factor Analysis"
      ]
    },
    {
      "cell_type": "code",
      "metadata": {
        "id": "PcA3QMCE1Zs1",
        "colab": {
          "base_uri": "https://localhost:8080/"
        },
        "outputId": "6a468e6e-e05e-4710-f860-2555923ce6df"
      },
      "source": [
        "from factor_analyzer.factor_analyzer import calculate_kmo\n",
        "kmo_all,kmo_model=calculate_kmo(BFI_data_dropped)\n",
        "kmo_model"
      ],
      "execution_count": 9,
      "outputs": [
        {
          "output_type": "execute_result",
          "data": {
            "text/plain": [
              "0.8485397221949221"
            ]
          },
          "metadata": {
            "tags": []
          },
          "execution_count": 9
        }
      ]
    },
    {
      "cell_type": "markdown",
      "metadata": {
        "id": "bdnQDLNy4zUY"
      },
      "source": [
        "##Factor Analysis"
      ]
    },
    {
      "cell_type": "markdown",
      "metadata": {
        "id": "H6ROgvHg81Nc"
      },
      "source": [
        "## Import"
      ]
    },
    {
      "cell_type": "code",
      "metadata": {
        "id": "2iNG7r3j6Lee"
      },
      "source": [
        "from factor_analyzer import FactorAnalyzer"
      ],
      "execution_count": 10,
      "outputs": []
    },
    {
      "cell_type": "markdown",
      "metadata": {
        "id": "VnnCysHw6VzS"
      },
      "source": [
        "### Define"
      ]
    },
    {
      "cell_type": "code",
      "metadata": {
        "id": "ut6BYv286fbp"
      },
      "source": [
        "fa = FactorAnalyzer(n_factors=20)"
      ],
      "execution_count": 11,
      "outputs": []
    },
    {
      "cell_type": "markdown",
      "metadata": {
        "id": "_tZN06cc87sZ"
      },
      "source": [
        "## Fit-transform"
      ]
    },
    {
      "cell_type": "code",
      "metadata": {
        "id": "XDgudwTL9BZE"
      },
      "source": [
        "data_fa = fa.fit_transform(BFI_data_dropped)"
      ],
      "execution_count": 12,
      "outputs": []
    },
    {
      "cell_type": "code",
      "metadata": {
        "id": "paUwXqG-9h1q",
        "colab": {
          "base_uri": "https://localhost:8080/"
        },
        "outputId": "4c10a1dc-e162-4920-dc59-a8ff2f8de1b6"
      },
      "source": [
        "data_fa.shape"
      ],
      "execution_count": 13,
      "outputs": [
        {
          "output_type": "execute_result",
          "data": {
            "text/plain": [
              "(2436, 20)"
            ]
          },
          "metadata": {
            "tags": []
          },
          "execution_count": 13
        }
      ]
    },
    {
      "cell_type": "markdown",
      "metadata": {
        "id": "_t7EwXjI-hkD"
      },
      "source": [
        "วิธีตัดสินว่าจะลดเหลือกี่ dimension ( มี factors ทั้งหมดกี่ตัว )"
      ]
    },
    {
      "cell_type": "code",
      "metadata": {
        "id": "Cb7xfGUe9kQ2"
      },
      "source": [
        "ev,v = fa.get_eigenvalues()"
      ],
      "execution_count": 14,
      "outputs": []
    },
    {
      "cell_type": "markdown",
      "metadata": {
        "id": "pX7iC5Kx-yxv"
      },
      "source": [
        "### ใช้ eigen values "
      ]
    },
    {
      "cell_type": "code",
      "metadata": {
        "id": "ofTUMusI9xf4",
        "colab": {
          "base_uri": "https://localhost:8080/"
        },
        "outputId": "0a370efd-13dd-419c-a1a2-6c1271df5f58"
      },
      "source": [
        "ev"
      ],
      "execution_count": 15,
      "outputs": [
        {
          "output_type": "execute_result",
          "data": {
            "text/plain": [
              "array([5.13431118, 2.75188667, 2.14270195, 1.85232761, 1.54816285,\n",
              "       1.07358247, 0.83953893, 0.79920618, 0.71898919, 0.68808879,\n",
              "       0.67637336, 0.65179984, 0.62325295, 0.59656284, 0.56309083,\n",
              "       0.54330533, 0.51451752, 0.49450315, 0.48263952, 0.448921  ,\n",
              "       0.42336611, 0.40067145, 0.38780448, 0.38185679, 0.26253902])"
            ]
          },
          "metadata": {
            "tags": []
          },
          "execution_count": 15
        }
      ]
    },
    {
      "cell_type": "markdown",
      "metadata": {
        "id": "HArxLlSs_HoW"
      },
      "source": [
        "Scree plot"
      ]
    },
    {
      "cell_type": "code",
      "metadata": {
        "id": "U4TOi7KQ_ezq",
        "colab": {
          "base_uri": "https://localhost:8080/",
          "height": 295
        },
        "outputId": "71371755-675f-4724-fbb1-128945b85360"
      },
      "source": [
        "# Create scree plot using matplotlib\n",
        "plt.scatter(range(1,BFI_data_dropped.shape[1]+1),ev)\n",
        "plt.plot(range(1,BFI_data_dropped.shape[1]+1),ev)\n",
        "plt.title('Scree Plot')\n",
        "plt.xlabel('Factors')\n",
        "plt.ylabel('Eigenvalue')\n",
        "plt.grid()\n",
        "plt.show()\n"
      ],
      "execution_count": 16,
      "outputs": [
        {
          "output_type": "display_data",
          "data": {
            "image/png": "[encoded data removed]",
            "text/plain": [
              "<Figure size 432x288 with 1 Axes>"
            ]
          },
          "metadata": {
            "tags": [],
            "needs_background": "light"
          }
        }
      ]
    },
    {
      "cell_type": "code",
      "metadata": {
        "id": "3hQF9v0D__81",
        "colab": {
          "base_uri": "https://localhost:8080/",
          "height": 295
        },
        "outputId": "eca92c23-7433-49ac-d659-435d9d6d6b97"
      },
      "source": [
        "# Create scree plot using matplotlib\n",
        "plt.plot(range(1,BFI_data_dropped.shape[1]+1),ev,'bo-')\n",
        "plt.plot([0,BFI_data_dropped.shape[1]+1],[1,1],'r--')\n",
        "plt.title('Scree Plot')\n",
        "plt.xlabel('Factors')\n",
        "plt.ylabel('Eigenvalue')\n",
        "plt.grid()\n",
        "plt.show()\n"
      ],
      "execution_count": 17,
      "outputs": [
        {
          "output_type": "display_data",
          "data": {
            "image/png": "[encoded data removed]",
            "text/plain": [
              "<Figure size 432x288 with 1 Axes>"
            ]
          },
          "metadata": {
            "tags": [],
            "needs_background": "light"
          }
        }
      ]
    },
    {
      "cell_type": "code",
      "metadata": {
        "id": "wvFZa6a0B4Yz",
        "colab": {
          "base_uri": "https://localhost:8080/"
        },
        "outputId": "a23c6de8-276b-4de1-d99e-ca028ed6ad0e"
      },
      "source": [
        "data_fa[:,:6]"
      ],
      "execution_count": 18,
      "outputs": [
        {
          "output_type": "execute_result",
          "data": {
            "text/plain": [
              "array([[-0.89749661, -0.12809666, -1.22649076,  1.08665889,  0.42476701,\n",
              "         0.03981611],\n",
              "       [ 0.33679356, -0.15018138, -0.04332274, -0.10339328,  0.29665648,\n",
              "        -1.11019718],\n",
              "       [-0.24521029,  0.80409961,  0.39343377, -0.30106518,  0.82703928,\n",
              "        -0.2982022 ],\n",
              "       ...,\n",
              "       [ 0.38724631, -0.02183587,  1.19616826, -1.19357208,  0.79669501,\n",
              "        -0.95295109],\n",
              "       [-0.75695976,  0.94984758,  1.24363484, -1.15230215,  2.2534133 ,\n",
              "        -1.0218667 ],\n",
              "       [-2.35583952, -1.49829856,  0.49436981, -1.64734311,  0.94742323,\n",
              "         0.43462495]])"
            ]
          },
          "metadata": {
            "tags": []
          },
          "execution_count": 18
        }
      ]
    },
    {
      "cell_type": "markdown",
      "metadata": {
        "id": "UU9WI7E1CYFs"
      },
      "source": [
        "### Factor loading"
      ]
    },
    {
      "cell_type": "code",
      "metadata": {
        "id": "s2Fckp8WCcga",
        "colab": {
          "base_uri": "https://localhost:8080/"
        },
        "outputId": "b46e0849-c320-4520-8142-3bf1b5c80d20"
      },
      "source": [
        "fa.loadings_.shape"
      ],
      "execution_count": 19,
      "outputs": [
        {
          "output_type": "execute_result",
          "data": {
            "text/plain": [
              "(25, 20)"
            ]
          },
          "metadata": {
            "tags": []
          },
          "execution_count": 19
        }
      ]
    },
    {
      "cell_type": "code",
      "metadata": {
        "id": "Q4tpP9H_CiHN",
        "colab": {
          "base_uri": "https://localhost:8080/"
        },
        "outputId": "40a98566-8523-460e-c103-3e17b909566a"
      },
      "source": [
        "fa.loadings_"
      ],
      "execution_count": 20,
      "outputs": [
        {
          "output_type": "execute_result",
          "data": {
            "text/plain": [
              "array([[ 4.39221644e-02, -7.23791989e-03, -3.54953863e-02,\n",
              "         6.36904232e-02,  1.86674726e-02,  7.56067826e-01,\n",
              "         3.79571050e-02,  6.18021132e-02, -1.21231838e-03,\n",
              "         4.98167814e-02, -2.38173505e-02,  4.66514142e-02,\n",
              "         4.62005355e-02,  3.02085508e-02, -1.17663825e-01,\n",
              "         1.13469789e-02, -6.77496110e-03, -4.75707513e-02,\n",
              "         3.80305889e-02, -1.32410506e-05],\n",
              "       [-3.61660798e-02, -7.05831938e-02,  2.60349595e-02,\n",
              "         3.14887147e-02,  1.39800152e-02, -3.53463277e-01,\n",
              "         4.64083497e-02,  8.38715235e-02,  9.55513114e-02,\n",
              "         8.65737514e-02,  5.62178309e-02,  9.13535039e-02,\n",
              "         3.71647110e-02,  5.18919280e-02, -6.40070765e-02,\n",
              "         2.44624623e-02, -5.05741873e-02, -7.11741066e-02,\n",
              "         3.32392439e-02, -1.03131820e-01],\n",
              "       [ 1.25240910e-01,  6.35958266e-02,  5.74261728e-01,\n",
              "         5.81639394e-02,  4.81248438e-02, -2.30739166e-01,\n",
              "         2.24828463e-02,  4.31813917e-02, -1.31675268e-01,\n",
              "         9.04356027e-02, -8.58365401e-02, -1.05676028e-03,\n",
              "         5.17142791e-02, -9.17643061e-02, -1.23642611e-01,\n",
              "        -1.52886601e-04,  1.25851617e-02,  6.36721639e-04,\n",
              "         9.65768702e-02,  2.56825369e-02],\n",
              "       [-6.98978238e-03,  2.50855387e-02,  1.00524066e-01,\n",
              "        -3.28862347e-02, -2.00133306e-02,  3.02942021e-02,\n",
              "        -5.85016452e-02, -4.59056406e-02,  7.85635765e-03,\n",
              "         7.14037611e-01, -3.01074013e-02, -4.69316124e-02,\n",
              "        -1.25894032e-02,  3.48879948e-02,  5.28996131e-02,\n",
              "        -1.64187010e-02,  1.68011775e-02, -4.37964224e-03,\n",
              "        -6.40957978e-02,  2.54545472e-02],\n",
              "       [-8.18890698e-02, -4.54625132e-02,  7.60359671e-01,\n",
              "         4.35972070e-02, -7.11734560e-02,  4.42803915e-02,\n",
              "         8.86624767e-02, -6.14075740e-02,  8.73155923e-02,\n",
              "         1.06703907e-02,  8.07940440e-02,  6.65554053e-02,\n",
              "        -7.81796806e-02,  1.34931462e-01,  2.05073663e-02,\n",
              "        -8.44588038e-03, -2.92520758e-02, -5.38830935e-02,\n",
              "        -1.77020859e-02,  3.44251985e-04],\n",
              "       [-2.16375290e-02,  6.55315913e-01,  1.95964985e-02,\n",
              "        -1.44521857e-02, -1.79331409e-02,  5.12600502e-02,\n",
              "        -1.48806751e-02, -2.28630264e-02,  3.36999970e-02,\n",
              "        -8.15895312e-02,  1.64943131e-02, -2.08031265e-02,\n",
              "        -5.80083971e-03,  2.54676775e-02,  5.53527154e-02,\n",
              "        -2.93812480e-02, -1.60865154e-03,  1.54398345e-03,\n",
              "         5.76283979e-01,  6.75406707e-03],\n",
              "       [-3.49435018e-03,  7.59424189e-01, -5.08226227e-02,\n",
              "         6.67106426e-02,  1.57776029e-02, -5.26611122e-02,\n",
              "         9.26390394e-02,  9.07597280e-02,  3.29792181e-02,\n",
              "         1.47787155e-01,  5.43056218e-02,  8.47547762e-02,\n",
              "         2.61492786e-02,  8.43205709e-03, -9.05947755e-02,\n",
              "         1.48707518e-02, -3.03218924e-02, -2.51122709e-02,\n",
              "        -3.51764932e-02, -3.45460963e-02],\n",
              "       [ 1.21509019e-03,  2.87377352e-01,  3.25234509e-02,\n",
              "        -5.59118342e-02,  5.33950263e-03,  4.07183926e-02,\n",
              "        -7.87687720e-02, -2.90562728e-02, -2.90386633e-02,\n",
              "        -5.24737507e-02, -2.92997663e-02,  7.01037448e-01,\n",
              "        -8.67677510e-03, -4.06777304e-02,  5.81500971e-02,\n",
              "         3.16354942e-03,  2.00855731e-02,  3.43530427e-02,\n",
              "        -2.13662326e-02,  8.74505142e-03],\n",
              "       [-9.47716578e-04, -3.12340175e-01, -1.83514861e-02,\n",
              "         5.17829397e-02, -4.68914226e-03,  1.37862700e-03,\n",
              "         1.71033980e-01,  5.23107440e-02,  1.91337157e-02,\n",
              "         3.29302629e-02,  6.44092330e-02,  3.33429590e-02,\n",
              "         3.87734994e-04, -3.07113025e-03,  3.60625984e-03,\n",
              "        -4.72409619e-02,  6.18864799e-01,  3.05930620e-05,\n",
              "         2.27780829e-02, -7.52637975e-03],\n",
              "       [-6.36247005e-03, -1.97116268e-02,  4.46499142e-02,\n",
              "        -1.24221679e-01,  3.00345914e-02,  3.96032424e-02,\n",
              "         7.82832813e-01,  6.97787302e-03, -1.53528053e-02,\n",
              "        -7.07464516e-02, -1.04885122e-01, -7.30258505e-02,\n",
              "         1.46015215e-02, -1.23829544e-02,  1.76741038e-02,\n",
              "         9.47155775e-02,  5.70486985e-02,  1.72632791e-02,\n",
              "        -1.76228252e-02, -1.41526536e-03],\n",
              "       [-2.09791043e-02,  2.20292208e-02,  3.76800865e-02,\n",
              "         8.18110730e-01,  2.35879788e-02,  4.68850118e-02,\n",
              "        -1.59591916e-01,  2.26039579e-03, -7.24420803e-03,\n",
              "        -5.70347835e-02, -8.77704264e-02, -6.15404827e-02,\n",
              "         5.79800247e-03,  6.27101106e-03,  2.08112336e-02,\n",
              "         9.17440159e-02,  5.20888967e-02,  1.58236432e-02,\n",
              "        -1.52980285e-02, -2.00171807e-03],\n",
              "       [-2.78505651e-03, -1.07877718e-02, -6.95865415e-03,\n",
              "         4.30566340e-01,  1.21442438e-02,  9.37127806e-02,\n",
              "         9.06486533e-02, -2.13392757e-02, -4.38302898e-02,\n",
              "         7.24132730e-02,  1.26807729e-01, -2.03246150e-02,\n",
              "        -1.86671352e-02, -1.91739426e-01,  1.38850632e-01,\n",
              "        -1.02216622e-01, -5.02405792e-02,  1.14458346e-01,\n",
              "         1.08865582e-02, -1.02712644e-01],\n",
              "       [-1.32434244e-02, -3.81543627e-02,  3.62041675e-01,\n",
              "        -1.17062656e-01,  5.84173192e-02,  5.77627878e-02,\n",
              "        -1.16307477e-01,  1.46296858e-01,  8.03129773e-02,\n",
              "        -7.11090358e-02, -1.93851043e-02, -3.68781469e-02,\n",
              "         1.21933891e-01, -4.29404731e-02,  5.17436677e-03,\n",
              "         2.90838831e-02,  1.53780188e-02,  2.28930801e-02,\n",
              "        -6.71245142e-02, -1.58039802e-01],\n",
              "       [ 3.52715337e-02,  1.76712336e-02,  2.17469289e-01,\n",
              "        -2.77717441e-01,  5.72162078e-02,  4.60041947e-02,\n",
              "        -1.36996473e-02,  2.86223197e-02, -7.87100335e-02,\n",
              "         5.65534847e-02,  2.56899067e-02, -5.60859463e-02,\n",
              "         3.34557189e-02,  6.02174208e-01,  7.92781378e-02,\n",
              "        -3.77343676e-02, -3.37682807e-03,  1.15185928e-01,\n",
              "         2.54992107e-02, -2.35513064e-02],\n",
              "       [ 4.14859717e-02,  5.73363151e-02,  2.16302929e-02,\n",
              "        -4.24945858e-02,  1.18521641e-02, -2.90636946e-02,\n",
              "        -1.31045174e-02, -2.00917193e-02,  7.65426359e-01,\n",
              "         1.18788332e-02, -3.53405838e-02, -3.13386351e-02,\n",
              "        -3.75042064e-03, -6.54093831e-02,  7.54996732e-03,\n",
              "        -7.10735926e-03,  1.20831543e-02,  2.90421205e-02,\n",
              "         2.76652405e-02,  1.55204720e-02],\n",
              "       [ 8.89358146e-01, -6.79741809e-02,  4.74746775e-03,\n",
              "        -5.91071181e-02,  5.13299672e-02,  8.83995684e-02,\n",
              "        -2.85287065e-02,  9.75738324e-02,  6.16213714e-02,\n",
              "         7.94422336e-02,  6.11756772e-02,  1.36277881e-02,\n",
              "         4.96871654e-02, -7.57162442e-02,  2.28930610e-02,\n",
              "         3.68633011e-02, -1.15436899e-02,  5.15119497e-02,\n",
              "         6.24855018e-03,  3.68195335e-01],\n",
              "       [ 9.57872493e-01,  3.37265282e-02,  1.49659085e-03,\n",
              "         6.14940513e-02, -5.50211764e-02, -5.08406545e-02,\n",
              "         2.50979303e-02, -7.07445164e-02,  7.98758253e-03,\n",
              "        -1.43988250e-01, -3.20653865e-02, -7.78114229e-03,\n",
              "        -2.27568680e-02,  1.19671489e-01, -9.22916851e-03,\n",
              "        -9.87411600e-02,  4.75270567e-04, -6.94676317e-02,\n",
              "        -6.64271931e-02,  1.83166624e-03],\n",
              "       [ 5.54238758e-01,  1.22367879e-02,  9.77605264e-04,\n",
              "        -7.40264226e-02, -3.13975792e-02,  7.24444631e-02,\n",
              "        -3.51335636e-02, -8.66642157e-02, -2.55808006e-02,\n",
              "         8.90428446e-02,  1.33638400e-03, -2.30668994e-03,\n",
              "        -1.08985136e-01,  2.64914867e-03,  5.90802387e-02,\n",
              "         3.80375790e-01,  2.16982463e-02,  2.46461400e-02,\n",
              "         6.39308361e-02, -9.07771429e-02],\n",
              "       [ 2.40347496e-01, -5.56844214e-03, -4.17676439e-03,\n",
              "         1.33749668e-01, -1.53812818e-02, -2.06667695e-02,\n",
              "         1.55992468e-01, -4.68921930e-03,  1.71641023e-03,\n",
              "        -7.06919438e-02,  1.06423130e-01,  5.98029876e-03,\n",
              "         3.42393815e-02, -3.44801621e-02,  4.51642635e-02,\n",
              "         4.53693461e-01, -5.41053703e-02,  1.17476185e-02,\n",
              "        -6.52062156e-02,  2.60689253e-02],\n",
              "       [ 1.39843032e-01,  3.56453434e-02,  1.27584945e-02,\n",
              "        -4.32361364e-02,  2.46987488e-02, -5.12222336e-02,\n",
              "        -1.03044213e-01,  1.52446038e-02, -3.22379074e-02,\n",
              "        -3.58776740e-02,  7.23865464e-01, -3.10013799e-02,\n",
              "         2.28725842e-02,  1.95289439e-02, -5.78053793e-02,\n",
              "         6.85410150e-02,  4.15921161e-02, -2.26483349e-02,\n",
              "         1.08975205e-02,  1.53455465e-02],\n",
              "       [-3.17507191e-02,  1.24227127e-02,  1.57016208e-02,\n",
              "        -9.20629574e-03, -1.55680018e-01,  4.43135699e-02,\n",
              "         1.61904390e-02, -7.61591483e-02,  2.57622634e-02,\n",
              "        -1.07269118e-02,  1.99292695e-02, -6.52527734e-03,\n",
              "         6.64977695e-01,  2.31666474e-02,  8.26116494e-02,\n",
              "        -7.29413170e-03, -7.80042469e-04,  5.70465301e-03,\n",
              "        -4.37271201e-03,  1.23554230e-02],\n",
              "       [-2.91003400e-02,  1.72014474e-02,  1.88523515e-02,\n",
              "        -2.17713047e-02,  6.87267690e-01,  7.29973827e-02,\n",
              "         1.46966709e-02, -8.82286616e-02, -1.74945751e-02,\n",
              "        -2.86311032e-02,  3.46433587e-02, -2.84993271e-02,\n",
              "        -6.80876363e-02, -1.66975289e-02,  1.04455933e-01,\n",
              "        -3.33285517e-02, -3.62631970e-03, -3.59818111e-02,\n",
              "        -1.92970660e-02,  1.26718602e-02],\n",
              "       [-2.66556720e-02,  3.17768879e-02,  4.35594358e-02,\n",
              "        -2.03333942e-02, -2.60466403e-01,  5.35900867e-02,\n",
              "         7.68345634e-03,  7.97094482e-01, -1.89015332e-02,\n",
              "        -5.01553309e-02,  1.07440912e-02, -2.86856652e-02,\n",
              "        -8.24759503e-02,  2.20498239e-02,  9.76582844e-02,\n",
              "        -2.44809331e-02,  4.19362123e-03,  1.20384786e-02,\n",
              "        -2.06570287e-02,  2.81057230e-02],\n",
              "       [ 4.04060335e-02, -9.76128968e-03, -3.28131242e-02,\n",
              "         5.17835888e-02,  1.68219144e-02, -1.08278967e-01,\n",
              "         1.21334012e-02,  7.36685292e-02,  7.49204371e-03,\n",
              "         4.57215248e-02, -4.11064687e-02,  4.56119260e-02,\n",
              "         5.32208741e-02,  4.33965664e-02,  5.86563676e-01,\n",
              "         3.52900991e-02,  1.75776051e-03, -5.52685295e-02,\n",
              "         3.72001079e-02, -2.52344376e-03],\n",
              "       [ 7.83045370e-04, -9.30635527e-03, -2.41043136e-02,\n",
              "         4.38461792e-02,  5.11337889e-01, -5.43308359e-02,\n",
              "         2.20065807e-02,  7.93118256e-03,  3.11246941e-02,\n",
              "        -6.53374230e-03, -1.62806692e-02,  3.88643290e-02,\n",
              "         1.40406942e-03,  9.32180242e-02, -7.59678119e-02,\n",
              "         1.55890618e-02, -2.00235483e-03,  5.66451978e-01,\n",
              "         1.45544115e-03,  1.07126261e-02]])"
            ]
          },
          "metadata": {
            "tags": []
          },
          "execution_count": 20
        }
      ]
    },
    {
      "cell_type": "markdown",
      "metadata": {
        "id": "M7uEilQrMgsO"
      },
      "source": [
        "## รัน Factor Analyzer อีกรอบด้วย parameters จำนวน factor เท่ากับ 6"
      ]
    },
    {
      "cell_type": "code",
      "metadata": {
        "id": "5GdDOBvOM8Ig"
      },
      "source": [
        "from factor_analyzer import FactorAnalyzer\n",
        "fa2 = FactorAnalyzer(n_factors=6)\n",
        "data_fa = fa2.fit_transform(BFI_data_dropped)"
      ],
      "execution_count": 21,
      "outputs": []
    },
    {
      "cell_type": "code",
      "metadata": {
        "id": "nUWL-xjvNdme",
        "colab": {
          "base_uri": "https://localhost:8080/"
        },
        "outputId": "327d2c0f-dcda-49b6-af3c-5b844acc4c18"
      },
      "source": [
        "fa2.loadings_.shape"
      ],
      "execution_count": 22,
      "outputs": [
        {
          "output_type": "execute_result",
          "data": {
            "text/plain": [
              "(25, 6)"
            ]
          },
          "metadata": {
            "tags": []
          },
          "execution_count": 22
        }
      ]
    },
    {
      "cell_type": "markdown",
      "metadata": {
        "id": "9umeucmkO0SA"
      },
      "source": [
        "##plot factor loadings"
      ]
    },
    {
      "cell_type": "code",
      "metadata": {
        "id": "xTPPxSC4PQcN"
      },
      "source": [
        "from matplotlib import pyplot as plt\n",
        "import numpy as np\n",
        "import matplotlib"
      ],
      "execution_count": 26,
      "outputs": []
    },
    {
      "cell_type": "code",
      "metadata": {
        "id": "058absf7Pbo0",
        "colab": {
          "base_uri": "https://localhost:8080/",
          "height": 880
        },
        "outputId": "6199ddc2-82a8-4c70-f6d1-75447d86c9c3"
      },
      "source": [
        "matplotlib.rcParams['figure.figsize']=[15,15]\n",
        "plt.imshow(np.absolute(fa2.loadings_))"
      ],
      "execution_count": 27,
      "outputs": [
        {
          "output_type": "execute_result",
          "data": {
            "text/plain": [
              "<matplotlib.image.AxesImage at 0x7f0a6637b250>"
            ]
          },
          "metadata": {
            "tags": []
          },
          "execution_count": 27
        },
        {
          "output_type": "display_data",
          "data": {
            "image/png": "[encoded data removed]",
            "text/plain": [
              "<Figure size 1080x1080 with 1 Axes>"
            ]
          },
          "metadata": {
            "tags": [],
            "needs_background": "light"
          }
        }
      ]
    },
    {
      "cell_type": "code",
      "metadata": {
        "id": "Lqe2dA0dTJbK",
        "outputId": "d6a56a00-6de7-40fa-bb45-c28e407638df",
        "colab": {
          "base_uri": "https://localhost:8080/"
        }
      },
      "source": [
        "BFI_data_dropped.columns\n"
      ],
      "execution_count": 28,
      "outputs": [
        {
          "output_type": "execute_result",
          "data": {
            "text/plain": [
              "Index(['A1', 'A2', 'A3', 'A4', 'A5', 'C1', 'C2', 'C3', 'C4', 'C5', 'E1', 'E2',\n",
              "       'E3', 'E4', 'E5', 'N1', 'N2', 'N3', 'N4', 'N5', 'O1', 'O2', 'O3', 'O4',\n",
              "       'O5'],\n",
              "      dtype='object')"
            ]
          },
          "metadata": {
            "tags": []
          },
          "execution_count": 28
        }
      ]
    },
    {
      "cell_type": "code",
      "metadata": {
        "id": "l3jwpMQUPrMg",
        "outputId": "ad553252-b22b-4451-9b3b-449f481dd007",
        "colab": {
          "base_uri": "https://localhost:8080/",
          "height": 880
        }
      },
      "source": [
        "\n",
        "plt.bar(range(25),np.absolute(fa2.loadings_[:,0]),tick_label=BFI_data_dropped.columns)"
      ],
      "execution_count": 29,
      "outputs": [
        {
          "output_type": "execute_result",
          "data": {
            "text/plain": [
              "<BarContainer object of 25 artists>"
            ]
          },
          "metadata": {
            "tags": []
          },
          "execution_count": 29
        },
        {
          "output_type": "display_data",
          "data": {
            "image/png": "[encoded data removed]",
            "text/plain": [
              "<Figure size 1080x1080 with 1 Axes>"
            ]
          },
          "metadata": {
            "tags": [],
            "needs_background": "light"
          }
        }
      ]
    },
    {
      "cell_type": "markdown",
      "metadata": {
        "id": "6HyuKKEuPv1O"
      },
      "source": [
        "\n",
        "## **Exam 3**\n",
        "\n",
        "ทำ Factor Analysis ข้อมูล Fifa 2018 "
      ]
    },
    {
      "cell_type": "code",
      "metadata": {
        "id": "Ykpp9hJiPvjC"
      },
      "source": [
        ""
      ],
      "execution_count": null,
      "outputs": []
    }
  ]
}