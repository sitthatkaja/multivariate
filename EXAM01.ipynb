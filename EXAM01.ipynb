{
  "nbformat": 4,
  "nbformat_minor": 0,
  "metadata": {
    "colab": {
      "name": "EXAM01.ipynb",
      "provenance": [],
      "toc_visible": true,
      "authorship_tag": "ABX9TyOljBV3kipGks8XeUxrWmS7",
      "include_colab_link": true
    },
    "kernelspec": {
      "name": "python3",
      "display_name": "Python 3"
    }
  },
  "cells": [
    {
      "cell_type": "markdown",
      "metadata": {
        "id": "view-in-github",
        "colab_type": "text"
      },
      "source": [
        "<a href=\"https://colab.research.google.com/github/sitthatkaja/multivariate/blob/main/EXAM01.ipynb\" target=\"_parent\"><img src=\"https://colab.research.google.com/assets/colab-badge.svg\" alt=\"Open In Colab\"/></a>"
      ]
    },
    {
      "cell_type": "markdown",
      "metadata": {
        "id": "YpwJdgAjX8h8"
      },
      "source": [
        "***\n",
        "## **Exam01**"
      ]
    },
    {
      "cell_type": "code",
      "metadata": {
        "id": "2zVEnsNvX3mf"
      },
      "source": [
        "import pandas as pd"
      ],
      "execution_count": 1,
      "outputs": []
    },
    {
      "cell_type": "code",
      "metadata": {
        "id": "ixwKkaLhYdmu"
      },
      "source": [
        "import numpy as np"
      ],
      "execution_count": 2,
      "outputs": []
    },
    {
      "cell_type": "code",
      "metadata": {
        "id": "DY4ymEwKYg3j"
      },
      "source": [
        "from matplotlib import pyplot as plt"
      ],
      "execution_count": 3,
      "outputs": []
    },
    {
      "cell_type": "code",
      "metadata": {
        "id": "MU-ruFe7YjMC"
      },
      "source": [
        "from scipy import stats"
      ],
      "execution_count": 4,
      "outputs": []
    },
    {
      "cell_type": "code",
      "metadata": {
        "id": "iyUZv8ATYn5K"
      },
      "source": [
        "from sklearn.decomposition import PCA"
      ],
      "execution_count": 5,
      "outputs": []
    },
    {
      "cell_type": "markdown",
      "metadata": {
        "id": "IqkZBo1UY6-E"
      },
      "source": [
        "***"
      ]
    },
    {
      "cell_type": "code",
      "metadata": {
        "id": "axF3eISaY85T"
      },
      "source": [
        "exam = pd.read_csv('Pizza.csv')"
      ],
      "execution_count": 6,
      "outputs": []
    },
    {
      "cell_type": "code",
      "metadata": {
        "colab": {
          "base_uri": "https://localhost:8080/",
          "height": 399
        },
        "id": "NUYSnTtdZDck",
        "outputId": "a3282689-5865-45c3-96a6-6ede5221d82c"
      },
      "source": [
        "exam"
      ],
      "execution_count": 7,
      "outputs": [
        {
          "output_type": "execute_result",
          "data": {
            "text/html": [
              "<div>\n",
              "<style scoped>\n",
              "    .dataframe tbody tr th:only-of-type {\n",
              "        vertical-align: middle;\n",
              "    }\n",
              "\n",
              "    .dataframe tbody tr th {\n",
              "        vertical-align: top;\n",
              "    }\n",
              "\n",
              "    .dataframe thead th {\n",
              "        text-align: right;\n",
              "    }\n",
              "</style>\n",
              "<table border=\"1\" class=\"dataframe\">\n",
              "  <thead>\n",
              "    <tr style=\"text-align: right;\">\n",
              "      <th></th>\n",
              "      <th>brand</th>\n",
              "      <th>id</th>\n",
              "      <th>mois</th>\n",
              "      <th>prot</th>\n",
              "      <th>fat</th>\n",
              "      <th>ash</th>\n",
              "      <th>sodium</th>\n",
              "      <th>carb</th>\n",
              "      <th>cal</th>\n",
              "    </tr>\n",
              "  </thead>\n",
              "  <tbody>\n",
              "    <tr>\n",
              "      <th>0</th>\n",
              "      <td>A</td>\n",
              "      <td>14069</td>\n",
              "      <td>27.82</td>\n",
              "      <td>21.43</td>\n",
              "      <td>44.87</td>\n",
              "      <td>5.11</td>\n",
              "      <td>1.77</td>\n",
              "      <td>0.77</td>\n",
              "      <td>4.93</td>\n",
              "    </tr>\n",
              "    <tr>\n",
              "      <th>1</th>\n",
              "      <td>A</td>\n",
              "      <td>14053</td>\n",
              "      <td>28.49</td>\n",
              "      <td>21.26</td>\n",
              "      <td>43.89</td>\n",
              "      <td>5.34</td>\n",
              "      <td>1.79</td>\n",
              "      <td>1.02</td>\n",
              "      <td>4.84</td>\n",
              "    </tr>\n",
              "    <tr>\n",
              "      <th>2</th>\n",
              "      <td>A</td>\n",
              "      <td>14025</td>\n",
              "      <td>28.35</td>\n",
              "      <td>19.99</td>\n",
              "      <td>45.78</td>\n",
              "      <td>5.08</td>\n",
              "      <td>1.63</td>\n",
              "      <td>0.80</td>\n",
              "      <td>4.95</td>\n",
              "    </tr>\n",
              "    <tr>\n",
              "      <th>3</th>\n",
              "      <td>A</td>\n",
              "      <td>14016</td>\n",
              "      <td>30.55</td>\n",
              "      <td>20.15</td>\n",
              "      <td>43.13</td>\n",
              "      <td>4.79</td>\n",
              "      <td>1.61</td>\n",
              "      <td>1.38</td>\n",
              "      <td>4.74</td>\n",
              "    </tr>\n",
              "    <tr>\n",
              "      <th>4</th>\n",
              "      <td>A</td>\n",
              "      <td>14005</td>\n",
              "      <td>30.49</td>\n",
              "      <td>21.28</td>\n",
              "      <td>41.65</td>\n",
              "      <td>4.82</td>\n",
              "      <td>1.64</td>\n",
              "      <td>1.76</td>\n",
              "      <td>4.67</td>\n",
              "    </tr>\n",
              "    <tr>\n",
              "      <th>...</th>\n",
              "      <td>...</td>\n",
              "      <td>...</td>\n",
              "      <td>...</td>\n",
              "      <td>...</td>\n",
              "      <td>...</td>\n",
              "      <td>...</td>\n",
              "      <td>...</td>\n",
              "      <td>...</td>\n",
              "      <td>...</td>\n",
              "    </tr>\n",
              "    <tr>\n",
              "      <th>295</th>\n",
              "      <td>J</td>\n",
              "      <td>34044</td>\n",
              "      <td>44.91</td>\n",
              "      <td>11.07</td>\n",
              "      <td>17.00</td>\n",
              "      <td>2.49</td>\n",
              "      <td>0.66</td>\n",
              "      <td>25.36</td>\n",
              "      <td>2.91</td>\n",
              "    </tr>\n",
              "    <tr>\n",
              "      <th>296</th>\n",
              "      <td>J</td>\n",
              "      <td>24069</td>\n",
              "      <td>43.15</td>\n",
              "      <td>11.79</td>\n",
              "      <td>18.46</td>\n",
              "      <td>2.43</td>\n",
              "      <td>0.67</td>\n",
              "      <td>24.17</td>\n",
              "      <td>3.10</td>\n",
              "    </tr>\n",
              "    <tr>\n",
              "      <th>297</th>\n",
              "      <td>J</td>\n",
              "      <td>34039</td>\n",
              "      <td>44.55</td>\n",
              "      <td>11.01</td>\n",
              "      <td>16.03</td>\n",
              "      <td>2.43</td>\n",
              "      <td>0.64</td>\n",
              "      <td>25.98</td>\n",
              "      <td>2.92</td>\n",
              "    </tr>\n",
              "    <tr>\n",
              "      <th>298</th>\n",
              "      <td>J</td>\n",
              "      <td>14044</td>\n",
              "      <td>47.60</td>\n",
              "      <td>10.43</td>\n",
              "      <td>15.18</td>\n",
              "      <td>2.32</td>\n",
              "      <td>0.56</td>\n",
              "      <td>24.47</td>\n",
              "      <td>2.76</td>\n",
              "    </tr>\n",
              "    <tr>\n",
              "      <th>299</th>\n",
              "      <td>J</td>\n",
              "      <td>14045</td>\n",
              "      <td>46.84</td>\n",
              "      <td>9.91</td>\n",
              "      <td>15.50</td>\n",
              "      <td>2.27</td>\n",
              "      <td>0.57</td>\n",
              "      <td>25.48</td>\n",
              "      <td>2.81</td>\n",
              "    </tr>\n",
              "  </tbody>\n",
              "</table>\n",
              "<p>300 rows × 9 columns</p>\n",
              "</div>"
            ],
            "text/plain": [
              "    brand     id   mois   prot    fat   ash  sodium   carb   cal\n",
              "0       A  14069  27.82  21.43  44.87  5.11    1.77   0.77  4.93\n",
              "1       A  14053  28.49  21.26  43.89  5.34    1.79   1.02  4.84\n",
              "2       A  14025  28.35  19.99  45.78  5.08    1.63   0.80  4.95\n",
              "3       A  14016  30.55  20.15  43.13  4.79    1.61   1.38  4.74\n",
              "4       A  14005  30.49  21.28  41.65  4.82    1.64   1.76  4.67\n",
              "..    ...    ...    ...    ...    ...   ...     ...    ...   ...\n",
              "295     J  34044  44.91  11.07  17.00  2.49    0.66  25.36  2.91\n",
              "296     J  24069  43.15  11.79  18.46  2.43    0.67  24.17  3.10\n",
              "297     J  34039  44.55  11.01  16.03  2.43    0.64  25.98  2.92\n",
              "298     J  14044  47.60  10.43  15.18  2.32    0.56  24.47  2.76\n",
              "299     J  14045  46.84   9.91  15.50  2.27    0.57  25.48  2.81\n",
              "\n",
              "[300 rows x 9 columns]"
            ]
          },
          "metadata": {
            "tags": []
          },
          "execution_count": 7
        }
      ]
    },
    {
      "cell_type": "code",
      "metadata": {
        "colab": {
          "base_uri": "https://localhost:8080/",
          "height": 294
        },
        "id": "etXiVC7NZH37",
        "outputId": "06f804f6-e02b-4b1e-c5fa-800f2bf4d575"
      },
      "source": [
        "## ลอง plot กราฟเพื่อดู\n",
        "pd.plotting.scatter_matrix(exam);"
      ],
      "execution_count": 8,
      "outputs": [
        {
          "output_type": "display_data",
          "data": {
            "image/png": "[encoded data removed]",
            "text/plain": [
              "<Figure size 432x288 with 64 Axes>"
            ]
          },
          "metadata": {
            "tags": [],
            "needs_background": "light"
          }
        }
      ]
    },
    {
      "cell_type": "code",
      "metadata": {
        "colab": {
          "base_uri": "https://localhost:8080/"
        },
        "id": "-Z1cUMPZZaNM",
        "outputId": "f6291a47-a116-4166-8de4-fb57ea837664"
      },
      "source": [
        "exam_matrix = np.array(exam.iloc[:,-7:])\n",
        "exam_matrix\n",
        "##เพื่อดู matrix ของ exam "
      ],
      "execution_count": 9,
      "outputs": [
        {
          "output_type": "execute_result",
          "data": {
            "text/plain": [
              "array([[27.82, 21.43, 44.87, ...,  1.77,  0.77,  4.93],\n",
              "       [28.49, 21.26, 43.89, ...,  1.79,  1.02,  4.84],\n",
              "       [28.35, 19.99, 45.78, ...,  1.63,  0.8 ,  4.95],\n",
              "       ...,\n",
              "       [44.55, 11.01, 16.03, ...,  0.64, 25.98,  2.92],\n",
              "       [47.6 , 10.43, 15.18, ...,  0.56, 24.47,  2.76],\n",
              "       [46.84,  9.91, 15.5 , ...,  0.57, 25.48,  2.81]])"
            ]
          },
          "metadata": {
            "tags": []
          },
          "execution_count": 9
        }
      ]
    },
    {
      "cell_type": "code",
      "metadata": {
        "colab": {
          "base_uri": "https://localhost:8080/"
        },
        "id": "FZ5bSKm-as8V",
        "outputId": "ec1e1a35-6e2c-4716-ef03-477e60de9269"
      },
      "source": [
        "exam_matrix = exam_matrix.T\n",
        "print(exam_matrix.shape)\n",
        "exam_matrix"
      ],
      "execution_count": 10,
      "outputs": [
        {
          "output_type": "stream",
          "text": [
            "(7, 300)\n"
          ],
          "name": "stdout"
        },
        {
          "output_type": "execute_result",
          "data": {
            "text/plain": [
              "array([[27.82, 28.49, 28.35, ..., 44.55, 47.6 , 46.84],\n",
              "       [21.43, 21.26, 19.99, ..., 11.01, 10.43,  9.91],\n",
              "       [44.87, 43.89, 45.78, ..., 16.03, 15.18, 15.5 ],\n",
              "       ...,\n",
              "       [ 1.77,  1.79,  1.63, ...,  0.64,  0.56,  0.57],\n",
              "       [ 0.77,  1.02,  0.8 , ..., 25.98, 24.47, 25.48],\n",
              "       [ 4.93,  4.84,  4.95, ...,  2.92,  2.76,  2.81]])"
            ]
          },
          "metadata": {
            "tags": []
          },
          "execution_count": 10
        }
      ]
    },
    {
      "cell_type": "markdown",
      "metadata": {
        "id": "YuOs7WHBhjSL"
      },
      "source": [
        "***\n",
        "##**1.ปรับ mean = 0 และ std = 1**"
      ]
    },
    {
      "cell_type": "code",
      "metadata": {
        "colab": {
          "base_uri": "https://localhost:8080/"
        },
        "id": "5WxdFR32iSpI",
        "outputId": "9521133d-7a5f-45f5-eaf7-38d47757f606"
      },
      "source": [
        "exam_matrix_m0_std1 = stats.zscore(exam_matrix,axis=1)\n",
        "exam_matrix_m0_std1"
      ],
      "execution_count": 11,
      "outputs": [
        {
          "output_type": "execute_result",
          "data": {
            "text/plain": [
              "array([[-1.37181459, -1.30156227, -1.31624186, ...,  0.3823963 ,\n",
              "         0.70220164,  0.62251244],\n",
              "       [ 1.25418127,  1.22771661,  1.03000998, ..., -0.36794707,\n",
              "        -0.45823828, -0.53918903],\n",
              "       [ 2.74984143,  2.64047481,  2.85139615, ..., -0.46866201,\n",
              "        -0.56352082, -0.52780927],\n",
              "       ...,\n",
              "       [ 2.97668662,  3.03077869,  2.59804213, ..., -0.07951534,\n",
              "        -0.29588362, -0.26883759],\n",
              "       [-1.22751105, -1.21362189, -1.22584435, ...,  0.1730719 ,\n",
              "         0.08918137,  0.14529358],\n",
              "       [ 2.68012924,  2.53473344,  2.71243942, ..., -0.56704362,\n",
              "        -0.82552504, -0.7447496 ]])"
            ]
          },
          "metadata": {
            "tags": []
          },
          "execution_count": 11
        }
      ]
    },
    {
      "cell_type": "code",
      "metadata": {
        "colab": {
          "base_uri": "https://localhost:8080/"
        },
        "id": "zYJH9U1WifMI",
        "outputId": "30623d31-f50a-43d1-de3a-b06ba630aeb8"
      },
      "source": [
        "np.mean(exam_matrix_m0_std1,axis=1)"
      ],
      "execution_count": 12,
      "outputs": [
        {
          "output_type": "execute_result",
          "data": {
            "text/plain": [
              "array([-1.18423789e-16,  1.89478063e-16, -2.36847579e-16, -5.21064673e-16,\n",
              "       -2.36847579e-16, -4.73695157e-17,  1.89478063e-16])"
            ]
          },
          "metadata": {
            "tags": []
          },
          "execution_count": 12
        }
      ]
    },
    {
      "cell_type": "code",
      "metadata": {
        "colab": {
          "base_uri": "https://localhost:8080/"
        },
        "id": "uk-mpKgjjA8H",
        "outputId": "d8e390dd-4191-4887-8574-de3d03661d51"
      },
      "source": [
        "np.std(exam_matrix_m0_std1,axis=1)"
      ],
      "execution_count": 13,
      "outputs": [
        {
          "output_type": "execute_result",
          "data": {
            "text/plain": [
              "array([1., 1., 1., 1., 1., 1., 1.])"
            ]
          },
          "metadata": {
            "tags": []
          },
          "execution_count": 13
        }
      ]
    },
    {
      "cell_type": "code",
      "metadata": {
        "colab": {
          "base_uri": "https://localhost:8080/",
          "height": 372
        },
        "id": "woGiYcv4k2lH",
        "outputId": "0ad15ba9-9872-4399-fe95-dfc9b7918030"
      },
      "source": [
        "plt.hist(exam_matrix_m0_std1[0,:],bins = 'rice', color = 'b') ##กราฟแท่งเฉพาะที่ตั้งค่า mean = 0 , std = 1 แล้ว"
      ],
      "execution_count": 14,
      "outputs": [
        {
          "output_type": "execute_result",
          "data": {
            "text/plain": [
              "(array([ 8., 46., 29., 10., 38., 13.,  5.,  1., 11., 47., 35., 22., 25.,\n",
              "        10.]),\n",
              " array([-1.66750345, -1.42618899, -1.18487452, -0.94356005, -0.70224558,\n",
              "        -0.46093111, -0.21961664,  0.02169783,  0.2630123 ,  0.50432677,\n",
              "         0.74564124,  0.98695571,  1.22827018,  1.46958465,  1.71089912]),\n",
              " <a list of 14 Patch objects>)"
            ]
          },
          "metadata": {
            "tags": []
          },
          "execution_count": 14
        },
        {
          "output_type": "display_data",
          "data": {
            "image/png": "[encoded data removed]",
            "text/plain": [
              "<Figure size 432x288 with 1 Axes>"
            ]
          },
          "metadata": {
            "tags": [],
            "needs_background": "light"
          }
        }
      ]
    },
    {
      "cell_type": "code",
      "metadata": {
        "colab": {
          "base_uri": "https://localhost:8080/",
          "height": 372
        },
        "id": "xqdiqqNnjgjf",
        "outputId": "494859d2-9d4f-41a0-f225-882ffda023bd"
      },
      "source": [
        "plt.hist(exam_matrix[0,:],bins = 'rice', color = 'r') #กราฟแท่งแบบยังไม่ทำ mean = 0 , std = 1\n",
        "plt.hist(exam_matrix_m0_std1[0,:],bins = 'rice', color = 'b')  #กราฟแท่งแบบทำ mean = 0 , std = 1\n",
        "#เทียบกราฟกัน"
      ],
      "execution_count": 15,
      "outputs": [
        {
          "output_type": "execute_result",
          "data": {
            "text/plain": [
              "(array([ 8., 46., 29., 10., 38., 13.,  5.,  1., 11., 47., 35., 22., 25.,\n",
              "        10.]),\n",
              " array([-1.66750345, -1.42618899, -1.18487452, -0.94356005, -0.70224558,\n",
              "        -0.46093111, -0.21961664,  0.02169783,  0.2630123 ,  0.50432677,\n",
              "         0.74564124,  0.98695571,  1.22827018,  1.46958465,  1.71089912]),\n",
              " <a list of 14 Patch objects>)"
            ]
          },
          "metadata": {
            "tags": []
          },
          "execution_count": 15
        },
        {
          "output_type": "display_data",
          "data": {
            "image/png": "[encoded data removed]",
            "text/plain": [
              "<Figure size 432x288 with 1 Axes>"
            ]
          },
          "metadata": {
            "tags": [],
            "needs_background": "light"
          }
        }
      ]
    },
    {
      "cell_type": "markdown",
      "metadata": {
        "id": "wB9x3Ydxkhi5"
      },
      "source": [
        "***\n",
        "##**2. หา covariance matrix ของข้อมูล**"
      ]
    },
    {
      "cell_type": "code",
      "metadata": {
        "colab": {
          "base_uri": "https://localhost:8080/"
        },
        "id": "Yn8FTOienE4X",
        "outputId": "e80643c2-da04-4d17-e657-470f4e4550e8"
      },
      "source": [
        "exam_cov = np.cov(exam_matrix_m0_std1)\n",
        "exam_cov # หา covarince"
      ],
      "execution_count": 16,
      "outputs": [
        {
          "output_type": "execute_result",
          "data": {
            "text/plain": [
              "array([[ 1.00334448,  0.36145252, -0.17189118,  0.26644367, -0.10262097,\n",
              "        -0.59378092, -0.7669972 ],\n",
              "       [ 0.36145252,  1.00334448,  0.49966723,  0.82659903,  0.43056473,\n",
              "        -0.85639691,  0.07049308],\n",
              "       [-0.17189118,  0.49966723,  1.00334448,  0.79428157,  0.93644671,\n",
              "        -0.64237943,  0.76712418],\n",
              "       [ 0.26644367,  0.82659903,  0.79428157,  1.00334448,  0.8108249 ,\n",
              "        -0.90199502,  0.32756032],\n",
              "       [-0.10262097,  0.43056473,  0.93644671,  0.8108249 ,  1.00334448,\n",
              "        -0.6222505 ,  0.67420485],\n",
              "       [-0.59378092, -0.85639691, -0.64237943, -0.90199502, -0.6222505 ,\n",
              "         1.00334448, -0.02356313],\n",
              "       [-0.7669972 ,  0.07049308,  0.76712418,  0.32756032,  0.67420485,\n",
              "        -0.02356313,  1.00334448]])"
            ]
          },
          "metadata": {
            "tags": []
          },
          "execution_count": 16
        }
      ]
    },
    {
      "cell_type": "markdown",
      "metadata": {
        "id": "edfH6AXvnSoX"
      },
      "source": [
        "***\n",
        "##**3.คำนวณ Eigenvectors and Eigenvalues**"
      ]
    },
    {
      "cell_type": "code",
      "metadata": {
        "id": "GmYib_mwnSM2"
      },
      "source": [
        "eigen_values, eigen_vectors = np.linalg.eig(exam_cov)"
      ],
      "execution_count": 17,
      "outputs": []
    },
    {
      "cell_type": "code",
      "metadata": {
        "colab": {
          "base_uri": "https://localhost:8080/"
        },
        "id": "fK6nvkxZnvvu",
        "outputId": "322e9116-c3c6-46b9-8ee7-5c7bc7333ca7"
      },
      "source": [
        "eigen_values"
      ],
      "execution_count": 18,
      "outputs": [
        {
          "output_type": "execute_result",
          "data": {
            "text/plain": [
              "array([4.18573434e+00, 2.29811778e+00, 4.15948838e-01, 9.54925358e-02,\n",
              "       2.77695834e-02, 3.38738483e-04, 9.55061572e-06])"
            ]
          },
          "metadata": {
            "tags": []
          },
          "execution_count": 18
        }
      ]
    },
    {
      "cell_type": "code",
      "metadata": {
        "colab": {
          "base_uri": "https://localhost:8080/"
        },
        "id": "HKB4sGmBnxUW",
        "outputId": "e08e2e9c-745d-4be4-ee2a-f1045fa3edc0"
      },
      "source": [
        "eigen_vectors"
      ],
      "execution_count": 19,
      "outputs": [
        {
          "output_type": "execute_result",
          "data": {
            "text/plain": [
              "array([[ 6.47093729e-02,  6.28275866e-01, -4.21668945e-01,\n",
              "        -2.20721584e-01,  6.47029345e-03, -4.46449902e-01,\n",
              "        -4.18569035e-01],\n",
              "       [ 3.78760904e-01,  2.69706650e-01,  7.46027442e-01,\n",
              "        -1.05931982e-02,  3.87982788e-01,  1.71520299e-04,\n",
              "        -2.76764643e-01],\n",
              "       [ 4.46665915e-01, -2.34379085e-01, -1.99308714e-01,\n",
              "        -5.07042158e-01, -1.73367634e-01,  5.25402868e-01,\n",
              "        -3.77671525e-01],\n",
              "       [ 4.71889526e-01,  1.10990417e-01,  5.62726863e-02,\n",
              "         5.52398549e-01, -6.70885701e-01, -5.88609281e-02,\n",
              "        -5.60214003e-02],\n",
              "       [ 4.35702887e-01, -2.01661652e-01, -4.55168874e-01,\n",
              "         4.46276890e-01,  6.02614079e-01, -3.13098518e-03,\n",
              "         5.24323817e-04],\n",
              "       [-4.24913712e-01, -3.20312078e-01,  5.22365058e-02,\n",
              "         3.34339481e-01, -7.43689883e-03,  5.08853525e-04,\n",
              "        -7.76067911e-01],\n",
              "       [ 2.44487304e-01, -5.67457559e-01,  1.13315588e-01,\n",
              "        -2.79263154e-01, -7.80031747e-02, -7.21913853e-01,\n",
              "        -1.20598098e-02]])"
            ]
          },
          "metadata": {
            "tags": []
          },
          "execution_count": 19
        }
      ]
    },
    {
      "cell_type": "markdown",
      "metadata": {
        "id": "nydZ5Nlovsm8"
      },
      "source": [
        "***\n",
        "## **4 คำนวณว่า แต่ละ eigen vector อธิบายข้อมูลทั้งหมด ได้ดีแค่ไหน**"
      ]
    },
    {
      "cell_type": "code",
      "metadata": {
        "id": "Fhyaamzkvqr1",
        "colab": {
          "base_uri": "https://localhost:8080/"
        },
        "outputId": "43047b06-a390-42ed-a4f9-1120723d53ad"
      },
      "source": [
        "sum(eigen_values)"
      ],
      "execution_count": 20,
      "outputs": [
        {
          "output_type": "execute_result",
          "data": {
            "text/plain": [
              "7.0234113712374535"
            ]
          },
          "metadata": {
            "tags": []
          },
          "execution_count": 20
        }
      ]
    },
    {
      "cell_type": "code",
      "metadata": {
        "id": "-7UKg9oCvZCs",
        "colab": {
          "base_uri": "https://localhost:8080/"
        },
        "outputId": "5127995f-43ab-4902-cb67-e13b963f85be"
      },
      "source": [
        "variance_explained = []\n",
        "for i in eigen_values:\n",
        "     variance_explained.append((i/sum(eigen_values))*100)\n",
        "        \n",
        "print(variance_explained)"
      ],
      "execution_count": 21,
      "outputs": [
        {
          "output_type": "stream",
          "text": [
            "[59.59688423344787, 32.720819826580865, 5.9223191753902285, 1.3596318186805307, 0.3953859725404401, 0.004822990783854994, 0.00013598257622030136]\n"
          ],
          "name": "stdout"
        }
      ]
    },
    {
      "cell_type": "code",
      "metadata": {
        "id": "koDSlD4twFcW",
        "colab": {
          "base_uri": "https://localhost:8080/"
        },
        "outputId": "8d9284f2-9f8d-48d2-df10-b00a800134a9"
      },
      "source": [
        "cumulative_variance_explained = np.cumsum(variance_explained)\n",
        "print(cumulative_variance_explained)"
      ],
      "execution_count": 22,
      "outputs": [
        {
          "output_type": "stream",
          "text": [
            "[ 59.59688423  92.31770406  98.24002324  99.59965505  99.99504103\n",
            "  99.99986402 100.        ]\n"
          ],
          "name": "stdout"
        }
      ]
    },
    {
      "cell_type": "code",
      "metadata": {
        "id": "UHBQIpUSwMJX",
        "colab": {
          "base_uri": "https://localhost:8080/"
        },
        "outputId": "9052130d-515a-4b50-aead-57ec71952a91"
      },
      "source": [
        "selected_eigen_vectors = eigen_vectors[:,:2]\n",
        "selected_eigen_vectors"
      ],
      "execution_count": 23,
      "outputs": [
        {
          "output_type": "execute_result",
          "data": {
            "text/plain": [
              "array([[ 0.06470937,  0.62827587],\n",
              "       [ 0.3787609 ,  0.26970665],\n",
              "       [ 0.44666592, -0.23437908],\n",
              "       [ 0.47188953,  0.11099042],\n",
              "       [ 0.43570289, -0.20166165],\n",
              "       [-0.42491371, -0.32031208],\n",
              "       [ 0.2444873 , -0.56745756]])"
            ]
          },
          "metadata": {
            "tags": []
          },
          "execution_count": 23
        }
      ]
    },
    {
      "cell_type": "code",
      "metadata": {
        "id": "25qXAgkswZzd",
        "colab": {
          "base_uri": "https://localhost:8080/"
        },
        "outputId": "f934919f-f759-44fa-c54f-96eb955d9e4b"
      },
      "source": [
        "selected_eigen_vectors_more_than_95_per = eigen_vectors[:,:3]\n",
        "selected_eigen_vectors_more_than_95_per"
      ],
      "execution_count": 24,
      "outputs": [
        {
          "output_type": "execute_result",
          "data": {
            "text/plain": [
              "array([[ 0.06470937,  0.62827587, -0.42166894],\n",
              "       [ 0.3787609 ,  0.26970665,  0.74602744],\n",
              "       [ 0.44666592, -0.23437908, -0.19930871],\n",
              "       [ 0.47188953,  0.11099042,  0.05627269],\n",
              "       [ 0.43570289, -0.20166165, -0.45516887],\n",
              "       [-0.42491371, -0.32031208,  0.05223651],\n",
              "       [ 0.2444873 , -0.56745756,  0.11331559]])"
            ]
          },
          "metadata": {
            "tags": []
          },
          "execution_count": 24
        }
      ]
    },
    {
      "cell_type": "markdown",
      "metadata": {
        "id": "xDiopVNZwoGc"
      },
      "source": [
        "***\n",
        "## **5.map data ไปบนแกนใหม่**\n"
      ]
    },
    {
      "cell_type": "code",
      "metadata": {
        "id": "BePjarAvwvOC",
        "colab": {
          "base_uri": "https://localhost:8080/"
        },
        "outputId": "7f462500-5c03-4067-f6ba-fe7405371733"
      },
      "source": [
        "X = exam_matrix_m0_std1\n",
        "X.shape"
      ],
      "execution_count": 25,
      "outputs": [
        {
          "output_type": "execute_result",
          "data": {
            "text/plain": [
              "(7, 300)"
            ]
          },
          "metadata": {
            "tags": []
          },
          "execution_count": 25
        }
      ]
    },
    {
      "cell_type": "code",
      "metadata": {
        "id": "1fBD41RjxALN",
        "colab": {
          "base_uri": "https://localhost:8080/"
        },
        "outputId": "f3bfb562-f538-4b2e-8803-88681c528baf"
      },
      "source": [
        "W_90_per = selected_eigen_vectors\n",
        "W_90_per.shape"
      ],
      "execution_count": 26,
      "outputs": [
        {
          "output_type": "execute_result",
          "data": {
            "text/plain": [
              "(7, 2)"
            ]
          },
          "metadata": {
            "tags": []
          },
          "execution_count": 26
        }
      ]
    },
    {
      "cell_type": "code",
      "metadata": {
        "id": "_4f77Rx9xZnu",
        "colab": {
          "base_uri": "https://localhost:8080/"
        },
        "outputId": "b9be0311-af46-4901-83d9-2c2bc280a770"
      },
      "source": [
        "X_pca = X.T.dot(W_90_per)\n",
        "X_pca"
      ],
      "execution_count": 27,
      "outputs": [
        {
          "output_type": "execute_result",
          "data": {
            "text/plain": [
              "array([[ 5.01034284, -2.67921532],\n",
              "       [ 5.02375538, -2.52929455],\n",
              "       [ 4.8054393 , -2.67370033],\n",
              "       [ 4.4695434 , -2.28502923],\n",
              "       [ 4.47189256, -2.1591524 ],\n",
              "       [ 4.50479978, -2.16797296],\n",
              "       [ 4.31535781, -2.05704328],\n",
              "       [ 4.75785167, -2.35308587],\n",
              "       [ 4.85461934, -2.68121904],\n",
              "       [ 4.91640631, -2.65851314],\n",
              "       [ 4.84099582, -2.73660839],\n",
              "       [ 4.89136871, -2.74250173],\n",
              "       [ 4.61075407, -2.57925365],\n",
              "       [ 4.42153254, -2.29169853],\n",
              "       [ 4.46677678, -2.13288492],\n",
              "       [ 4.75343467, -2.46713643],\n",
              "       [ 4.44513083, -1.82836512],\n",
              "       [ 4.20201792, -1.80148331],\n",
              "       [ 4.49687192, -1.88605015],\n",
              "       [ 4.60756167, -2.2350726 ],\n",
              "       [ 4.85726834, -2.96634356],\n",
              "       [ 4.82265249, -2.78671232],\n",
              "       [ 4.51834142, -2.16243103],\n",
              "       [ 4.25395639, -2.12444278],\n",
              "       [ 4.48975064, -2.0179968 ],\n",
              "       [ 4.5415983 , -2.38008587],\n",
              "       [ 4.63411775, -2.60980367],\n",
              "       [ 4.46880183, -2.43393573],\n",
              "       [ 4.75034835, -2.36096907],\n",
              "       [ 1.86118455,  0.48587897],\n",
              "       [ 1.31234408,  1.12624028],\n",
              "       [ 1.76567377,  0.30620877],\n",
              "       [ 1.67139319,  0.65144827],\n",
              "       [ 1.59326652,  0.72707134],\n",
              "       [ 1.75214117,  0.52491359],\n",
              "       [ 1.79769844,  0.57453759],\n",
              "       [ 1.286141  ,  0.58758656],\n",
              "       [ 0.98536152,  1.29977025],\n",
              "       [ 1.59570217,  1.07984544],\n",
              "       [ 1.66692136,  0.63713047],\n",
              "       [ 1.6845547 ,  0.50321064],\n",
              "       [ 1.79800953,  0.7904533 ],\n",
              "       [ 1.75061615,  0.51344222],\n",
              "       [ 1.01729263,  1.55250195],\n",
              "       [ 0.96090738,  1.69798925],\n",
              "       [ 1.06044938,  1.36389587],\n",
              "       [ 1.69385387,  0.51160892],\n",
              "       [ 1.83131552,  0.62632326],\n",
              "       [ 1.52979499,  1.08927516],\n",
              "       [ 1.62269178,  0.58070193],\n",
              "       [ 1.78981468,  0.45184037],\n",
              "       [ 1.72759525,  0.41874695],\n",
              "       [ 1.79232263,  0.74423421],\n",
              "       [ 1.77583723,  0.78346255],\n",
              "       [ 1.22040739,  1.33618025],\n",
              "       [ 1.54381467,  0.97453037],\n",
              "       [ 1.70900086,  0.87072594],\n",
              "       [ 1.75775457,  0.79412042],\n",
              "       [ 1.2110394 ,  0.81082625],\n",
              "       [ 1.28189732,  0.80443536],\n",
              "       [ 1.3733351 ,  1.80122345],\n",
              "       [ 1.15302122,  2.25379525],\n",
              "       [ 1.14451053,  1.82648305],\n",
              "       [ 1.22366524,  1.93765239],\n",
              "       [ 1.24542212,  1.55804968],\n",
              "       [ 0.89628008,  1.87408594],\n",
              "       [ 1.01190454,  2.49203028],\n",
              "       [ 1.30418459,  2.06139605],\n",
              "       [ 0.64245467,  2.37064841],\n",
              "       [ 1.15053786,  2.44211386],\n",
              "       [ 0.89464272,  2.63538814],\n",
              "       [ 0.96134848,  1.91412784],\n",
              "       [ 1.59575164,  1.72259452],\n",
              "       [ 1.29185378,  1.72064198],\n",
              "       [ 1.06187896,  1.7097069 ],\n",
              "       [ 0.81162826,  1.8139897 ],\n",
              "       [ 1.02066449,  1.93066386],\n",
              "       [ 1.38747555,  2.55709329],\n",
              "       [ 1.3004686 ,  1.65802232],\n",
              "       [ 1.32731252,  1.98754478],\n",
              "       [ 1.02507197,  2.67524429],\n",
              "       [ 0.57003212,  2.05430598],\n",
              "       [ 0.58796339,  2.39381541],\n",
              "       [ 0.77893632,  2.2425099 ],\n",
              "       [ 1.53905599,  1.35568239],\n",
              "       [ 0.80177424,  2.40023848],\n",
              "       [ 0.98012931,  1.95271555],\n",
              "       [ 2.05211762,  1.13661565],\n",
              "       [ 2.06438087,  1.02174759],\n",
              "       [ 1.5052601 ,  1.45416007],\n",
              "       [ 1.24749992,  1.62755954],\n",
              "       [ 1.51913478,  1.32898032],\n",
              "       [ 1.92763776,  1.27098937],\n",
              "       [ 1.36683591,  1.45845091],\n",
              "       [ 1.43567138,  1.51879615],\n",
              "       [ 0.99351428,  2.25935653],\n",
              "       [ 1.56222022,  1.39255468],\n",
              "       [ 1.42930017,  1.3746553 ],\n",
              "       [ 1.42246877,  1.36562295],\n",
              "       [ 1.31593828,  1.60121511],\n",
              "       [ 2.28875406,  1.56927721],\n",
              "       [ 2.30757369,  1.49090762],\n",
              "       [ 2.30945294,  1.61725871],\n",
              "       [ 1.50415072,  1.446633  ],\n",
              "       [ 1.40720989,  1.49385939],\n",
              "       [ 1.42095785,  1.54888361],\n",
              "       [ 1.42922317,  1.45025978],\n",
              "       [ 1.48619291,  1.47073621],\n",
              "       [ 1.42176713,  1.53672834],\n",
              "       [ 1.32625034,  1.71902473],\n",
              "       [ 2.10986662,  1.04822176],\n",
              "       [ 1.33652814,  1.75641512],\n",
              "       [ 2.27647626,  1.71748936],\n",
              "       [ 1.26515249,  1.62827241],\n",
              "       [ 1.89472139,  1.16419595],\n",
              "       [ 2.09497349,  1.10184213],\n",
              "       [ 1.95422658,  1.14781612],\n",
              "       [ 1.90883414,  1.14109238],\n",
              "       [ 1.38747555,  2.55709329],\n",
              "       [-1.78508374, -0.93730223],\n",
              "       [-1.61239519, -0.68870939],\n",
              "       [-1.72068915, -0.80774568],\n",
              "       [-2.48791824,  0.30864105],\n",
              "       [-1.8109961 , -0.85377463],\n",
              "       [-2.55407381,  0.34239815],\n",
              "       [-1.96003658, -0.72624966],\n",
              "       [-1.53132552, -0.33790409],\n",
              "       [-1.68835128, -0.70806928],\n",
              "       [-1.68275918, -0.65462563],\n",
              "       [-1.72115025, -0.33622006],\n",
              "       [-1.89115326, -0.67135361],\n",
              "       [-1.40000925, -1.1013241 ],\n",
              "       [-1.43569567, -1.29364811],\n",
              "       [-1.26143793, -0.77995887],\n",
              "       [-1.83301609, -0.41564567],\n",
              "       [-1.93492686, -0.50614069],\n",
              "       [-1.26143793, -0.77995887],\n",
              "       [-1.72794962, -0.87879778],\n",
              "       [-1.7244848 , -0.59347181],\n",
              "       [-1.43597176, -1.03127186],\n",
              "       [-1.49475568, -0.9154107 ],\n",
              "       [-1.36474412, -1.12433436],\n",
              "       [-1.38808848, -1.25109639],\n",
              "       [-1.40866022, -1.04778053],\n",
              "       [-2.21483101, -0.19981725],\n",
              "       [-1.72115025, -0.33622006],\n",
              "       [-1.88259866, -0.82289078],\n",
              "       [-1.46176163, -1.85216829],\n",
              "       [-1.74262567, -1.41437548],\n",
              "       [-1.82386905, -1.371206  ],\n",
              "       [-1.29320992, -1.68102466],\n",
              "       [-1.52679042, -1.80743526],\n",
              "       [-1.70600919, -1.3713592 ],\n",
              "       [-1.78120934, -1.63085458],\n",
              "       [-1.9159626 , -1.15829528],\n",
              "       [-1.7548986 , -1.40151739],\n",
              "       [-1.77381037, -1.42068345],\n",
              "       [-1.34013776, -1.63353376],\n",
              "       [-1.82897798, -1.47892298],\n",
              "       [-1.26554737, -1.82620911],\n",
              "       [-1.77362596, -1.42843184],\n",
              "       [-1.75798096, -1.82974681],\n",
              "       [-1.57668271, -1.7766323 ],\n",
              "       [-1.33563644, -1.77469016],\n",
              "       [-1.86527936, -1.40887776],\n",
              "       [-1.48422146, -2.03951573],\n",
              "       [-1.82705147, -1.29470259],\n",
              "       [-1.90681569, -1.19477404],\n",
              "       [-2.0054374 , -1.23349466],\n",
              "       [-1.68916325, -1.55785357],\n",
              "       [-1.68852808, -1.47264801],\n",
              "       [-1.56720682, -1.67211105],\n",
              "       [-1.64586028, -1.63966074],\n",
              "       [-1.61927471, -1.67349819],\n",
              "       [-1.51862602, -1.81312071],\n",
              "       [-1.43148972, -1.85889659],\n",
              "       [-1.76529924, -1.21444989],\n",
              "       [-1.78006573, -1.63618901],\n",
              "       [-1.85706588, -1.57989048],\n",
              "       [-1.95961646, -1.20763733],\n",
              "       [-1.83698414, -1.59397854],\n",
              "       [-1.38360389, -1.79674188],\n",
              "       [-1.73684415, -1.70048504],\n",
              "       [-1.70868691, -1.60200876],\n",
              "       [-1.66249781, -1.70440016],\n",
              "       [-1.75385116, -1.68001556],\n",
              "       [-1.69747723, -1.67308929],\n",
              "       [-1.87219755, -1.54773658],\n",
              "       [-1.77392544, -1.4751555 ],\n",
              "       [-1.79271438, -1.54239432],\n",
              "       [-2.07773887, -0.88484307],\n",
              "       [-1.39273705, -2.1112176 ],\n",
              "       [-1.74064578, -1.70085006],\n",
              "       [-1.83538915, -1.66057692],\n",
              "       [-1.87040601, -1.68053771],\n",
              "       [-1.61152137, -1.43133918],\n",
              "       [-1.8272382 , -1.4389233 ],\n",
              "       [-1.55144024, -1.68469669],\n",
              "       [-1.70514357, -1.66644801],\n",
              "       [-1.91259534, -1.5246024 ],\n",
              "       [-1.64339653, -1.99043031],\n",
              "       [-1.70995766, -1.98203883],\n",
              "       [-1.79381644, -1.66387811],\n",
              "       [-1.63162961, -2.08612828],\n",
              "       [-1.99366242, -1.32442029],\n",
              "       [-1.72960314, -1.62016729],\n",
              "       [-2.05457894, -0.44151231],\n",
              "       [-1.42110446, -0.99723308],\n",
              "       [-1.72735856, -0.80025702],\n",
              "       [-2.46135481, -0.15981745],\n",
              "       [-1.67792916, -0.76267595],\n",
              "       [-1.71553084, -0.77657397],\n",
              "       [-2.58592076,  0.46605703],\n",
              "       [-1.63071628, -0.75504251],\n",
              "       [-1.81455163, -1.10815762],\n",
              "       [-1.85852939, -0.92692011],\n",
              "       [-2.65253119,  0.27926545],\n",
              "       [-1.55093331, -1.18543918],\n",
              "       [-1.76595288, -0.56101533],\n",
              "       [-1.91832982, -0.6624053 ],\n",
              "       [-1.9765523 , -0.43718332],\n",
              "       [-1.9303685 , -0.64495435],\n",
              "       [-1.8613956 , -0.54848391],\n",
              "       [-1.74884966, -0.78247315],\n",
              "       [-1.777316  , -0.98914116],\n",
              "       [-1.85957783, -0.64232   ],\n",
              "       [-1.82455102, -0.67894126],\n",
              "       [-1.4751276 , -0.94749439],\n",
              "       [-1.56397293, -0.75251209],\n",
              "       [-1.83728493, -0.69364008],\n",
              "       [-1.54097929, -0.74052146],\n",
              "       [-1.73577427, -0.72057784],\n",
              "       [-1.63183372, -0.7985712 ],\n",
              "       [-1.76030188, -0.64571555],\n",
              "       [-1.9925099 , -0.50296324],\n",
              "       [-1.65053703, -1.04554491],\n",
              "       [-2.18602505, -0.2625904 ],\n",
              "       [-1.88947244, -0.58718012],\n",
              "       [-1.82455102, -0.67894126],\n",
              "       [-1.05804675,  1.88810812],\n",
              "       [-1.17381538,  1.81086042],\n",
              "       [-1.17676152,  1.77814711],\n",
              "       [-1.08067697,  1.81552894],\n",
              "       [-1.08082925,  1.58443685],\n",
              "       [-1.27156168,  2.07473473],\n",
              "       [-1.43675857,  2.06375283],\n",
              "       [-1.17953128,  2.05414113],\n",
              "       [-1.22977033,  1.85561186],\n",
              "       [-0.76354275,  1.6831108 ],\n",
              "       [-1.06206422,  1.86682304],\n",
              "       [-1.00623159,  1.73356007],\n",
              "       [-1.06754583,  2.01396034],\n",
              "       [-1.0355188 ,  1.90127135],\n",
              "       [-1.12707766,  2.0262336 ],\n",
              "       [-1.14885185,  1.90577733],\n",
              "       [-1.16981983,  1.8386978 ],\n",
              "       [-1.21342305,  1.90877421],\n",
              "       [-1.20143617,  1.89053836],\n",
              "       [-1.12536416,  1.69331845],\n",
              "       [-1.00266003,  1.93907092],\n",
              "       [-1.06710957,  1.87535584],\n",
              "       [-1.13594463,  1.87300692],\n",
              "       [-1.12832969,  1.8186219 ],\n",
              "       [-1.39298342,  2.26735069],\n",
              "       [-1.0718804 ,  1.88478306],\n",
              "       [-1.18699051,  1.81878221],\n",
              "       [-1.13101006,  1.8069509 ],\n",
              "       [-1.16269076,  1.92678851],\n",
              "       [-0.6172551 ,  0.65202898],\n",
              "       [-0.59533164,  0.39831154],\n",
              "       [-0.86507827,  0.92179043],\n",
              "       [-0.89586841,  0.76787847],\n",
              "       [-0.94224564,  0.65802393],\n",
              "       [-0.98478039,  0.97322443],\n",
              "       [-0.64332788,  0.58252055],\n",
              "       [-0.68280123,  0.69448132],\n",
              "       [-0.59736861,  0.62857302],\n",
              "       [-0.78648108,  0.92370535],\n",
              "       [-0.60052047,  0.68490268],\n",
              "       [-0.84528602,  0.79593952],\n",
              "       [-0.67318968,  0.80944388],\n",
              "       [-0.60597823,  0.74478842],\n",
              "       [-0.67617005,  0.57860624],\n",
              "       [-0.77069653,  0.8178703 ],\n",
              "       [-0.27652681,  0.16743892],\n",
              "       [-0.57370386,  0.82523197],\n",
              "       [-0.64554694,  0.49246839],\n",
              "       [-0.6460682 ,  0.49394126],\n",
              "       [-0.63121056,  0.89729647],\n",
              "       [-0.75600102,  0.58300308],\n",
              "       [-0.71445442,  0.64603186],\n",
              "       [-0.77623091,  0.84248849],\n",
              "       [-0.96630712,  0.4906733 ],\n",
              "       [-0.64512233,  0.58796177],\n",
              "       [-0.36541955,  0.33616234],\n",
              "       [-0.53550974,  0.53084272],\n",
              "       [-0.33963616,  0.24323018],\n",
              "       [-0.6464327 ,  0.5154336 ],\n",
              "       [-0.86507827,  0.92179043],\n",
              "       [-0.89586841,  0.76787847]])"
            ]
          },
          "metadata": {
            "tags": []
          },
          "execution_count": 27
        }
      ]
    },
    {
      "cell_type": "code",
      "metadata": {
        "id": "bmRt8KCwxtZu",
        "colab": {
          "base_uri": "https://localhost:8080/",
          "height": 283
        },
        "outputId": "7bad9008-db6d-4bcb-89f3-1f3a85603aec"
      },
      "source": [
        "plt.plot(X_pca[:,0],X_pca[:,1],'+r')"
      ],
      "execution_count": 31,
      "outputs": [
        {
          "output_type": "execute_result",
          "data": {
            "text/plain": [
              "[<matplotlib.lines.Line2D at 0x7f9f9980b790>]"
            ]
          },
          "metadata": {
            "tags": []
          },
          "execution_count": 31
        },
        {
          "output_type": "display_data",
          "data": {
            "image/png": "[encoded data removed]",
            "text/plain": [
              "<Figure size 432x288 with 1 Axes>"
            ]
          },
          "metadata": {
            "tags": [],
            "needs_background": "light"
          }
        }
      ]
    },
    {
      "cell_type": "code",
      "metadata": {
        "id": "wT3zBveWxx5d",
        "colab": {
          "base_uri": "https://localhost:8080/",
          "height": 283
        },
        "outputId": "2de7e8ed-8e6d-4aa2-9ec5-24511934ff64"
      },
      "source": [
        "plt.plot(X_pca[:29,0],X_pca[:29,1],'+r')\n",
        "plt.plot(X_pca[29:60,0],X_pca[29:60,1],'+g')\n",
        "plt.plot(X_pca[60:87,0],X_pca[60:87,1],'+y')\n",
        "plt.plot(X_pca[87:119,0],X_pca[87:119,1],'+b')\n",
        "plt.plot(X_pca[119:147,0],X_pca[119:147,1],'+c')\n",
        "plt.plot(X_pca[147:177,0],X_pca[147:177,1],'+m')\n",
        "plt.plot(X_pca[177:206,0],X_pca[177:206,1],'+k')\n",
        "plt.plot(X_pca[206:239,0],X_pca[206:239,1],'or')\n",
        "plt.plot(X_pca[239:268,0],X_pca[239:268,1],'og')\n",
        "plt.plot(X_pca[268:300,0],X_pca[268:300,1],'om')"
      ],
      "execution_count": 30,
      "outputs": [
        {
          "output_type": "execute_result",
          "data": {
            "text/plain": [
              "[<matplotlib.lines.Line2D at 0x7f9f9981e390>]"
            ]
          },
          "metadata": {
            "tags": []
          },
          "execution_count": 30
        },
        {
          "output_type": "display_data",
          "data": {
            "image/png": "[encoded data removed]",
            "text/plain": [
              "<Figure size 432x288 with 1 Axes>"
            ]
          },
          "metadata": {
            "tags": [],
            "needs_background": "light"
          }
        }
      ]
    },
    {
      "cell_type": "code",
      "metadata": {
        "id": "mXoclCnKNkCo"
      },
      "source": [
        "pca = PCA(n_components=2)"
      ],
      "execution_count": 32,
      "outputs": []
    },
    {
      "cell_type": "code",
      "metadata": {
        "colab": {
          "base_uri": "https://localhost:8080/"
        },
        "id": "eXV1phbQNmxH",
        "outputId": "f53c01f2-7774-4ced-fa66-d8408a018d70"
      },
      "source": [
        "n_pca = pca.fit_transform(X.T)\n",
        "n_pca"
      ],
      "execution_count": 33,
      "outputs": [
        {
          "output_type": "execute_result",
          "data": {
            "text/plain": [
              "array([[ 5.01034284,  2.67921532],\n",
              "       [ 5.02375538,  2.52929455],\n",
              "       [ 4.8054393 ,  2.67370033],\n",
              "       [ 4.4695434 ,  2.28502923],\n",
              "       [ 4.47189256,  2.1591524 ],\n",
              "       [ 4.50479978,  2.16797296],\n",
              "       [ 4.31535781,  2.05704328],\n",
              "       [ 4.75785167,  2.35308587],\n",
              "       [ 4.85461934,  2.68121904],\n",
              "       [ 4.91640631,  2.65851314],\n",
              "       [ 4.84099582,  2.73660839],\n",
              "       [ 4.89136871,  2.74250173],\n",
              "       [ 4.61075407,  2.57925365],\n",
              "       [ 4.42153254,  2.29169853],\n",
              "       [ 4.46677678,  2.13288492],\n",
              "       [ 4.75343467,  2.46713643],\n",
              "       [ 4.44513083,  1.82836512],\n",
              "       [ 4.20201792,  1.80148331],\n",
              "       [ 4.49687192,  1.88605015],\n",
              "       [ 4.60756167,  2.2350726 ],\n",
              "       [ 4.85726834,  2.96634356],\n",
              "       [ 4.82265249,  2.78671232],\n",
              "       [ 4.51834142,  2.16243103],\n",
              "       [ 4.25395639,  2.12444278],\n",
              "       [ 4.48975064,  2.0179968 ],\n",
              "       [ 4.5415983 ,  2.38008587],\n",
              "       [ 4.63411775,  2.60980367],\n",
              "       [ 4.46880183,  2.43393573],\n",
              "       [ 4.75034835,  2.36096907],\n",
              "       [ 1.86118455, -0.48587897],\n",
              "       [ 1.31234408, -1.12624028],\n",
              "       [ 1.76567377, -0.30620877],\n",
              "       [ 1.67139319, -0.65144827],\n",
              "       [ 1.59326652, -0.72707134],\n",
              "       [ 1.75214117, -0.52491359],\n",
              "       [ 1.79769844, -0.57453759],\n",
              "       [ 1.286141  , -0.58758656],\n",
              "       [ 0.98536152, -1.29977025],\n",
              "       [ 1.59570217, -1.07984544],\n",
              "       [ 1.66692136, -0.63713047],\n",
              "       [ 1.6845547 , -0.50321064],\n",
              "       [ 1.79800953, -0.7904533 ],\n",
              "       [ 1.75061615, -0.51344222],\n",
              "       [ 1.01729263, -1.55250195],\n",
              "       [ 0.96090738, -1.69798925],\n",
              "       [ 1.06044938, -1.36389587],\n",
              "       [ 1.69385387, -0.51160892],\n",
              "       [ 1.83131552, -0.62632326],\n",
              "       [ 1.52979499, -1.08927516],\n",
              "       [ 1.62269178, -0.58070193],\n",
              "       [ 1.78981468, -0.45184037],\n",
              "       [ 1.72759525, -0.41874695],\n",
              "       [ 1.79232263, -0.74423421],\n",
              "       [ 1.77583723, -0.78346255],\n",
              "       [ 1.22040739, -1.33618025],\n",
              "       [ 1.54381467, -0.97453037],\n",
              "       [ 1.70900086, -0.87072594],\n",
              "       [ 1.75775457, -0.79412042],\n",
              "       [ 1.2110394 , -0.81082625],\n",
              "       [ 1.28189732, -0.80443536],\n",
              "       [ 1.3733351 , -1.80122345],\n",
              "       [ 1.15302122, -2.25379525],\n",
              "       [ 1.14451053, -1.82648305],\n",
              "       [ 1.22366524, -1.93765239],\n",
              "       [ 1.24542212, -1.55804968],\n",
              "       [ 0.89628008, -1.87408594],\n",
              "       [ 1.01190454, -2.49203028],\n",
              "       [ 1.30418459, -2.06139605],\n",
              "       [ 0.64245467, -2.37064841],\n",
              "       [ 1.15053786, -2.44211386],\n",
              "       [ 0.89464272, -2.63538814],\n",
              "       [ 0.96134848, -1.91412784],\n",
              "       [ 1.59575164, -1.72259452],\n",
              "       [ 1.29185378, -1.72064198],\n",
              "       [ 1.06187896, -1.7097069 ],\n",
              "       [ 0.81162826, -1.8139897 ],\n",
              "       [ 1.02066449, -1.93066386],\n",
              "       [ 1.38747555, -2.55709329],\n",
              "       [ 1.3004686 , -1.65802232],\n",
              "       [ 1.32731252, -1.98754478],\n",
              "       [ 1.02507197, -2.67524429],\n",
              "       [ 0.57003212, -2.05430598],\n",
              "       [ 0.58796339, -2.39381541],\n",
              "       [ 0.77893632, -2.2425099 ],\n",
              "       [ 1.53905599, -1.35568239],\n",
              "       [ 0.80177424, -2.40023848],\n",
              "       [ 0.98012931, -1.95271555],\n",
              "       [ 2.05211762, -1.13661565],\n",
              "       [ 2.06438087, -1.02174759],\n",
              "       [ 1.5052601 , -1.45416007],\n",
              "       [ 1.24749992, -1.62755954],\n",
              "       [ 1.51913478, -1.32898032],\n",
              "       [ 1.92763776, -1.27098937],\n",
              "       [ 1.36683591, -1.45845091],\n",
              "       [ 1.43567138, -1.51879615],\n",
              "       [ 0.99351428, -2.25935653],\n",
              "       [ 1.56222022, -1.39255468],\n",
              "       [ 1.42930017, -1.3746553 ],\n",
              "       [ 1.42246877, -1.36562295],\n",
              "       [ 1.31593828, -1.60121511],\n",
              "       [ 2.28875406, -1.56927721],\n",
              "       [ 2.30757369, -1.49090762],\n",
              "       [ 2.30945294, -1.61725871],\n",
              "       [ 1.50415072, -1.446633  ],\n",
              "       [ 1.40720989, -1.49385939],\n",
              "       [ 1.42095785, -1.54888361],\n",
              "       [ 1.42922317, -1.45025978],\n",
              "       [ 1.48619291, -1.47073621],\n",
              "       [ 1.42176713, -1.53672834],\n",
              "       [ 1.32625034, -1.71902473],\n",
              "       [ 2.10986662, -1.04822176],\n",
              "       [ 1.33652814, -1.75641512],\n",
              "       [ 2.27647626, -1.71748936],\n",
              "       [ 1.26515249, -1.62827241],\n",
              "       [ 1.89472139, -1.16419595],\n",
              "       [ 2.09497349, -1.10184213],\n",
              "       [ 1.95422658, -1.14781612],\n",
              "       [ 1.90883414, -1.14109238],\n",
              "       [ 1.38747555, -2.55709329],\n",
              "       [-1.78508374,  0.93730223],\n",
              "       [-1.61239519,  0.68870939],\n",
              "       [-1.72068915,  0.80774568],\n",
              "       [-2.48791824, -0.30864105],\n",
              "       [-1.8109961 ,  0.85377463],\n",
              "       [-2.55407381, -0.34239815],\n",
              "       [-1.96003658,  0.72624966],\n",
              "       [-1.53132552,  0.33790409],\n",
              "       [-1.68835128,  0.70806928],\n",
              "       [-1.68275918,  0.65462563],\n",
              "       [-1.72115025,  0.33622006],\n",
              "       [-1.89115326,  0.67135361],\n",
              "       [-1.40000925,  1.1013241 ],\n",
              "       [-1.43569567,  1.29364811],\n",
              "       [-1.26143793,  0.77995887],\n",
              "       [-1.83301609,  0.41564567],\n",
              "       [-1.93492686,  0.50614069],\n",
              "       [-1.26143793,  0.77995887],\n",
              "       [-1.72794962,  0.87879778],\n",
              "       [-1.7244848 ,  0.59347181],\n",
              "       [-1.43597176,  1.03127186],\n",
              "       [-1.49475568,  0.9154107 ],\n",
              "       [-1.36474412,  1.12433436],\n",
              "       [-1.38808848,  1.25109639],\n",
              "       [-1.40866022,  1.04778053],\n",
              "       [-2.21483101,  0.19981725],\n",
              "       [-1.72115025,  0.33622006],\n",
              "       [-1.88259866,  0.82289078],\n",
              "       [-1.46176163,  1.85216829],\n",
              "       [-1.74262567,  1.41437548],\n",
              "       [-1.82386905,  1.371206  ],\n",
              "       [-1.29320992,  1.68102466],\n",
              "       [-1.52679042,  1.80743526],\n",
              "       [-1.70600919,  1.3713592 ],\n",
              "       [-1.78120934,  1.63085458],\n",
              "       [-1.9159626 ,  1.15829528],\n",
              "       [-1.7548986 ,  1.40151739],\n",
              "       [-1.77381037,  1.42068345],\n",
              "       [-1.34013776,  1.63353376],\n",
              "       [-1.82897798,  1.47892298],\n",
              "       [-1.26554737,  1.82620911],\n",
              "       [-1.77362596,  1.42843184],\n",
              "       [-1.75798096,  1.82974681],\n",
              "       [-1.57668271,  1.7766323 ],\n",
              "       [-1.33563644,  1.77469016],\n",
              "       [-1.86527936,  1.40887776],\n",
              "       [-1.48422146,  2.03951573],\n",
              "       [-1.82705147,  1.29470259],\n",
              "       [-1.90681569,  1.19477404],\n",
              "       [-2.0054374 ,  1.23349466],\n",
              "       [-1.68916325,  1.55785357],\n",
              "       [-1.68852808,  1.47264801],\n",
              "       [-1.56720682,  1.67211105],\n",
              "       [-1.64586028,  1.63966074],\n",
              "       [-1.61927471,  1.67349819],\n",
              "       [-1.51862602,  1.81312071],\n",
              "       [-1.43148972,  1.85889659],\n",
              "       [-1.76529924,  1.21444989],\n",
              "       [-1.78006573,  1.63618901],\n",
              "       [-1.85706588,  1.57989048],\n",
              "       [-1.95961646,  1.20763733],\n",
              "       [-1.83698414,  1.59397854],\n",
              "       [-1.38360389,  1.79674188],\n",
              "       [-1.73684415,  1.70048504],\n",
              "       [-1.70868691,  1.60200876],\n",
              "       [-1.66249781,  1.70440016],\n",
              "       [-1.75385116,  1.68001556],\n",
              "       [-1.69747723,  1.67308929],\n",
              "       [-1.87219755,  1.54773658],\n",
              "       [-1.77392544,  1.4751555 ],\n",
              "       [-1.79271438,  1.54239432],\n",
              "       [-2.07773887,  0.88484307],\n",
              "       [-1.39273705,  2.1112176 ],\n",
              "       [-1.74064578,  1.70085006],\n",
              "       [-1.83538915,  1.66057692],\n",
              "       [-1.87040601,  1.68053771],\n",
              "       [-1.61152137,  1.43133918],\n",
              "       [-1.8272382 ,  1.4389233 ],\n",
              "       [-1.55144024,  1.68469669],\n",
              "       [-1.70514357,  1.66644801],\n",
              "       [-1.91259534,  1.5246024 ],\n",
              "       [-1.64339653,  1.99043031],\n",
              "       [-1.70995766,  1.98203883],\n",
              "       [-1.79381644,  1.66387811],\n",
              "       [-1.63162961,  2.08612828],\n",
              "       [-1.99366242,  1.32442029],\n",
              "       [-1.72960314,  1.62016729],\n",
              "       [-2.05457894,  0.44151231],\n",
              "       [-1.42110446,  0.99723308],\n",
              "       [-1.72735856,  0.80025702],\n",
              "       [-2.46135481,  0.15981745],\n",
              "       [-1.67792916,  0.76267595],\n",
              "       [-1.71553084,  0.77657397],\n",
              "       [-2.58592076, -0.46605703],\n",
              "       [-1.63071628,  0.75504251],\n",
              "       [-1.81455163,  1.10815762],\n",
              "       [-1.85852939,  0.92692011],\n",
              "       [-2.65253119, -0.27926545],\n",
              "       [-1.55093331,  1.18543918],\n",
              "       [-1.76595288,  0.56101533],\n",
              "       [-1.91832982,  0.6624053 ],\n",
              "       [-1.9765523 ,  0.43718332],\n",
              "       [-1.9303685 ,  0.64495435],\n",
              "       [-1.8613956 ,  0.54848391],\n",
              "       [-1.74884966,  0.78247315],\n",
              "       [-1.777316  ,  0.98914116],\n",
              "       [-1.85957783,  0.64232   ],\n",
              "       [-1.82455102,  0.67894126],\n",
              "       [-1.4751276 ,  0.94749439],\n",
              "       [-1.56397293,  0.75251209],\n",
              "       [-1.83728493,  0.69364008],\n",
              "       [-1.54097929,  0.74052146],\n",
              "       [-1.73577427,  0.72057784],\n",
              "       [-1.63183372,  0.7985712 ],\n",
              "       [-1.76030188,  0.64571555],\n",
              "       [-1.9925099 ,  0.50296324],\n",
              "       [-1.65053703,  1.04554491],\n",
              "       [-2.18602505,  0.2625904 ],\n",
              "       [-1.88947244,  0.58718012],\n",
              "       [-1.82455102,  0.67894126],\n",
              "       [-1.05804675, -1.88810812],\n",
              "       [-1.17381538, -1.81086042],\n",
              "       [-1.17676152, -1.77814711],\n",
              "       [-1.08067697, -1.81552894],\n",
              "       [-1.08082925, -1.58443685],\n",
              "       [-1.27156168, -2.07473473],\n",
              "       [-1.43675857, -2.06375283],\n",
              "       [-1.17953128, -2.05414113],\n",
              "       [-1.22977033, -1.85561186],\n",
              "       [-0.76354275, -1.6831108 ],\n",
              "       [-1.06206422, -1.86682304],\n",
              "       [-1.00623159, -1.73356007],\n",
              "       [-1.06754583, -2.01396034],\n",
              "       [-1.0355188 , -1.90127135],\n",
              "       [-1.12707766, -2.0262336 ],\n",
              "       [-1.14885185, -1.90577733],\n",
              "       [-1.16981983, -1.8386978 ],\n",
              "       [-1.21342305, -1.90877421],\n",
              "       [-1.20143617, -1.89053836],\n",
              "       [-1.12536416, -1.69331845],\n",
              "       [-1.00266003, -1.93907092],\n",
              "       [-1.06710957, -1.87535584],\n",
              "       [-1.13594463, -1.87300692],\n",
              "       [-1.12832969, -1.8186219 ],\n",
              "       [-1.39298342, -2.26735069],\n",
              "       [-1.0718804 , -1.88478306],\n",
              "       [-1.18699051, -1.81878221],\n",
              "       [-1.13101006, -1.8069509 ],\n",
              "       [-1.16269076, -1.92678851],\n",
              "       [-0.6172551 , -0.65202898],\n",
              "       [-0.59533164, -0.39831154],\n",
              "       [-0.86507827, -0.92179043],\n",
              "       [-0.89586841, -0.76787847],\n",
              "       [-0.94224564, -0.65802393],\n",
              "       [-0.98478039, -0.97322443],\n",
              "       [-0.64332788, -0.58252055],\n",
              "       [-0.68280123, -0.69448132],\n",
              "       [-0.59736861, -0.62857302],\n",
              "       [-0.78648108, -0.92370535],\n",
              "       [-0.60052047, -0.68490268],\n",
              "       [-0.84528602, -0.79593952],\n",
              "       [-0.67318968, -0.80944388],\n",
              "       [-0.60597823, -0.74478842],\n",
              "       [-0.67617005, -0.57860624],\n",
              "       [-0.77069653, -0.8178703 ],\n",
              "       [-0.27652681, -0.16743892],\n",
              "       [-0.57370386, -0.82523197],\n",
              "       [-0.64554694, -0.49246839],\n",
              "       [-0.6460682 , -0.49394126],\n",
              "       [-0.63121056, -0.89729647],\n",
              "       [-0.75600102, -0.58300308],\n",
              "       [-0.71445442, -0.64603186],\n",
              "       [-0.77623091, -0.84248849],\n",
              "       [-0.96630712, -0.4906733 ],\n",
              "       [-0.64512233, -0.58796177],\n",
              "       [-0.36541955, -0.33616234],\n",
              "       [-0.53550974, -0.53084272],\n",
              "       [-0.33963616, -0.24323018],\n",
              "       [-0.6464327 , -0.5154336 ],\n",
              "       [-0.86507827, -0.92179043],\n",
              "       [-0.89586841, -0.76787847]])"
            ]
          },
          "metadata": {
            "tags": []
          },
          "execution_count": 33
        }
      ]
    },
    {
      "cell_type": "code",
      "metadata": {
        "colab": {
          "base_uri": "https://localhost:8080/",
          "height": 283
        },
        "id": "wnh_hpMSNp8_",
        "outputId": "0ca37be5-69c0-49aa-83ab-6fd0b550be51"
      },
      "source": [
        "plt.plot(n_pca[:29,0],n_pca[:29,1],'+r')\n",
        "plt.plot(n_pca[29:60,0],n_pca[29:60,1],'+g')\n",
        "plt.plot(n_pca[60:87,0],n_pca[60:87,1],'+y')\n",
        "plt.plot(n_pca[87:119,0],n_pca[87:119,1],'+b')\n",
        "plt.plot(n_pca[119:147,0],n_pca[119:147,1],'+c')\n",
        "plt.plot(n_pca[147:177,0],n_pca[147:177,1],'+m')\n",
        "plt.plot(n_pca[177:206,0],n_pca[177:206,1],'+k')\n",
        "plt.plot(n_pca[206:239,0],n_pca[206:239,1],'or')\n",
        "plt.plot(n_pca[239:268,0],n_pca[239:268,1],'og')\n",
        "plt.plot(n_pca[268:300,0],n_pca[268:300,1],'om')"
      ],
      "execution_count": 34,
      "outputs": [
        {
          "output_type": "execute_result",
          "data": {
            "text/plain": [
              "[<matplotlib.lines.Line2D at 0x7f9f976dc8d0>]"
            ]
          },
          "metadata": {
            "tags": []
          },
          "execution_count": 34
        },
        {
          "output_type": "display_data",
          "data": {
            "image/png": "[encoded data removed]",
            "text/plain": [
              "<Figure size 432x288 with 1 Axes>"
            ]
          },
          "metadata": {
            "tags": [],
            "needs_background": "light"
          }
        }
      ]
    },
    {
      "cell_type": "code",
      "metadata": {
        "id": "Qp5N4IWeOK21",
        "outputId": "d2035a4b-e5e4-45b2-b04d-8e3b813eac9c",
        "colab": {
          "base_uri": "https://localhost:8080/",
          "height": 399
        }
      },
      "source": [
        "exam\n"
      ],
      "execution_count": 39,
      "outputs": [
        {
          "output_type": "execute_result",
          "data": {
            "text/html": [
              "<div>\n",
              "<style scoped>\n",
              "    .dataframe tbody tr th:only-of-type {\n",
              "        vertical-align: middle;\n",
              "    }\n",
              "\n",
              "    .dataframe tbody tr th {\n",
              "        vertical-align: top;\n",
              "    }\n",
              "\n",
              "    .dataframe thead th {\n",
              "        text-align: right;\n",
              "    }\n",
              "</style>\n",
              "<table border=\"1\" class=\"dataframe\">\n",
              "  <thead>\n",
              "    <tr style=\"text-align: right;\">\n",
              "      <th></th>\n",
              "      <th>brand</th>\n",
              "      <th>id</th>\n",
              "      <th>mois</th>\n",
              "      <th>prot</th>\n",
              "      <th>fat</th>\n",
              "      <th>ash</th>\n",
              "      <th>sodium</th>\n",
              "      <th>carb</th>\n",
              "      <th>cal</th>\n",
              "    </tr>\n",
              "  </thead>\n",
              "  <tbody>\n",
              "    <tr>\n",
              "      <th>0</th>\n",
              "      <td>A</td>\n",
              "      <td>14069</td>\n",
              "      <td>27.82</td>\n",
              "      <td>21.43</td>\n",
              "      <td>44.87</td>\n",
              "      <td>5.11</td>\n",
              "      <td>1.77</td>\n",
              "      <td>0.77</td>\n",
              "      <td>4.93</td>\n",
              "    </tr>\n",
              "    <tr>\n",
              "      <th>1</th>\n",
              "      <td>A</td>\n",
              "      <td>14053</td>\n",
              "      <td>28.49</td>\n",
              "      <td>21.26</td>\n",
              "      <td>43.89</td>\n",
              "      <td>5.34</td>\n",
              "      <td>1.79</td>\n",
              "      <td>1.02</td>\n",
              "      <td>4.84</td>\n",
              "    </tr>\n",
              "    <tr>\n",
              "      <th>2</th>\n",
              "      <td>A</td>\n",
              "      <td>14025</td>\n",
              "      <td>28.35</td>\n",
              "      <td>19.99</td>\n",
              "      <td>45.78</td>\n",
              "      <td>5.08</td>\n",
              "      <td>1.63</td>\n",
              "      <td>0.80</td>\n",
              "      <td>4.95</td>\n",
              "    </tr>\n",
              "    <tr>\n",
              "      <th>3</th>\n",
              "      <td>A</td>\n",
              "      <td>14016</td>\n",
              "      <td>30.55</td>\n",
              "      <td>20.15</td>\n",
              "      <td>43.13</td>\n",
              "      <td>4.79</td>\n",
              "      <td>1.61</td>\n",
              "      <td>1.38</td>\n",
              "      <td>4.74</td>\n",
              "    </tr>\n",
              "    <tr>\n",
              "      <th>4</th>\n",
              "      <td>A</td>\n",
              "      <td>14005</td>\n",
              "      <td>30.49</td>\n",
              "      <td>21.28</td>\n",
              "      <td>41.65</td>\n",
              "      <td>4.82</td>\n",
              "      <td>1.64</td>\n",
              "      <td>1.76</td>\n",
              "      <td>4.67</td>\n",
              "    </tr>\n",
              "    <tr>\n",
              "      <th>...</th>\n",
              "      <td>...</td>\n",
              "      <td>...</td>\n",
              "      <td>...</td>\n",
              "      <td>...</td>\n",
              "      <td>...</td>\n",
              "      <td>...</td>\n",
              "      <td>...</td>\n",
              "      <td>...</td>\n",
              "      <td>...</td>\n",
              "    </tr>\n",
              "    <tr>\n",
              "      <th>295</th>\n",
              "      <td>J</td>\n",
              "      <td>34044</td>\n",
              "      <td>44.91</td>\n",
              "      <td>11.07</td>\n",
              "      <td>17.00</td>\n",
              "      <td>2.49</td>\n",
              "      <td>0.66</td>\n",
              "      <td>25.36</td>\n",
              "      <td>2.91</td>\n",
              "    </tr>\n",
              "    <tr>\n",
              "      <th>296</th>\n",
              "      <td>J</td>\n",
              "      <td>24069</td>\n",
              "      <td>43.15</td>\n",
              "      <td>11.79</td>\n",
              "      <td>18.46</td>\n",
              "      <td>2.43</td>\n",
              "      <td>0.67</td>\n",
              "      <td>24.17</td>\n",
              "      <td>3.10</td>\n",
              "    </tr>\n",
              "    <tr>\n",
              "      <th>297</th>\n",
              "      <td>J</td>\n",
              "      <td>34039</td>\n",
              "      <td>44.55</td>\n",
              "      <td>11.01</td>\n",
              "      <td>16.03</td>\n",
              "      <td>2.43</td>\n",
              "      <td>0.64</td>\n",
              "      <td>25.98</td>\n",
              "      <td>2.92</td>\n",
              "    </tr>\n",
              "    <tr>\n",
              "      <th>298</th>\n",
              "      <td>J</td>\n",
              "      <td>14044</td>\n",
              "      <td>47.60</td>\n",
              "      <td>10.43</td>\n",
              "      <td>15.18</td>\n",
              "      <td>2.32</td>\n",
              "      <td>0.56</td>\n",
              "      <td>24.47</td>\n",
              "      <td>2.76</td>\n",
              "    </tr>\n",
              "    <tr>\n",
              "      <th>299</th>\n",
              "      <td>J</td>\n",
              "      <td>14045</td>\n",
              "      <td>46.84</td>\n",
              "      <td>9.91</td>\n",
              "      <td>15.50</td>\n",
              "      <td>2.27</td>\n",
              "      <td>0.57</td>\n",
              "      <td>25.48</td>\n",
              "      <td>2.81</td>\n",
              "    </tr>\n",
              "  </tbody>\n",
              "</table>\n",
              "<p>300 rows × 9 columns</p>\n",
              "</div>"
            ],
            "text/plain": [
              "    brand     id   mois   prot    fat   ash  sodium   carb   cal\n",
              "0       A  14069  27.82  21.43  44.87  5.11    1.77   0.77  4.93\n",
              "1       A  14053  28.49  21.26  43.89  5.34    1.79   1.02  4.84\n",
              "2       A  14025  28.35  19.99  45.78  5.08    1.63   0.80  4.95\n",
              "3       A  14016  30.55  20.15  43.13  4.79    1.61   1.38  4.74\n",
              "4       A  14005  30.49  21.28  41.65  4.82    1.64   1.76  4.67\n",
              "..    ...    ...    ...    ...    ...   ...     ...    ...   ...\n",
              "295     J  34044  44.91  11.07  17.00  2.49    0.66  25.36  2.91\n",
              "296     J  24069  43.15  11.79  18.46  2.43    0.67  24.17  3.10\n",
              "297     J  34039  44.55  11.01  16.03  2.43    0.64  25.98  2.92\n",
              "298     J  14044  47.60  10.43  15.18  2.32    0.56  24.47  2.76\n",
              "299     J  14045  46.84   9.91  15.50  2.27    0.57  25.48  2.81\n",
              "\n",
              "[300 rows x 9 columns]"
            ]
          },
          "metadata": {
            "tags": []
          },
          "execution_count": 39
        }
      ]
    },
    {
      "cell_type": "code",
      "metadata": {
        "id": "AhC9EAAPOsuQ",
        "outputId": "1fa4c06a-c0c5-486d-fb95-a9f819cdaae0",
        "colab": {
          "base_uri": "https://localhost:8080/"
        }
      },
      "source": [
        "exam.shape"
      ],
      "execution_count": 40,
      "outputs": [
        {
          "output_type": "execute_result",
          "data": {
            "text/plain": [
              "(300, 9)"
            ]
          },
          "metadata": {
            "tags": []
          },
          "execution_count": 40
        }
      ]
    },
    {
      "cell_type": "code",
      "metadata": {
        "id": "uWpQFCo_Ovtf",
        "outputId": "ef89d7c2-d341-4c1e-f0be-87a255e29cd4",
        "colab": {
          "base_uri": "https://localhost:8080/",
          "height": 294
        }
      },
      "source": [
        "pd.plotting.scatter_matrix(exam);"
      ],
      "execution_count": 42,
      "outputs": [
        {
          "output_type": "display_data",
          "data": {
            "image/png": "[encoded data removed]",
            "text/plain": [
              "<Figure size 432x288 with 64 Axes>"
            ]
          },
          "metadata": {
            "tags": [],
            "needs_background": "light"
          }
        }
      ]
    },
    {
      "cell_type": "code",
      "metadata": {
        "id": "P98zsad0PFmn",
        "outputId": "c983beea-c9b3-4ff7-868b-1c820041aabc",
        "colab": {
          "base_uri": "https://localhost:8080/",
          "height": 399
        }
      },
      "source": [
        "newexam =  exam.iloc[:,2:]\n",
        "newexam"
      ],
      "execution_count": 44,
      "outputs": [
        {
          "output_type": "execute_result",
          "data": {
            "text/html": [
              "<div>\n",
              "<style scoped>\n",
              "    .dataframe tbody tr th:only-of-type {\n",
              "        vertical-align: middle;\n",
              "    }\n",
              "\n",
              "    .dataframe tbody tr th {\n",
              "        vertical-align: top;\n",
              "    }\n",
              "\n",
              "    .dataframe thead th {\n",
              "        text-align: right;\n",
              "    }\n",
              "</style>\n",
              "<table border=\"1\" class=\"dataframe\">\n",
              "  <thead>\n",
              "    <tr style=\"text-align: right;\">\n",
              "      <th></th>\n",
              "      <th>mois</th>\n",
              "      <th>prot</th>\n",
              "      <th>fat</th>\n",
              "      <th>ash</th>\n",
              "      <th>sodium</th>\n",
              "      <th>carb</th>\n",
              "      <th>cal</th>\n",
              "    </tr>\n",
              "  </thead>\n",
              "  <tbody>\n",
              "    <tr>\n",
              "      <th>0</th>\n",
              "      <td>27.82</td>\n",
              "      <td>21.43</td>\n",
              "      <td>44.87</td>\n",
              "      <td>5.11</td>\n",
              "      <td>1.77</td>\n",
              "      <td>0.77</td>\n",
              "      <td>4.93</td>\n",
              "    </tr>\n",
              "    <tr>\n",
              "      <th>1</th>\n",
              "      <td>28.49</td>\n",
              "      <td>21.26</td>\n",
              "      <td>43.89</td>\n",
              "      <td>5.34</td>\n",
              "      <td>1.79</td>\n",
              "      <td>1.02</td>\n",
              "      <td>4.84</td>\n",
              "    </tr>\n",
              "    <tr>\n",
              "      <th>2</th>\n",
              "      <td>28.35</td>\n",
              "      <td>19.99</td>\n",
              "      <td>45.78</td>\n",
              "      <td>5.08</td>\n",
              "      <td>1.63</td>\n",
              "      <td>0.80</td>\n",
              "      <td>4.95</td>\n",
              "    </tr>\n",
              "    <tr>\n",
              "      <th>3</th>\n",
              "      <td>30.55</td>\n",
              "      <td>20.15</td>\n",
              "      <td>43.13</td>\n",
              "      <td>4.79</td>\n",
              "      <td>1.61</td>\n",
              "      <td>1.38</td>\n",
              "      <td>4.74</td>\n",
              "    </tr>\n",
              "    <tr>\n",
              "      <th>4</th>\n",
              "      <td>30.49</td>\n",
              "      <td>21.28</td>\n",
              "      <td>41.65</td>\n",
              "      <td>4.82</td>\n",
              "      <td>1.64</td>\n",
              "      <td>1.76</td>\n",
              "      <td>4.67</td>\n",
              "    </tr>\n",
              "    <tr>\n",
              "      <th>...</th>\n",
              "      <td>...</td>\n",
              "      <td>...</td>\n",
              "      <td>...</td>\n",
              "      <td>...</td>\n",
              "      <td>...</td>\n",
              "      <td>...</td>\n",
              "      <td>...</td>\n",
              "    </tr>\n",
              "    <tr>\n",
              "      <th>295</th>\n",
              "      <td>44.91</td>\n",
              "      <td>11.07</td>\n",
              "      <td>17.00</td>\n",
              "      <td>2.49</td>\n",
              "      <td>0.66</td>\n",
              "      <td>25.36</td>\n",
              "      <td>2.91</td>\n",
              "    </tr>\n",
              "    <tr>\n",
              "      <th>296</th>\n",
              "      <td>43.15</td>\n",
              "      <td>11.79</td>\n",
              "      <td>18.46</td>\n",
              "      <td>2.43</td>\n",
              "      <td>0.67</td>\n",
              "      <td>24.17</td>\n",
              "      <td>3.10</td>\n",
              "    </tr>\n",
              "    <tr>\n",
              "      <th>297</th>\n",
              "      <td>44.55</td>\n",
              "      <td>11.01</td>\n",
              "      <td>16.03</td>\n",
              "      <td>2.43</td>\n",
              "      <td>0.64</td>\n",
              "      <td>25.98</td>\n",
              "      <td>2.92</td>\n",
              "    </tr>\n",
              "    <tr>\n",
              "      <th>298</th>\n",
              "      <td>47.60</td>\n",
              "      <td>10.43</td>\n",
              "      <td>15.18</td>\n",
              "      <td>2.32</td>\n",
              "      <td>0.56</td>\n",
              "      <td>24.47</td>\n",
              "      <td>2.76</td>\n",
              "    </tr>\n",
              "    <tr>\n",
              "      <th>299</th>\n",
              "      <td>46.84</td>\n",
              "      <td>9.91</td>\n",
              "      <td>15.50</td>\n",
              "      <td>2.27</td>\n",
              "      <td>0.57</td>\n",
              "      <td>25.48</td>\n",
              "      <td>2.81</td>\n",
              "    </tr>\n",
              "  </tbody>\n",
              "</table>\n",
              "<p>300 rows × 7 columns</p>\n",
              "</div>"
            ],
            "text/plain": [
              "      mois   prot    fat   ash  sodium   carb   cal\n",
              "0    27.82  21.43  44.87  5.11    1.77   0.77  4.93\n",
              "1    28.49  21.26  43.89  5.34    1.79   1.02  4.84\n",
              "2    28.35  19.99  45.78  5.08    1.63   0.80  4.95\n",
              "3    30.55  20.15  43.13  4.79    1.61   1.38  4.74\n",
              "4    30.49  21.28  41.65  4.82    1.64   1.76  4.67\n",
              "..     ...    ...    ...   ...     ...    ...   ...\n",
              "295  44.91  11.07  17.00  2.49    0.66  25.36  2.91\n",
              "296  43.15  11.79  18.46  2.43    0.67  24.17  3.10\n",
              "297  44.55  11.01  16.03  2.43    0.64  25.98  2.92\n",
              "298  47.60  10.43  15.18  2.32    0.56  24.47  2.76\n",
              "299  46.84   9.91  15.50  2.27    0.57  25.48  2.81\n",
              "\n",
              "[300 rows x 7 columns]"
            ]
          },
          "metadata": {
            "tags": []
          },
          "execution_count": 44
        }
      ]
    },
    {
      "cell_type": "code",
      "metadata": {
        "id": "rhNT42nWPVTI",
        "outputId": "ce0ce267-dd9f-42e8-df19-c7ef4b8cc34f",
        "colab": {
          "base_uri": "https://localhost:8080/"
        }
      },
      "source": [
        "corr = np.corrcoef(newexam.to_numpy().T)\n",
        "corr.shape"
      ],
      "execution_count": 45,
      "outputs": [
        {
          "output_type": "execute_result",
          "data": {
            "text/plain": [
              "(7, 7)"
            ]
          },
          "metadata": {
            "tags": []
          },
          "execution_count": 45
        }
      ]
    },
    {
      "cell_type": "code",
      "metadata": {
        "id": "WUPLh3YCPcgn",
        "outputId": "2824d2ef-30f2-468f-b0e3-83ed2d76c80b",
        "colab": {
          "base_uri": "https://localhost:8080/"
        }
      },
      "source": [
        "corr"
      ],
      "execution_count": 46,
      "outputs": [
        {
          "output_type": "execute_result",
          "data": {
            "text/plain": [
              "array([[ 1.        ,  0.36024768, -0.17131821,  0.26555552, -0.1022789 ,\n",
              "        -0.59180165, -0.76444054],\n",
              "       [ 0.36024768,  1.        ,  0.49800167,  0.8238437 ,  0.42912952,\n",
              "        -0.85354226,  0.0702581 ],\n",
              "       [-0.17131821,  0.49800167,  1.        ,  0.79163396,  0.93332522,\n",
              "        -0.64023817,  0.7645671 ],\n",
              "       [ 0.26555552,  0.8238437 ,  0.79163396,  1.        ,  0.80812215,\n",
              "        -0.89898837,  0.32646845],\n",
              "       [-0.1022789 ,  0.42912952,  0.93332522,  0.80812215,  1.        ,\n",
              "        -0.62017634,  0.6719575 ],\n",
              "       [-0.59180165, -0.85354226, -0.64023817, -0.89898837, -0.62017634,\n",
              "         1.        , -0.02348458],\n",
              "       [-0.76444054,  0.0702581 ,  0.7645671 ,  0.32646845,  0.6719575 ,\n",
              "        -0.02348458,  1.        ]])"
            ]
          },
          "metadata": {
            "tags": []
          },
          "execution_count": 46
        }
      ]
    },
    {
      "cell_type": "code",
      "metadata": {
        "id": "FKjBjfG1PggR"
      },
      "source": [
        "for i in range(corr.shape[0]):\n",
        "    for j in range(corr.shape[1]):\n",
        "        if (i !=j) and (corr[i,j] == 1.):\n",
        "            print(f'column = {i} <=> column = {j} corrcoef = {corr[i,j]}')"
      ],
      "execution_count": 48,
      "outputs": []
    },
    {
      "cell_type": "code",
      "metadata": {
        "id": "yfuL-eihQq_C",
        "outputId": "0a5e55b1-6b91-4fca-cb84-22de42443e78",
        "colab": {
          "base_uri": "https://localhost:8080/",
          "height": 399
        }
      },
      "source": [
        "exam_graph = exam.drop(['id'],axis=1)\n",
        "exam_graph"
      ],
      "execution_count": 50,
      "outputs": [
        {
          "output_type": "execute_result",
          "data": {
            "text/html": [
              "<div>\n",
              "<style scoped>\n",
              "    .dataframe tbody tr th:only-of-type {\n",
              "        vertical-align: middle;\n",
              "    }\n",
              "\n",
              "    .dataframe tbody tr th {\n",
              "        vertical-align: top;\n",
              "    }\n",
              "\n",
              "    .dataframe thead th {\n",
              "        text-align: right;\n",
              "    }\n",
              "</style>\n",
              "<table border=\"1\" class=\"dataframe\">\n",
              "  <thead>\n",
              "    <tr style=\"text-align: right;\">\n",
              "      <th></th>\n",
              "      <th>brand</th>\n",
              "      <th>mois</th>\n",
              "      <th>prot</th>\n",
              "      <th>fat</th>\n",
              "      <th>ash</th>\n",
              "      <th>sodium</th>\n",
              "      <th>carb</th>\n",
              "      <th>cal</th>\n",
              "    </tr>\n",
              "  </thead>\n",
              "  <tbody>\n",
              "    <tr>\n",
              "      <th>0</th>\n",
              "      <td>A</td>\n",
              "      <td>27.82</td>\n",
              "      <td>21.43</td>\n",
              "      <td>44.87</td>\n",
              "      <td>5.11</td>\n",
              "      <td>1.77</td>\n",
              "      <td>0.77</td>\n",
              "      <td>4.93</td>\n",
              "    </tr>\n",
              "    <tr>\n",
              "      <th>1</th>\n",
              "      <td>A</td>\n",
              "      <td>28.49</td>\n",
              "      <td>21.26</td>\n",
              "      <td>43.89</td>\n",
              "      <td>5.34</td>\n",
              "      <td>1.79</td>\n",
              "      <td>1.02</td>\n",
              "      <td>4.84</td>\n",
              "    </tr>\n",
              "    <tr>\n",
              "      <th>2</th>\n",
              "      <td>A</td>\n",
              "      <td>28.35</td>\n",
              "      <td>19.99</td>\n",
              "      <td>45.78</td>\n",
              "      <td>5.08</td>\n",
              "      <td>1.63</td>\n",
              "      <td>0.80</td>\n",
              "      <td>4.95</td>\n",
              "    </tr>\n",
              "    <tr>\n",
              "      <th>3</th>\n",
              "      <td>A</td>\n",
              "      <td>30.55</td>\n",
              "      <td>20.15</td>\n",
              "      <td>43.13</td>\n",
              "      <td>4.79</td>\n",
              "      <td>1.61</td>\n",
              "      <td>1.38</td>\n",
              "      <td>4.74</td>\n",
              "    </tr>\n",
              "    <tr>\n",
              "      <th>4</th>\n",
              "      <td>A</td>\n",
              "      <td>30.49</td>\n",
              "      <td>21.28</td>\n",
              "      <td>41.65</td>\n",
              "      <td>4.82</td>\n",
              "      <td>1.64</td>\n",
              "      <td>1.76</td>\n",
              "      <td>4.67</td>\n",
              "    </tr>\n",
              "    <tr>\n",
              "      <th>...</th>\n",
              "      <td>...</td>\n",
              "      <td>...</td>\n",
              "      <td>...</td>\n",
              "      <td>...</td>\n",
              "      <td>...</td>\n",
              "      <td>...</td>\n",
              "      <td>...</td>\n",
              "      <td>...</td>\n",
              "    </tr>\n",
              "    <tr>\n",
              "      <th>295</th>\n",
              "      <td>J</td>\n",
              "      <td>44.91</td>\n",
              "      <td>11.07</td>\n",
              "      <td>17.00</td>\n",
              "      <td>2.49</td>\n",
              "      <td>0.66</td>\n",
              "      <td>25.36</td>\n",
              "      <td>2.91</td>\n",
              "    </tr>\n",
              "    <tr>\n",
              "      <th>296</th>\n",
              "      <td>J</td>\n",
              "      <td>43.15</td>\n",
              "      <td>11.79</td>\n",
              "      <td>18.46</td>\n",
              "      <td>2.43</td>\n",
              "      <td>0.67</td>\n",
              "      <td>24.17</td>\n",
              "      <td>3.10</td>\n",
              "    </tr>\n",
              "    <tr>\n",
              "      <th>297</th>\n",
              "      <td>J</td>\n",
              "      <td>44.55</td>\n",
              "      <td>11.01</td>\n",
              "      <td>16.03</td>\n",
              "      <td>2.43</td>\n",
              "      <td>0.64</td>\n",
              "      <td>25.98</td>\n",
              "      <td>2.92</td>\n",
              "    </tr>\n",
              "    <tr>\n",
              "      <th>298</th>\n",
              "      <td>J</td>\n",
              "      <td>47.60</td>\n",
              "      <td>10.43</td>\n",
              "      <td>15.18</td>\n",
              "      <td>2.32</td>\n",
              "      <td>0.56</td>\n",
              "      <td>24.47</td>\n",
              "      <td>2.76</td>\n",
              "    </tr>\n",
              "    <tr>\n",
              "      <th>299</th>\n",
              "      <td>J</td>\n",
              "      <td>46.84</td>\n",
              "      <td>9.91</td>\n",
              "      <td>15.50</td>\n",
              "      <td>2.27</td>\n",
              "      <td>0.57</td>\n",
              "      <td>25.48</td>\n",
              "      <td>2.81</td>\n",
              "    </tr>\n",
              "  </tbody>\n",
              "</table>\n",
              "<p>300 rows × 8 columns</p>\n",
              "</div>"
            ],
            "text/plain": [
              "    brand   mois   prot    fat   ash  sodium   carb   cal\n",
              "0       A  27.82  21.43  44.87  5.11    1.77   0.77  4.93\n",
              "1       A  28.49  21.26  43.89  5.34    1.79   1.02  4.84\n",
              "2       A  28.35  19.99  45.78  5.08    1.63   0.80  4.95\n",
              "3       A  30.55  20.15  43.13  4.79    1.61   1.38  4.74\n",
              "4       A  30.49  21.28  41.65  4.82    1.64   1.76  4.67\n",
              "..    ...    ...    ...    ...   ...     ...    ...   ...\n",
              "295     J  44.91  11.07  17.00  2.49    0.66  25.36  2.91\n",
              "296     J  43.15  11.79  18.46  2.43    0.67  24.17  3.10\n",
              "297     J  44.55  11.01  16.03  2.43    0.64  25.98  2.92\n",
              "298     J  47.60  10.43  15.18  2.32    0.56  24.47  2.76\n",
              "299     J  46.84   9.91  15.50  2.27    0.57  25.48  2.81\n",
              "\n",
              "[300 rows x 8 columns]"
            ]
          },
          "metadata": {
            "tags": []
          },
          "execution_count": 50
        }
      ]
    },
    {
      "cell_type": "code",
      "metadata": {
        "id": "XQJVfC2eSRsQ",
        "outputId": "872b6089-02c6-4105-c1d2-e8f2a72d44dc",
        "colab": {
          "base_uri": "https://localhost:8080/",
          "height": 399
        }
      },
      "source": [
        "exam_drop = exam.drop(['id','brand'],axis=1)\n",
        "exam_drop"
      ],
      "execution_count": 53,
      "outputs": [
        {
          "output_type": "execute_result",
          "data": {
            "text/html": [
              "<div>\n",
              "<style scoped>\n",
              "    .dataframe tbody tr th:only-of-type {\n",
              "        vertical-align: middle;\n",
              "    }\n",
              "\n",
              "    .dataframe tbody tr th {\n",
              "        vertical-align: top;\n",
              "    }\n",
              "\n",
              "    .dataframe thead th {\n",
              "        text-align: right;\n",
              "    }\n",
              "</style>\n",
              "<table border=\"1\" class=\"dataframe\">\n",
              "  <thead>\n",
              "    <tr style=\"text-align: right;\">\n",
              "      <th></th>\n",
              "      <th>mois</th>\n",
              "      <th>prot</th>\n",
              "      <th>fat</th>\n",
              "      <th>ash</th>\n",
              "      <th>sodium</th>\n",
              "      <th>carb</th>\n",
              "      <th>cal</th>\n",
              "    </tr>\n",
              "  </thead>\n",
              "  <tbody>\n",
              "    <tr>\n",
              "      <th>0</th>\n",
              "      <td>27.82</td>\n",
              "      <td>21.43</td>\n",
              "      <td>44.87</td>\n",
              "      <td>5.11</td>\n",
              "      <td>1.77</td>\n",
              "      <td>0.77</td>\n",
              "      <td>4.93</td>\n",
              "    </tr>\n",
              "    <tr>\n",
              "      <th>1</th>\n",
              "      <td>28.49</td>\n",
              "      <td>21.26</td>\n",
              "      <td>43.89</td>\n",
              "      <td>5.34</td>\n",
              "      <td>1.79</td>\n",
              "      <td>1.02</td>\n",
              "      <td>4.84</td>\n",
              "    </tr>\n",
              "    <tr>\n",
              "      <th>2</th>\n",
              "      <td>28.35</td>\n",
              "      <td>19.99</td>\n",
              "      <td>45.78</td>\n",
              "      <td>5.08</td>\n",
              "      <td>1.63</td>\n",
              "      <td>0.80</td>\n",
              "      <td>4.95</td>\n",
              "    </tr>\n",
              "    <tr>\n",
              "      <th>3</th>\n",
              "      <td>30.55</td>\n",
              "      <td>20.15</td>\n",
              "      <td>43.13</td>\n",
              "      <td>4.79</td>\n",
              "      <td>1.61</td>\n",
              "      <td>1.38</td>\n",
              "      <td>4.74</td>\n",
              "    </tr>\n",
              "    <tr>\n",
              "      <th>4</th>\n",
              "      <td>30.49</td>\n",
              "      <td>21.28</td>\n",
              "      <td>41.65</td>\n",
              "      <td>4.82</td>\n",
              "      <td>1.64</td>\n",
              "      <td>1.76</td>\n",
              "      <td>4.67</td>\n",
              "    </tr>\n",
              "    <tr>\n",
              "      <th>...</th>\n",
              "      <td>...</td>\n",
              "      <td>...</td>\n",
              "      <td>...</td>\n",
              "      <td>...</td>\n",
              "      <td>...</td>\n",
              "      <td>...</td>\n",
              "      <td>...</td>\n",
              "    </tr>\n",
              "    <tr>\n",
              "      <th>295</th>\n",
              "      <td>44.91</td>\n",
              "      <td>11.07</td>\n",
              "      <td>17.00</td>\n",
              "      <td>2.49</td>\n",
              "      <td>0.66</td>\n",
              "      <td>25.36</td>\n",
              "      <td>2.91</td>\n",
              "    </tr>\n",
              "    <tr>\n",
              "      <th>296</th>\n",
              "      <td>43.15</td>\n",
              "      <td>11.79</td>\n",
              "      <td>18.46</td>\n",
              "      <td>2.43</td>\n",
              "      <td>0.67</td>\n",
              "      <td>24.17</td>\n",
              "      <td>3.10</td>\n",
              "    </tr>\n",
              "    <tr>\n",
              "      <th>297</th>\n",
              "      <td>44.55</td>\n",
              "      <td>11.01</td>\n",
              "      <td>16.03</td>\n",
              "      <td>2.43</td>\n",
              "      <td>0.64</td>\n",
              "      <td>25.98</td>\n",
              "      <td>2.92</td>\n",
              "    </tr>\n",
              "    <tr>\n",
              "      <th>298</th>\n",
              "      <td>47.60</td>\n",
              "      <td>10.43</td>\n",
              "      <td>15.18</td>\n",
              "      <td>2.32</td>\n",
              "      <td>0.56</td>\n",
              "      <td>24.47</td>\n",
              "      <td>2.76</td>\n",
              "    </tr>\n",
              "    <tr>\n",
              "      <th>299</th>\n",
              "      <td>46.84</td>\n",
              "      <td>9.91</td>\n",
              "      <td>15.50</td>\n",
              "      <td>2.27</td>\n",
              "      <td>0.57</td>\n",
              "      <td>25.48</td>\n",
              "      <td>2.81</td>\n",
              "    </tr>\n",
              "  </tbody>\n",
              "</table>\n",
              "<p>300 rows × 7 columns</p>\n",
              "</div>"
            ],
            "text/plain": [
              "      mois   prot    fat   ash  sodium   carb   cal\n",
              "0    27.82  21.43  44.87  5.11    1.77   0.77  4.93\n",
              "1    28.49  21.26  43.89  5.34    1.79   1.02  4.84\n",
              "2    28.35  19.99  45.78  5.08    1.63   0.80  4.95\n",
              "3    30.55  20.15  43.13  4.79    1.61   1.38  4.74\n",
              "4    30.49  21.28  41.65  4.82    1.64   1.76  4.67\n",
              "..     ...    ...    ...   ...     ...    ...   ...\n",
              "295  44.91  11.07  17.00  2.49    0.66  25.36  2.91\n",
              "296  43.15  11.79  18.46  2.43    0.67  24.17  3.10\n",
              "297  44.55  11.01  16.03  2.43    0.64  25.98  2.92\n",
              "298  47.60  10.43  15.18  2.32    0.56  24.47  2.76\n",
              "299  46.84   9.91  15.50  2.27    0.57  25.48  2.81\n",
              "\n",
              "[300 rows x 7 columns]"
            ]
          },
          "metadata": {
            "tags": []
          },
          "execution_count": 53
        }
      ]
    },
    {
      "cell_type": "code",
      "metadata": {
        "id": "QU6pbaQdSuyY",
        "outputId": "e33bdb68-65f1-434d-c831-4940077a610b",
        "colab": {
          "base_uri": "https://localhost:8080/",
          "height": 287
        }
      },
      "source": [
        "pd.plotting.parallel_coordinates(exam_graph, 'brand')"
      ],
      "execution_count": 54,
      "outputs": [
        {
          "output_type": "execute_result",
          "data": {
            "text/plain": [
              "<matplotlib.axes._subplots.AxesSubplot at 0x7f9fa4c9cd50>"
            ]
          },
          "metadata": {
            "tags": []
          },
          "execution_count": 54
        },
        {
          "output_type": "display_data",
          "data": {
            "image/png": "[encoded data removed]",
            "text/plain": [
              "<Figure size 432x288 with 1 Axes>"
            ]
          },
          "metadata": {
            "tags": [],
            "needs_background": "light"
          }
        }
      ]
    },
    {
      "cell_type": "code",
      "metadata": {
        "id": "rdJTVKKXTKg_"
      },
      "source": [
        "pca = PCA(n_components=2)"
      ],
      "execution_count": 55,
      "outputs": []
    },
    {
      "cell_type": "code",
      "metadata": {
        "id": "Vag3_HoKTMhJ",
        "outputId": "281a2e0a-a3b8-4b25-f872-bccecbfbe681",
        "colab": {
          "base_uri": "https://localhost:8080/"
        }
      },
      "source": [
        "new_exam_pca = pca.fit_transform(exam_drop.to_numpy())\n",
        "new_exam_pca"
      ],
      "execution_count": 57,
      "outputs": [
        {
          "output_type": "execute_result",
          "data": {
            "text/plain": [
              "array([[-2.49517479e+01,  2.68116678e+01],\n",
              "       [-2.46119758e+01,  2.56595634e+01],\n",
              "       [-2.49384190e+01,  2.69305710e+01],\n",
              "       [-2.43255609e+01,  2.35235671e+01],\n",
              "       [-2.38660483e+01,  2.26528128e+01],\n",
              "       [-2.42716473e+01,  2.25496261e+01],\n",
              "       [-2.38806695e+01,  2.18852969e+01],\n",
              "       [-2.23894923e+01,  2.39358506e+01],\n",
              "       [-2.45074215e+01,  2.66033180e+01],\n",
              "       [-2.50928469e+01,  2.71508163e+01],\n",
              "       [-2.48185674e+01,  2.76159021e+01],\n",
              "       [-2.39395254e+01,  2.75274080e+01],\n",
              "       [-2.44496724e+01,  2.62221990e+01],\n",
              "       [-2.28480039e+01,  2.27702098e+01],\n",
              "       [-2.42812192e+01,  2.25656557e+01],\n",
              "       [-2.38786302e+01,  2.39995991e+01],\n",
              "       [-2.32390338e+01,  1.96576785e+01],\n",
              "       [-2.36081213e+01,  1.88694931e+01],\n",
              "       [-2.34833228e+01,  2.08403006e+01],\n",
              "       [-2.30861647e+01,  2.25687679e+01],\n",
              "       [-2.44317537e+01,  2.88343106e+01],\n",
              "       [-2.39812139e+01,  2.72251577e+01],\n",
              "       [-2.43513670e+01,  2.27327854e+01],\n",
              "       [-2.53764539e+01,  2.24254699e+01],\n",
              "       [-2.39263676e+01,  2.06186152e+01],\n",
              "       [-2.50106762e+01,  2.43045929e+01],\n",
              "       [-2.46570853e+01,  2.60988032e+01],\n",
              "       [-2.35755404e+01,  2.41153607e+01],\n",
              "       [-2.48604556e+01,  2.44476323e+01],\n",
              "       [-2.15427319e+01, -4.58711332e-01],\n",
              "       [-2.16994084e+01, -4.98326537e+00],\n",
              "       [-2.11494557e+01,  1.14763399e+00],\n",
              "       [-2.15065300e+01, -1.37353875e+00],\n",
              "       [-2.06383104e+01, -2.24960085e+00],\n",
              "       [-2.16835903e+01, -7.11650812e-01],\n",
              "       [-2.29070952e+01, -8.23020789e-01],\n",
              "       [-2.20965019e+01, -8.98589812e-01],\n",
              "       [-2.13622949e+01, -6.41579208e+00],\n",
              "       [-2.02991102e+01, -4.91523942e+00],\n",
              "       [-2.27382626e+01, -8.99446902e-01],\n",
              "       [-2.20054774e+01, -2.17274524e-01],\n",
              "       [-2.18165714e+01, -2.72070101e+00],\n",
              "       [-2.10334435e+01, -7.45482124e-01],\n",
              "       [-2.09710361e+01, -8.51120732e+00],\n",
              "       [-2.06744794e+01, -9.30845806e+00],\n",
              "       [-2.19920631e+01, -6.59486373e+00],\n",
              "       [-2.18636272e+01,  4.30319256e-02],\n",
              "       [-2.19275374e+01, -1.47863134e+00],\n",
              "       [-2.02119041e+01, -5.56179139e+00],\n",
              "       [-2.12515310e+01, -9.30383142e-01],\n",
              "       [-2.12776748e+01, -2.80321109e-01],\n",
              "       [-2.08921540e+01, -7.40738319e-02],\n",
              "       [-2.16454505e+01, -2.36582465e+00],\n",
              "       [-2.18133895e+01, -2.53445151e+00],\n",
              "       [-2.17334976e+01, -6.62838699e+00],\n",
              "       [-2.21495715e+01, -3.79890331e+00],\n",
              "       [-2.27887430e+01, -2.93896235e+00],\n",
              "       [-2.29033020e+01, -2.43458458e+00],\n",
              "       [-2.26076889e+01, -2.40000860e+00],\n",
              "       [-2.21228053e+01, -2.60295863e+00],\n",
              "       [-2.52831501e+01, -3.96111505e+00],\n",
              "       [-2.38208485e+01, -6.71325777e+00],\n",
              "       [-2.41028402e+01, -4.72030481e+00],\n",
              "       [-2.30455579e+01, -5.82329294e+00],\n",
              "       [-2.52900220e+01, -3.12179790e+00],\n",
              "       [-2.38503842e+01, -5.96363596e+00],\n",
              "       [-2.34518040e+01, -8.88861037e+00],\n",
              "       [-2.41113523e+01, -5.45904687e+00],\n",
              "       [-2.26933799e+01, -7.89663280e+00],\n",
              "       [-2.35713650e+01, -9.64076108e+00],\n",
              "       [-2.24336973e+01, -1.12349358e+01],\n",
              "       [-2.34636092e+01, -5.65309670e+00],\n",
              "       [-2.51094288e+01, -3.49078996e+00],\n",
              "       [-2.35533885e+01, -3.96387639e+00],\n",
              "       [-2.34118326e+01, -3.84107168e+00],\n",
              "       [-2.34190927e+01, -4.82055154e+00],\n",
              "       [-2.28553284e+01, -6.41093204e+00],\n",
              "       [-2.47785653e+01, -9.92209771e+00],\n",
              "       [-2.37283954e+01, -3.07299882e+00],\n",
              "       [-2.47433307e+01, -4.91008035e+00],\n",
              "       [-2.46436976e+01, -1.00722863e+01],\n",
              "       [-2.25360842e+01, -7.10416016e+00],\n",
              "       [-2.26183107e+01, -9.31429119e+00],\n",
              "       [-2.28856967e+01, -7.20082053e+00],\n",
              "       [-2.48651158e+01, -1.33941873e+00],\n",
              "       [-2.26661030e+01, -9.16349859e+00],\n",
              "       [-2.48783178e+01, -5.29530358e+00],\n",
              "       [-2.31079895e+01, -5.10485593e-01],\n",
              "       [-2.35082835e+01,  6.33380366e-01],\n",
              "       [-2.00800760e+01, -3.76281790e+00],\n",
              "       [-1.87458983e+01, -4.76559649e+00],\n",
              "       [-1.89998951e+01, -3.24065285e+00],\n",
              "       [-2.21799088e+01, -1.57729768e+00],\n",
              "       [-1.91829329e+01, -3.90545327e+00],\n",
              "       [-2.01146223e+01, -4.25885928e+00],\n",
              "       [-2.37170103e+01, -7.02440213e+00],\n",
              "       [-2.00415803e+01, -3.31496586e+00],\n",
              "       [-1.96565023e+01, -3.19866950e+00],\n",
              "       [-1.93274945e+01, -3.49954643e+00],\n",
              "       [-1.87067589e+01, -5.01537402e+00],\n",
              "       [-2.29182544e+01, -3.72643344e+00],\n",
              "       [-2.19532100e+01, -3.60880783e+00],\n",
              "       [-2.27898665e+01, -4.34069645e+00],\n",
              "       [-1.98322476e+01, -3.71203244e+00],\n",
              "       [-1.91128809e+01, -4.29155826e+00],\n",
              "       [-1.99007584e+01, -4.47435699e+00],\n",
              "       [-1.95349528e+01, -4.17086657e+00],\n",
              "       [-2.00556457e+01, -3.74031088e+00],\n",
              "       [-1.97400269e+01, -4.38987751e+00],\n",
              "       [-1.96313486e+01, -5.32949202e+00],\n",
              "       [-2.26815705e+01, -3.76317673e-02],\n",
              "       [-1.90831022e+01, -6.27342413e+00],\n",
              "       [-2.46156239e+01, -4.07512113e+00],\n",
              "       [-1.97634588e+01, -4.47499150e+00],\n",
              "       [-2.33758539e+01,  8.06297287e-02],\n",
              "       [-2.40661046e+01,  4.49967471e-01],\n",
              "       [-2.36976363e+01, -3.58879261e-01],\n",
              "       [-2.26287062e+01, -5.82446164e-01],\n",
              "       [-2.47785653e+01, -9.92209771e+00],\n",
              "       [ 1.99481441e+01,  1.59514814e+00],\n",
              "       [ 1.59434603e+01,  4.94501871e-01],\n",
              "       [ 1.90811110e+01,  9.07102074e-01],\n",
              "       [ 2.65829310e+01, -9.66255845e+00],\n",
              "       [ 2.11561749e+01,  7.57411647e-01],\n",
              "       [ 2.66220343e+01, -9.96914472e+00],\n",
              "       [ 2.20355065e+01, -3.62962774e-01],\n",
              "       [ 1.33087600e+01, -1.77286876e+00],\n",
              "       [ 1.86547353e+01,  3.59721464e-02],\n",
              "       [ 1.78762857e+01, -2.15690211e-01],\n",
              "       [ 1.86491618e+01, -2.84049815e+00],\n",
              "       [ 2.11921274e+01, -4.98805474e-01],\n",
              "       [ 1.64727350e+01,  3.58476234e+00],\n",
              "       [ 1.75301924e+01,  4.81492970e+00],\n",
              "       [ 1.27156016e+01,  1.80270578e+00],\n",
              "       [ 1.88755214e+01, -2.37918283e+00],\n",
              "       [ 2.18249519e+01, -2.33932681e+00],\n",
              "       [ 1.27156016e+01,  1.80270578e+00],\n",
              "       [ 2.14675298e+01,  7.03462040e-01],\n",
              "       [ 1.86588952e+01, -9.22961439e-01],\n",
              "       [ 1.77498614e+01,  3.02387282e+00],\n",
              "       [ 1.70281510e+01,  1.84614166e+00],\n",
              "       [ 1.53354309e+01,  3.62580359e+00],\n",
              "       [ 1.74688373e+01,  4.45087434e+00],\n",
              "       [ 1.67202617e+01,  3.16527164e+00],\n",
              "       [ 2.58547126e+01, -5.80679394e+00],\n",
              "       [ 1.86491618e+01, -2.84049815e+00],\n",
              "       [ 2.24906804e+01,  1.40536877e-01],\n",
              "       [ 2.45789577e+01,  7.92085208e+00],\n",
              "       [ 2.56130209e+01,  4.25207201e+00],\n",
              "       [ 2.66628565e+01,  3.94552725e+00],\n",
              "       [ 1.95600799e+01,  7.75967776e+00],\n",
              "       [ 2.35801170e+01,  7.92437315e+00],\n",
              "       [ 2.56045676e+01,  3.88601257e+00],\n",
              "       [ 2.65675830e+01,  5.93126207e+00],\n",
              "       [ 2.62275622e+01,  2.46382094e+00],\n",
              "       [ 2.64451465e+01,  4.06319169e+00],\n",
              "       [ 2.46954035e+01,  4.67950353e+00],\n",
              "       [ 2.09161164e+01,  7.10522130e+00],\n",
              "       [ 2.66168619e+01,  4.59166933e+00],\n",
              "       [ 2.19514976e+01,  7.92196640e+00],\n",
              "       [ 2.59918395e+01,  4.34373584e+00],\n",
              "       [ 2.65923141e+01,  7.46920818e+00],\n",
              "       [ 2.46477927e+01,  7.41512302e+00],\n",
              "       [ 2.10165990e+01,  8.25609343e+00],\n",
              "       [ 2.68488103e+01,  3.90349027e+00],\n",
              "       [ 2.55565295e+01,  7.41979934e+00],\n",
              "       [ 2.61880449e+01,  3.26711635e+00],\n",
              "       [ 2.72927038e+01,  2.32991066e+00],\n",
              "       [ 2.88164899e+01,  2.25704367e+00],\n",
              "       [ 2.51541622e+01,  5.62642882e+00],\n",
              "       [ 2.56923960e+01,  4.90064390e+00],\n",
              "       [ 2.42786807e+01,  6.78525671e+00],\n",
              "       [ 2.54614530e+01,  6.06731834e+00],\n",
              "       [ 2.48483698e+01,  6.53988541e+00],\n",
              "       [ 2.42143238e+01,  7.76288400e+00],\n",
              "       [ 2.32657128e+01,  8.27045521e+00],\n",
              "       [ 2.58324044e+01,  2.95980401e+00],\n",
              "       [ 2.72904281e+01,  5.89836060e+00],\n",
              "       [ 2.77511555e+01,  5.37945467e+00],\n",
              "       [ 2.64607510e+01,  2.69109388e+00],\n",
              "       [ 2.76618664e+01,  5.55752413e+00],\n",
              "       [ 2.11280598e+01,  8.49779725e+00],\n",
              "       [ 2.59589518e+01,  6.62604426e+00],\n",
              "       [ 2.58807438e+01,  5.92310689e+00],\n",
              "       [ 2.74321134e+01,  6.34829988e+00],\n",
              "       [ 2.63218220e+01,  6.62133634e+00],\n",
              "       [ 2.63220236e+01,  6.41482116e+00],\n",
              "       [ 2.86944621e+01,  5.02933673e+00],\n",
              "       [ 2.80211216e+01,  5.04358533e+00],\n",
              "       [ 2.67429946e+01,  5.41397759e+00],\n",
              "       [ 2.59450912e+01, -5.17697061e-02],\n",
              "       [ 2.43614777e+01,  1.02633640e+01],\n",
              "       [ 2.81478309e+01,  6.38914601e+00],\n",
              "       [ 2.88371800e+01,  5.80554237e+00],\n",
              "       [ 2.81653643e+01,  6.12997705e+00],\n",
              "       [ 2.22926210e+01,  5.30917771e+00],\n",
              "       [ 2.74586449e+01,  4.35169619e+00],\n",
              "       [ 2.45994139e+01,  6.84121901e+00],\n",
              "       [ 2.89241858e+01,  6.13957166e+00],\n",
              "       [ 2.92079202e+01,  4.55456946e+00],\n",
              "       [ 2.74131983e+01,  8.72801100e+00],\n",
              "       [ 2.68308678e+01,  8.81608479e+00],\n",
              "       [ 2.80645076e+01,  6.02691510e+00],\n",
              "       [ 2.89504722e+01,  9.20487570e+00],\n",
              "       [ 2.94926896e+01,  3.04570205e+00],\n",
              "       [ 2.62981837e+01,  5.90229279e+00],\n",
              "       [ 2.20692432e+01, -2.38636037e+00],\n",
              "       [ 1.53391718e+01,  3.13893896e+00],\n",
              "       [ 1.95834178e+01,  3.77327265e-01],\n",
              "       [ 2.82614594e+01, -5.77484131e+00],\n",
              "       [ 1.80916813e+01,  8.13848226e-01],\n",
              "       [ 1.78954439e+01,  8.93355351e-01],\n",
              "       [ 2.47741516e+01, -1.04351853e+01],\n",
              "       [ 1.83603090e+01,  9.93502377e-01],\n",
              "       [ 2.23337401e+01,  2.41971473e+00],\n",
              "       [ 2.17010737e+01,  1.37604718e+00],\n",
              "       [ 2.73855614e+01, -9.41328412e+00],\n",
              "       [ 1.85752746e+01,  3.94837701e+00],\n",
              "       [ 1.77426304e+01, -4.95254191e-01],\n",
              "       [ 2.05094339e+01, -7.49758003e-01],\n",
              "       [ 2.06803514e+01, -2.30329006e+00],\n",
              "       [ 2.13094007e+01, -9.07208485e-01],\n",
              "       [ 1.87792866e+01, -1.18992289e+00],\n",
              "       [ 1.94081562e+01,  5.14077191e-01],\n",
              "       [ 2.08389764e+01,  1.85291352e+00],\n",
              "       [ 2.04907808e+01, -7.23875048e-01],\n",
              "       [ 2.03222198e+01, -5.50393018e-01],\n",
              "       [ 1.51904146e+01,  2.67302346e+00],\n",
              "       [ 1.69137748e+01,  8.42714610e-01],\n",
              "       [ 2.10531662e+01, -6.62343230e-01],\n",
              "       [ 1.78384367e+01,  7.39254013e-01],\n",
              "       [ 1.86828140e+01,  1.25133247e-01],\n",
              "       [ 1.53969040e+01,  1.27247262e+00],\n",
              "       [ 1.98579118e+01, -3.52668838e-01],\n",
              "       [ 2.14717817e+01, -2.12644536e+00],\n",
              "       [ 1.83436509e+01,  2.65028891e+00],\n",
              "       [ 2.47855116e+01, -4.52574155e+00],\n",
              "       [ 2.08097383e+01, -1.20452197e+00],\n",
              "       [ 2.03222198e+01, -5.50393018e-01],\n",
              "       [-3.53069709e+00, -1.53142158e+01],\n",
              "       [-3.40364270e+00, -1.48251043e+01],\n",
              "       [-2.50025861e+00, -1.46291890e+01],\n",
              "       [-4.66639518e+00, -1.42995090e+01],\n",
              "       [-2.83778203e+00, -1.30671706e+01],\n",
              "       [-2.81553941e+00, -1.66051382e+01],\n",
              "       [-2.00840025e+00, -1.75322885e+01],\n",
              "       [-5.16396262e+00, -1.63234142e+01],\n",
              "       [-1.56097414e+00, -1.56816580e+01],\n",
              "       [-5.91129421e+00, -1.30040679e+01],\n",
              "       [-4.50428016e+00, -1.47704132e+01],\n",
              "       [-3.80768643e+00, -1.35393013e+01],\n",
              "       [-4.31173696e+00, -1.59126907e+01],\n",
              "       [-5.03492900e+00, -1.49581014e+01],\n",
              "       [-3.91843834e+00, -1.62444362e+01],\n",
              "       [-4.82347451e+00, -1.54125061e+01],\n",
              "       [-2.49137306e+00, -1.54043907e+01],\n",
              "       [-2.96397114e+00, -1.56011692e+01],\n",
              "       [-2.39949081e+00, -1.54265453e+01],\n",
              "       [-1.84828516e+00, -1.38293610e+01],\n",
              "       [-4.69132546e+00, -1.49056254e+01],\n",
              "       [-4.61987423e+00, -1.43755824e+01],\n",
              "       [-3.73947183e+00, -1.50231570e+01],\n",
              "       [-3.80822725e+00, -1.44455203e+01],\n",
              "       [-3.30510628e+00, -1.85784367e+01],\n",
              "       [-4.44750611e+00, -1.50722915e+01],\n",
              "       [-3.00954677e+00, -1.47472593e+01],\n",
              "       [-2.54397466e+00, -1.45732226e+01],\n",
              "       [-3.58761278e+00, -1.58224815e+01],\n",
              "       [ 2.28213021e+00, -6.83226258e+00],\n",
              "       [ 3.89121211e+00, -4.80743187e+00],\n",
              "       [ 1.76785995e+00, -8.54653637e+00],\n",
              "       [ 2.91739830e+00, -7.80284611e+00],\n",
              "       [ 3.34922722e+00, -6.94623812e+00],\n",
              "       [ 2.56407945e+00, -9.15847496e+00],\n",
              "       [ 1.50073260e+00, -5.98582131e+00],\n",
              "       [ 9.06496263e-01, -6.72092307e+00],\n",
              "       [ 7.23721702e-01, -6.05875206e+00],\n",
              "       [ 4.60974207e-01, -8.76160938e+00],\n",
              "       [ 1.74955895e+00, -6.02640971e+00],\n",
              "       [ 4.31626850e+00, -8.21891254e+00],\n",
              "       [ 3.85449031e-01, -7.53518574e+00],\n",
              "       [ 1.40282905e+00, -6.96027578e+00],\n",
              "       [ 2.76418857e+00, -5.94148287e+00],\n",
              "       [ 2.37235205e+00, -8.14673363e+00],\n",
              "       [ 9.60516466e-01, -2.55086309e+00],\n",
              "       [ 3.58439103e-01, -7.89739518e+00],\n",
              "       [ 2.22955202e+00, -5.39133062e+00],\n",
              "       [ 3.73276312e+00, -5.80332629e+00],\n",
              "       [ 1.90412672e-02, -8.20343961e+00],\n",
              "       [ 2.69398836e+00, -6.25884824e+00],\n",
              "       [ 2.20912750e+00, -6.65152963e+00],\n",
              "       [ 1.86227922e+00, -8.18591709e+00],\n",
              "       [ 4.67243041e+00, -6.14345418e+00],\n",
              "       [ 7.64742721e-01, -5.93407997e+00],\n",
              "       [ 1.29895388e+00, -3.73518649e+00],\n",
              "       [ 2.60525659e+00, -5.29155608e+00],\n",
              "       [ 1.45145098e+00, -2.95857153e+00],\n",
              "       [ 3.53950061e+00, -5.67059035e+00],\n",
              "       [ 1.76785995e+00, -8.54653637e+00],\n",
              "       [ 2.91739830e+00, -7.80284611e+00]])"
            ]
          },
          "metadata": {
            "tags": []
          },
          "execution_count": 57
        }
      ]
    },
    {
      "cell_type": "code",
      "metadata": {
        "id": "_A5Q0ssFTZaC",
        "outputId": "67dce1ca-e5d5-4741-b641-3a2c37a6afc9",
        "colab": {
          "base_uri": "https://localhost:8080/"
        }
      },
      "source": [
        "new_exam_pca.shape"
      ],
      "execution_count": 60,
      "outputs": [
        {
          "output_type": "execute_result",
          "data": {
            "text/plain": [
              "(300, 2)"
            ]
          },
          "metadata": {
            "tags": []
          },
          "execution_count": 60
        }
      ]
    },
    {
      "cell_type": "code",
      "metadata": {
        "id": "wL24UYZZTekq",
        "outputId": "2a1c053e-53ef-431c-e54b-0bd268eafcc4",
        "colab": {
          "base_uri": "https://localhost:8080/"
        }
      },
      "source": [
        "bd = set(exam['brand'])\n",
        "bd"
      ],
      "execution_count": 69,
      "outputs": [
        {
          "output_type": "execute_result",
          "data": {
            "text/plain": [
              "{'A', 'B', 'C', 'D', 'E', 'F', 'G', 'H', 'I', 'J'}"
            ]
          },
          "metadata": {
            "tags": []
          },
          "execution_count": 69
        }
      ]
    },
    {
      "cell_type": "code",
      "metadata": {
        "id": "ukPHLIktUG_C"
      },
      "source": [
        "bd_list = list(Brand)\n",
        "bd_list.sort() \n",
        "color_list = {}\n",
        "num = 0\n",
        "for each_bd in bd:\n",
        "   if each_bd not in color_list:\n",
        "       color_list[each_bd] = num\n",
        "       num += 1"
      ],
      "execution_count": 72,
      "outputs": []
    },
    {
      "cell_type": "code",
      "metadata": {
        "id": "LTdCZTbOU5Zi",
        "outputId": "d6eb8630-f8c2-4146-8d2b-a1efc95a0adb",
        "colab": {
          "base_uri": "https://localhost:8080/"
        }
      },
      "source": [
        "color_list"
      ],
      "execution_count": 73,
      "outputs": [
        {
          "output_type": "execute_result",
          "data": {
            "text/plain": [
              "{'A': 8,\n",
              " 'B': 3,\n",
              " 'C': 7,\n",
              " 'D': 9,\n",
              " 'E': 0,\n",
              " 'F': 2,\n",
              " 'G': 6,\n",
              " 'H': 5,\n",
              " 'I': 4,\n",
              " 'J': 1}"
            ]
          },
          "metadata": {
            "tags": []
          },
          "execution_count": 73
        }
      ]
    },
    {
      "cell_type": "code",
      "metadata": {
        "id": "tHdCQq4NU-Lg",
        "outputId": "569e74b7-6053-49e5-8fd5-1476db2294f8",
        "colab": {
          "base_uri": "https://localhost:8080/",
          "height": 399
        }
      },
      "source": [
        "second_exam = exam_graph.replace(color_list)\n",
        "second_exam"
      ],
      "execution_count": 75,
      "outputs": [
        {
          "output_type": "execute_result",
          "data": {
            "text/html": [
              "<div>\n",
              "<style scoped>\n",
              "    .dataframe tbody tr th:only-of-type {\n",
              "        vertical-align: middle;\n",
              "    }\n",
              "\n",
              "    .dataframe tbody tr th {\n",
              "        vertical-align: top;\n",
              "    }\n",
              "\n",
              "    .dataframe thead th {\n",
              "        text-align: right;\n",
              "    }\n",
              "</style>\n",
              "<table border=\"1\" class=\"dataframe\">\n",
              "  <thead>\n",
              "    <tr style=\"text-align: right;\">\n",
              "      <th></th>\n",
              "      <th>brand</th>\n",
              "      <th>mois</th>\n",
              "      <th>prot</th>\n",
              "      <th>fat</th>\n",
              "      <th>ash</th>\n",
              "      <th>sodium</th>\n",
              "      <th>carb</th>\n",
              "      <th>cal</th>\n",
              "    </tr>\n",
              "  </thead>\n",
              "  <tbody>\n",
              "    <tr>\n",
              "      <th>0</th>\n",
              "      <td>8</td>\n",
              "      <td>27.82</td>\n",
              "      <td>21.43</td>\n",
              "      <td>44.87</td>\n",
              "      <td>5.11</td>\n",
              "      <td>1.77</td>\n",
              "      <td>0.77</td>\n",
              "      <td>4.93</td>\n",
              "    </tr>\n",
              "    <tr>\n",
              "      <th>1</th>\n",
              "      <td>8</td>\n",
              "      <td>28.49</td>\n",
              "      <td>21.26</td>\n",
              "      <td>43.89</td>\n",
              "      <td>5.34</td>\n",
              "      <td>1.79</td>\n",
              "      <td>1.02</td>\n",
              "      <td>4.84</td>\n",
              "    </tr>\n",
              "    <tr>\n",
              "      <th>2</th>\n",
              "      <td>8</td>\n",
              "      <td>28.35</td>\n",
              "      <td>19.99</td>\n",
              "      <td>45.78</td>\n",
              "      <td>5.08</td>\n",
              "      <td>1.63</td>\n",
              "      <td>0.80</td>\n",
              "      <td>4.95</td>\n",
              "    </tr>\n",
              "    <tr>\n",
              "      <th>3</th>\n",
              "      <td>8</td>\n",
              "      <td>30.55</td>\n",
              "      <td>20.15</td>\n",
              "      <td>43.13</td>\n",
              "      <td>4.79</td>\n",
              "      <td>1.61</td>\n",
              "      <td>1.38</td>\n",
              "      <td>4.74</td>\n",
              "    </tr>\n",
              "    <tr>\n",
              "      <th>4</th>\n",
              "      <td>8</td>\n",
              "      <td>30.49</td>\n",
              "      <td>21.28</td>\n",
              "      <td>41.65</td>\n",
              "      <td>4.82</td>\n",
              "      <td>1.64</td>\n",
              "      <td>1.76</td>\n",
              "      <td>4.67</td>\n",
              "    </tr>\n",
              "    <tr>\n",
              "      <th>...</th>\n",
              "      <td>...</td>\n",
              "      <td>...</td>\n",
              "      <td>...</td>\n",
              "      <td>...</td>\n",
              "      <td>...</td>\n",
              "      <td>...</td>\n",
              "      <td>...</td>\n",
              "      <td>...</td>\n",
              "    </tr>\n",
              "    <tr>\n",
              "      <th>295</th>\n",
              "      <td>1</td>\n",
              "      <td>44.91</td>\n",
              "      <td>11.07</td>\n",
              "      <td>17.00</td>\n",
              "      <td>2.49</td>\n",
              "      <td>0.66</td>\n",
              "      <td>25.36</td>\n",
              "      <td>2.91</td>\n",
              "    </tr>\n",
              "    <tr>\n",
              "      <th>296</th>\n",
              "      <td>1</td>\n",
              "      <td>43.15</td>\n",
              "      <td>11.79</td>\n",
              "      <td>18.46</td>\n",
              "      <td>2.43</td>\n",
              "      <td>0.67</td>\n",
              "      <td>24.17</td>\n",
              "      <td>3.10</td>\n",
              "    </tr>\n",
              "    <tr>\n",
              "      <th>297</th>\n",
              "      <td>1</td>\n",
              "      <td>44.55</td>\n",
              "      <td>11.01</td>\n",
              "      <td>16.03</td>\n",
              "      <td>2.43</td>\n",
              "      <td>0.64</td>\n",
              "      <td>25.98</td>\n",
              "      <td>2.92</td>\n",
              "    </tr>\n",
              "    <tr>\n",
              "      <th>298</th>\n",
              "      <td>1</td>\n",
              "      <td>47.60</td>\n",
              "      <td>10.43</td>\n",
              "      <td>15.18</td>\n",
              "      <td>2.32</td>\n",
              "      <td>0.56</td>\n",
              "      <td>24.47</td>\n",
              "      <td>2.76</td>\n",
              "    </tr>\n",
              "    <tr>\n",
              "      <th>299</th>\n",
              "      <td>1</td>\n",
              "      <td>46.84</td>\n",
              "      <td>9.91</td>\n",
              "      <td>15.50</td>\n",
              "      <td>2.27</td>\n",
              "      <td>0.57</td>\n",
              "      <td>25.48</td>\n",
              "      <td>2.81</td>\n",
              "    </tr>\n",
              "  </tbody>\n",
              "</table>\n",
              "<p>300 rows × 8 columns</p>\n",
              "</div>"
            ],
            "text/plain": [
              "     brand   mois   prot    fat   ash  sodium   carb   cal\n",
              "0        8  27.82  21.43  44.87  5.11    1.77   0.77  4.93\n",
              "1        8  28.49  21.26  43.89  5.34    1.79   1.02  4.84\n",
              "2        8  28.35  19.99  45.78  5.08    1.63   0.80  4.95\n",
              "3        8  30.55  20.15  43.13  4.79    1.61   1.38  4.74\n",
              "4        8  30.49  21.28  41.65  4.82    1.64   1.76  4.67\n",
              "..     ...    ...    ...    ...   ...     ...    ...   ...\n",
              "295      1  44.91  11.07  17.00  2.49    0.66  25.36  2.91\n",
              "296      1  43.15  11.79  18.46  2.43    0.67  24.17  3.10\n",
              "297      1  44.55  11.01  16.03  2.43    0.64  25.98  2.92\n",
              "298      1  47.60  10.43  15.18  2.32    0.56  24.47  2.76\n",
              "299      1  46.84   9.91  15.50  2.27    0.57  25.48  2.81\n",
              "\n",
              "[300 rows x 8 columns]"
            ]
          },
          "metadata": {
            "tags": []
          },
          "execution_count": 75
        }
      ]
    },
    {
      "cell_type": "code",
      "metadata": {
        "id": "ms0m2DsMVZWh",
        "outputId": "5ffa060f-ff59-4a2e-f4c0-e968cd3abdce",
        "colab": {
          "base_uri": "https://localhost:8080/",
          "height": 283
        }
      },
      "source": [
        "plt.scatter(new_exam_pca[:,0],new_exam_pca[:,1],c = second_exam['brand'],alpha=0.5)"
      ],
      "execution_count": 78,
      "outputs": [
        {
          "output_type": "execute_result",
          "data": {
            "text/plain": [
              "<matplotlib.collections.PathCollection at 0x7f9f967a4090>"
            ]
          },
          "metadata": {
            "tags": []
          },
          "execution_count": 78
        },
        {
          "output_type": "display_data",
          "data": {
            "image/png": "[encoded data removed]",
            "text/plain": [
              "<Figure size 432x288 with 1 Axes>"
            ]
          },
          "metadata": {
            "tags": [],
            "needs_background": "light"
          }
        }
      ]
    },
    {
      "cell_type": "code",
      "metadata": {
        "id": "ZkvVkg5cWFGS",
        "outputId": "6c63be59-f076-406d-d906-89b59831575a",
        "colab": {
          "base_uri": "https://localhost:8080/",
          "height": 399
        }
      },
      "source": [
        "exam_test = second_exam[(second_exam['brand']==9) | (second_exam['brand']==5)] \n",
        "exam_test"
      ],
      "execution_count": 83,
      "outputs": [
        {
          "output_type": "execute_result",
          "data": {
            "text/html": [
              "<div>\n",
              "<style scoped>\n",
              "    .dataframe tbody tr th:only-of-type {\n",
              "        vertical-align: middle;\n",
              "    }\n",
              "\n",
              "    .dataframe tbody tr th {\n",
              "        vertical-align: top;\n",
              "    }\n",
              "\n",
              "    .dataframe thead th {\n",
              "        text-align: right;\n",
              "    }\n",
              "</style>\n",
              "<table border=\"1\" class=\"dataframe\">\n",
              "  <thead>\n",
              "    <tr style=\"text-align: right;\">\n",
              "      <th></th>\n",
              "      <th>brand</th>\n",
              "      <th>mois</th>\n",
              "      <th>prot</th>\n",
              "      <th>fat</th>\n",
              "      <th>ash</th>\n",
              "      <th>sodium</th>\n",
              "      <th>carb</th>\n",
              "      <th>cal</th>\n",
              "    </tr>\n",
              "  </thead>\n",
              "  <tbody>\n",
              "    <tr>\n",
              "      <th>87</th>\n",
              "      <td>9</td>\n",
              "      <td>46.64</td>\n",
              "      <td>21.38</td>\n",
              "      <td>24.96</td>\n",
              "      <td>4.60</td>\n",
              "      <td>0.77</td>\n",
              "      <td>2.42</td>\n",
              "      <td>3.20</td>\n",
              "    </tr>\n",
              "    <tr>\n",
              "      <th>88</th>\n",
              "      <td>9</td>\n",
              "      <td>45.93</td>\n",
              "      <td>21.60</td>\n",
              "      <td>25.87</td>\n",
              "      <td>4.51</td>\n",
              "      <td>0.73</td>\n",
              "      <td>2.09</td>\n",
              "      <td>3.28</td>\n",
              "    </tr>\n",
              "    <tr>\n",
              "      <th>89</th>\n",
              "      <td>9</td>\n",
              "      <td>47.60</td>\n",
              "      <td>22.07</td>\n",
              "      <td>21.13</td>\n",
              "      <td>4.07</td>\n",
              "      <td>0.72</td>\n",
              "      <td>5.13</td>\n",
              "      <td>2.99</td>\n",
              "    </tr>\n",
              "    <tr>\n",
              "      <th>90</th>\n",
              "      <td>9</td>\n",
              "      <td>47.61</td>\n",
              "      <td>22.44</td>\n",
              "      <td>19.61</td>\n",
              "      <td>4.06</td>\n",
              "      <td>0.60</td>\n",
              "      <td>6.28</td>\n",
              "      <td>2.91</td>\n",
              "    </tr>\n",
              "    <tr>\n",
              "      <th>91</th>\n",
              "      <td>9</td>\n",
              "      <td>46.91</td>\n",
              "      <td>21.79</td>\n",
              "      <td>21.17</td>\n",
              "      <td>4.06</td>\n",
              "      <td>0.76</td>\n",
              "      <td>6.07</td>\n",
              "      <td>3.02</td>\n",
              "    </tr>\n",
              "    <tr>\n",
              "      <th>...</th>\n",
              "      <td>...</td>\n",
              "      <td>...</td>\n",
              "      <td>...</td>\n",
              "      <td>...</td>\n",
              "      <td>...</td>\n",
              "      <td>...</td>\n",
              "      <td>...</td>\n",
              "      <td>...</td>\n",
              "    </tr>\n",
              "    <tr>\n",
              "      <th>234</th>\n",
              "      <td>5</td>\n",
              "      <td>36.32</td>\n",
              "      <td>8.06</td>\n",
              "      <td>12.54</td>\n",
              "      <td>1.35</td>\n",
              "      <td>0.43</td>\n",
              "      <td>41.73</td>\n",
              "      <td>3.12</td>\n",
              "    </tr>\n",
              "    <tr>\n",
              "      <th>235</th>\n",
              "      <td>5</td>\n",
              "      <td>34.61</td>\n",
              "      <td>7.17</td>\n",
              "      <td>17.88</td>\n",
              "      <td>1.29</td>\n",
              "      <td>0.40</td>\n",
              "      <td>39.05</td>\n",
              "      <td>3.46</td>\n",
              "    </tr>\n",
              "    <tr>\n",
              "      <th>236</th>\n",
              "      <td>5</td>\n",
              "      <td>36.67</td>\n",
              "      <td>7.81</td>\n",
              "      <td>9.34</td>\n",
              "      <td>1.64</td>\n",
              "      <td>0.44</td>\n",
              "      <td>44.54</td>\n",
              "      <td>2.93</td>\n",
              "    </tr>\n",
              "    <tr>\n",
              "      <th>237</th>\n",
              "      <td>5</td>\n",
              "      <td>35.94</td>\n",
              "      <td>7.97</td>\n",
              "      <td>13.50</td>\n",
              "      <td>1.45</td>\n",
              "      <td>0.42</td>\n",
              "      <td>41.14</td>\n",
              "      <td>3.18</td>\n",
              "    </tr>\n",
              "    <tr>\n",
              "      <th>238</th>\n",
              "      <td>5</td>\n",
              "      <td>35.74</td>\n",
              "      <td>7.86</td>\n",
              "      <td>14.27</td>\n",
              "      <td>1.40</td>\n",
              "      <td>0.44</td>\n",
              "      <td>40.73</td>\n",
              "      <td>3.23</td>\n",
              "    </tr>\n",
              "  </tbody>\n",
              "</table>\n",
              "<p>65 rows × 8 columns</p>\n",
              "</div>"
            ],
            "text/plain": [
              "     brand   mois   prot    fat   ash  sodium   carb   cal\n",
              "87       9  46.64  21.38  24.96  4.60    0.77   2.42  3.20\n",
              "88       9  45.93  21.60  25.87  4.51    0.73   2.09  3.28\n",
              "89       9  47.60  22.07  21.13  4.07    0.72   5.13  2.99\n",
              "90       9  47.61  22.44  19.61  4.06    0.60   6.28  2.91\n",
              "91       9  46.91  21.79  21.17  4.06    0.76   6.07  3.02\n",
              "..     ...    ...    ...    ...   ...     ...    ...   ...\n",
              "234      5  36.32   8.06  12.54  1.35    0.43  41.73  3.12\n",
              "235      5  34.61   7.17  17.88  1.29    0.40  39.05  3.46\n",
              "236      5  36.67   7.81   9.34  1.64    0.44  44.54  2.93\n",
              "237      5  35.94   7.97  13.50  1.45    0.42  41.14  3.18\n",
              "238      5  35.74   7.86  14.27  1.40    0.44  40.73  3.23\n",
              "\n",
              "[65 rows x 8 columns]"
            ]
          },
          "metadata": {
            "tags": []
          },
          "execution_count": 83
        }
      ]
    },
    {
      "cell_type": "code",
      "metadata": {
        "id": "KuIaEURAWy3K"
      },
      "source": [
        "pca = PCA(n_components=2) \n",
        "new_pca_2 = pca.fit_transform(exam_test.iloc[:,1:].to_numpy())"
      ],
      "execution_count": 112,
      "outputs": []
    },
    {
      "cell_type": "code",
      "metadata": {
        "id": "Vjw8kg__bYc1",
        "outputId": "6fa09537-bf13-4ec7-83a6-99a4cf9d102d",
        "colab": {
          "base_uri": "https://localhost:8080/",
          "height": 283
        }
      },
      "source": [
        "plt.scatter(new_pca_2[:,0],new_pca_2[:,1],c = exam_test['brand'],alpha=0.5)"
      ],
      "execution_count": 113,
      "outputs": [
        {
          "output_type": "execute_result",
          "data": {
            "text/plain": [
              "<matplotlib.collections.PathCollection at 0x7f9f96e652d0>"
            ]
          },
          "metadata": {
            "tags": []
          },
          "execution_count": 113
        },
        {
          "output_type": "display_data",
          "data": {
            "image/png": "[encoded data removed]",
            "text/plain": [
              "<Figure size 432x288 with 1 Axes>"
            ]
          },
          "metadata": {
            "tags": [],
            "needs_background": "light"
          }
        }
      ]
    },
    {
      "cell_type": "code",
      "metadata": {
        "id": "wxSKsoLvb6pd"
      },
      "source": [
        "D_pca = pca.transform(exam_test[exam_test['brand']==9].iloc[:,1:].to_numpy())\n",
        "H_pca = pca.transform(exam_test[exam_test['brand']==5].iloc[:,1:].to_numpy())"
      ],
      "execution_count": 114,
      "outputs": []
    },
    {
      "cell_type": "code",
      "metadata": {
        "id": "OvHH9TIMcQ1t",
        "outputId": "ceb63d95-2f3f-43a9-e970-44a3211b5024",
        "colab": {
          "base_uri": "https://localhost:8080/",
          "height": 283
        }
      },
      "source": [
        "plt.plot(D_pca[:,0],D_pca[:,1],'+k',label='D')\n",
        "plt.plot(H_pca[:,0],H_pca[:,1],'or',label='H')\n",
        "plt.legend()\n"
      ],
      "execution_count": 115,
      "outputs": [
        {
          "output_type": "execute_result",
          "data": {
            "text/plain": [
              "<matplotlib.legend.Legend at 0x7f9f96e04c50>"
            ]
          },
          "metadata": {
            "tags": []
          },
          "execution_count": 115
        },
        {
          "output_type": "display_data",
          "data": {
            "image/png": "[encoded data removed]",
            "text/plain": [
              "<Figure size 432x288 with 1 Axes>"
            ]
          },
          "metadata": {
            "tags": [],
            "needs_background": "light"
          }
        }
      ]
    },
    {
      "cell_type": "code",
      "metadata": {
        "id": "lhsyrMRwcmWx",
        "outputId": "74bea26a-c227-4d63-9e1f-398128bbddc2",
        "colab": {
          "base_uri": "https://localhost:8080/"
        }
      },
      "source": [
        "pca.explained_variance_ratio_"
      ],
      "execution_count": 116,
      "outputs": [
        {
          "output_type": "execute_result",
          "data": {
            "text/plain": [
              "array([0.97484635, 0.0236345 ])"
            ]
          },
          "metadata": {
            "tags": []
          },
          "execution_count": 116
        }
      ]
    },
    {
      "cell_type": "code",
      "metadata": {
        "id": "Ti-21tdLcyvA",
        "outputId": "369a75c9-c669-42e6-a95c-f56cca59977b",
        "colab": {
          "base_uri": "https://localhost:8080/",
          "height": 313
        }
      },
      "source": [
        "plt.plot(D_pca[:,0],D_pca[:,1],'+k',label='D')\n",
        "plt.plot(H_pca[:,0],H_pca[:,1],'or',label='H')\n",
        "plt.legend()\n",
        "plt.title('Pizza D vs Pizza H '); \n",
        "plt.xlabel('PC1 97.48%'); \n",
        "plt.ylabel('PC2 2.36%')"
      ],
      "execution_count": 126,
      "outputs": [
        {
          "output_type": "execute_result",
          "data": {
            "text/plain": [
              "Text(0, 0.5, 'PC2 2.36%')"
            ]
          },
          "metadata": {
            "tags": []
          },
          "execution_count": 126
        },
        {
          "output_type": "display_data",
          "data": {
            "image/png": "[encoded data removed]",
            "text/plain": [
              "<Figure size 432x288 with 1 Axes>"
            ]
          },
          "metadata": {
            "tags": [],
            "needs_background": "light"
          }
        }
      ]
    }
  ]
}