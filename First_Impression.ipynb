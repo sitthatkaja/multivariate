{
  "nbformat": 4,
  "nbformat_minor": 0,
  "metadata": {
    "colab": {
      "name": "First Impression.ipynb",
      "provenance": [],
      "authorship_tag": "ABX9TyOdvLMIgxRO0CSPI+25cLmv",
      "include_colab_link": true
    },
    "kernelspec": {
      "name": "python3",
      "display_name": "Python 3"
    }
  },
  "cells": [
    {
      "cell_type": "markdown",
      "metadata": {
        "id": "view-in-github",
        "colab_type": "text"
      },
      "source": [
        "<a href=\"https://colab.research.google.com/github/sitthatkaja/multivariate/blob/main/First_Impression.ipynb\" target=\"_parent\"><img src=\"https://colab.research.google.com/assets/colab-badge.svg\" alt=\"Open In Colab\"/></a>"
      ]
    },
    {
      "cell_type": "markdown",
      "metadata": {
        "id": "IRRjLzHbhwGU"
      },
      "source": [
        "นายสิทธัตกะ จรัสแสง รหัสนักศึกษา 623020541-2 เลขที่ 25"
      ]
    },
    {
      "cell_type": "code",
      "metadata": {
        "colab": {
          "base_uri": "https://localhost:8080/"
        },
        "id": "I5JGqEYcjd5J",
        "outputId": "353f4492-9615-4182-eda8-ca436b363ee5"
      },
      "source": [
        "print('สิทธัตกะ') #single quote(') ใช้ล้อมรอบข้อความ"
      ],
      "execution_count": 3,
      "outputs": [
        {
          "output_type": "stream",
          "text": [
            "สิทธัตกะ\n"
          ],
          "name": "stdout"
        }
      ]
    }
  ]
}