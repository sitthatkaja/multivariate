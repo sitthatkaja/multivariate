{
  "nbformat": 4,
  "nbformat_minor": 0,
  "metadata": {
    "colab": {
      "name": "Function_Numpy_Pandas.ipynb",
      "provenance": [],
      "authorship_tag": "ABX9TyMdDDEQRrvJxJiIy0nwCAqX",
      "include_colab_link": true
    },
    "kernelspec": {
      "name": "python3",
      "display_name": "Python 3"
    }
  },
  "cells": [
    {
      "cell_type": "markdown",
      "metadata": {
        "id": "view-in-github",
        "colab_type": "text"
      },
      "source": [
        "<a href=\"https://colab.research.google.com/github/sitthatkaja/multivariate/blob/main/Function_Numpy_Pandas.ipynb\" target=\"_parent\"><img src=\"https://colab.research.google.com/assets/colab-badge.svg\" alt=\"Open In Colab\"/></a>"
      ]
    },
    {
      "cell_type": "markdown",
      "metadata": {
        "id": "VjlkzxKeSHSc"
      },
      "source": [
        "#**Function**\r\n",
        "***"
      ]
    },
    {
      "cell_type": "markdown",
      "metadata": {
        "id": "MlrMJMShWVU1"
      },
      "source": [
        "### **ตัวอย่าง Code**"
      ]
    },
    {
      "cell_type": "code",
      "metadata": {
        "id": "JauPfVrjR7ac"
      },
      "source": [
        "def function name(_input_) :\r\n",
        "\r\n",
        "  do_something with  _Input_ to produce _Output_\r\n",
        "  \r\n",
        "  return _Output_"
      ],
      "execution_count": null,
      "outputs": []
    },
    {
      "cell_type": "markdown",
      "metadata": {
        "id": "dRCQAv-MS7Yr"
      },
      "source": [
        "**Function มีส่วนสำคัญทั้งหมด 4 ส่วน**\r\n",
        "\r\n",
        "1. บอกว่า Python ว่าเราจะเขียนฟังก์ชัน ชื่ออะไร def function_name(): ***(ขาดไม่ได้)***\r\n",
        "\r\n",
        "2. กำหนดตัวแปรที่จะเป็น input Input ***(ขาดได้)***\r\n",
        "\r\n",
        "3. ส่วนประมวลผล do_someting with input to get output ***(ขาดไม่ได้)***\r\n",
        "\r\n",
        "4. ส่วน Output return Output ***(ขาดได้)***"
      ]
    },
    {
      "cell_type": "markdown",
      "metadata": {
        "id": "pJ4b6wQ0WkRZ"
      },
      "source": [
        "***\r\n",
        "***Create Function***"
      ]
    },
    {
      "cell_type": "code",
      "metadata": {
        "colab": {
          "base_uri": "https://localhost:8080/"
        },
        "id": "rxD9DbohTV0r",
        "outputId": "3e685cbe-a3ee-4889-f90a-ae1a24f28351"
      },
      "source": [
        "def print_name(name,surname,ID) :\r\n",
        "  st = f'ชื่อ {name} นามสกุล {surname}  ID {ID}'\r\n",
        "  return st\r\n",
        "print(f'outside function')"
      ],
      "execution_count": 49,
      "outputs": [
        {
          "output_type": "stream",
          "text": [
            "outside function\n"
          ],
          "name": "stdout"
        }
      ]
    },
    {
      "cell_type": "markdown",
      "metadata": {
        "id": "O-BcCbF-Wpo1"
      },
      "source": [
        "***Call Function***"
      ]
    },
    {
      "cell_type": "code",
      "metadata": {
        "colab": {
          "base_uri": "https://localhost:8080/",
          "height": 36
        },
        "id": "FgXuKz-HVL6S",
        "outputId": "886205a4-ef4d-4ba8-849b-d167703a363b"
      },
      "source": [
        "print_name('สิทธัตกะ' ,'จรัสแสง','623020541-2' )"
      ],
      "execution_count": 50,
      "outputs": [
        {
          "output_type": "execute_result",
          "data": {
            "application/vnd.google.colaboratory.intrinsic+json": {
              "type": "string"
            },
            "text/plain": [
              "'ชื่อ สิทธัตกะ นามสกุล จรัสแสง  ID 623020541-2'"
            ]
          },
          "metadata": {
            "tags": []
          },
          "execution_count": 50
        }
      ]
    },
    {
      "cell_type": "code",
      "metadata": {
        "colab": {
          "base_uri": "https://localhost:8080/"
        },
        "id": "TXbp-B5YW_JY",
        "outputId": "3ebd24dd-48df-41d3-847e-92e6f565e8b9"
      },
      "source": [
        "output_string = print_name('สิทธัตกะ' ,'จรัสแสง','623020541-2' )\r\n",
        "print(output_string)"
      ],
      "execution_count": 51,
      "outputs": [
        {
          "output_type": "stream",
          "text": [
            "ชื่อ สิทธัตกะ นามสกุล จรัสแสง  ID 623020541-2\n"
          ],
          "name": "stdout"
        }
      ]
    },
    {
      "cell_type": "markdown",
      "metadata": {
        "id": "O7i9sJtNXVxc"
      },
      "source": [
        "***\r\n",
        "**ฟังก์ชันไม่จำเป็นต้องมี Output**\r\n"
      ]
    },
    {
      "cell_type": "code",
      "metadata": {
        "id": "x4m_svO5Xdhs"
      },
      "source": [
        "def print_name2(surname,ID,name):\r\n",
        "  st = f'ชื่อ {name} นามสกุล {surname}  ID {ID}'\r\n",
        "  print(st)"
      ],
      "execution_count": 52,
      "outputs": []
    },
    {
      "cell_type": "code",
      "metadata": {
        "colab": {
          "base_uri": "https://localhost:8080/"
        },
        "id": "rt3p_QUvXyJn",
        "outputId": "f67d6dcc-626c-4363-f9c4-59625c507121"
      },
      "source": [
        "print_name2('สิทธัตกะ' ,'จรัสแสง','623020541-2' )"
      ],
      "execution_count": 53,
      "outputs": [
        {
          "output_type": "stream",
          "text": [
            "ชื่อ 623020541-2 นามสกุล สิทธัตกะ  ID จรัสแสง\n"
          ],
          "name": "stdout"
        }
      ]
    },
    {
      "cell_type": "code",
      "metadata": {
        "colab": {
          "base_uri": "https://localhost:8080/"
        },
        "id": "lJcnwwNgX9De",
        "outputId": "df3b19bc-9374-4ddb-865b-9c07f4f466d3"
      },
      "source": [
        "op2 = print_name2('สิทธัตกะ' ,'จรัสแสง','623020541-2' )"
      ],
      "execution_count": 54,
      "outputs": [
        {
          "output_type": "stream",
          "text": [
            "ชื่อ 623020541-2 นามสกุล สิทธัตกะ  ID จรัสแสง\n"
          ],
          "name": "stdout"
        }
      ]
    },
    {
      "cell_type": "code",
      "metadata": {
        "colab": {
          "base_uri": "https://localhost:8080/"
        },
        "id": "05COsNJvYyWA",
        "outputId": "ad35f4c6-213c-475f-912c-bf18c9855df9"
      },
      "source": [
        "print(op2)"
      ],
      "execution_count": 55,
      "outputs": [
        {
          "output_type": "stream",
          "text": [
            "None\n"
          ],
          "name": "stdout"
        }
      ]
    },
    {
      "cell_type": "markdown",
      "metadata": {
        "id": "KfgxMexzY-_S"
      },
      "source": [
        "***\r\n",
        "**ฟังก์ชันไม่จำเป็นต้องมี input**"
      ]
    },
    {
      "cell_type": "code",
      "metadata": {
        "id": "IR_lxhJRY2_e"
      },
      "source": [
        "def Pi():\r\n",
        "  return 3.14159265359"
      ],
      "execution_count": 56,
      "outputs": []
    },
    {
      "cell_type": "code",
      "metadata": {
        "colab": {
          "base_uri": "https://localhost:8080/"
        },
        "id": "6K2e58yzZOKm",
        "outputId": "4e7c18f5-e4a5-4919-d71c-b0ce1ac82563"
      },
      "source": [
        "#คำนวนพื้นที่วงกลมที่มีขนาดเส้นผ่านศุนย์กลางเท่ากับ 3\r\n",
        "Pi()*(1.5**2)"
      ],
      "execution_count": 57,
      "outputs": [
        {
          "output_type": "execute_result",
          "data": {
            "text/plain": [
              "7.0685834705775"
            ]
          },
          "metadata": {
            "tags": []
          },
          "execution_count": 57
        }
      ]
    },
    {
      "cell_type": "code",
      "metadata": {
        "id": "7qun7FmRZjBs"
      },
      "source": [
        "def print_my_name():\r\n",
        "    print('สิทธัตกะ จรัสแสง 623020541-2')"
      ],
      "execution_count": 58,
      "outputs": []
    },
    {
      "cell_type": "code",
      "metadata": {
        "colab": {
          "base_uri": "https://localhost:8080/"
        },
        "id": "dIoFqH2KZw8O",
        "outputId": "3974c797-03f0-4040-80fc-d444bdd02833"
      },
      "source": [
        "print_my_name()"
      ],
      "execution_count": 59,
      "outputs": [
        {
          "output_type": "stream",
          "text": [
            "สิทธัตกะ จรัสแสง 623020541-2\n"
          ],
          "name": "stdout"
        }
      ]
    },
    {
      "cell_type": "markdown",
      "metadata": {
        "id": "qbSk-qvuaDPS"
      },
      "source": [
        "Input ของ Function ใน python มี 2 แบบ\r\n",
        "\r\n",
        "- Input จำเป็นต้องใส่\r\n",
        "\r\n",
        "- Input ที่ไม่จำเป็นต้องใส่ (มีค่า default) "
      ]
    },
    {
      "cell_type": "code",
      "metadata": {
        "id": "pbU9ari3ah5H"
      },
      "source": [
        "def print_2lines_default(name,surname,ID,grade='B+'):\r\n",
        "  st =f'=ชื่อ {name} นามสกุล {surname} รหัส {ID}'\r\n",
        "  print(st)\r\n",
        "  st2 =f'เกรดวิชา Multivariate >>> {grade}'\r\n",
        "  print(st2)"
      ],
      "execution_count": 60,
      "outputs": []
    },
    {
      "cell_type": "code",
      "metadata": {
        "colab": {
          "base_uri": "https://localhost:8080/"
        },
        "id": "v5Q1rYllbFWy",
        "outputId": "92949d2b-f153-4d1d-924b-a76c8d4f4192"
      },
      "source": [
        "print_2lines_default('สิทธัตกะ','จรัสแสง','623020541-2')"
      ],
      "execution_count": 61,
      "outputs": [
        {
          "output_type": "stream",
          "text": [
            "=ชื่อ สิทธัตกะ นามสกุล จรัสแสง รหัส 623020541-2\n",
            "เกรดวิชา Multivariate >>> B+\n"
          ],
          "name": "stdout"
        }
      ]
    },
    {
      "cell_type": "code",
      "metadata": {
        "colab": {
          "base_uri": "https://localhost:8080/"
        },
        "id": "QAnLYbihbg3U",
        "outputId": "bf8839d2-0e14-4874-fd67-c43b70bb9378"
      },
      "source": [
        "print_2lines_default('สิทธัตกะ','จรัสแสง','623020541-2','A')"
      ],
      "execution_count": 62,
      "outputs": [
        {
          "output_type": "stream",
          "text": [
            "=ชื่อ สิทธัตกะ นามสกุล จรัสแสง รหัส 623020541-2\n",
            "เกรดวิชา Multivariate >>> A\n"
          ],
          "name": "stdout"
        }
      ]
    },
    {
      "cell_type": "markdown",
      "metadata": {
        "id": "7WEU_0-Icd8f"
      },
      "source": [
        "***\r\n",
        "***ตัวอย่าง ERROR***"
      ]
    },
    {
      "cell_type": "code",
      "metadata": {
        "colab": {
          "base_uri": "https://localhost:8080/",
          "height": 132
        },
        "id": "8bTHKsL_bmnt",
        "outputId": "2c1bdad9-3f4d-40c4-fb27-6001d8075dbb"
      },
      "source": [
        "def print_2lines_default(grade='B+',surname,ID): # เอา Input ที่จำเป็นต้องใส่มาก่อน\r\n",
        "  st =f'=ชื่อ {name} นามสกุล {surname} รหัส {ID}' # ไม่ควรเอา Input ที่ไม่เอาจำเป็นต้องใส่ก่อน\r\n",
        "  print(st)\r\n",
        "  st2 =f'เกรดวิชา Multivariate >>> {grade}'\r\n",
        "  print(st2)"
      ],
      "execution_count": 63,
      "outputs": [
        {
          "output_type": "error",
          "ename": "SyntaxError",
          "evalue": "ignored",
          "traceback": [
            "\u001b[0;36m  File \u001b[0;32m\"<ipython-input-63-94deeb7f2ed0>\"\u001b[0;36m, line \u001b[0;32m1\u001b[0m\n\u001b[0;31m    def print_2lines_default(grade='B+',surname,ID): # เอา Input ที่จำเป็นต้องใส่มาก่อน\u001b[0m\n\u001b[0m                            ^\u001b[0m\n\u001b[0;31mSyntaxError\u001b[0m\u001b[0;31m:\u001b[0m non-default argument follows default argument\n"
          ]
        }
      ]
    },
    {
      "cell_type": "markdown",
      "metadata": {
        "id": "mOXdm0t7b-Bg"
      },
      "source": [
        "***\r\n",
        "**เราสามาเรียกฟังก์ชันโดยใช้ชื่อตัวแปรของฟังก์ชันช่วยได้**"
      ]
    },
    {
      "cell_type": "code",
      "metadata": {
        "colab": {
          "base_uri": "https://localhost:8080/"
        },
        "id": "CEQxbdkecHVz",
        "outputId": "cabcf87f-f552-4817-ce12-01f0af3493d0"
      },
      "source": [
        "print_name2(name='สิทธัตกะ',surname='จรัสแสง',ID='623020541-2')"
      ],
      "execution_count": 64,
      "outputs": [
        {
          "output_type": "stream",
          "text": [
            "ชื่อ สิทธัตกะ นามสกุล จรัสแสง  ID 623020541-2\n"
          ],
          "name": "stdout"
        }
      ]
    },
    {
      "cell_type": "markdown",
      "metadata": {
        "id": "UMqqrGHRc1Fs"
      },
      "source": [
        "***\r\n",
        "#**HW3**\r\n",
        "\r\n",
        "**ให้เขียน Funtion คำนวณจำนวนวินาทีจากเวลาต่อไปนี้และ print ให้สวยงาม**\r\n",
        "\r\n",
        "\r\n",
        "'14-15-13'\r\n",
        "\r\n",
        "'13-00-01'\r\n",
        "\r\n",
        "'05-49-44'\r\n",
        "\r\n",
        "'00-00-16'\r\n",
        "\r\n",
        "\r\n"
      ]
    },
    {
      "cell_type": "code",
      "metadata": {
        "id": "zj_gAzHvcqXb"
      },
      "source": [
        ""
      ],
      "execution_count": 43,
      "outputs": []
    }
  ]
}