{
  "nbformat": 4,
  "nbformat_minor": 0,
  "metadata": {
    "colab": {
      "name": "Function_Numpy_Pandas.ipynb",
      "provenance": [],
      "authorship_tag": "ABX9TyM7OKh2cdkjuV44p64+nXj8",
      "include_colab_link": true
    },
    "kernelspec": {
      "name": "python3",
      "display_name": "Python 3"
    }
  },
  "cells": [
    {
      "cell_type": "markdown",
      "metadata": {
        "id": "view-in-github",
        "colab_type": "text"
      },
      "source": [
        "<a href=\"https://colab.research.google.com/github/sitthatkaja/multivariate/blob/main/Function_Numpy_Pandas.ipynb\" target=\"_parent\"><img src=\"https://colab.research.google.com/assets/colab-badge.svg\" alt=\"Open In Colab\"/></a>"
      ]
    },
    {
      "cell_type": "markdown",
      "metadata": {
        "id": "VjlkzxKeSHSc"
      },
      "source": [
        "#**Function**\r\n",
        "***"
      ]
    },
    {
      "cell_type": "markdown",
      "metadata": {
        "id": "MlrMJMShWVU1"
      },
      "source": [
        "### **ตัวอย่าง Code**\r\n",
        "\r\n",
        "![download.png](data:image/png;base64,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)"
      ]
    },
    {
      "cell_type": "markdown",
      "metadata": {
        "id": "yMZsuubolJq2"
      },
      "source": [
        "\r\n",
        "```\r\n",
        "def function name(_input_) :\r\n",
        "\r\n",
        "  do_something with  _Input_ to produce _Output_\r\n",
        "  \r\n",
        "  return _Output_\r\n",
        "```\r\n",
        "\r\n"
      ]
    },
    {
      "cell_type": "markdown",
      "metadata": {
        "id": "dRCQAv-MS7Yr"
      },
      "source": [
        "**Function มีส่วนสำคัญทั้งหมด 4 ส่วน**\r\n",
        "\r\n",
        "1. บอกว่า Python ว่าเราจะเขียนฟังก์ชัน ชื่ออะไร def function_name(): ***(ขาดไม่ได้)***\r\n",
        "\r\n",
        "2. กำหนดตัวแปรที่จะเป็น input Input ***(ขาดได้)***\r\n",
        "\r\n",
        "3. ส่วนประมวลผล do_someting with input to get output ***(ขาดไม่ได้)***\r\n",
        "\r\n",
        "4. ส่วน Output return Output ***(ขาดได้)***"
      ]
    },
    {
      "cell_type": "markdown",
      "metadata": {
        "id": "pJ4b6wQ0WkRZ"
      },
      "source": [
        "***\r\n",
        "***Create Function***"
      ]
    },
    {
      "cell_type": "code",
      "metadata": {
        "colab": {
          "base_uri": "https://localhost:8080/"
        },
        "id": "rxD9DbohTV0r",
        "outputId": "3e685cbe-a3ee-4889-f90a-ae1a24f28351"
      },
      "source": [
        "def print_name(name,surname,ID) :\r\n",
        "  st = f'ชื่อ {name} นามสกุล {surname}  ID {ID}'\r\n",
        "  return st\r\n",
        "print(f'outside function')"
      ],
      "execution_count": 49,
      "outputs": [
        {
          "output_type": "stream",
          "text": [
            "outside function\n"
          ],
          "name": "stdout"
        }
      ]
    },
    {
      "cell_type": "markdown",
      "metadata": {
        "id": "O-BcCbF-Wpo1"
      },
      "source": [
        "***Call Function***"
      ]
    },
    {
      "cell_type": "code",
      "metadata": {
        "colab": {
          "base_uri": "https://localhost:8080/",
          "height": 36
        },
        "id": "FgXuKz-HVL6S",
        "outputId": "886205a4-ef4d-4ba8-849b-d167703a363b"
      },
      "source": [
        "print_name('สิทธัตกะ' ,'จรัสแสง','623020541-2' )"
      ],
      "execution_count": 50,
      "outputs": [
        {
          "output_type": "execute_result",
          "data": {
            "application/vnd.google.colaboratory.intrinsic+json": {
              "type": "string"
            },
            "text/plain": [
              "'ชื่อ สิทธัตกะ นามสกุล จรัสแสง  ID 623020541-2'"
            ]
          },
          "metadata": {
            "tags": []
          },
          "execution_count": 50
        }
      ]
    },
    {
      "cell_type": "code",
      "metadata": {
        "colab": {
          "base_uri": "https://localhost:8080/"
        },
        "id": "TXbp-B5YW_JY",
        "outputId": "3ebd24dd-48df-41d3-847e-92e6f565e8b9"
      },
      "source": [
        "output_string = print_name('สิทธัตกะ' ,'จรัสแสง','623020541-2' )\r\n",
        "print(output_string)"
      ],
      "execution_count": 51,
      "outputs": [
        {
          "output_type": "stream",
          "text": [
            "ชื่อ สิทธัตกะ นามสกุล จรัสแสง  ID 623020541-2\n"
          ],
          "name": "stdout"
        }
      ]
    },
    {
      "cell_type": "markdown",
      "metadata": {
        "id": "O7i9sJtNXVxc"
      },
      "source": [
        "***\r\n",
        "**ฟังก์ชันไม่จำเป็นต้องมี Output**\r\n"
      ]
    },
    {
      "cell_type": "code",
      "metadata": {
        "id": "x4m_svO5Xdhs"
      },
      "source": [
        "def print_name2(surname,ID,name):\r\n",
        "  st = f'ชื่อ {name} นามสกุล {surname}  ID {ID}'\r\n",
        "  print(st)"
      ],
      "execution_count": 52,
      "outputs": []
    },
    {
      "cell_type": "code",
      "metadata": {
        "colab": {
          "base_uri": "https://localhost:8080/"
        },
        "id": "rt3p_QUvXyJn",
        "outputId": "f67d6dcc-626c-4363-f9c4-59625c507121"
      },
      "source": [
        "print_name2('สิทธัตกะ' ,'จรัสแสง','623020541-2' )"
      ],
      "execution_count": 53,
      "outputs": [
        {
          "output_type": "stream",
          "text": [
            "ชื่อ 623020541-2 นามสกุล สิทธัตกะ  ID จรัสแสง\n"
          ],
          "name": "stdout"
        }
      ]
    },
    {
      "cell_type": "code",
      "metadata": {
        "colab": {
          "base_uri": "https://localhost:8080/"
        },
        "id": "lJcnwwNgX9De",
        "outputId": "df3b19bc-9374-4ddb-865b-9c07f4f466d3"
      },
      "source": [
        "op2 = print_name2('สิทธัตกะ' ,'จรัสแสง','623020541-2' )"
      ],
      "execution_count": 54,
      "outputs": [
        {
          "output_type": "stream",
          "text": [
            "ชื่อ 623020541-2 นามสกุล สิทธัตกะ  ID จรัสแสง\n"
          ],
          "name": "stdout"
        }
      ]
    },
    {
      "cell_type": "code",
      "metadata": {
        "colab": {
          "base_uri": "https://localhost:8080/"
        },
        "id": "05COsNJvYyWA",
        "outputId": "ad35f4c6-213c-475f-912c-bf18c9855df9"
      },
      "source": [
        "print(op2)"
      ],
      "execution_count": 55,
      "outputs": [
        {
          "output_type": "stream",
          "text": [
            "None\n"
          ],
          "name": "stdout"
        }
      ]
    },
    {
      "cell_type": "markdown",
      "metadata": {
        "id": "KfgxMexzY-_S"
      },
      "source": [
        "***\r\n",
        "**ฟังก์ชันไม่จำเป็นต้องมี input**"
      ]
    },
    {
      "cell_type": "code",
      "metadata": {
        "id": "IR_lxhJRY2_e"
      },
      "source": [
        "def Pi():\r\n",
        "  return 3.14159265359"
      ],
      "execution_count": 56,
      "outputs": []
    },
    {
      "cell_type": "code",
      "metadata": {
        "colab": {
          "base_uri": "https://localhost:8080/"
        },
        "id": "6K2e58yzZOKm",
        "outputId": "4e7c18f5-e4a5-4919-d71c-b0ce1ac82563"
      },
      "source": [
        "#คำนวนพื้นที่วงกลมที่มีขนาดเส้นผ่านศุนย์กลางเท่ากับ 3\r\n",
        "Pi()*(1.5**2)"
      ],
      "execution_count": 57,
      "outputs": [
        {
          "output_type": "execute_result",
          "data": {
            "text/plain": [
              "7.0685834705775"
            ]
          },
          "metadata": {
            "tags": []
          },
          "execution_count": 57
        }
      ]
    },
    {
      "cell_type": "code",
      "metadata": {
        "id": "7qun7FmRZjBs"
      },
      "source": [
        "def print_my_name():\r\n",
        "    print('สิทธัตกะ จรัสแสง 623020541-2')"
      ],
      "execution_count": 58,
      "outputs": []
    },
    {
      "cell_type": "code",
      "metadata": {
        "colab": {
          "base_uri": "https://localhost:8080/"
        },
        "id": "dIoFqH2KZw8O",
        "outputId": "3974c797-03f0-4040-80fc-d444bdd02833"
      },
      "source": [
        "print_my_name()"
      ],
      "execution_count": 59,
      "outputs": [
        {
          "output_type": "stream",
          "text": [
            "สิทธัตกะ จรัสแสง 623020541-2\n"
          ],
          "name": "stdout"
        }
      ]
    },
    {
      "cell_type": "markdown",
      "metadata": {
        "id": "qbSk-qvuaDPS"
      },
      "source": [
        "Input ของ Function ใน python มี 2 แบบ\r\n",
        "\r\n",
        "- Input จำเป็นต้องใส่\r\n",
        "\r\n",
        "- Input ที่ไม่จำเป็นต้องใส่ (มีค่า default) "
      ]
    },
    {
      "cell_type": "code",
      "metadata": {
        "id": "pbU9ari3ah5H"
      },
      "source": [
        "def print_2lines_default(name,surname,ID,grade='B+'):\r\n",
        "  st =f'=ชื่อ {name} นามสกุล {surname} รหัส {ID}'\r\n",
        "  print(st)\r\n",
        "  st2 =f'เกรดวิชา Multivariate >>> {grade}'\r\n",
        "  print(st2)"
      ],
      "execution_count": 60,
      "outputs": []
    },
    {
      "cell_type": "code",
      "metadata": {
        "colab": {
          "base_uri": "https://localhost:8080/"
        },
        "id": "v5Q1rYllbFWy",
        "outputId": "92949d2b-f153-4d1d-924b-a76c8d4f4192"
      },
      "source": [
        "print_2lines_default('สิทธัตกะ','จรัสแสง','623020541-2')"
      ],
      "execution_count": 61,
      "outputs": [
        {
          "output_type": "stream",
          "text": [
            "=ชื่อ สิทธัตกะ นามสกุล จรัสแสง รหัส 623020541-2\n",
            "เกรดวิชา Multivariate >>> B+\n"
          ],
          "name": "stdout"
        }
      ]
    },
    {
      "cell_type": "code",
      "metadata": {
        "colab": {
          "base_uri": "https://localhost:8080/"
        },
        "id": "QAnLYbihbg3U",
        "outputId": "bf8839d2-0e14-4874-fd67-c43b70bb9378"
      },
      "source": [
        "print_2lines_default('สิทธัตกะ','จรัสแสง','623020541-2','A')"
      ],
      "execution_count": 62,
      "outputs": [
        {
          "output_type": "stream",
          "text": [
            "=ชื่อ สิทธัตกะ นามสกุล จรัสแสง รหัส 623020541-2\n",
            "เกรดวิชา Multivariate >>> A\n"
          ],
          "name": "stdout"
        }
      ]
    },
    {
      "cell_type": "markdown",
      "metadata": {
        "id": "7WEU_0-Icd8f"
      },
      "source": [
        "***\r\n",
        "***ตัวอย่าง ERROR***"
      ]
    },
    {
      "cell_type": "code",
      "metadata": {
        "colab": {
          "base_uri": "https://localhost:8080/",
          "height": 132
        },
        "id": "8bTHKsL_bmnt",
        "outputId": "2c1bdad9-3f4d-40c4-fb27-6001d8075dbb"
      },
      "source": [
        "def print_2lines_default(grade='B+',surname,ID): # เอา Input ที่จำเป็นต้องใส่มาก่อน\r\n",
        "  st =f'=ชื่อ {name} นามสกุล {surname} รหัส {ID}' # ไม่ควรเอา Input ที่ไม่เอาจำเป็นต้องใส่ก่อน\r\n",
        "  print(st)\r\n",
        "  st2 =f'เกรดวิชา Multivariate >>> {grade}'\r\n",
        "  print(st2)"
      ],
      "execution_count": 63,
      "outputs": [
        {
          "output_type": "error",
          "ename": "SyntaxError",
          "evalue": "ignored",
          "traceback": [
            "\u001b[0;36m  File \u001b[0;32m\"<ipython-input-63-94deeb7f2ed0>\"\u001b[0;36m, line \u001b[0;32m1\u001b[0m\n\u001b[0;31m    def print_2lines_default(grade='B+',surname,ID): # เอา Input ที่จำเป็นต้องใส่มาก่อน\u001b[0m\n\u001b[0m                            ^\u001b[0m\n\u001b[0;31mSyntaxError\u001b[0m\u001b[0;31m:\u001b[0m non-default argument follows default argument\n"
          ]
        }
      ]
    },
    {
      "cell_type": "markdown",
      "metadata": {
        "id": "mOXdm0t7b-Bg"
      },
      "source": [
        "***\r\n",
        "**เราสามาเรียกฟังก์ชันโดยใช้ชื่อตัวแปรของฟังก์ชันช่วยได้**"
      ]
    },
    {
      "cell_type": "code",
      "metadata": {
        "colab": {
          "base_uri": "https://localhost:8080/"
        },
        "id": "CEQxbdkecHVz",
        "outputId": "cabcf87f-f552-4817-ce12-01f0af3493d0"
      },
      "source": [
        "print_name2(name='สิทธัตกะ',surname='จรัสแสง',ID='623020541-2')"
      ],
      "execution_count": 64,
      "outputs": [
        {
          "output_type": "stream",
          "text": [
            "ชื่อ สิทธัตกะ นามสกุล จรัสแสง  ID 623020541-2\n"
          ],
          "name": "stdout"
        }
      ]
    },
    {
      "cell_type": "markdown",
      "metadata": {
        "id": "UMqqrGHRc1Fs"
      },
      "source": [
        "***\r\n",
        "#**HW3**\r\n",
        "\r\n",
        "**ให้เขียน Funtion คำนวณจำนวนวินาทีจากเวลาต่อไปนี้และ print ให้สวยงาม**\r\n",
        "\r\n",
        "\r\n",
        "'14-15-13'\r\n",
        "\r\n",
        "'13-00-01'\r\n",
        "\r\n",
        "'05-49-44'\r\n",
        "\r\n",
        "'00-00-16'\r\n",
        "\r\n",
        "\r\n"
      ]
    },
    {
      "cell_type": "code",
      "metadata": {
        "id": "LJ-SLUtSl1xv"
      },
      "source": [
        "def function_q(times):\r\n",
        "  q = f'เวลาทั้งหมด = {times}'\r\n",
        "  print(q)\r\n",
        "  times_sp = times.split('-')\r\n",
        "  h = int(times_sp[0])*3600\r\n",
        "  m = int(times_sp[1])*60\r\n",
        "  s = int(times_sp[2])\r\n",
        "  aq = h+m+s\r\n",
        "  print(f'คำนวณเป็นจำนวนวินาทีได้เท่ากับ {aq} วินาที')"
      ],
      "execution_count": 98,
      "outputs": []
    },
    {
      "cell_type": "code",
      "metadata": {
        "colab": {
          "base_uri": "https://localhost:8080/"
        },
        "id": "zj_gAzHvcqXb",
        "outputId": "1c3ade01-b0b3-4d31-9dc0-a347ee552c63"
      },
      "source": [
        "function_q('14-15-13')"
      ],
      "execution_count": 99,
      "outputs": [
        {
          "output_type": "stream",
          "text": [
            "เวลาทั้งหมด = 14-15-13\n",
            "คำนวณเป็นจำนวนวินาทีได้เท่ากับ 51313 วินาที\n"
          ],
          "name": "stdout"
        }
      ]
    },
    {
      "cell_type": "code",
      "metadata": {
        "colab": {
          "base_uri": "https://localhost:8080/"
        },
        "id": "iEEdd8Ilprjw",
        "outputId": "afc73f39-8d10-44f1-f85a-6d7f9bab16a3"
      },
      "source": [
        "function_q('13-00-01')"
      ],
      "execution_count": 100,
      "outputs": [
        {
          "output_type": "stream",
          "text": [
            "เวลาทั้งหมด = 13-00-01\n",
            "คำนวณเป็นจำนวนวินาทีได้เท่ากับ 46801 วินาที\n"
          ],
          "name": "stdout"
        }
      ]
    },
    {
      "cell_type": "code",
      "metadata": {
        "colab": {
          "base_uri": "https://localhost:8080/"
        },
        "id": "xVWj45Bqp56I",
        "outputId": "e5e56483-9b89-4108-cff6-8dafd7b57b55"
      },
      "source": [
        "function_q('05-49-44')"
      ],
      "execution_count": 101,
      "outputs": [
        {
          "output_type": "stream",
          "text": [
            "เวลาทั้งหมด = 05-49-44\n",
            "คำนวณเป็นจำนวนวินาทีได้เท่ากับ 20984 วินาที\n"
          ],
          "name": "stdout"
        }
      ]
    },
    {
      "cell_type": "code",
      "metadata": {
        "colab": {
          "base_uri": "https://localhost:8080/"
        },
        "id": "2UNtXV-Rp_yQ",
        "outputId": "10e1f799-4996-4dd1-e5a4-e00a7a899217"
      },
      "source": [
        "function_q('00-00-16')"
      ],
      "execution_count": 102,
      "outputs": [
        {
          "output_type": "stream",
          "text": [
            "เวลาทั้งหมด = 00-00-16\n",
            "คำนวณเป็นจำนวนวินาทีได้เท่ากับ 16 วินาที\n"
          ],
          "name": "stdout"
        }
      ]
    },
    {
      "cell_type": "markdown",
      "metadata": {
        "id": "PXNWBiY5qHMH"
      },
      "source": [
        "***"
      ]
    },
    {
      "cell_type": "code",
      "metadata": {
        "id": "1rrNslajqI3_"
      },
      "source": [
        ""
      ],
      "execution_count": null,
      "outputs": []
    }
  ]
}