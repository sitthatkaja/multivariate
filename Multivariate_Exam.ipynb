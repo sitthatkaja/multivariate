{
  "nbformat": 4,
  "nbformat_minor": 0,
  "metadata": {
    "colab": {
      "name": "Multivariate Exam.ipynb",
      "provenance": [],
      "include_colab_link": true
    },
    "kernelspec": {
      "name": "python3",
      "display_name": "Python 3"
    },
    "language_info": {
      "name": "python"
    }
  },
  "cells": [
    {
      "cell_type": "markdown",
      "metadata": {
        "id": "view-in-github",
        "colab_type": "text"
      },
      "source": [
        "<a href=\"https://colab.research.google.com/github/sitthatkaja/multivariate/blob/main/Multivariate_Exam.ipynb\" target=\"_parent\"><img src=\"https://colab.research.google.com/assets/colab-badge.svg\" alt=\"Open In Colab\"/></a>"
      ]
    },
    {
      "cell_type": "markdown",
      "metadata": {
        "id": "JZxiNADfaDtv"
      },
      "source": [
        "ให้นักศึกษาทำข้อสอบใน Colab Notebook นี้โดยกรอกข้อมูลของตัวเองใน cell ที่ 2 แล้วรัน cell ที่ 1 - 5 และเริ่มทำข้อสอบใน cell ที่ 6 เป็นต้นไป\n",
        "\n",
        "โดยโจทย์คือ\n",
        "1. ข้อมูลโจทย์ อยู่ใน ตัวแปร ```Data```\n",
        "2. ทำ clustering แล้วทำ visualize ข้อมูลแบบ 2 มิติ\n",
        "3. ลด Dimension ของข้อมูลเหลือ 2 มิติ แล้วทำ clustering แล้ว visualize ข้อมูลแบบ 2 มิติ\n",
        "4. เปรียบเทียบความแตกต่างของผลข้อ 2. กับ ข้อ 3.\n",
        "5. เขียน comments อธิบายทุกขั้นตอน\n",
        "6. อัด video อธิบาย code ทุกๆขั้นตอนรวมถึงผลแล้วอัพลง youtube ในรูปแบบ unlist \n",
        "7. commit โดยใช้ชื่อ commit เป็น link youtube ที่อธิบาย code ในข้อ 6.\n",
        "\n",
        "กำหนดส่งวันที่ 2 พฤษภาคม 2564 (โดยให้มากรอกวันที่ commit ครั้งสุดท้ายใน sheet: https://docs.google.com/spreadsheets/d/1_qJwLDJVtOW1HxBcf_FHVc6UT4J_SOonuR6o3EEnVzw/edit?usp=sharing ช่อง Final)"
      ]
    },
    {
      "cell_type": "code",
      "metadata": {
        "id": "cWl2x1bPGtQl"
      },
      "source": [
        "from sklearn.datasets import make_blobs\n",
        "import random,math\n",
        "import numpy as np\n",
        "import pandas"
      ],
      "execution_count": 1,
      "outputs": []
    },
    {
      "cell_type": "code",
      "metadata": {
        "id": "gZfzuiHsZksh"
      },
      "source": [
        "Name = 'สิทธัตกะ จรัสแสง'\n",
        "ID = '6230205412'"
      ],
      "execution_count": 2,
      "outputs": []
    },
    {
      "cell_type": "code",
      "metadata": {
        "id": "8hFQXkF5aAiA"
      },
      "source": [
        "def DataGenerator(name,id):\n",
        "    random.seed(int(id[3:6]))\n",
        "    numfeat = random.randint(20,30)\n",
        "    ct = random.randint(len(name)-6,len(name))\n",
        "    \n",
        "    X, y = make_blobs(n_samples=10000, centers=ct, n_features=numfeat , random_state=int(id[3:6]))\n",
        "\n",
        "    print(f'{id[3:6]}:{numfeat}:{ct}')\n",
        "    X_t = (X[:,1]*2)+int(id[3])\n",
        "    X_t2 = (X[:,-1]*5)+int(id[4])\n",
        "\n",
        "    DT = np.append(X,X_t.reshape([10000,1]),axis=1)\n",
        "    DT = np.append(DT,X_t2.reshape([10000,1]),axis=1)\n",
        "    \n",
        "    return pandas.DataFrame(DT)"
      ],
      "execution_count": 3,
      "outputs": []
    },
    {
      "cell_type": "code",
      "metadata": {
        "colab": {
          "base_uri": "https://localhost:8080/"
        },
        "id": "hbXlxumSBX9i",
        "outputId": "1d8edffe-237d-440f-8b47-2c2080c26d2e"
      },
      "source": [
        "Data = DataGenerator(Name,ID)"
      ],
      "execution_count": 4,
      "outputs": [
        {
          "output_type": "stream",
          "text": [
            "020:30:16\n"
          ],
          "name": "stdout"
        }
      ]
    },
    {
      "cell_type": "code",
      "metadata": {
        "colab": {
          "base_uri": "https://localhost:8080/",
          "height": 419
        },
        "id": "pQcCySXvBdN-",
        "outputId": "7c005cd2-65e3-4b55-b921-76b3db41b04d"
      },
      "source": [
        "Data"
      ],
      "execution_count": 5,
      "outputs": [
        {
          "output_type": "execute_result",
          "data": {
            "text/html": [
              "<div>\n",
              "<style scoped>\n",
              "    .dataframe tbody tr th:only-of-type {\n",
              "        vertical-align: middle;\n",
              "    }\n",
              "\n",
              "    .dataframe tbody tr th {\n",
              "        vertical-align: top;\n",
              "    }\n",
              "\n",
              "    .dataframe thead th {\n",
              "        text-align: right;\n",
              "    }\n",
              "</style>\n",
              "<table border=\"1\" class=\"dataframe\">\n",
              "  <thead>\n",
              "    <tr style=\"text-align: right;\">\n",
              "      <th></th>\n",
              "      <th>0</th>\n",
              "      <th>1</th>\n",
              "      <th>2</th>\n",
              "      <th>3</th>\n",
              "      <th>4</th>\n",
              "      <th>5</th>\n",
              "      <th>6</th>\n",
              "      <th>7</th>\n",
              "      <th>8</th>\n",
              "      <th>9</th>\n",
              "      <th>10</th>\n",
              "      <th>11</th>\n",
              "      <th>12</th>\n",
              "      <th>13</th>\n",
              "      <th>14</th>\n",
              "      <th>15</th>\n",
              "      <th>16</th>\n",
              "      <th>17</th>\n",
              "      <th>18</th>\n",
              "      <th>19</th>\n",
              "      <th>20</th>\n",
              "      <th>21</th>\n",
              "      <th>22</th>\n",
              "      <th>23</th>\n",
              "      <th>24</th>\n",
              "      <th>25</th>\n",
              "      <th>26</th>\n",
              "      <th>27</th>\n",
              "      <th>28</th>\n",
              "      <th>29</th>\n",
              "      <th>30</th>\n",
              "      <th>31</th>\n",
              "    </tr>\n",
              "  </thead>\n",
              "  <tbody>\n",
              "    <tr>\n",
              "      <th>0</th>\n",
              "      <td>-10.187117</td>\n",
              "      <td>5.645359</td>\n",
              "      <td>-1.512009</td>\n",
              "      <td>-8.408605</td>\n",
              "      <td>-7.160649</td>\n",
              "      <td>8.152055</td>\n",
              "      <td>-5.137610</td>\n",
              "      <td>-8.514089</td>\n",
              "      <td>-6.140884</td>\n",
              "      <td>10.495298</td>\n",
              "      <td>1.590252</td>\n",
              "      <td>3.370453</td>\n",
              "      <td>0.659568</td>\n",
              "      <td>5.630557</td>\n",
              "      <td>1.300547</td>\n",
              "      <td>2.487644</td>\n",
              "      <td>6.066393</td>\n",
              "      <td>8.233752</td>\n",
              "      <td>-9.202617</td>\n",
              "      <td>-5.345057</td>\n",
              "      <td>5.844010</td>\n",
              "      <td>1.529182</td>\n",
              "      <td>-3.323277</td>\n",
              "      <td>3.321481</td>\n",
              "      <td>2.621559</td>\n",
              "      <td>-4.425307</td>\n",
              "      <td>4.524257</td>\n",
              "      <td>-4.957104</td>\n",
              "      <td>6.386672</td>\n",
              "      <td>-10.452964</td>\n",
              "      <td>11.290718</td>\n",
              "      <td>-50.264820</td>\n",
              "    </tr>\n",
              "    <tr>\n",
              "      <th>1</th>\n",
              "      <td>8.802957</td>\n",
              "      <td>-9.680265</td>\n",
              "      <td>-5.146325</td>\n",
              "      <td>-1.400457</td>\n",
              "      <td>4.109127</td>\n",
              "      <td>9.107175</td>\n",
              "      <td>8.461001</td>\n",
              "      <td>1.703898</td>\n",
              "      <td>-0.734701</td>\n",
              "      <td>-0.662673</td>\n",
              "      <td>3.817067</td>\n",
              "      <td>1.822420</td>\n",
              "      <td>4.052866</td>\n",
              "      <td>-3.271882</td>\n",
              "      <td>7.773785</td>\n",
              "      <td>7.411452</td>\n",
              "      <td>-4.505587</td>\n",
              "      <td>2.963060</td>\n",
              "      <td>7.674272</td>\n",
              "      <td>-9.869400</td>\n",
              "      <td>-8.226315</td>\n",
              "      <td>8.427967</td>\n",
              "      <td>5.859954</td>\n",
              "      <td>2.930561</td>\n",
              "      <td>4.895293</td>\n",
              "      <td>-7.116522</td>\n",
              "      <td>-8.471998</td>\n",
              "      <td>5.241182</td>\n",
              "      <td>-1.075735</td>\n",
              "      <td>4.753808</td>\n",
              "      <td>-19.360529</td>\n",
              "      <td>25.769040</td>\n",
              "    </tr>\n",
              "    <tr>\n",
              "      <th>2</th>\n",
              "      <td>4.566708</td>\n",
              "      <td>10.088068</td>\n",
              "      <td>6.267673</td>\n",
              "      <td>-5.007461</td>\n",
              "      <td>-6.157636</td>\n",
              "      <td>-4.656535</td>\n",
              "      <td>9.834261</td>\n",
              "      <td>1.608311</td>\n",
              "      <td>6.068735</td>\n",
              "      <td>-10.170915</td>\n",
              "      <td>7.084125</td>\n",
              "      <td>-9.178798</td>\n",
              "      <td>-7.684204</td>\n",
              "      <td>-11.860847</td>\n",
              "      <td>-3.715293</td>\n",
              "      <td>-3.697722</td>\n",
              "      <td>9.908313</td>\n",
              "      <td>6.599582</td>\n",
              "      <td>0.364110</td>\n",
              "      <td>7.548956</td>\n",
              "      <td>-8.481781</td>\n",
              "      <td>5.089799</td>\n",
              "      <td>-7.056839</td>\n",
              "      <td>-5.440225</td>\n",
              "      <td>7.366136</td>\n",
              "      <td>-6.099482</td>\n",
              "      <td>5.900475</td>\n",
              "      <td>-0.567453</td>\n",
              "      <td>3.676044</td>\n",
              "      <td>3.636315</td>\n",
              "      <td>20.176137</td>\n",
              "      <td>20.181577</td>\n",
              "    </tr>\n",
              "    <tr>\n",
              "      <th>3</th>\n",
              "      <td>-1.557750</td>\n",
              "      <td>-5.619996</td>\n",
              "      <td>-0.729111</td>\n",
              "      <td>7.873232</td>\n",
              "      <td>-7.234014</td>\n",
              "      <td>-3.057497</td>\n",
              "      <td>-2.156534</td>\n",
              "      <td>-4.396004</td>\n",
              "      <td>-8.843602</td>\n",
              "      <td>-6.002348</td>\n",
              "      <td>6.974013</td>\n",
              "      <td>-6.001278</td>\n",
              "      <td>-8.506518</td>\n",
              "      <td>-2.456330</td>\n",
              "      <td>1.138076</td>\n",
              "      <td>-3.899233</td>\n",
              "      <td>9.395032</td>\n",
              "      <td>-6.214876</td>\n",
              "      <td>9.013846</td>\n",
              "      <td>1.558676</td>\n",
              "      <td>6.049342</td>\n",
              "      <td>2.618855</td>\n",
              "      <td>-7.194114</td>\n",
              "      <td>-10.214505</td>\n",
              "      <td>8.954457</td>\n",
              "      <td>7.642740</td>\n",
              "      <td>4.098489</td>\n",
              "      <td>-1.835569</td>\n",
              "      <td>-1.134072</td>\n",
              "      <td>7.054722</td>\n",
              "      <td>-11.239992</td>\n",
              "      <td>37.273609</td>\n",
              "    </tr>\n",
              "    <tr>\n",
              "      <th>4</th>\n",
              "      <td>9.105714</td>\n",
              "      <td>-10.918593</td>\n",
              "      <td>-6.447384</td>\n",
              "      <td>1.260397</td>\n",
              "      <td>6.235345</td>\n",
              "      <td>10.998694</td>\n",
              "      <td>9.431398</td>\n",
              "      <td>4.326759</td>\n",
              "      <td>-1.366271</td>\n",
              "      <td>0.720983</td>\n",
              "      <td>2.657494</td>\n",
              "      <td>5.502511</td>\n",
              "      <td>6.129621</td>\n",
              "      <td>-1.155109</td>\n",
              "      <td>9.711989</td>\n",
              "      <td>5.343099</td>\n",
              "      <td>-7.353672</td>\n",
              "      <td>2.485260</td>\n",
              "      <td>7.425995</td>\n",
              "      <td>-9.048266</td>\n",
              "      <td>-7.630582</td>\n",
              "      <td>7.810077</td>\n",
              "      <td>6.552491</td>\n",
              "      <td>3.859978</td>\n",
              "      <td>5.717528</td>\n",
              "      <td>-3.768863</td>\n",
              "      <td>-7.753635</td>\n",
              "      <td>5.075417</td>\n",
              "      <td>-1.536883</td>\n",
              "      <td>5.055226</td>\n",
              "      <td>-21.837186</td>\n",
              "      <td>27.276130</td>\n",
              "    </tr>\n",
              "    <tr>\n",
              "      <th>...</th>\n",
              "      <td>...</td>\n",
              "      <td>...</td>\n",
              "      <td>...</td>\n",
              "      <td>...</td>\n",
              "      <td>...</td>\n",
              "      <td>...</td>\n",
              "      <td>...</td>\n",
              "      <td>...</td>\n",
              "      <td>...</td>\n",
              "      <td>...</td>\n",
              "      <td>...</td>\n",
              "      <td>...</td>\n",
              "      <td>...</td>\n",
              "      <td>...</td>\n",
              "      <td>...</td>\n",
              "      <td>...</td>\n",
              "      <td>...</td>\n",
              "      <td>...</td>\n",
              "      <td>...</td>\n",
              "      <td>...</td>\n",
              "      <td>...</td>\n",
              "      <td>...</td>\n",
              "      <td>...</td>\n",
              "      <td>...</td>\n",
              "      <td>...</td>\n",
              "      <td>...</td>\n",
              "      <td>...</td>\n",
              "      <td>...</td>\n",
              "      <td>...</td>\n",
              "      <td>...</td>\n",
              "      <td>...</td>\n",
              "      <td>...</td>\n",
              "    </tr>\n",
              "    <tr>\n",
              "      <th>9995</th>\n",
              "      <td>1.012739</td>\n",
              "      <td>-5.982394</td>\n",
              "      <td>-2.377600</td>\n",
              "      <td>3.991366</td>\n",
              "      <td>2.066386</td>\n",
              "      <td>8.939499</td>\n",
              "      <td>3.515521</td>\n",
              "      <td>-0.687216</td>\n",
              "      <td>-7.096250</td>\n",
              "      <td>-0.483933</td>\n",
              "      <td>-3.487503</td>\n",
              "      <td>-6.412030</td>\n",
              "      <td>1.698171</td>\n",
              "      <td>5.591985</td>\n",
              "      <td>2.200870</td>\n",
              "      <td>1.710173</td>\n",
              "      <td>4.215186</td>\n",
              "      <td>7.796989</td>\n",
              "      <td>7.679128</td>\n",
              "      <td>5.763228</td>\n",
              "      <td>-5.406276</td>\n",
              "      <td>-5.459429</td>\n",
              "      <td>8.663905</td>\n",
              "      <td>-0.663315</td>\n",
              "      <td>-1.347786</td>\n",
              "      <td>1.658434</td>\n",
              "      <td>4.270892</td>\n",
              "      <td>5.375995</td>\n",
              "      <td>-0.445427</td>\n",
              "      <td>10.680069</td>\n",
              "      <td>-11.964788</td>\n",
              "      <td>55.400344</td>\n",
              "    </tr>\n",
              "    <tr>\n",
              "      <th>9996</th>\n",
              "      <td>1.971844</td>\n",
              "      <td>9.351393</td>\n",
              "      <td>5.487986</td>\n",
              "      <td>5.947889</td>\n",
              "      <td>-8.621342</td>\n",
              "      <td>5.833916</td>\n",
              "      <td>-0.831200</td>\n",
              "      <td>0.799592</td>\n",
              "      <td>2.719228</td>\n",
              "      <td>-3.751520</td>\n",
              "      <td>-4.101230</td>\n",
              "      <td>3.144996</td>\n",
              "      <td>3.296714</td>\n",
              "      <td>7.119346</td>\n",
              "      <td>3.873315</td>\n",
              "      <td>-10.067322</td>\n",
              "      <td>-7.486359</td>\n",
              "      <td>5.966499</td>\n",
              "      <td>-6.699479</td>\n",
              "      <td>-5.169989</td>\n",
              "      <td>7.498531</td>\n",
              "      <td>8.563825</td>\n",
              "      <td>0.733198</td>\n",
              "      <td>-6.472467</td>\n",
              "      <td>4.942586</td>\n",
              "      <td>-0.162590</td>\n",
              "      <td>2.895984</td>\n",
              "      <td>5.859200</td>\n",
              "      <td>1.094162</td>\n",
              "      <td>0.813355</td>\n",
              "      <td>18.702787</td>\n",
              "      <td>6.066777</td>\n",
              "    </tr>\n",
              "    <tr>\n",
              "      <th>9997</th>\n",
              "      <td>4.313977</td>\n",
              "      <td>7.818759</td>\n",
              "      <td>6.398568</td>\n",
              "      <td>-4.755216</td>\n",
              "      <td>-5.181228</td>\n",
              "      <td>-3.405445</td>\n",
              "      <td>11.223262</td>\n",
              "      <td>3.490421</td>\n",
              "      <td>6.006418</td>\n",
              "      <td>-9.669740</td>\n",
              "      <td>6.020925</td>\n",
              "      <td>-9.548196</td>\n",
              "      <td>-8.811076</td>\n",
              "      <td>-9.948476</td>\n",
              "      <td>-4.142153</td>\n",
              "      <td>-3.013274</td>\n",
              "      <td>8.687351</td>\n",
              "      <td>7.583746</td>\n",
              "      <td>1.857641</td>\n",
              "      <td>5.131343</td>\n",
              "      <td>-10.503256</td>\n",
              "      <td>2.915657</td>\n",
              "      <td>-8.064281</td>\n",
              "      <td>-3.891103</td>\n",
              "      <td>7.350757</td>\n",
              "      <td>-5.370867</td>\n",
              "      <td>5.108498</td>\n",
              "      <td>0.922176</td>\n",
              "      <td>3.686926</td>\n",
              "      <td>3.322278</td>\n",
              "      <td>15.637518</td>\n",
              "      <td>18.611389</td>\n",
              "    </tr>\n",
              "    <tr>\n",
              "      <th>9998</th>\n",
              "      <td>3.029997</td>\n",
              "      <td>-7.750469</td>\n",
              "      <td>9.031552</td>\n",
              "      <td>9.307987</td>\n",
              "      <td>-1.619870</td>\n",
              "      <td>1.449752</td>\n",
              "      <td>-2.457904</td>\n",
              "      <td>6.772582</td>\n",
              "      <td>-7.931218</td>\n",
              "      <td>8.501263</td>\n",
              "      <td>6.798074</td>\n",
              "      <td>1.240366</td>\n",
              "      <td>4.155902</td>\n",
              "      <td>6.037059</td>\n",
              "      <td>0.815239</td>\n",
              "      <td>-5.158712</td>\n",
              "      <td>-5.980060</td>\n",
              "      <td>5.424738</td>\n",
              "      <td>4.949754</td>\n",
              "      <td>-0.027357</td>\n",
              "      <td>9.037065</td>\n",
              "      <td>-4.983274</td>\n",
              "      <td>-2.470661</td>\n",
              "      <td>-4.061016</td>\n",
              "      <td>-3.000973</td>\n",
              "      <td>3.853341</td>\n",
              "      <td>-7.830560</td>\n",
              "      <td>2.054371</td>\n",
              "      <td>2.182887</td>\n",
              "      <td>-10.723758</td>\n",
              "      <td>-15.500938</td>\n",
              "      <td>-51.618788</td>\n",
              "    </tr>\n",
              "    <tr>\n",
              "      <th>9999</th>\n",
              "      <td>5.167087</td>\n",
              "      <td>11.360828</td>\n",
              "      <td>5.989421</td>\n",
              "      <td>-5.527974</td>\n",
              "      <td>-5.459924</td>\n",
              "      <td>-3.514900</td>\n",
              "      <td>8.817097</td>\n",
              "      <td>-0.313162</td>\n",
              "      <td>9.560471</td>\n",
              "      <td>-10.101839</td>\n",
              "      <td>5.200510</td>\n",
              "      <td>-10.135598</td>\n",
              "      <td>-8.593570</td>\n",
              "      <td>-9.544607</td>\n",
              "      <td>-5.230351</td>\n",
              "      <td>-3.073770</td>\n",
              "      <td>9.298421</td>\n",
              "      <td>7.449832</td>\n",
              "      <td>2.206924</td>\n",
              "      <td>5.900636</td>\n",
              "      <td>-12.027623</td>\n",
              "      <td>6.250410</td>\n",
              "      <td>-8.929068</td>\n",
              "      <td>-5.143601</td>\n",
              "      <td>8.422081</td>\n",
              "      <td>-4.812894</td>\n",
              "      <td>6.345059</td>\n",
              "      <td>-0.791921</td>\n",
              "      <td>5.813688</td>\n",
              "      <td>1.784168</td>\n",
              "      <td>22.721657</td>\n",
              "      <td>10.920841</td>\n",
              "    </tr>\n",
              "  </tbody>\n",
              "</table>\n",
              "<p>10000 rows × 32 columns</p>\n",
              "</div>"
            ],
            "text/plain": [
              "             0          1         2   ...         29         30         31\n",
              "0    -10.187117   5.645359 -1.512009  ... -10.452964  11.290718 -50.264820\n",
              "1      8.802957  -9.680265 -5.146325  ...   4.753808 -19.360529  25.769040\n",
              "2      4.566708  10.088068  6.267673  ...   3.636315  20.176137  20.181577\n",
              "3     -1.557750  -5.619996 -0.729111  ...   7.054722 -11.239992  37.273609\n",
              "4      9.105714 -10.918593 -6.447384  ...   5.055226 -21.837186  27.276130\n",
              "...         ...        ...       ...  ...        ...        ...        ...\n",
              "9995   1.012739  -5.982394 -2.377600  ...  10.680069 -11.964788  55.400344\n",
              "9996   1.971844   9.351393  5.487986  ...   0.813355  18.702787   6.066777\n",
              "9997   4.313977   7.818759  6.398568  ...   3.322278  15.637518  18.611389\n",
              "9998   3.029997  -7.750469  9.031552  ... -10.723758 -15.500938 -51.618788\n",
              "9999   5.167087  11.360828  5.989421  ...   1.784168  22.721657  10.920841\n",
              "\n",
              "[10000 rows x 32 columns]"
            ]
          },
          "metadata": {
            "tags": []
          },
          "execution_count": 5
        }
      ]
    },
    {
      "cell_type": "markdown",
      "metadata": {
        "id": "PwHXmqDc-9Rd"
      },
      "source": [
        "ข้อมูลที่ได้มาเป็นโจทย์ที่ได้มาจาก Seed 020:30:16 ซึ่งมีข้อมูลจำนวน 10000 แถวและ 32 คอลัมน์ จากนั้นทำการเตรียมข้อมูลก่อนนำไปใช้ทำการตัดตัวที่มีค่าสมประสิทธิ์ความสัมพันธิ์ (Correlation) กันเองออกไป เพื่อลดข้อมูลที่เหมือนกันออกไป"
      ]
    },
    {
      "cell_type": "markdown",
      "metadata": {
        "id": "cdCiD7rfDR5K"
      },
      "source": [
        "ดูขนาดของข้อมูลที่กำหนดมาให้"
      ]
    },
    {
      "cell_type": "code",
      "metadata": {
        "id": "jUARadkFEuyJ",
        "colab": {
          "base_uri": "https://localhost:8080/"
        },
        "outputId": "3f991fe0-61ef-4405-d3bf-71dd1433b671"
      },
      "source": [
        "Data.shape"
      ],
      "execution_count": 6,
      "outputs": [
        {
          "output_type": "execute_result",
          "data": {
            "text/plain": [
              "(10000, 32)"
            ]
          },
          "metadata": {
            "tags": []
          },
          "execution_count": 6
        }
      ]
    },
    {
      "cell_type": "markdown",
      "metadata": {
        "id": "lq4aBkppDpSW"
      },
      "source": [
        "จากนั้นดูขนาดของ Correlation coeficient จากข้อมูล"
      ]
    },
    {
      "cell_type": "code",
      "metadata": {
        "colab": {
          "base_uri": "https://localhost:8080/"
        },
        "id": "JOlN8dqVDXh_",
        "outputId": "f23f6cb4-2ecd-4051-a2fa-cf88e7e34d07"
      },
      "source": [
        "corr = np.corrcoef(Data.to_numpy().T)\n",
        "corr.shape"
      ],
      "execution_count": 8,
      "outputs": [
        {
          "output_type": "execute_result",
          "data": {
            "text/plain": [
              "(32, 32)"
            ]
          },
          "metadata": {
            "tags": []
          },
          "execution_count": 8
        }
      ]
    },
    {
      "cell_type": "markdown",
      "metadata": {
        "id": "eaT4ZCI3Ei3h"
      },
      "source": [
        "จากนั้นให้ทำการวนลูปหาค่าสัมประสิทธิ์ความสัมพันธ์ (Correlation) ที่ซ้ำกัดเพื่อขจัดข้อมูลนั้นออกไป"
      ]
    },
    {
      "cell_type": "code",
      "metadata": {
        "colab": {
          "base_uri": "https://localhost:8080/"
        },
        "id": "mAgYddGQEf6m",
        "outputId": "b549cfa7-9671-41f1-d4ef-48d351fa8bf2"
      },
      "source": [
        "for i in range(corr.shape[0]):\n",
        "    for j in range(corr.shape[1]):\n",
        "        if (i !=j) and (corr[i,j] == 1.):\n",
        "            print(f'row = {i} column = {j} corrcoef = {corr[i,j]}')"
      ],
      "execution_count": 9,
      "outputs": [
        {
          "output_type": "stream",
          "text": [
            "row = 1 column = 30 corrcoef = 1.0\n",
            "row = 30 column = 1 corrcoef = 1.0\n"
          ],
          "name": "stdout"
        }
      ]
    },
    {
      "cell_type": "markdown",
      "metadata": {
        "id": "QFraiBvhFOdi"
      },
      "source": [
        "จากการวนลูปพบว่าค่าที่ 1 และค่า 30 มีค่าที่เท่ากันหรือซ้ำกัน ฉะนั้นจำเป็นที่จะต้องตัดข้อมูลออกก่อนจึงนำไปใช้ โดยการแสดงข้อมูลทั้งหมด"
      ]
    },
    {
      "cell_type": "code",
      "metadata": {
        "colab": {
          "base_uri": "https://localhost:8080/",
          "height": 419
        },
        "id": "BL0YPiDPGPL-",
        "outputId": "ea87f271-fc25-4dc2-d0e4-0b9fe915784a"
      },
      "source": [
        "newdata = Data.iloc[:,1:30]\n",
        "newdata"
      ],
      "execution_count": 31,
      "outputs": [
        {
          "output_type": "execute_result",
          "data": {
            "text/html": [
              "<div>\n",
              "<style scoped>\n",
              "    .dataframe tbody tr th:only-of-type {\n",
              "        vertical-align: middle;\n",
              "    }\n",
              "\n",
              "    .dataframe tbody tr th {\n",
              "        vertical-align: top;\n",
              "    }\n",
              "\n",
              "    .dataframe thead th {\n",
              "        text-align: right;\n",
              "    }\n",
              "</style>\n",
              "<table border=\"1\" class=\"dataframe\">\n",
              "  <thead>\n",
              "    <tr style=\"text-align: right;\">\n",
              "      <th></th>\n",
              "      <th>1</th>\n",
              "      <th>2</th>\n",
              "      <th>3</th>\n",
              "      <th>4</th>\n",
              "      <th>5</th>\n",
              "      <th>6</th>\n",
              "      <th>7</th>\n",
              "      <th>8</th>\n",
              "      <th>9</th>\n",
              "      <th>10</th>\n",
              "      <th>11</th>\n",
              "      <th>12</th>\n",
              "      <th>13</th>\n",
              "      <th>14</th>\n",
              "      <th>15</th>\n",
              "      <th>16</th>\n",
              "      <th>17</th>\n",
              "      <th>18</th>\n",
              "      <th>19</th>\n",
              "      <th>20</th>\n",
              "      <th>21</th>\n",
              "      <th>22</th>\n",
              "      <th>23</th>\n",
              "      <th>24</th>\n",
              "      <th>25</th>\n",
              "      <th>26</th>\n",
              "      <th>27</th>\n",
              "      <th>28</th>\n",
              "      <th>29</th>\n",
              "    </tr>\n",
              "  </thead>\n",
              "  <tbody>\n",
              "    <tr>\n",
              "      <th>0</th>\n",
              "      <td>5.645359</td>\n",
              "      <td>-1.512009</td>\n",
              "      <td>-8.408605</td>\n",
              "      <td>-7.160649</td>\n",
              "      <td>8.152055</td>\n",
              "      <td>-5.137610</td>\n",
              "      <td>-8.514089</td>\n",
              "      <td>-6.140884</td>\n",
              "      <td>10.495298</td>\n",
              "      <td>1.590252</td>\n",
              "      <td>3.370453</td>\n",
              "      <td>0.659568</td>\n",
              "      <td>5.630557</td>\n",
              "      <td>1.300547</td>\n",
              "      <td>2.487644</td>\n",
              "      <td>6.066393</td>\n",
              "      <td>8.233752</td>\n",
              "      <td>-9.202617</td>\n",
              "      <td>-5.345057</td>\n",
              "      <td>5.844010</td>\n",
              "      <td>1.529182</td>\n",
              "      <td>-3.323277</td>\n",
              "      <td>3.321481</td>\n",
              "      <td>2.621559</td>\n",
              "      <td>-4.425307</td>\n",
              "      <td>4.524257</td>\n",
              "      <td>-4.957104</td>\n",
              "      <td>6.386672</td>\n",
              "      <td>-10.452964</td>\n",
              "    </tr>\n",
              "    <tr>\n",
              "      <th>1</th>\n",
              "      <td>-9.680265</td>\n",
              "      <td>-5.146325</td>\n",
              "      <td>-1.400457</td>\n",
              "      <td>4.109127</td>\n",
              "      <td>9.107175</td>\n",
              "      <td>8.461001</td>\n",
              "      <td>1.703898</td>\n",
              "      <td>-0.734701</td>\n",
              "      <td>-0.662673</td>\n",
              "      <td>3.817067</td>\n",
              "      <td>1.822420</td>\n",
              "      <td>4.052866</td>\n",
              "      <td>-3.271882</td>\n",
              "      <td>7.773785</td>\n",
              "      <td>7.411452</td>\n",
              "      <td>-4.505587</td>\n",
              "      <td>2.963060</td>\n",
              "      <td>7.674272</td>\n",
              "      <td>-9.869400</td>\n",
              "      <td>-8.226315</td>\n",
              "      <td>8.427967</td>\n",
              "      <td>5.859954</td>\n",
              "      <td>2.930561</td>\n",
              "      <td>4.895293</td>\n",
              "      <td>-7.116522</td>\n",
              "      <td>-8.471998</td>\n",
              "      <td>5.241182</td>\n",
              "      <td>-1.075735</td>\n",
              "      <td>4.753808</td>\n",
              "    </tr>\n",
              "    <tr>\n",
              "      <th>2</th>\n",
              "      <td>10.088068</td>\n",
              "      <td>6.267673</td>\n",
              "      <td>-5.007461</td>\n",
              "      <td>-6.157636</td>\n",
              "      <td>-4.656535</td>\n",
              "      <td>9.834261</td>\n",
              "      <td>1.608311</td>\n",
              "      <td>6.068735</td>\n",
              "      <td>-10.170915</td>\n",
              "      <td>7.084125</td>\n",
              "      <td>-9.178798</td>\n",
              "      <td>-7.684204</td>\n",
              "      <td>-11.860847</td>\n",
              "      <td>-3.715293</td>\n",
              "      <td>-3.697722</td>\n",
              "      <td>9.908313</td>\n",
              "      <td>6.599582</td>\n",
              "      <td>0.364110</td>\n",
              "      <td>7.548956</td>\n",
              "      <td>-8.481781</td>\n",
              "      <td>5.089799</td>\n",
              "      <td>-7.056839</td>\n",
              "      <td>-5.440225</td>\n",
              "      <td>7.366136</td>\n",
              "      <td>-6.099482</td>\n",
              "      <td>5.900475</td>\n",
              "      <td>-0.567453</td>\n",
              "      <td>3.676044</td>\n",
              "      <td>3.636315</td>\n",
              "    </tr>\n",
              "    <tr>\n",
              "      <th>3</th>\n",
              "      <td>-5.619996</td>\n",
              "      <td>-0.729111</td>\n",
              "      <td>7.873232</td>\n",
              "      <td>-7.234014</td>\n",
              "      <td>-3.057497</td>\n",
              "      <td>-2.156534</td>\n",
              "      <td>-4.396004</td>\n",
              "      <td>-8.843602</td>\n",
              "      <td>-6.002348</td>\n",
              "      <td>6.974013</td>\n",
              "      <td>-6.001278</td>\n",
              "      <td>-8.506518</td>\n",
              "      <td>-2.456330</td>\n",
              "      <td>1.138076</td>\n",
              "      <td>-3.899233</td>\n",
              "      <td>9.395032</td>\n",
              "      <td>-6.214876</td>\n",
              "      <td>9.013846</td>\n",
              "      <td>1.558676</td>\n",
              "      <td>6.049342</td>\n",
              "      <td>2.618855</td>\n",
              "      <td>-7.194114</td>\n",
              "      <td>-10.214505</td>\n",
              "      <td>8.954457</td>\n",
              "      <td>7.642740</td>\n",
              "      <td>4.098489</td>\n",
              "      <td>-1.835569</td>\n",
              "      <td>-1.134072</td>\n",
              "      <td>7.054722</td>\n",
              "    </tr>\n",
              "    <tr>\n",
              "      <th>4</th>\n",
              "      <td>-10.918593</td>\n",
              "      <td>-6.447384</td>\n",
              "      <td>1.260397</td>\n",
              "      <td>6.235345</td>\n",
              "      <td>10.998694</td>\n",
              "      <td>9.431398</td>\n",
              "      <td>4.326759</td>\n",
              "      <td>-1.366271</td>\n",
              "      <td>0.720983</td>\n",
              "      <td>2.657494</td>\n",
              "      <td>5.502511</td>\n",
              "      <td>6.129621</td>\n",
              "      <td>-1.155109</td>\n",
              "      <td>9.711989</td>\n",
              "      <td>5.343099</td>\n",
              "      <td>-7.353672</td>\n",
              "      <td>2.485260</td>\n",
              "      <td>7.425995</td>\n",
              "      <td>-9.048266</td>\n",
              "      <td>-7.630582</td>\n",
              "      <td>7.810077</td>\n",
              "      <td>6.552491</td>\n",
              "      <td>3.859978</td>\n",
              "      <td>5.717528</td>\n",
              "      <td>-3.768863</td>\n",
              "      <td>-7.753635</td>\n",
              "      <td>5.075417</td>\n",
              "      <td>-1.536883</td>\n",
              "      <td>5.055226</td>\n",
              "    </tr>\n",
              "    <tr>\n",
              "      <th>...</th>\n",
              "      <td>...</td>\n",
              "      <td>...</td>\n",
              "      <td>...</td>\n",
              "      <td>...</td>\n",
              "      <td>...</td>\n",
              "      <td>...</td>\n",
              "      <td>...</td>\n",
              "      <td>...</td>\n",
              "      <td>...</td>\n",
              "      <td>...</td>\n",
              "      <td>...</td>\n",
              "      <td>...</td>\n",
              "      <td>...</td>\n",
              "      <td>...</td>\n",
              "      <td>...</td>\n",
              "      <td>...</td>\n",
              "      <td>...</td>\n",
              "      <td>...</td>\n",
              "      <td>...</td>\n",
              "      <td>...</td>\n",
              "      <td>...</td>\n",
              "      <td>...</td>\n",
              "      <td>...</td>\n",
              "      <td>...</td>\n",
              "      <td>...</td>\n",
              "      <td>...</td>\n",
              "      <td>...</td>\n",
              "      <td>...</td>\n",
              "      <td>...</td>\n",
              "    </tr>\n",
              "    <tr>\n",
              "      <th>9995</th>\n",
              "      <td>-5.982394</td>\n",
              "      <td>-2.377600</td>\n",
              "      <td>3.991366</td>\n",
              "      <td>2.066386</td>\n",
              "      <td>8.939499</td>\n",
              "      <td>3.515521</td>\n",
              "      <td>-0.687216</td>\n",
              "      <td>-7.096250</td>\n",
              "      <td>-0.483933</td>\n",
              "      <td>-3.487503</td>\n",
              "      <td>-6.412030</td>\n",
              "      <td>1.698171</td>\n",
              "      <td>5.591985</td>\n",
              "      <td>2.200870</td>\n",
              "      <td>1.710173</td>\n",
              "      <td>4.215186</td>\n",
              "      <td>7.796989</td>\n",
              "      <td>7.679128</td>\n",
              "      <td>5.763228</td>\n",
              "      <td>-5.406276</td>\n",
              "      <td>-5.459429</td>\n",
              "      <td>8.663905</td>\n",
              "      <td>-0.663315</td>\n",
              "      <td>-1.347786</td>\n",
              "      <td>1.658434</td>\n",
              "      <td>4.270892</td>\n",
              "      <td>5.375995</td>\n",
              "      <td>-0.445427</td>\n",
              "      <td>10.680069</td>\n",
              "    </tr>\n",
              "    <tr>\n",
              "      <th>9996</th>\n",
              "      <td>9.351393</td>\n",
              "      <td>5.487986</td>\n",
              "      <td>5.947889</td>\n",
              "      <td>-8.621342</td>\n",
              "      <td>5.833916</td>\n",
              "      <td>-0.831200</td>\n",
              "      <td>0.799592</td>\n",
              "      <td>2.719228</td>\n",
              "      <td>-3.751520</td>\n",
              "      <td>-4.101230</td>\n",
              "      <td>3.144996</td>\n",
              "      <td>3.296714</td>\n",
              "      <td>7.119346</td>\n",
              "      <td>3.873315</td>\n",
              "      <td>-10.067322</td>\n",
              "      <td>-7.486359</td>\n",
              "      <td>5.966499</td>\n",
              "      <td>-6.699479</td>\n",
              "      <td>-5.169989</td>\n",
              "      <td>7.498531</td>\n",
              "      <td>8.563825</td>\n",
              "      <td>0.733198</td>\n",
              "      <td>-6.472467</td>\n",
              "      <td>4.942586</td>\n",
              "      <td>-0.162590</td>\n",
              "      <td>2.895984</td>\n",
              "      <td>5.859200</td>\n",
              "      <td>1.094162</td>\n",
              "      <td>0.813355</td>\n",
              "    </tr>\n",
              "    <tr>\n",
              "      <th>9997</th>\n",
              "      <td>7.818759</td>\n",
              "      <td>6.398568</td>\n",
              "      <td>-4.755216</td>\n",
              "      <td>-5.181228</td>\n",
              "      <td>-3.405445</td>\n",
              "      <td>11.223262</td>\n",
              "      <td>3.490421</td>\n",
              "      <td>6.006418</td>\n",
              "      <td>-9.669740</td>\n",
              "      <td>6.020925</td>\n",
              "      <td>-9.548196</td>\n",
              "      <td>-8.811076</td>\n",
              "      <td>-9.948476</td>\n",
              "      <td>-4.142153</td>\n",
              "      <td>-3.013274</td>\n",
              "      <td>8.687351</td>\n",
              "      <td>7.583746</td>\n",
              "      <td>1.857641</td>\n",
              "      <td>5.131343</td>\n",
              "      <td>-10.503256</td>\n",
              "      <td>2.915657</td>\n",
              "      <td>-8.064281</td>\n",
              "      <td>-3.891103</td>\n",
              "      <td>7.350757</td>\n",
              "      <td>-5.370867</td>\n",
              "      <td>5.108498</td>\n",
              "      <td>0.922176</td>\n",
              "      <td>3.686926</td>\n",
              "      <td>3.322278</td>\n",
              "    </tr>\n",
              "    <tr>\n",
              "      <th>9998</th>\n",
              "      <td>-7.750469</td>\n",
              "      <td>9.031552</td>\n",
              "      <td>9.307987</td>\n",
              "      <td>-1.619870</td>\n",
              "      <td>1.449752</td>\n",
              "      <td>-2.457904</td>\n",
              "      <td>6.772582</td>\n",
              "      <td>-7.931218</td>\n",
              "      <td>8.501263</td>\n",
              "      <td>6.798074</td>\n",
              "      <td>1.240366</td>\n",
              "      <td>4.155902</td>\n",
              "      <td>6.037059</td>\n",
              "      <td>0.815239</td>\n",
              "      <td>-5.158712</td>\n",
              "      <td>-5.980060</td>\n",
              "      <td>5.424738</td>\n",
              "      <td>4.949754</td>\n",
              "      <td>-0.027357</td>\n",
              "      <td>9.037065</td>\n",
              "      <td>-4.983274</td>\n",
              "      <td>-2.470661</td>\n",
              "      <td>-4.061016</td>\n",
              "      <td>-3.000973</td>\n",
              "      <td>3.853341</td>\n",
              "      <td>-7.830560</td>\n",
              "      <td>2.054371</td>\n",
              "      <td>2.182887</td>\n",
              "      <td>-10.723758</td>\n",
              "    </tr>\n",
              "    <tr>\n",
              "      <th>9999</th>\n",
              "      <td>11.360828</td>\n",
              "      <td>5.989421</td>\n",
              "      <td>-5.527974</td>\n",
              "      <td>-5.459924</td>\n",
              "      <td>-3.514900</td>\n",
              "      <td>8.817097</td>\n",
              "      <td>-0.313162</td>\n",
              "      <td>9.560471</td>\n",
              "      <td>-10.101839</td>\n",
              "      <td>5.200510</td>\n",
              "      <td>-10.135598</td>\n",
              "      <td>-8.593570</td>\n",
              "      <td>-9.544607</td>\n",
              "      <td>-5.230351</td>\n",
              "      <td>-3.073770</td>\n",
              "      <td>9.298421</td>\n",
              "      <td>7.449832</td>\n",
              "      <td>2.206924</td>\n",
              "      <td>5.900636</td>\n",
              "      <td>-12.027623</td>\n",
              "      <td>6.250410</td>\n",
              "      <td>-8.929068</td>\n",
              "      <td>-5.143601</td>\n",
              "      <td>8.422081</td>\n",
              "      <td>-4.812894</td>\n",
              "      <td>6.345059</td>\n",
              "      <td>-0.791921</td>\n",
              "      <td>5.813688</td>\n",
              "      <td>1.784168</td>\n",
              "    </tr>\n",
              "  </tbody>\n",
              "</table>\n",
              "<p>10000 rows × 29 columns</p>\n",
              "</div>"
            ],
            "text/plain": [
              "             1         2         3   ...        27        28         29\n",
              "0      5.645359 -1.512009 -8.408605  ... -4.957104  6.386672 -10.452964\n",
              "1     -9.680265 -5.146325 -1.400457  ...  5.241182 -1.075735   4.753808\n",
              "2     10.088068  6.267673 -5.007461  ... -0.567453  3.676044   3.636315\n",
              "3     -5.619996 -0.729111  7.873232  ... -1.835569 -1.134072   7.054722\n",
              "4    -10.918593 -6.447384  1.260397  ...  5.075417 -1.536883   5.055226\n",
              "...         ...       ...       ...  ...       ...       ...        ...\n",
              "9995  -5.982394 -2.377600  3.991366  ...  5.375995 -0.445427  10.680069\n",
              "9996   9.351393  5.487986  5.947889  ...  5.859200  1.094162   0.813355\n",
              "9997   7.818759  6.398568 -4.755216  ...  0.922176  3.686926   3.322278\n",
              "9998  -7.750469  9.031552  9.307987  ...  2.054371  2.182887 -10.723758\n",
              "9999  11.360828  5.989421 -5.527974  ... -0.791921  5.813688   1.784168\n",
              "\n",
              "[10000 rows x 29 columns]"
            ]
          },
          "metadata": {
            "tags": []
          },
          "execution_count": 31
        }
      ]
    },
    {
      "cell_type": "markdown",
      "metadata": {
        "id": "na05HGWkPub3"
      },
      "source": [
        "ทำให้ได้ข้อมูลใหม่มาใช้งาน\n",
        "\n",
        "***หมายเหตุ : ข้อมูลที่อาจารย์ให้มาในชื่อ columns เป็น type ที่ไม่สามารถทำการ drop ได้จึงจำเป็นที่จะต้องใช้ data.iloc ในการทำการตัด columns ออกไปและไม่สามารถนำข้อมูลที่ไม่จำเป็นต้องโดนตัดกลับมาให้ได้ เนื่องจากอาจารย์ยังไม่สอนเชื่อมตาราง***"
      ]
    },
    {
      "cell_type": "markdown",
      "metadata": {
        "id": "NLLP_JmhUm2N"
      },
      "source": [
        "จากโจทย์ข้อที่ 2 ทำ clustering แล้วทำ visualize ข้อมูลแบบ 2 มิติ"
      ]
    },
    {
      "cell_type": "markdown",
      "metadata": {
        "id": "7onsKE0eV6Ha"
      },
      "source": [
        "โดยการเอา function k-means จาก sklearn.cluster มาใช้งาน"
      ]
    },
    {
      "cell_type": "markdown",
      "metadata": {
        "id": "cZIFF7AjWUF3"
      },
      "source": [
        "IMPORT"
      ]
    },
    {
      "cell_type": "code",
      "metadata": {
        "id": "-FwafCJcVaiJ"
      },
      "source": [
        "from sklearn.cluster import KMeans"
      ],
      "execution_count": 33,
      "outputs": []
    },
    {
      "cell_type": "markdown",
      "metadata": {
        "id": "_2tAOLOCWr5Z"
      },
      "source": [
        "จากนั้นกำหนดค่า k ที่ต้องการโดยให้ k = 4 และ random_state=2021 ให้เริ่มจุด ณ จุดๆนี้"
      ]
    },
    {
      "cell_type": "markdown",
      "metadata": {
        "id": "cDTPjvHIWXpW"
      },
      "source": [
        "DEFINE"
      ]
    },
    {
      "cell_type": "code",
      "metadata": {
        "id": "1OwHjG4YWPSf"
      },
      "source": [
        "kmeans = KMeans(n_clusters=4,random_state=2021)"
      ],
      "execution_count": 36,
      "outputs": []
    },
    {
      "cell_type": "markdown",
      "metadata": {
        "id": "pHcOVEJRXQYB"
      },
      "source": [
        "คำนวณหาจุด center ของข้อมูลด้วยวิธี K-means clustering"
      ]
    },
    {
      "cell_type": "markdown",
      "metadata": {
        "id": "0MWbm5VdXHFk"
      },
      "source": [
        "FIT - TRANSFORM"
      ]
    },
    {
      "cell_type": "code",
      "metadata": {
        "id": "AJ3-RK6wXF17",
        "outputId": "befb2f0c-34f7-4668-fa0f-9a8ba1fd56b4",
        "colab": {
          "base_uri": "https://localhost:8080/"
        }
      },
      "source": [
        "kmeans.fit(newdata)"
      ],
      "execution_count": 37,
      "outputs": [
        {
          "output_type": "execute_result",
          "data": {
            "text/plain": [
              "KMeans(algorithm='auto', copy_x=True, init='k-means++', max_iter=300,\n",
              "       n_clusters=4, n_init=10, n_jobs=None, precompute_distances='auto',\n",
              "       random_state=2021, tol=0.0001, verbose=0)"
            ]
          },
          "metadata": {
            "tags": []
          },
          "execution_count": 37
        }
      ]
    },
    {
      "cell_type": "markdown",
      "metadata": {
        "id": "iMWLvJFSXiIK"
      },
      "source": [
        "จากนั้นแสดงจุด center ที่คำนวณออกมาได้"
      ]
    },
    {
      "cell_type": "code",
      "metadata": {
        "id": "FjsljVtCXrX5",
        "outputId": "a525d553-7dc6-49d2-ce49-91dc8d95e150",
        "colab": {
          "base_uri": "https://localhost:8080/"
        }
      },
      "source": [
        "kmeans.cluster_centers_"
      ],
      "execution_count": 38,
      "outputs": [
        {
          "output_type": "execute_result",
          "data": {
            "text/plain": [
              "array([[-2.25169051, -4.89342565,  8.22500518,  5.6474035 , -7.7542208 ,\n",
              "         6.72404258,  2.62222931,  6.36851506,  0.34871386, -6.5801388 ,\n",
              "        -1.00194371,  1.34351458, -4.99200667, -5.545567  , -2.38984966,\n",
              "         0.25053063, -0.63789967,  3.2025595 , -7.60074537,  1.88854318,\n",
              "        -6.49555079, -2.85070057, -4.1450389 ,  3.97182635, -1.10146817,\n",
              "        -3.4103411 ,  0.03097696,  9.82198357,  2.76015378],\n",
              "       [-0.19276483,  1.33459524,  2.97324318, -1.41618821, -0.20794756,\n",
              "        -2.48288615, -0.1385968 , -1.66080902,  2.87699643,  0.9664987 ,\n",
              "         3.6999511 ,  3.11692486,  5.040901  , -0.04772086,  1.68144648,\n",
              "         1.90879495,  2.61418553, -4.47217637,  2.54545876,  1.15253901,\n",
              "         0.63972973, -1.65605211, -0.04733315, -1.35440378, -3.86306258,\n",
              "        -1.51265504,  1.02915776,  1.04457518, -5.73443711],\n",
              "       [ 1.80481604,  3.18125334,  1.48273128, -6.51243506, -3.02505678,\n",
              "         3.78792829, -0.50345888, -0.41759362, -7.69260905,  7.03636827,\n",
              "        -7.58610663, -9.40791448, -5.62176482, -1.68971824, -3.12335672,\n",
              "         9.21701906,  0.6630733 ,  5.35214439,  2.94714945, -1.62409809,\n",
              "         3.86530151, -7.33894798, -7.83473369,  8.78981576,  1.48596082,\n",
              "         5.27408112, -0.10030193,  1.25655307,  5.31910101],\n",
              "       [ 0.24256923, -3.00982628, -1.41890962,  2.88688082,  5.29126055,\n",
              "         5.23346352, -0.43073159, -0.4560127 , -1.61867319,  2.1147096 ,\n",
              "         0.42932073,  1.8219315 ,  1.82558591,  2.91083021,  3.74498722,\n",
              "        -3.96834029,  3.76701138,  3.25970891, -1.94628442,  0.79140531,\n",
              "        -0.51339592,  6.4299038 ,  3.2288254 ,  6.12071038, -2.43304675,\n",
              "         0.06816305,  0.90852144, -2.39891807,  5.35679503]])"
            ]
          },
          "metadata": {
            "tags": []
          },
          "execution_count": 38
        }
      ]
    },
    {
      "cell_type": "markdown",
      "metadata": {
        "id": "BxyK_qVhX3W7"
      },
      "source": [
        "จากนั้นทำการจัดกลุ่มของข้อมูล"
      ]
    },
    {
      "cell_type": "code",
      "metadata": {
        "id": "DCUlt_9SYSEk",
        "outputId": "d5b14db6-47df-4b15-e82b-7f321ab9a037",
        "colab": {
          "base_uri": "https://localhost:8080/"
        }
      },
      "source": [
        "y = kmeans.predict(newdata)\n",
        "y"
      ],
      "execution_count": 40,
      "outputs": [
        {
          "output_type": "execute_result",
          "data": {
            "text/plain": [
              "array([1, 3, 2, ..., 2, 1, 2], dtype=int32)"
            ]
          },
          "metadata": {
            "tags": []
          },
          "execution_count": 40
        }
      ]
    },
    {
      "cell_type": "markdown",
      "metadata": {
        "id": "JYZYS4XyYvvb"
      },
      "source": [
        "ทำการลด Dimension ให้เหลือ 2 และวาดกราฟ scatter plot จากการ Predict "
      ]
    },
    {
      "cell_type": "code",
      "metadata": {
        "id": "QS-Br1XaZRuT"
      },
      "source": [
        "from sklearn.decomposition import PCA\n",
        "from matplotlib import pyplot as plt\n",
        "pca = PCA(n_components=2)\n",
        "new_pca = pca.fit_transform(newdata)"
      ],
      "execution_count": 57,
      "outputs": []
    },
    {
      "cell_type": "code",
      "metadata": {
        "id": "Lweh7oodae79",
        "outputId": "745abecd-bf3c-41aa-cbd4-d7c866a987dc",
        "colab": {
          "base_uri": "https://localhost:8080/",
          "height": 283
        }
      },
      "source": [
        "kmeans = KMeans(n_clusters=4, random_state=2021)\n",
        "kmeans.fit(newdata)\n",
        "y = kmeans.predict(newdata)\n",
        "plt.scatter(new_pca[:,0],new_pca[:,1],c=y)"
      ],
      "execution_count": 44,
      "outputs": [
        {
          "output_type": "execute_result",
          "data": {
            "text/plain": [
              "<matplotlib.collections.PathCollection at 0x7f4e0ce12990>"
            ]
          },
          "metadata": {
            "tags": []
          },
          "execution_count": 44
        },
        {
          "output_type": "display_data",
          "data": {
            "image/png": "[encoded data removed]",
            "text/plain": [
              "<Figure size 432x288 with 1 Axes>"
            ]
          },
          "metadata": {
            "tags": [],
            "needs_background": "light"
          }
        }
      ]
    },
    {
      "cell_type": "markdown",
      "metadata": {
        "id": "Y65d9xNFbPgH"
      },
      "source": [
        "จากนั้นทำการหาจำนวนกลุ่มที่เหมาะสมต่อการแบ่งกลุ่มโดยการหาค่า k ที่เหมาะสมของข้อมูลด้วยวิธี The Elbow Method"
      ]
    },
    {
      "cell_type": "markdown",
      "metadata": {
        "id": "NGJHUn9cb9Mv"
      },
      "source": [
        "ทำการหาค่า SSE (Sum of Squared error) ของข้อมูล"
      ]
    },
    {
      "cell_type": "code",
      "metadata": {
        "id": "RPzGJ8Tub4-L",
        "outputId": "65c4d635-c328-4dc2-a8fb-3b1bb6b12e44",
        "colab": {
          "base_uri": "https://localhost:8080/"
        }
      },
      "source": [
        "kmeans.inertia_"
      ],
      "execution_count": 46,
      "outputs": [
        {
          "output_type": "execute_result",
          "data": {
            "text/plain": [
              "6811674.586506553"
            ]
          },
          "metadata": {
            "tags": []
          },
          "execution_count": 46
        }
      ]
    },
    {
      "cell_type": "code",
      "metadata": {
        "id": "npefGCvWcSTe",
        "outputId": "3be3b25d-4835-45c4-936a-c834ce71026e",
        "colab": {
          "base_uri": "https://localhost:8080/"
        }
      },
      "source": [
        "SSE = list()\n",
        "for k in [1,2,3,4,5,6,7,8]:\n",
        "    kmeans = KMeans(n_clusters = k , random_state = 2021)\n",
        "    kmeans.fit(newdata)\n",
        "    SSE.append(kmeans.inertia_)\n",
        "SSE"
      ],
      "execution_count": 49,
      "outputs": [
        {
          "output_type": "execute_result",
          "data": {
            "text/plain": [
              "[9906508.553051103,\n",
              " 8561111.758623503,\n",
              " 7526889.77271021,\n",
              " 6811674.586506553,\n",
              " 6062753.46985673,\n",
              " 5334444.667888967,\n",
              " 4621335.446433915,\n",
              " 3945198.1037585414]"
            ]
          },
          "metadata": {
            "tags": []
          },
          "execution_count": 49
        }
      ]
    },
    {
      "cell_type": "markdown",
      "metadata": {
        "id": "8qcOORYAdJAH"
      },
      "source": [
        "จากนำ\n"
      ]
    },
    {
      "cell_type": "code",
      "metadata": {
        "id": "av31aCROcica",
        "outputId": "e9434970-585c-483d-8f78-74cf557d899f",
        "colab": {
          "base_uri": "https://localhost:8080/",
          "height": 345
        }
      },
      "source": [
        "plt.plot([1,2,3,4,5,6,7,8],SSE,'o-b')\n",
        "\n",
        "plt.xlabel('k')\n",
        "plt.ylabel('SSE');"
      ],
      "execution_count": 59,
      "outputs": [
        {
          "output_type": "display_data",
          "data": {
            "image/png": "[encoded data removed]",
            "text/plain": [
              "<Figure size 360x360 with 1 Axes>"
            ]
          },
          "metadata": {
            "tags": [],
            "needs_background": "light"
          }
        }
      ]
    }
  ]
}