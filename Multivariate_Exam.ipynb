{
  "nbformat": 4,
  "nbformat_minor": 0,
  "metadata": {
    "colab": {
      "name": "Multivariate Exam.ipynb",
      "provenance": [],
      "include_colab_link": true
    },
    "kernelspec": {
      "name": "python3",
      "display_name": "Python 3"
    },
    "language_info": {
      "name": "python"
    }
  },
  "cells": [
    {
      "cell_type": "markdown",
      "metadata": {
        "id": "view-in-github",
        "colab_type": "text"
      },
      "source": [
        "<a href=\"https://colab.research.google.com/github/sitthatkaja/multivariate/blob/main/Multivariate_Exam.ipynb\" target=\"_parent\"><img src=\"https://colab.research.google.com/assets/colab-badge.svg\" alt=\"Open In Colab\"/></a>"
      ]
    },
    {
      "cell_type": "markdown",
      "metadata": {
        "id": "JZxiNADfaDtv"
      },
      "source": [
        "ให้นักศึกษาทำข้อสอบใน Colab Notebook นี้โดยกรอกข้อมูลของตัวเองใน cell ที่ 2 แล้วรัน cell ที่ 1 - 5 และเริ่มทำข้อสอบใน cell ที่ 6 เป็นต้นไป\n",
        "\n",
        "โดยโจทย์คือ\n",
        "1. ข้อมูลโจทย์ อยู่ใน ตัวแปร ```Data```\n",
        "2. ทำ clustering แล้วทำ visualize ข้อมูลแบบ 2 มิติ\n",
        "3. ลด Dimension ของข้อมูลเหลือ 2 มิติ แล้วทำ clustering แล้ว visualize ข้อมูลแบบ 2 มิติ\n",
        "4. เปรียบเทียบความแตกต่างของผลข้อ 2. กับ ข้อ 3.\n",
        "5. เขียน comments อธิบายทุกขั้นตอน\n",
        "6. อัด video อธิบาย code ทุกๆขั้นตอนรวมถึงผลแล้วอัพลง youtube ในรูปแบบ unlist \n",
        "7. commit โดยใช้ชื่อ commit เป็น link youtube ที่อธิบาย code ในข้อ 6.\n",
        "\n",
        "กำหนดส่งวันที่ 2 พฤษภาคม 2564 (โดยให้มากรอกวันที่ commit ครั้งสุดท้ายใน sheet: https://docs.google.com/spreadsheets/d/1_qJwLDJVtOW1HxBcf_FHVc6UT4J_SOonuR6o3EEnVzw/edit?usp=sharing ช่อง Final)"
      ]
    },
    {
      "cell_type": "code",
      "metadata": {
        "id": "cWl2x1bPGtQl"
      },
      "source": [
        "from sklearn.datasets import make_blobs\n",
        "import random,math\n",
        "import numpy as np\n",
        "import pandas"
      ],
      "execution_count": 1,
      "outputs": []
    },
    {
      "cell_type": "code",
      "metadata": {
        "id": "gZfzuiHsZksh"
      },
      "source": [
        "Name = 'สิทธัตกะ จรัสแสง'\n",
        "ID = '6230205412'"
      ],
      "execution_count": 2,
      "outputs": []
    },
    {
      "cell_type": "code",
      "metadata": {
        "id": "8hFQXkF5aAiA"
      },
      "source": [
        "def DataGenerator(name,id):\n",
        "    random.seed(int(id[3:6]))\n",
        "    numfeat = random.randint(20,30)\n",
        "    ct = random.randint(len(name)-6,len(name))\n",
        "    \n",
        "    X, y = make_blobs(n_samples=10000, centers=ct, n_features=numfeat , random_state=int(id[3:6]))\n",
        "\n",
        "    print(f'{id[3:6]}:{numfeat}:{ct}')\n",
        "    X_t = (X[:,1]*2)+int(id[3])\n",
        "    X_t2 = (X[:,-1]*5)+int(id[4])\n",
        "\n",
        "    DT = np.append(X,X_t.reshape([10000,1]),axis=1)\n",
        "    DT = np.append(DT,X_t2.reshape([10000,1]),axis=1)\n",
        "    \n",
        "    return pandas.DataFrame(DT)"
      ],
      "execution_count": 3,
      "outputs": []
    },
    {
      "cell_type": "code",
      "metadata": {
        "colab": {
          "base_uri": "https://localhost:8080/"
        },
        "id": "hbXlxumSBX9i",
        "outputId": "51bfdb60-5d5d-49bb-bc9e-e2a6747b7784"
      },
      "source": [
        "Data = DataGenerator(Name,ID)"
      ],
      "execution_count": 4,
      "outputs": [
        {
          "output_type": "stream",
          "text": [
            "020:30:16\n"
          ],
          "name": "stdout"
        }
      ]
    },
    {
      "cell_type": "code",
      "metadata": {
        "colab": {
          "base_uri": "https://localhost:8080/",
          "height": 419
        },
        "id": "pQcCySXvBdN-",
        "outputId": "a00bd515-5bf4-493e-b97f-1f7004bb1858"
      },
      "source": [
        "Data"
      ],
      "execution_count": 5,
      "outputs": [
        {
          "output_type": "execute_result",
          "data": {
            "text/html": [
              "<div>\n",
              "<style scoped>\n",
              "    .dataframe tbody tr th:only-of-type {\n",
              "        vertical-align: middle;\n",
              "    }\n",
              "\n",
              "    .dataframe tbody tr th {\n",
              "        vertical-align: top;\n",
              "    }\n",
              "\n",
              "    .dataframe thead th {\n",
              "        text-align: right;\n",
              "    }\n",
              "</style>\n",
              "<table border=\"1\" class=\"dataframe\">\n",
              "  <thead>\n",
              "    <tr style=\"text-align: right;\">\n",
              "      <th></th>\n",
              "      <th>0</th>\n",
              "      <th>1</th>\n",
              "      <th>2</th>\n",
              "      <th>3</th>\n",
              "      <th>4</th>\n",
              "      <th>5</th>\n",
              "      <th>6</th>\n",
              "      <th>7</th>\n",
              "      <th>8</th>\n",
              "      <th>9</th>\n",
              "      <th>10</th>\n",
              "      <th>11</th>\n",
              "      <th>12</th>\n",
              "      <th>13</th>\n",
              "      <th>14</th>\n",
              "      <th>15</th>\n",
              "      <th>16</th>\n",
              "      <th>17</th>\n",
              "      <th>18</th>\n",
              "      <th>19</th>\n",
              "      <th>20</th>\n",
              "      <th>21</th>\n",
              "      <th>22</th>\n",
              "      <th>23</th>\n",
              "      <th>24</th>\n",
              "      <th>25</th>\n",
              "      <th>26</th>\n",
              "      <th>27</th>\n",
              "      <th>28</th>\n",
              "      <th>29</th>\n",
              "      <th>30</th>\n",
              "      <th>31</th>\n",
              "    </tr>\n",
              "  </thead>\n",
              "  <tbody>\n",
              "    <tr>\n",
              "      <th>0</th>\n",
              "      <td>-10.187117</td>\n",
              "      <td>5.645359</td>\n",
              "      <td>-1.512009</td>\n",
              "      <td>-8.408605</td>\n",
              "      <td>-7.160649</td>\n",
              "      <td>8.152055</td>\n",
              "      <td>-5.137610</td>\n",
              "      <td>-8.514089</td>\n",
              "      <td>-6.140884</td>\n",
              "      <td>10.495298</td>\n",
              "      <td>1.590252</td>\n",
              "      <td>3.370453</td>\n",
              "      <td>0.659568</td>\n",
              "      <td>5.630557</td>\n",
              "      <td>1.300547</td>\n",
              "      <td>2.487644</td>\n",
              "      <td>6.066393</td>\n",
              "      <td>8.233752</td>\n",
              "      <td>-9.202617</td>\n",
              "      <td>-5.345057</td>\n",
              "      <td>5.844010</td>\n",
              "      <td>1.529182</td>\n",
              "      <td>-3.323277</td>\n",
              "      <td>3.321481</td>\n",
              "      <td>2.621559</td>\n",
              "      <td>-4.425307</td>\n",
              "      <td>4.524257</td>\n",
              "      <td>-4.957104</td>\n",
              "      <td>6.386672</td>\n",
              "      <td>-10.452964</td>\n",
              "      <td>11.290718</td>\n",
              "      <td>-50.264820</td>\n",
              "    </tr>\n",
              "    <tr>\n",
              "      <th>1</th>\n",
              "      <td>8.802957</td>\n",
              "      <td>-9.680265</td>\n",
              "      <td>-5.146325</td>\n",
              "      <td>-1.400457</td>\n",
              "      <td>4.109127</td>\n",
              "      <td>9.107175</td>\n",
              "      <td>8.461001</td>\n",
              "      <td>1.703898</td>\n",
              "      <td>-0.734701</td>\n",
              "      <td>-0.662673</td>\n",
              "      <td>3.817067</td>\n",
              "      <td>1.822420</td>\n",
              "      <td>4.052866</td>\n",
              "      <td>-3.271882</td>\n",
              "      <td>7.773785</td>\n",
              "      <td>7.411452</td>\n",
              "      <td>-4.505587</td>\n",
              "      <td>2.963060</td>\n",
              "      <td>7.674272</td>\n",
              "      <td>-9.869400</td>\n",
              "      <td>-8.226315</td>\n",
              "      <td>8.427967</td>\n",
              "      <td>5.859954</td>\n",
              "      <td>2.930561</td>\n",
              "      <td>4.895293</td>\n",
              "      <td>-7.116522</td>\n",
              "      <td>-8.471998</td>\n",
              "      <td>5.241182</td>\n",
              "      <td>-1.075735</td>\n",
              "      <td>4.753808</td>\n",
              "      <td>-19.360529</td>\n",
              "      <td>25.769040</td>\n",
              "    </tr>\n",
              "    <tr>\n",
              "      <th>2</th>\n",
              "      <td>4.566708</td>\n",
              "      <td>10.088068</td>\n",
              "      <td>6.267673</td>\n",
              "      <td>-5.007461</td>\n",
              "      <td>-6.157636</td>\n",
              "      <td>-4.656535</td>\n",
              "      <td>9.834261</td>\n",
              "      <td>1.608311</td>\n",
              "      <td>6.068735</td>\n",
              "      <td>-10.170915</td>\n",
              "      <td>7.084125</td>\n",
              "      <td>-9.178798</td>\n",
              "      <td>-7.684204</td>\n",
              "      <td>-11.860847</td>\n",
              "      <td>-3.715293</td>\n",
              "      <td>-3.697722</td>\n",
              "      <td>9.908313</td>\n",
              "      <td>6.599582</td>\n",
              "      <td>0.364110</td>\n",
              "      <td>7.548956</td>\n",
              "      <td>-8.481781</td>\n",
              "      <td>5.089799</td>\n",
              "      <td>-7.056839</td>\n",
              "      <td>-5.440225</td>\n",
              "      <td>7.366136</td>\n",
              "      <td>-6.099482</td>\n",
              "      <td>5.900475</td>\n",
              "      <td>-0.567453</td>\n",
              "      <td>3.676044</td>\n",
              "      <td>3.636315</td>\n",
              "      <td>20.176137</td>\n",
              "      <td>20.181577</td>\n",
              "    </tr>\n",
              "    <tr>\n",
              "      <th>3</th>\n",
              "      <td>-1.557750</td>\n",
              "      <td>-5.619996</td>\n",
              "      <td>-0.729111</td>\n",
              "      <td>7.873232</td>\n",
              "      <td>-7.234014</td>\n",
              "      <td>-3.057497</td>\n",
              "      <td>-2.156534</td>\n",
              "      <td>-4.396004</td>\n",
              "      <td>-8.843602</td>\n",
              "      <td>-6.002348</td>\n",
              "      <td>6.974013</td>\n",
              "      <td>-6.001278</td>\n",
              "      <td>-8.506518</td>\n",
              "      <td>-2.456330</td>\n",
              "      <td>1.138076</td>\n",
              "      <td>-3.899233</td>\n",
              "      <td>9.395032</td>\n",
              "      <td>-6.214876</td>\n",
              "      <td>9.013846</td>\n",
              "      <td>1.558676</td>\n",
              "      <td>6.049342</td>\n",
              "      <td>2.618855</td>\n",
              "      <td>-7.194114</td>\n",
              "      <td>-10.214505</td>\n",
              "      <td>8.954457</td>\n",
              "      <td>7.642740</td>\n",
              "      <td>4.098489</td>\n",
              "      <td>-1.835569</td>\n",
              "      <td>-1.134072</td>\n",
              "      <td>7.054722</td>\n",
              "      <td>-11.239992</td>\n",
              "      <td>37.273609</td>\n",
              "    </tr>\n",
              "    <tr>\n",
              "      <th>4</th>\n",
              "      <td>9.105714</td>\n",
              "      <td>-10.918593</td>\n",
              "      <td>-6.447384</td>\n",
              "      <td>1.260397</td>\n",
              "      <td>6.235345</td>\n",
              "      <td>10.998694</td>\n",
              "      <td>9.431398</td>\n",
              "      <td>4.326759</td>\n",
              "      <td>-1.366271</td>\n",
              "      <td>0.720983</td>\n",
              "      <td>2.657494</td>\n",
              "      <td>5.502511</td>\n",
              "      <td>6.129621</td>\n",
              "      <td>-1.155109</td>\n",
              "      <td>9.711989</td>\n",
              "      <td>5.343099</td>\n",
              "      <td>-7.353672</td>\n",
              "      <td>2.485260</td>\n",
              "      <td>7.425995</td>\n",
              "      <td>-9.048266</td>\n",
              "      <td>-7.630582</td>\n",
              "      <td>7.810077</td>\n",
              "      <td>6.552491</td>\n",
              "      <td>3.859978</td>\n",
              "      <td>5.717528</td>\n",
              "      <td>-3.768863</td>\n",
              "      <td>-7.753635</td>\n",
              "      <td>5.075417</td>\n",
              "      <td>-1.536883</td>\n",
              "      <td>5.055226</td>\n",
              "      <td>-21.837186</td>\n",
              "      <td>27.276130</td>\n",
              "    </tr>\n",
              "    <tr>\n",
              "      <th>...</th>\n",
              "      <td>...</td>\n",
              "      <td>...</td>\n",
              "      <td>...</td>\n",
              "      <td>...</td>\n",
              "      <td>...</td>\n",
              "      <td>...</td>\n",
              "      <td>...</td>\n",
              "      <td>...</td>\n",
              "      <td>...</td>\n",
              "      <td>...</td>\n",
              "      <td>...</td>\n",
              "      <td>...</td>\n",
              "      <td>...</td>\n",
              "      <td>...</td>\n",
              "      <td>...</td>\n",
              "      <td>...</td>\n",
              "      <td>...</td>\n",
              "      <td>...</td>\n",
              "      <td>...</td>\n",
              "      <td>...</td>\n",
              "      <td>...</td>\n",
              "      <td>...</td>\n",
              "      <td>...</td>\n",
              "      <td>...</td>\n",
              "      <td>...</td>\n",
              "      <td>...</td>\n",
              "      <td>...</td>\n",
              "      <td>...</td>\n",
              "      <td>...</td>\n",
              "      <td>...</td>\n",
              "      <td>...</td>\n",
              "      <td>...</td>\n",
              "    </tr>\n",
              "    <tr>\n",
              "      <th>9995</th>\n",
              "      <td>1.012739</td>\n",
              "      <td>-5.982394</td>\n",
              "      <td>-2.377600</td>\n",
              "      <td>3.991366</td>\n",
              "      <td>2.066386</td>\n",
              "      <td>8.939499</td>\n",
              "      <td>3.515521</td>\n",
              "      <td>-0.687216</td>\n",
              "      <td>-7.096250</td>\n",
              "      <td>-0.483933</td>\n",
              "      <td>-3.487503</td>\n",
              "      <td>-6.412030</td>\n",
              "      <td>1.698171</td>\n",
              "      <td>5.591985</td>\n",
              "      <td>2.200870</td>\n",
              "      <td>1.710173</td>\n",
              "      <td>4.215186</td>\n",
              "      <td>7.796989</td>\n",
              "      <td>7.679128</td>\n",
              "      <td>5.763228</td>\n",
              "      <td>-5.406276</td>\n",
              "      <td>-5.459429</td>\n",
              "      <td>8.663905</td>\n",
              "      <td>-0.663315</td>\n",
              "      <td>-1.347786</td>\n",
              "      <td>1.658434</td>\n",
              "      <td>4.270892</td>\n",
              "      <td>5.375995</td>\n",
              "      <td>-0.445427</td>\n",
              "      <td>10.680069</td>\n",
              "      <td>-11.964788</td>\n",
              "      <td>55.400344</td>\n",
              "    </tr>\n",
              "    <tr>\n",
              "      <th>9996</th>\n",
              "      <td>1.971844</td>\n",
              "      <td>9.351393</td>\n",
              "      <td>5.487986</td>\n",
              "      <td>5.947889</td>\n",
              "      <td>-8.621342</td>\n",
              "      <td>5.833916</td>\n",
              "      <td>-0.831200</td>\n",
              "      <td>0.799592</td>\n",
              "      <td>2.719228</td>\n",
              "      <td>-3.751520</td>\n",
              "      <td>-4.101230</td>\n",
              "      <td>3.144996</td>\n",
              "      <td>3.296714</td>\n",
              "      <td>7.119346</td>\n",
              "      <td>3.873315</td>\n",
              "      <td>-10.067322</td>\n",
              "      <td>-7.486359</td>\n",
              "      <td>5.966499</td>\n",
              "      <td>-6.699479</td>\n",
              "      <td>-5.169989</td>\n",
              "      <td>7.498531</td>\n",
              "      <td>8.563825</td>\n",
              "      <td>0.733198</td>\n",
              "      <td>-6.472467</td>\n",
              "      <td>4.942586</td>\n",
              "      <td>-0.162590</td>\n",
              "      <td>2.895984</td>\n",
              "      <td>5.859200</td>\n",
              "      <td>1.094162</td>\n",
              "      <td>0.813355</td>\n",
              "      <td>18.702787</td>\n",
              "      <td>6.066777</td>\n",
              "    </tr>\n",
              "    <tr>\n",
              "      <th>9997</th>\n",
              "      <td>4.313977</td>\n",
              "      <td>7.818759</td>\n",
              "      <td>6.398568</td>\n",
              "      <td>-4.755216</td>\n",
              "      <td>-5.181228</td>\n",
              "      <td>-3.405445</td>\n",
              "      <td>11.223262</td>\n",
              "      <td>3.490421</td>\n",
              "      <td>6.006418</td>\n",
              "      <td>-9.669740</td>\n",
              "      <td>6.020925</td>\n",
              "      <td>-9.548196</td>\n",
              "      <td>-8.811076</td>\n",
              "      <td>-9.948476</td>\n",
              "      <td>-4.142153</td>\n",
              "      <td>-3.013274</td>\n",
              "      <td>8.687351</td>\n",
              "      <td>7.583746</td>\n",
              "      <td>1.857641</td>\n",
              "      <td>5.131343</td>\n",
              "      <td>-10.503256</td>\n",
              "      <td>2.915657</td>\n",
              "      <td>-8.064281</td>\n",
              "      <td>-3.891103</td>\n",
              "      <td>7.350757</td>\n",
              "      <td>-5.370867</td>\n",
              "      <td>5.108498</td>\n",
              "      <td>0.922176</td>\n",
              "      <td>3.686926</td>\n",
              "      <td>3.322278</td>\n",
              "      <td>15.637518</td>\n",
              "      <td>18.611389</td>\n",
              "    </tr>\n",
              "    <tr>\n",
              "      <th>9998</th>\n",
              "      <td>3.029997</td>\n",
              "      <td>-7.750469</td>\n",
              "      <td>9.031552</td>\n",
              "      <td>9.307987</td>\n",
              "      <td>-1.619870</td>\n",
              "      <td>1.449752</td>\n",
              "      <td>-2.457904</td>\n",
              "      <td>6.772582</td>\n",
              "      <td>-7.931218</td>\n",
              "      <td>8.501263</td>\n",
              "      <td>6.798074</td>\n",
              "      <td>1.240366</td>\n",
              "      <td>4.155902</td>\n",
              "      <td>6.037059</td>\n",
              "      <td>0.815239</td>\n",
              "      <td>-5.158712</td>\n",
              "      <td>-5.980060</td>\n",
              "      <td>5.424738</td>\n",
              "      <td>4.949754</td>\n",
              "      <td>-0.027357</td>\n",
              "      <td>9.037065</td>\n",
              "      <td>-4.983274</td>\n",
              "      <td>-2.470661</td>\n",
              "      <td>-4.061016</td>\n",
              "      <td>-3.000973</td>\n",
              "      <td>3.853341</td>\n",
              "      <td>-7.830560</td>\n",
              "      <td>2.054371</td>\n",
              "      <td>2.182887</td>\n",
              "      <td>-10.723758</td>\n",
              "      <td>-15.500938</td>\n",
              "      <td>-51.618788</td>\n",
              "    </tr>\n",
              "    <tr>\n",
              "      <th>9999</th>\n",
              "      <td>5.167087</td>\n",
              "      <td>11.360828</td>\n",
              "      <td>5.989421</td>\n",
              "      <td>-5.527974</td>\n",
              "      <td>-5.459924</td>\n",
              "      <td>-3.514900</td>\n",
              "      <td>8.817097</td>\n",
              "      <td>-0.313162</td>\n",
              "      <td>9.560471</td>\n",
              "      <td>-10.101839</td>\n",
              "      <td>5.200510</td>\n",
              "      <td>-10.135598</td>\n",
              "      <td>-8.593570</td>\n",
              "      <td>-9.544607</td>\n",
              "      <td>-5.230351</td>\n",
              "      <td>-3.073770</td>\n",
              "      <td>9.298421</td>\n",
              "      <td>7.449832</td>\n",
              "      <td>2.206924</td>\n",
              "      <td>5.900636</td>\n",
              "      <td>-12.027623</td>\n",
              "      <td>6.250410</td>\n",
              "      <td>-8.929068</td>\n",
              "      <td>-5.143601</td>\n",
              "      <td>8.422081</td>\n",
              "      <td>-4.812894</td>\n",
              "      <td>6.345059</td>\n",
              "      <td>-0.791921</td>\n",
              "      <td>5.813688</td>\n",
              "      <td>1.784168</td>\n",
              "      <td>22.721657</td>\n",
              "      <td>10.920841</td>\n",
              "    </tr>\n",
              "  </tbody>\n",
              "</table>\n",
              "<p>10000 rows × 32 columns</p>\n",
              "</div>"
            ],
            "text/plain": [
              "             0          1         2   ...         29         30         31\n",
              "0    -10.187117   5.645359 -1.512009  ... -10.452964  11.290718 -50.264820\n",
              "1      8.802957  -9.680265 -5.146325  ...   4.753808 -19.360529  25.769040\n",
              "2      4.566708  10.088068  6.267673  ...   3.636315  20.176137  20.181577\n",
              "3     -1.557750  -5.619996 -0.729111  ...   7.054722 -11.239992  37.273609\n",
              "4      9.105714 -10.918593 -6.447384  ...   5.055226 -21.837186  27.276130\n",
              "...         ...        ...       ...  ...        ...        ...        ...\n",
              "9995   1.012739  -5.982394 -2.377600  ...  10.680069 -11.964788  55.400344\n",
              "9996   1.971844   9.351393  5.487986  ...   0.813355  18.702787   6.066777\n",
              "9997   4.313977   7.818759  6.398568  ...   3.322278  15.637518  18.611389\n",
              "9998   3.029997  -7.750469  9.031552  ... -10.723758 -15.500938 -51.618788\n",
              "9999   5.167087  11.360828  5.989421  ...   1.784168  22.721657  10.920841\n",
              "\n",
              "[10000 rows x 32 columns]"
            ]
          },
          "metadata": {
            "tags": []
          },
          "execution_count": 5
        }
      ]
    },
    {
      "cell_type": "markdown",
      "metadata": {
        "id": "PwHXmqDc-9Rd"
      },
      "source": [
        "ข้อมูลที่ได้มาเป็นโจทย์ที่ได้มาจาก Seed 020:30:16 ซึ่งมีข้อมูลจำนวน 10000 แถวและ 32 คอลัมน์ จากนั้นทำการเตรียมข้อมูลก่อนนำไปใช้ทำการตัดตัวที่มีค่าสมประสิทธิ์ความสัมพันธิ์ (Correlation) กันเองออกไป เพื่อลดข้อมูลที่เหมือนกันออกไป"
      ]
    },
    {
      "cell_type": "markdown",
      "metadata": {
        "id": "cdCiD7rfDR5K"
      },
      "source": [
        "ดูขนาดของข้อมูลที่กำหนดมาให้"
      ]
    },
    {
      "cell_type": "code",
      "metadata": {
        "id": "jUARadkFEuyJ",
        "colab": {
          "base_uri": "https://localhost:8080/"
        },
        "outputId": "d4a5bd98-3f48-45ca-b427-b81c82dcb6ea"
      },
      "source": [
        "Data.shape"
      ],
      "execution_count": 6,
      "outputs": [
        {
          "output_type": "execute_result",
          "data": {
            "text/plain": [
              "(10000, 32)"
            ]
          },
          "metadata": {
            "tags": []
          },
          "execution_count": 6
        }
      ]
    },
    {
      "cell_type": "markdown",
      "metadata": {
        "id": "lq4aBkppDpSW"
      },
      "source": [
        "จากนั้นดูขนาดของ Correlation coeficient จากข้อมูล"
      ]
    },
    {
      "cell_type": "code",
      "metadata": {
        "colab": {
          "base_uri": "https://localhost:8080/"
        },
        "id": "JOlN8dqVDXh_",
        "outputId": "4067d909-0da6-40c2-8557-331581e93cac"
      },
      "source": [
        "corr = np.corrcoef(Data.to_numpy().T)\n",
        "corr.shape"
      ],
      "execution_count": 7,
      "outputs": [
        {
          "output_type": "execute_result",
          "data": {
            "text/plain": [
              "(32, 32)"
            ]
          },
          "metadata": {
            "tags": []
          },
          "execution_count": 7
        }
      ]
    },
    {
      "cell_type": "markdown",
      "metadata": {
        "id": "eaT4ZCI3Ei3h"
      },
      "source": [
        "จากนั้นให้ทำการวนลูปหาค่าสัมประสิทธิ์ความสัมพันธ์ (Correlation) ที่ซ้ำกัดเพื่อขจัดข้อมูลนั้นออกไป"
      ]
    },
    {
      "cell_type": "code",
      "metadata": {
        "colab": {
          "base_uri": "https://localhost:8080/"
        },
        "id": "mAgYddGQEf6m",
        "outputId": "67de80ac-86da-4865-f172-d3256043d6b7"
      },
      "source": [
        "for i in range(corr.shape[0]):\n",
        "    for j in range(corr.shape[1]):\n",
        "        if (i !=j) and (corr[i,j] == 1.):\n",
        "            print(f'row = {i} column = {j} corrcoef = {corr[i,j]}')"
      ],
      "execution_count": 8,
      "outputs": [
        {
          "output_type": "stream",
          "text": [
            "row = 1 column = 30 corrcoef = 1.0\n",
            "row = 30 column = 1 corrcoef = 1.0\n"
          ],
          "name": "stdout"
        }
      ]
    },
    {
      "cell_type": "markdown",
      "metadata": {
        "id": "QFraiBvhFOdi"
      },
      "source": [
        "จากการวนลูปพบว่าค่าที่ 1 และค่า 30 มีค่าที่เท่ากันหรือซ้ำกัน ฉะนั้นจำเป็นที่จะต้องตัดข้อมูลออกก่อนจึงนำไปใช้ โดยการแสดงข้อมูลทั้งหมด"
      ]
    },
    {
      "cell_type": "code",
      "metadata": {
        "colab": {
          "base_uri": "https://localhost:8080/",
          "height": 419
        },
        "id": "BL0YPiDPGPL-",
        "outputId": "e7a33e3b-592d-43be-fb17-0ec549d23875"
      },
      "source": [
        "newdata = Data.iloc[:,1:30]\n",
        "newdata"
      ],
      "execution_count": 9,
      "outputs": [
        {
          "output_type": "execute_result",
          "data": {
            "text/html": [
              "<div>\n",
              "<style scoped>\n",
              "    .dataframe tbody tr th:only-of-type {\n",
              "        vertical-align: middle;\n",
              "    }\n",
              "\n",
              "    .dataframe tbody tr th {\n",
              "        vertical-align: top;\n",
              "    }\n",
              "\n",
              "    .dataframe thead th {\n",
              "        text-align: right;\n",
              "    }\n",
              "</style>\n",
              "<table border=\"1\" class=\"dataframe\">\n",
              "  <thead>\n",
              "    <tr style=\"text-align: right;\">\n",
              "      <th></th>\n",
              "      <th>1</th>\n",
              "      <th>2</th>\n",
              "      <th>3</th>\n",
              "      <th>4</th>\n",
              "      <th>5</th>\n",
              "      <th>6</th>\n",
              "      <th>7</th>\n",
              "      <th>8</th>\n",
              "      <th>9</th>\n",
              "      <th>10</th>\n",
              "      <th>11</th>\n",
              "      <th>12</th>\n",
              "      <th>13</th>\n",
              "      <th>14</th>\n",
              "      <th>15</th>\n",
              "      <th>16</th>\n",
              "      <th>17</th>\n",
              "      <th>18</th>\n",
              "      <th>19</th>\n",
              "      <th>20</th>\n",
              "      <th>21</th>\n",
              "      <th>22</th>\n",
              "      <th>23</th>\n",
              "      <th>24</th>\n",
              "      <th>25</th>\n",
              "      <th>26</th>\n",
              "      <th>27</th>\n",
              "      <th>28</th>\n",
              "      <th>29</th>\n",
              "    </tr>\n",
              "  </thead>\n",
              "  <tbody>\n",
              "    <tr>\n",
              "      <th>0</th>\n",
              "      <td>5.645359</td>\n",
              "      <td>-1.512009</td>\n",
              "      <td>-8.408605</td>\n",
              "      <td>-7.160649</td>\n",
              "      <td>8.152055</td>\n",
              "      <td>-5.137610</td>\n",
              "      <td>-8.514089</td>\n",
              "      <td>-6.140884</td>\n",
              "      <td>10.495298</td>\n",
              "      <td>1.590252</td>\n",
              "      <td>3.370453</td>\n",
              "      <td>0.659568</td>\n",
              "      <td>5.630557</td>\n",
              "      <td>1.300547</td>\n",
              "      <td>2.487644</td>\n",
              "      <td>6.066393</td>\n",
              "      <td>8.233752</td>\n",
              "      <td>-9.202617</td>\n",
              "      <td>-5.345057</td>\n",
              "      <td>5.844010</td>\n",
              "      <td>1.529182</td>\n",
              "      <td>-3.323277</td>\n",
              "      <td>3.321481</td>\n",
              "      <td>2.621559</td>\n",
              "      <td>-4.425307</td>\n",
              "      <td>4.524257</td>\n",
              "      <td>-4.957104</td>\n",
              "      <td>6.386672</td>\n",
              "      <td>-10.452964</td>\n",
              "    </tr>\n",
              "    <tr>\n",
              "      <th>1</th>\n",
              "      <td>-9.680265</td>\n",
              "      <td>-5.146325</td>\n",
              "      <td>-1.400457</td>\n",
              "      <td>4.109127</td>\n",
              "      <td>9.107175</td>\n",
              "      <td>8.461001</td>\n",
              "      <td>1.703898</td>\n",
              "      <td>-0.734701</td>\n",
              "      <td>-0.662673</td>\n",
              "      <td>3.817067</td>\n",
              "      <td>1.822420</td>\n",
              "      <td>4.052866</td>\n",
              "      <td>-3.271882</td>\n",
              "      <td>7.773785</td>\n",
              "      <td>7.411452</td>\n",
              "      <td>-4.505587</td>\n",
              "      <td>2.963060</td>\n",
              "      <td>7.674272</td>\n",
              "      <td>-9.869400</td>\n",
              "      <td>-8.226315</td>\n",
              "      <td>8.427967</td>\n",
              "      <td>5.859954</td>\n",
              "      <td>2.930561</td>\n",
              "      <td>4.895293</td>\n",
              "      <td>-7.116522</td>\n",
              "      <td>-8.471998</td>\n",
              "      <td>5.241182</td>\n",
              "      <td>-1.075735</td>\n",
              "      <td>4.753808</td>\n",
              "    </tr>\n",
              "    <tr>\n",
              "      <th>2</th>\n",
              "      <td>10.088068</td>\n",
              "      <td>6.267673</td>\n",
              "      <td>-5.007461</td>\n",
              "      <td>-6.157636</td>\n",
              "      <td>-4.656535</td>\n",
              "      <td>9.834261</td>\n",
              "      <td>1.608311</td>\n",
              "      <td>6.068735</td>\n",
              "      <td>-10.170915</td>\n",
              "      <td>7.084125</td>\n",
              "      <td>-9.178798</td>\n",
              "      <td>-7.684204</td>\n",
              "      <td>-11.860847</td>\n",
              "      <td>-3.715293</td>\n",
              "      <td>-3.697722</td>\n",
              "      <td>9.908313</td>\n",
              "      <td>6.599582</td>\n",
              "      <td>0.364110</td>\n",
              "      <td>7.548956</td>\n",
              "      <td>-8.481781</td>\n",
              "      <td>5.089799</td>\n",
              "      <td>-7.056839</td>\n",
              "      <td>-5.440225</td>\n",
              "      <td>7.366136</td>\n",
              "      <td>-6.099482</td>\n",
              "      <td>5.900475</td>\n",
              "      <td>-0.567453</td>\n",
              "      <td>3.676044</td>\n",
              "      <td>3.636315</td>\n",
              "    </tr>\n",
              "    <tr>\n",
              "      <th>3</th>\n",
              "      <td>-5.619996</td>\n",
              "      <td>-0.729111</td>\n",
              "      <td>7.873232</td>\n",
              "      <td>-7.234014</td>\n",
              "      <td>-3.057497</td>\n",
              "      <td>-2.156534</td>\n",
              "      <td>-4.396004</td>\n",
              "      <td>-8.843602</td>\n",
              "      <td>-6.002348</td>\n",
              "      <td>6.974013</td>\n",
              "      <td>-6.001278</td>\n",
              "      <td>-8.506518</td>\n",
              "      <td>-2.456330</td>\n",
              "      <td>1.138076</td>\n",
              "      <td>-3.899233</td>\n",
              "      <td>9.395032</td>\n",
              "      <td>-6.214876</td>\n",
              "      <td>9.013846</td>\n",
              "      <td>1.558676</td>\n",
              "      <td>6.049342</td>\n",
              "      <td>2.618855</td>\n",
              "      <td>-7.194114</td>\n",
              "      <td>-10.214505</td>\n",
              "      <td>8.954457</td>\n",
              "      <td>7.642740</td>\n",
              "      <td>4.098489</td>\n",
              "      <td>-1.835569</td>\n",
              "      <td>-1.134072</td>\n",
              "      <td>7.054722</td>\n",
              "    </tr>\n",
              "    <tr>\n",
              "      <th>4</th>\n",
              "      <td>-10.918593</td>\n",
              "      <td>-6.447384</td>\n",
              "      <td>1.260397</td>\n",
              "      <td>6.235345</td>\n",
              "      <td>10.998694</td>\n",
              "      <td>9.431398</td>\n",
              "      <td>4.326759</td>\n",
              "      <td>-1.366271</td>\n",
              "      <td>0.720983</td>\n",
              "      <td>2.657494</td>\n",
              "      <td>5.502511</td>\n",
              "      <td>6.129621</td>\n",
              "      <td>-1.155109</td>\n",
              "      <td>9.711989</td>\n",
              "      <td>5.343099</td>\n",
              "      <td>-7.353672</td>\n",
              "      <td>2.485260</td>\n",
              "      <td>7.425995</td>\n",
              "      <td>-9.048266</td>\n",
              "      <td>-7.630582</td>\n",
              "      <td>7.810077</td>\n",
              "      <td>6.552491</td>\n",
              "      <td>3.859978</td>\n",
              "      <td>5.717528</td>\n",
              "      <td>-3.768863</td>\n",
              "      <td>-7.753635</td>\n",
              "      <td>5.075417</td>\n",
              "      <td>-1.536883</td>\n",
              "      <td>5.055226</td>\n",
              "    </tr>\n",
              "    <tr>\n",
              "      <th>...</th>\n",
              "      <td>...</td>\n",
              "      <td>...</td>\n",
              "      <td>...</td>\n",
              "      <td>...</td>\n",
              "      <td>...</td>\n",
              "      <td>...</td>\n",
              "      <td>...</td>\n",
              "      <td>...</td>\n",
              "      <td>...</td>\n",
              "      <td>...</td>\n",
              "      <td>...</td>\n",
              "      <td>...</td>\n",
              "      <td>...</td>\n",
              "      <td>...</td>\n",
              "      <td>...</td>\n",
              "      <td>...</td>\n",
              "      <td>...</td>\n",
              "      <td>...</td>\n",
              "      <td>...</td>\n",
              "      <td>...</td>\n",
              "      <td>...</td>\n",
              "      <td>...</td>\n",
              "      <td>...</td>\n",
              "      <td>...</td>\n",
              "      <td>...</td>\n",
              "      <td>...</td>\n",
              "      <td>...</td>\n",
              "      <td>...</td>\n",
              "      <td>...</td>\n",
              "    </tr>\n",
              "    <tr>\n",
              "      <th>9995</th>\n",
              "      <td>-5.982394</td>\n",
              "      <td>-2.377600</td>\n",
              "      <td>3.991366</td>\n",
              "      <td>2.066386</td>\n",
              "      <td>8.939499</td>\n",
              "      <td>3.515521</td>\n",
              "      <td>-0.687216</td>\n",
              "      <td>-7.096250</td>\n",
              "      <td>-0.483933</td>\n",
              "      <td>-3.487503</td>\n",
              "      <td>-6.412030</td>\n",
              "      <td>1.698171</td>\n",
              "      <td>5.591985</td>\n",
              "      <td>2.200870</td>\n",
              "      <td>1.710173</td>\n",
              "      <td>4.215186</td>\n",
              "      <td>7.796989</td>\n",
              "      <td>7.679128</td>\n",
              "      <td>5.763228</td>\n",
              "      <td>-5.406276</td>\n",
              "      <td>-5.459429</td>\n",
              "      <td>8.663905</td>\n",
              "      <td>-0.663315</td>\n",
              "      <td>-1.347786</td>\n",
              "      <td>1.658434</td>\n",
              "      <td>4.270892</td>\n",
              "      <td>5.375995</td>\n",
              "      <td>-0.445427</td>\n",
              "      <td>10.680069</td>\n",
              "    </tr>\n",
              "    <tr>\n",
              "      <th>9996</th>\n",
              "      <td>9.351393</td>\n",
              "      <td>5.487986</td>\n",
              "      <td>5.947889</td>\n",
              "      <td>-8.621342</td>\n",
              "      <td>5.833916</td>\n",
              "      <td>-0.831200</td>\n",
              "      <td>0.799592</td>\n",
              "      <td>2.719228</td>\n",
              "      <td>-3.751520</td>\n",
              "      <td>-4.101230</td>\n",
              "      <td>3.144996</td>\n",
              "      <td>3.296714</td>\n",
              "      <td>7.119346</td>\n",
              "      <td>3.873315</td>\n",
              "      <td>-10.067322</td>\n",
              "      <td>-7.486359</td>\n",
              "      <td>5.966499</td>\n",
              "      <td>-6.699479</td>\n",
              "      <td>-5.169989</td>\n",
              "      <td>7.498531</td>\n",
              "      <td>8.563825</td>\n",
              "      <td>0.733198</td>\n",
              "      <td>-6.472467</td>\n",
              "      <td>4.942586</td>\n",
              "      <td>-0.162590</td>\n",
              "      <td>2.895984</td>\n",
              "      <td>5.859200</td>\n",
              "      <td>1.094162</td>\n",
              "      <td>0.813355</td>\n",
              "    </tr>\n",
              "    <tr>\n",
              "      <th>9997</th>\n",
              "      <td>7.818759</td>\n",
              "      <td>6.398568</td>\n",
              "      <td>-4.755216</td>\n",
              "      <td>-5.181228</td>\n",
              "      <td>-3.405445</td>\n",
              "      <td>11.223262</td>\n",
              "      <td>3.490421</td>\n",
              "      <td>6.006418</td>\n",
              "      <td>-9.669740</td>\n",
              "      <td>6.020925</td>\n",
              "      <td>-9.548196</td>\n",
              "      <td>-8.811076</td>\n",
              "      <td>-9.948476</td>\n",
              "      <td>-4.142153</td>\n",
              "      <td>-3.013274</td>\n",
              "      <td>8.687351</td>\n",
              "      <td>7.583746</td>\n",
              "      <td>1.857641</td>\n",
              "      <td>5.131343</td>\n",
              "      <td>-10.503256</td>\n",
              "      <td>2.915657</td>\n",
              "      <td>-8.064281</td>\n",
              "      <td>-3.891103</td>\n",
              "      <td>7.350757</td>\n",
              "      <td>-5.370867</td>\n",
              "      <td>5.108498</td>\n",
              "      <td>0.922176</td>\n",
              "      <td>3.686926</td>\n",
              "      <td>3.322278</td>\n",
              "    </tr>\n",
              "    <tr>\n",
              "      <th>9998</th>\n",
              "      <td>-7.750469</td>\n",
              "      <td>9.031552</td>\n",
              "      <td>9.307987</td>\n",
              "      <td>-1.619870</td>\n",
              "      <td>1.449752</td>\n",
              "      <td>-2.457904</td>\n",
              "      <td>6.772582</td>\n",
              "      <td>-7.931218</td>\n",
              "      <td>8.501263</td>\n",
              "      <td>6.798074</td>\n",
              "      <td>1.240366</td>\n",
              "      <td>4.155902</td>\n",
              "      <td>6.037059</td>\n",
              "      <td>0.815239</td>\n",
              "      <td>-5.158712</td>\n",
              "      <td>-5.980060</td>\n",
              "      <td>5.424738</td>\n",
              "      <td>4.949754</td>\n",
              "      <td>-0.027357</td>\n",
              "      <td>9.037065</td>\n",
              "      <td>-4.983274</td>\n",
              "      <td>-2.470661</td>\n",
              "      <td>-4.061016</td>\n",
              "      <td>-3.000973</td>\n",
              "      <td>3.853341</td>\n",
              "      <td>-7.830560</td>\n",
              "      <td>2.054371</td>\n",
              "      <td>2.182887</td>\n",
              "      <td>-10.723758</td>\n",
              "    </tr>\n",
              "    <tr>\n",
              "      <th>9999</th>\n",
              "      <td>11.360828</td>\n",
              "      <td>5.989421</td>\n",
              "      <td>-5.527974</td>\n",
              "      <td>-5.459924</td>\n",
              "      <td>-3.514900</td>\n",
              "      <td>8.817097</td>\n",
              "      <td>-0.313162</td>\n",
              "      <td>9.560471</td>\n",
              "      <td>-10.101839</td>\n",
              "      <td>5.200510</td>\n",
              "      <td>-10.135598</td>\n",
              "      <td>-8.593570</td>\n",
              "      <td>-9.544607</td>\n",
              "      <td>-5.230351</td>\n",
              "      <td>-3.073770</td>\n",
              "      <td>9.298421</td>\n",
              "      <td>7.449832</td>\n",
              "      <td>2.206924</td>\n",
              "      <td>5.900636</td>\n",
              "      <td>-12.027623</td>\n",
              "      <td>6.250410</td>\n",
              "      <td>-8.929068</td>\n",
              "      <td>-5.143601</td>\n",
              "      <td>8.422081</td>\n",
              "      <td>-4.812894</td>\n",
              "      <td>6.345059</td>\n",
              "      <td>-0.791921</td>\n",
              "      <td>5.813688</td>\n",
              "      <td>1.784168</td>\n",
              "    </tr>\n",
              "  </tbody>\n",
              "</table>\n",
              "<p>10000 rows × 29 columns</p>\n",
              "</div>"
            ],
            "text/plain": [
              "             1         2         3   ...        27        28         29\n",
              "0      5.645359 -1.512009 -8.408605  ... -4.957104  6.386672 -10.452964\n",
              "1     -9.680265 -5.146325 -1.400457  ...  5.241182 -1.075735   4.753808\n",
              "2     10.088068  6.267673 -5.007461  ... -0.567453  3.676044   3.636315\n",
              "3     -5.619996 -0.729111  7.873232  ... -1.835569 -1.134072   7.054722\n",
              "4    -10.918593 -6.447384  1.260397  ...  5.075417 -1.536883   5.055226\n",
              "...         ...       ...       ...  ...       ...       ...        ...\n",
              "9995  -5.982394 -2.377600  3.991366  ...  5.375995 -0.445427  10.680069\n",
              "9996   9.351393  5.487986  5.947889  ...  5.859200  1.094162   0.813355\n",
              "9997   7.818759  6.398568 -4.755216  ...  0.922176  3.686926   3.322278\n",
              "9998  -7.750469  9.031552  9.307987  ...  2.054371  2.182887 -10.723758\n",
              "9999  11.360828  5.989421 -5.527974  ... -0.791921  5.813688   1.784168\n",
              "\n",
              "[10000 rows x 29 columns]"
            ]
          },
          "metadata": {
            "tags": []
          },
          "execution_count": 9
        }
      ]
    },
    {
      "cell_type": "markdown",
      "metadata": {
        "id": "na05HGWkPub3"
      },
      "source": [
        "ทำให้ได้ข้อมูลใหม่มาใช้งาน\n",
        "\n",
        "***หมายเหตุ : ข้อมูลที่อาจารย์ให้มาในชื่อ columns เป็น type ที่ไม่สามารถทำการ drop ได้จึงจำเป็นที่จะต้องใช้ data.iloc ในการทำการตัด columns ออกไปและไม่สามารถนำข้อมูลที่ไม่จำเป็นต้องโดนตัดกลับมาให้ได้ เนื่องจากอาจารย์ยังไม่สอนเชื่อมตาราง***"
      ]
    },
    {
      "cell_type": "markdown",
      "metadata": {
        "id": "NLLP_JmhUm2N"
      },
      "source": [
        "## **จากโจทย์ข้อที่ 2 ทำ clustering แล้วทำ visualize ข้อมูลแบบ 2 มิติ**"
      ]
    },
    {
      "cell_type": "markdown",
      "metadata": {
        "id": "7onsKE0eV6Ha"
      },
      "source": [
        "โดยการเอา function k-means จาก sklearn.cluster มาใช้งาน"
      ]
    },
    {
      "cell_type": "markdown",
      "metadata": {
        "id": "cZIFF7AjWUF3"
      },
      "source": [
        "IMPORT"
      ]
    },
    {
      "cell_type": "code",
      "metadata": {
        "id": "-FwafCJcVaiJ"
      },
      "source": [
        "from sklearn.cluster import KMeans"
      ],
      "execution_count": 10,
      "outputs": []
    },
    {
      "cell_type": "markdown",
      "metadata": {
        "id": "_2tAOLOCWr5Z"
      },
      "source": [
        "จากนั้นกำหนดค่า k ที่ต้องการโดยให้ k = 4 และ random_state=2021 ให้เริ่มจุด ณ จุดๆนี้"
      ]
    },
    {
      "cell_type": "markdown",
      "metadata": {
        "id": "cDTPjvHIWXpW"
      },
      "source": [
        "DEFINE"
      ]
    },
    {
      "cell_type": "code",
      "metadata": {
        "id": "1OwHjG4YWPSf"
      },
      "source": [
        "kmeans = KMeans(n_clusters=4,random_state=2021)"
      ],
      "execution_count": 11,
      "outputs": []
    },
    {
      "cell_type": "markdown",
      "metadata": {
        "id": "pHcOVEJRXQYB"
      },
      "source": [
        "คำนวณหาจุด center ของข้อมูลด้วยวิธี K-means clustering"
      ]
    },
    {
      "cell_type": "markdown",
      "metadata": {
        "id": "0MWbm5VdXHFk"
      },
      "source": [
        "FIT - TRANSFORM"
      ]
    },
    {
      "cell_type": "code",
      "metadata": {
        "id": "AJ3-RK6wXF17",
        "colab": {
          "base_uri": "https://localhost:8080/"
        },
        "outputId": "063fcf50-0896-4072-b795-a09eed4cd248"
      },
      "source": [
        "kmeans.fit(newdata)"
      ],
      "execution_count": 12,
      "outputs": [
        {
          "output_type": "execute_result",
          "data": {
            "text/plain": [
              "KMeans(algorithm='auto', copy_x=True, init='k-means++', max_iter=300,\n",
              "       n_clusters=4, n_init=10, n_jobs=None, precompute_distances='auto',\n",
              "       random_state=2021, tol=0.0001, verbose=0)"
            ]
          },
          "metadata": {
            "tags": []
          },
          "execution_count": 12
        }
      ]
    },
    {
      "cell_type": "markdown",
      "metadata": {
        "id": "iMWLvJFSXiIK"
      },
      "source": [
        "จากนั้นแสดงจุด center ที่คำนวณออกมาได้"
      ]
    },
    {
      "cell_type": "code",
      "metadata": {
        "id": "FjsljVtCXrX5",
        "colab": {
          "base_uri": "https://localhost:8080/"
        },
        "outputId": "e048630b-2327-46ba-c77b-250885210e8b"
      },
      "source": [
        "kmeans.cluster_centers_"
      ],
      "execution_count": 13,
      "outputs": [
        {
          "output_type": "execute_result",
          "data": {
            "text/plain": [
              "array([[-2.25169051, -4.89342565,  8.22500518,  5.6474035 , -7.7542208 ,\n",
              "         6.72404258,  2.62222931,  6.36851506,  0.34871386, -6.5801388 ,\n",
              "        -1.00194371,  1.34351458, -4.99200667, -5.545567  , -2.38984966,\n",
              "         0.25053063, -0.63789967,  3.2025595 , -7.60074537,  1.88854318,\n",
              "        -6.49555079, -2.85070057, -4.1450389 ,  3.97182635, -1.10146817,\n",
              "        -3.4103411 ,  0.03097696,  9.82198357,  2.76015378],\n",
              "       [-0.19276483,  1.33459524,  2.97324318, -1.41618821, -0.20794756,\n",
              "        -2.48288615, -0.1385968 , -1.66080902,  2.87699643,  0.9664987 ,\n",
              "         3.6999511 ,  3.11692486,  5.040901  , -0.04772086,  1.68144648,\n",
              "         1.90879495,  2.61418553, -4.47217637,  2.54545876,  1.15253901,\n",
              "         0.63972973, -1.65605211, -0.04733315, -1.35440378, -3.86306258,\n",
              "        -1.51265504,  1.02915776,  1.04457518, -5.73443711],\n",
              "       [ 1.80481604,  3.18125334,  1.48273128, -6.51243506, -3.02505678,\n",
              "         3.78792829, -0.50345888, -0.41759362, -7.69260905,  7.03636827,\n",
              "        -7.58610663, -9.40791448, -5.62176482, -1.68971824, -3.12335672,\n",
              "         9.21701906,  0.6630733 ,  5.35214439,  2.94714945, -1.62409809,\n",
              "         3.86530151, -7.33894798, -7.83473369,  8.78981576,  1.48596082,\n",
              "         5.27408112, -0.10030193,  1.25655307,  5.31910101],\n",
              "       [ 0.24256923, -3.00982628, -1.41890962,  2.88688082,  5.29126055,\n",
              "         5.23346352, -0.43073159, -0.4560127 , -1.61867319,  2.1147096 ,\n",
              "         0.42932073,  1.8219315 ,  1.82558591,  2.91083021,  3.74498722,\n",
              "        -3.96834029,  3.76701138,  3.25970891, -1.94628442,  0.79140531,\n",
              "        -0.51339592,  6.4299038 ,  3.2288254 ,  6.12071038, -2.43304675,\n",
              "         0.06816305,  0.90852144, -2.39891807,  5.35679503]])"
            ]
          },
          "metadata": {
            "tags": []
          },
          "execution_count": 13
        }
      ]
    },
    {
      "cell_type": "markdown",
      "metadata": {
        "id": "BxyK_qVhX3W7"
      },
      "source": [
        "จากนั้นทำการจัดกลุ่มของข้อมูล"
      ]
    },
    {
      "cell_type": "code",
      "metadata": {
        "id": "DCUlt_9SYSEk",
        "colab": {
          "base_uri": "https://localhost:8080/"
        },
        "outputId": "452285ee-838a-411c-a5d7-800012e02b92"
      },
      "source": [
        "y = kmeans.predict(newdata)\n",
        "y"
      ],
      "execution_count": 14,
      "outputs": [
        {
          "output_type": "execute_result",
          "data": {
            "text/plain": [
              "array([1, 3, 2, ..., 2, 1, 2], dtype=int32)"
            ]
          },
          "metadata": {
            "tags": []
          },
          "execution_count": 14
        }
      ]
    },
    {
      "cell_type": "markdown",
      "metadata": {
        "id": "JYZYS4XyYvvb"
      },
      "source": [
        "ทำการลด Dimension ให้เหลือ 2 และวาดกราฟ scatter plot จากการ Predict "
      ]
    },
    {
      "cell_type": "code",
      "metadata": {
        "id": "QS-Br1XaZRuT"
      },
      "source": [
        "from sklearn.decomposition import PCA\n",
        "from matplotlib import pyplot as plt\n",
        "pca = PCA(n_components=2)\n",
        "new_pca = pca.fit_transform(newdata)"
      ],
      "execution_count": 15,
      "outputs": []
    },
    {
      "cell_type": "code",
      "metadata": {
        "id": "Lweh7oodae79",
        "colab": {
          "base_uri": "https://localhost:8080/",
          "height": 283
        },
        "outputId": "bcc41711-a8c3-423b-e4f1-c39cbda97eaf"
      },
      "source": [
        "kmeans = KMeans(n_clusters=4, random_state=2021)\n",
        "kmeans.fit(newdata)\n",
        "y = kmeans.predict(newdata)\n",
        "plt.scatter(new_pca[:,0],new_pca[:,1],c=y)"
      ],
      "execution_count": 16,
      "outputs": [
        {
          "output_type": "execute_result",
          "data": {
            "text/plain": [
              "<matplotlib.collections.PathCollection at 0x7f35d1424d50>"
            ]
          },
          "metadata": {
            "tags": []
          },
          "execution_count": 16
        },
        {
          "output_type": "display_data",
          "data": {
            "image/png": "[encoded data removed]",
            "text/plain": [
              "<Figure size 432x288 with 1 Axes>"
            ]
          },
          "metadata": {
            "tags": [],
            "needs_background": "light"
          }
        }
      ]
    },
    {
      "cell_type": "markdown",
      "metadata": {
        "id": "Y65d9xNFbPgH"
      },
      "source": [
        "จากนั้นทำการหาจำนวนกลุ่มที่เหมาะสมต่อการแบ่งกลุ่มโดยการหาค่า k ที่เหมาะสมของข้อมูลด้วยวิธี The Elbow Method"
      ]
    },
    {
      "cell_type": "markdown",
      "metadata": {
        "id": "NGJHUn9cb9Mv"
      },
      "source": [
        "ทำการหาค่า SSE (Sum of Squared error) ของข้อมูล"
      ]
    },
    {
      "cell_type": "code",
      "metadata": {
        "id": "RPzGJ8Tub4-L",
        "colab": {
          "base_uri": "https://localhost:8080/"
        },
        "outputId": "9283d20f-e30f-4f94-d6d3-31b9e3459f47"
      },
      "source": [
        "kmeans.inertia_"
      ],
      "execution_count": 17,
      "outputs": [
        {
          "output_type": "execute_result",
          "data": {
            "text/plain": [
              "6811674.586506553"
            ]
          },
          "metadata": {
            "tags": []
          },
          "execution_count": 17
        }
      ]
    },
    {
      "cell_type": "code",
      "metadata": {
        "id": "npefGCvWcSTe",
        "colab": {
          "base_uri": "https://localhost:8080/"
        },
        "outputId": "7a59cee6-2759-4a9d-8d2a-b0368912d6a5"
      },
      "source": [
        "SSE = list()\n",
        "for k in [1,2,3,4,5,6,7,8]:\n",
        "    kmeans = KMeans(n_clusters = k , random_state = 2021)\n",
        "    kmeans.fit(newdata)\n",
        "    SSE.append(kmeans.inertia_)\n",
        "SSE"
      ],
      "execution_count": 18,
      "outputs": [
        {
          "output_type": "execute_result",
          "data": {
            "text/plain": [
              "[9906508.553051103,\n",
              " 8561111.758623503,\n",
              " 7526889.77271021,\n",
              " 6811674.586506553,\n",
              " 6062753.46985673,\n",
              " 5334444.667888967,\n",
              " 4621335.446433915,\n",
              " 3945198.1037585414]"
            ]
          },
          "metadata": {
            "tags": []
          },
          "execution_count": 18
        }
      ]
    },
    {
      "cell_type": "markdown",
      "metadata": {
        "id": "8qcOORYAdJAH"
      },
      "source": [
        "จากนำ\n"
      ]
    },
    {
      "cell_type": "code",
      "metadata": {
        "id": "av31aCROcica",
        "colab": {
          "base_uri": "https://localhost:8080/",
          "height": 290
        },
        "outputId": "5b7f5278-ac61-4cbe-ee39-14a0f835562a"
      },
      "source": [
        "plt.plot([1,2,3,4,5,6,7,8],SSE,'o-b')\n",
        "\n",
        "plt.xlabel('k')\n",
        "plt.ylabel('SSE');"
      ],
      "execution_count": 19,
      "outputs": [
        {
          "output_type": "display_data",
          "data": {
            "image/png": "[encoded data removed]",
            "text/plain": [
              "<Figure size 432x288 with 1 Axes>"
            ]
          },
          "metadata": {
            "tags": [],
            "needs_background": "light"
          }
        }
      ]
    },
    {
      "cell_type": "markdown",
      "metadata": {
        "id": "3_dAgSrinGIR"
      },
      "source": [
        "จากกราฟจะสามารถบอกได้ว่ากลุ่มที่เหมาะสมมีทั้งหมด 3 กลุ่มโดยจุดที่ 3 มีความแตกต่างของระยะห่างของจุดที่ใกล้กัน\n",
        "\n",
        "เรายังสามารถใช้วิธีการหาค่า k ด้วยวิธี The silhouette coefficient เพื่อความแม่นยำ"
      ]
    },
    {
      "cell_type": "markdown",
      "metadata": {
        "id": "qtUwvJXCoyYn"
      },
      "source": [
        "IMPORT"
      ]
    },
    {
      "cell_type": "code",
      "metadata": {
        "id": "DEMfEG-lo2B2"
      },
      "source": [
        "from sklearn import metrics"
      ],
      "execution_count": 20,
      "outputs": []
    },
    {
      "cell_type": "code",
      "metadata": {
        "id": "_TxrpecCo4i1"
      },
      "source": [
        "SilH = list()\n",
        "for k in [2,3,4,5,6,7,8]:\n",
        "    kmeans = KMeans(n_clusters = k , random_state = 2021)\n",
        "    kmeans.fit(newdata)\n",
        "    score = metrics.silhouette_score(Data,kmeans.labels_)\n",
        "    SilH.append(score)"
      ],
      "execution_count": 21,
      "outputs": []
    },
    {
      "cell_type": "code",
      "metadata": {
        "id": "fsZdtln7pClW"
      },
      "source": [
        "import matplotlib"
      ],
      "execution_count": 23,
      "outputs": []
    },
    {
      "cell_type": "code",
      "metadata": {
        "id": "f1qRVXYJo_m2",
        "outputId": "4e62655e-4fd2-44cb-d7de-e81747e41285",
        "colab": {
          "base_uri": "https://localhost:8080/",
          "height": 334
        }
      },
      "source": [
        "matplotlib.rcParams['figure.figsize']=[5,5]\n",
        "plt.plot([2,3,4,5,6,7,8],SilH,'o-g')\n",
        "plt.xlabel('k')\n",
        "plt.ylabel('SilH');"
      ],
      "execution_count": 24,
      "outputs": [
        {
          "output_type": "display_data",
          "data": {
            "image/png": "[encoded data removed]",
            "text/plain": [
              "<Figure size 360x360 with 1 Axes>"
            ]
          },
          "metadata": {
            "tags": [],
            "needs_background": "light"
          }
        }
      ]
    },
    {
      "cell_type": "markdown",
      "metadata": {
        "id": "oG7ZbEpdpR32"
      },
      "source": [
        "จากกราฟจะบอกได้ว่า k มีทั้งหมด 3 กลุ่ม ดูค่าได้โดยมีจุดที่มีระยะห่างแตกต่างกันใน 3 ช่วงที่ k เท่ากับ 2 , 3 และ 6\n",
        "\n",
        "จากการดูกราฟ The elbow method และ The silhouette coefficient เพื่อหาค่า k ที่เหมาะสม พบว่าได้ค่า k ที่เหมาะสมคือ k = 3 เราจึงเลือกใช้ k = 3 ในการจัดกลุ่มของข้อมูลชุดนี้"
      ]
    },
    {
      "cell_type": "markdown",
      "metadata": {
        "id": "RnWUURvlpiyF"
      },
      "source": [
        "จากข้อมูลที่ได้สามารถกล่าวได้ว่ากลุ่มที่เหมาะสมที่สุดคือ k = 3 จากนั้นทำการ Cluster ข้อมูลใหม่โดยกำหนดให้เท่ากับ 3 แล้วทำการ visualize ออกมาในรูปแบบ Dimension = 2 หรือ 2 มิติ"
      ]
    },
    {
      "cell_type": "markdown",
      "metadata": {
        "id": "wevoAZQIqA1L"
      },
      "source": [
        "IMPORT"
      ]
    },
    {
      "cell_type": "code",
      "metadata": {
        "id": "j0GLLR8WqCJ-"
      },
      "source": [
        "from sklearn.cluster import KMeans"
      ],
      "execution_count": 25,
      "outputs": []
    },
    {
      "cell_type": "markdown",
      "metadata": {
        "id": "ccQ1xeUvxSaa"
      },
      "source": [
        "DEFINE"
      ]
    },
    {
      "cell_type": "code",
      "metadata": {
        "id": "9Gqg1FAuqEuN"
      },
      "source": [
        "kmeans = KMeans(n_clusters= 3,random_state=2021)"
      ],
      "execution_count": 26,
      "outputs": []
    },
    {
      "cell_type": "markdown",
      "metadata": {
        "id": "SEYKHhdqxfjf"
      },
      "source": [
        "FIT - TRANSFORM"
      ]
    },
    {
      "cell_type": "code",
      "metadata": {
        "id": "MtkfcTfUxfX1",
        "outputId": "936167a9-af47-46f4-b52e-2305548ce2ac",
        "colab": {
          "base_uri": "https://localhost:8080/"
        }
      },
      "source": [
        "kmeans.fit(newdata)"
      ],
      "execution_count": 27,
      "outputs": [
        {
          "output_type": "execute_result",
          "data": {
            "text/plain": [
              "KMeans(algorithm='auto', copy_x=True, init='k-means++', max_iter=300,\n",
              "       n_clusters=3, n_init=10, n_jobs=None, precompute_distances='auto',\n",
              "       random_state=2021, tol=0.0001, verbose=0)"
            ]
          },
          "metadata": {
            "tags": []
          },
          "execution_count": 27
        }
      ]
    },
    {
      "cell_type": "markdown",
      "metadata": {
        "id": "YaK7NbMhxypY"
      },
      "source": [
        "แสดงค่า Center ที่คำนวณได้"
      ]
    },
    {
      "cell_type": "code",
      "metadata": {
        "id": "ZXqwZkKqxxiQ",
        "outputId": "c37efda8-4538-4a0b-eab5-63c1fcd644fd",
        "colab": {
          "base_uri": "https://localhost:8080/"
        }
      },
      "source": [
        "kmeans.cluster_centers_"
      ],
      "execution_count": 28,
      "outputs": [
        {
          "output_type": "execute_result",
          "data": {
            "text/plain": [
              "array([[-1.5456627 ,  0.25781517,  2.40928773, -0.10750198, -0.88632014,\n",
              "        -2.49835529, -0.22768456, -2.46378259,  4.38559333,  1.87623604,\n",
              "         3.5948659 ,  2.69541412,  4.71442694, -0.973899  ,  3.4990912 ,\n",
              "         3.5080643 ,  2.21015434, -4.346085  ,  3.78462975,  0.15743889,\n",
              "        -0.76703649, -2.13559153,  1.01782694, -2.48636489, -4.47607081,\n",
              "        -2.2031181 ,  0.07729235,  1.34740627, -6.68158328],\n",
              "       [ 1.47882354, -2.8933356 ,  0.5357953 ,  1.92347044, -3.62212321,\n",
              "         4.35447446,  1.0156692 ,  2.1086338 , -3.32862248,  1.66950039,\n",
              "        -3.06018237, -3.78770297, -4.14528077, -3.56080701, -0.41180727,\n",
              "         1.60886296, -0.07951553,  3.65054853, -2.93566402,  1.41744566,\n",
              "        -2.205982  , -1.71796173, -3.80952897,  6.75212935, -0.78810482,\n",
              "         2.18060378, -0.01692502,  2.06719533,  3.5196445 ],\n",
              "       [-0.15730541,  1.67045332,  3.86578222, -2.02619681,  7.62319369,\n",
              "         4.66858531, -0.90355063,  0.03175224, -2.2460016 , -0.75573018,\n",
              "         1.91551486,  5.33826619,  4.94295415,  6.73944263,  0.23623628,\n",
              "        -4.56165025,  6.10021749,  1.56898412, -1.57854925,  0.77609563,\n",
              "         3.62218522,  5.82479418,  2.15086549,  5.26285572, -1.71315819,\n",
              "        -1.59630103,  2.8114644 , -0.7532751 ,  5.4432644 ]])"
            ]
          },
          "metadata": {
            "tags": []
          },
          "execution_count": 28
        }
      ]
    },
    {
      "cell_type": "markdown",
      "metadata": {
        "id": "MebKnghMx_cZ"
      },
      "source": [
        "ทำการจัดกลุ่มข้อมูล"
      ]
    },
    {
      "cell_type": "code",
      "metadata": {
        "id": "YRIBhbSSx47o",
        "outputId": "d5db9a42-b072-43d2-97f5-660ef5bbbd67",
        "colab": {
          "base_uri": "https://localhost:8080/"
        }
      },
      "source": [
        "y = kmeans.predict(newdata) \n",
        "y"
      ],
      "execution_count": 29,
      "outputs": [
        {
          "output_type": "execute_result",
          "data": {
            "text/plain": [
              "array([0, 2, 1, ..., 1, 0, 1], dtype=int32)"
            ]
          },
          "metadata": {
            "tags": []
          },
          "execution_count": 29
        }
      ]
    },
    {
      "cell_type": "markdown",
      "metadata": {
        "id": "MtcUeFHVyGhA"
      },
      "source": [
        "ลด Dimension ด้วย PCA กำหนดให้ Dimension = 2 "
      ]
    },
    {
      "cell_type": "code",
      "metadata": {
        "id": "Z4-TiIeDyNTQ"
      },
      "source": [
        "pca = PCA(n_components=2)\n",
        "new_pca = pca.fit_transform(newdata)"
      ],
      "execution_count": 37,
      "outputs": []
    },
    {
      "cell_type": "markdown",
      "metadata": {
        "id": "LE4J7bJ-ye0I"
      },
      "source": [
        "เพิ่มขนาดของกราฟ และ ทำการ plot ลงกราฟ"
      ]
    },
    {
      "cell_type": "code",
      "metadata": {
        "id": "yGla1TjayYAw"
      },
      "source": [
        "matplotlib.rcParams['figure.figsize']=[10,15] "
      ],
      "execution_count": 38,
      "outputs": []
    },
    {
      "cell_type": "code",
      "metadata": {
        "id": "CW016E8AyTSp",
        "outputId": "99222def-b3e3-4546-bccb-4ba48776c39f",
        "colab": {
          "base_uri": "https://localhost:8080/",
          "height": 893
        }
      },
      "source": [
        "plt.scatter(new_pca[:,0],new_pca[:,1],c=y,alpha=0.7) \n",
        "plt.title('DataGenerator') \n",
        "plt.xlabel('X') \n",
        "plt.ylabel('Y');"
      ],
      "execution_count": 41,
      "outputs": [
        {
          "output_type": "display_data",
          "data": {
            "image/png": "[encoded data removed]",
            "text/plain": [
              "<Figure size 720x1080 with 1 Axes>"
            ]
          },
          "metadata": {
            "tags": [],
            "needs_background": "light"
          }
        }
      ]
    },
    {
      "cell_type": "markdown",
      "metadata": {
        "id": "8SyB_Ve5y0BX"
      },
      "source": [
        "## **จากโจทย์ข้อที่ 2 ลด Dimension ของข้อมูลเหลือ 2 มิติ แล้วทำ clustering แล้ว visualize ข้อมูลแบบ 2 มิติ**"
      ]
    },
    {
      "cell_type": "markdown",
      "metadata": {
        "id": "_CmygvWsy7X3"
      },
      "source": [
        "ในคอร์สการเรียน Multivariate การลด Dimension ของข้อมูลจากทีเรียนมาสามารถทำได้ 3 วิธีคือ\n",
        "\n",
        "- PCA : Principle Component Analysis \n",
        "\n",
        "- MDS : Multidimensional Scaling\n",
        "\n",
        "- Factor Analysis"
      ]
    },
    {
      "cell_type": "markdown",
      "metadata": {
        "id": "5jNdmxa22hMl"
      },
      "source": [
        "**PCA : Principle Component Analysis**\n",
        "\n",
        "PCA ถูกใช้ในในการทำข้อ 2 ไปแล้วและการที่จะนำมาทำใหม่นั้นในการ Clusters นั้นจำเป็นที่จะต้องกำหนดเงื่อนไขการใช้สีให้ถูกกลุ่มด้วยและจากข้อมูลไม่ได้กำหนดชื่อ Row ทำให้การใช้ PCA เพื่อลด Dimension ก่อนไป Cluster ค่อนข้างยาก\n"
      ]
    },
    {
      "cell_type": "markdown",
      "metadata": {
        "id": "EdaGlTgk4IQD"
      },
      "source": [
        "**Factor Analysis**\n",
        "\n",
        "จากข้อมูลจะได้ดังนี้"
      ]
    },
    {
      "cell_type": "code",
      "metadata": {
        "id": "WUyKAcu34HVl",
        "outputId": "8d10108e-593f-4fa0-deb7-f0682f9b1524",
        "colab": {
          "base_uri": "https://localhost:8080/",
          "height": 419
        }
      },
      "source": [
        "newdata = Data.iloc[:,1:30]\n",
        "newdata"
      ],
      "execution_count": 42,
      "outputs": [
        {
          "output_type": "execute_result",
          "data": {
            "text/html": [
              "<div>\n",
              "<style scoped>\n",
              "    .dataframe tbody tr th:only-of-type {\n",
              "        vertical-align: middle;\n",
              "    }\n",
              "\n",
              "    .dataframe tbody tr th {\n",
              "        vertical-align: top;\n",
              "    }\n",
              "\n",
              "    .dataframe thead th {\n",
              "        text-align: right;\n",
              "    }\n",
              "</style>\n",
              "<table border=\"1\" class=\"dataframe\">\n",
              "  <thead>\n",
              "    <tr style=\"text-align: right;\">\n",
              "      <th></th>\n",
              "      <th>1</th>\n",
              "      <th>2</th>\n",
              "      <th>3</th>\n",
              "      <th>4</th>\n",
              "      <th>5</th>\n",
              "      <th>6</th>\n",
              "      <th>7</th>\n",
              "      <th>8</th>\n",
              "      <th>9</th>\n",
              "      <th>10</th>\n",
              "      <th>11</th>\n",
              "      <th>12</th>\n",
              "      <th>13</th>\n",
              "      <th>14</th>\n",
              "      <th>15</th>\n",
              "      <th>16</th>\n",
              "      <th>17</th>\n",
              "      <th>18</th>\n",
              "      <th>19</th>\n",
              "      <th>20</th>\n",
              "      <th>21</th>\n",
              "      <th>22</th>\n",
              "      <th>23</th>\n",
              "      <th>24</th>\n",
              "      <th>25</th>\n",
              "      <th>26</th>\n",
              "      <th>27</th>\n",
              "      <th>28</th>\n",
              "      <th>29</th>\n",
              "    </tr>\n",
              "  </thead>\n",
              "  <tbody>\n",
              "    <tr>\n",
              "      <th>0</th>\n",
              "      <td>5.645359</td>\n",
              "      <td>-1.512009</td>\n",
              "      <td>-8.408605</td>\n",
              "      <td>-7.160649</td>\n",
              "      <td>8.152055</td>\n",
              "      <td>-5.137610</td>\n",
              "      <td>-8.514089</td>\n",
              "      <td>-6.140884</td>\n",
              "      <td>10.495298</td>\n",
              "      <td>1.590252</td>\n",
              "      <td>3.370453</td>\n",
              "      <td>0.659568</td>\n",
              "      <td>5.630557</td>\n",
              "      <td>1.300547</td>\n",
              "      <td>2.487644</td>\n",
              "      <td>6.066393</td>\n",
              "      <td>8.233752</td>\n",
              "      <td>-9.202617</td>\n",
              "      <td>-5.345057</td>\n",
              "      <td>5.844010</td>\n",
              "      <td>1.529182</td>\n",
              "      <td>-3.323277</td>\n",
              "      <td>3.321481</td>\n",
              "      <td>2.621559</td>\n",
              "      <td>-4.425307</td>\n",
              "      <td>4.524257</td>\n",
              "      <td>-4.957104</td>\n",
              "      <td>6.386672</td>\n",
              "      <td>-10.452964</td>\n",
              "    </tr>\n",
              "    <tr>\n",
              "      <th>1</th>\n",
              "      <td>-9.680265</td>\n",
              "      <td>-5.146325</td>\n",
              "      <td>-1.400457</td>\n",
              "      <td>4.109127</td>\n",
              "      <td>9.107175</td>\n",
              "      <td>8.461001</td>\n",
              "      <td>1.703898</td>\n",
              "      <td>-0.734701</td>\n",
              "      <td>-0.662673</td>\n",
              "      <td>3.817067</td>\n",
              "      <td>1.822420</td>\n",
              "      <td>4.052866</td>\n",
              "      <td>-3.271882</td>\n",
              "      <td>7.773785</td>\n",
              "      <td>7.411452</td>\n",
              "      <td>-4.505587</td>\n",
              "      <td>2.963060</td>\n",
              "      <td>7.674272</td>\n",
              "      <td>-9.869400</td>\n",
              "      <td>-8.226315</td>\n",
              "      <td>8.427967</td>\n",
              "      <td>5.859954</td>\n",
              "      <td>2.930561</td>\n",
              "      <td>4.895293</td>\n",
              "      <td>-7.116522</td>\n",
              "      <td>-8.471998</td>\n",
              "      <td>5.241182</td>\n",
              "      <td>-1.075735</td>\n",
              "      <td>4.753808</td>\n",
              "    </tr>\n",
              "    <tr>\n",
              "      <th>2</th>\n",
              "      <td>10.088068</td>\n",
              "      <td>6.267673</td>\n",
              "      <td>-5.007461</td>\n",
              "      <td>-6.157636</td>\n",
              "      <td>-4.656535</td>\n",
              "      <td>9.834261</td>\n",
              "      <td>1.608311</td>\n",
              "      <td>6.068735</td>\n",
              "      <td>-10.170915</td>\n",
              "      <td>7.084125</td>\n",
              "      <td>-9.178798</td>\n",
              "      <td>-7.684204</td>\n",
              "      <td>-11.860847</td>\n",
              "      <td>-3.715293</td>\n",
              "      <td>-3.697722</td>\n",
              "      <td>9.908313</td>\n",
              "      <td>6.599582</td>\n",
              "      <td>0.364110</td>\n",
              "      <td>7.548956</td>\n",
              "      <td>-8.481781</td>\n",
              "      <td>5.089799</td>\n",
              "      <td>-7.056839</td>\n",
              "      <td>-5.440225</td>\n",
              "      <td>7.366136</td>\n",
              "      <td>-6.099482</td>\n",
              "      <td>5.900475</td>\n",
              "      <td>-0.567453</td>\n",
              "      <td>3.676044</td>\n",
              "      <td>3.636315</td>\n",
              "    </tr>\n",
              "    <tr>\n",
              "      <th>3</th>\n",
              "      <td>-5.619996</td>\n",
              "      <td>-0.729111</td>\n",
              "      <td>7.873232</td>\n",
              "      <td>-7.234014</td>\n",
              "      <td>-3.057497</td>\n",
              "      <td>-2.156534</td>\n",
              "      <td>-4.396004</td>\n",
              "      <td>-8.843602</td>\n",
              "      <td>-6.002348</td>\n",
              "      <td>6.974013</td>\n",
              "      <td>-6.001278</td>\n",
              "      <td>-8.506518</td>\n",
              "      <td>-2.456330</td>\n",
              "      <td>1.138076</td>\n",
              "      <td>-3.899233</td>\n",
              "      <td>9.395032</td>\n",
              "      <td>-6.214876</td>\n",
              "      <td>9.013846</td>\n",
              "      <td>1.558676</td>\n",
              "      <td>6.049342</td>\n",
              "      <td>2.618855</td>\n",
              "      <td>-7.194114</td>\n",
              "      <td>-10.214505</td>\n",
              "      <td>8.954457</td>\n",
              "      <td>7.642740</td>\n",
              "      <td>4.098489</td>\n",
              "      <td>-1.835569</td>\n",
              "      <td>-1.134072</td>\n",
              "      <td>7.054722</td>\n",
              "    </tr>\n",
              "    <tr>\n",
              "      <th>4</th>\n",
              "      <td>-10.918593</td>\n",
              "      <td>-6.447384</td>\n",
              "      <td>1.260397</td>\n",
              "      <td>6.235345</td>\n",
              "      <td>10.998694</td>\n",
              "      <td>9.431398</td>\n",
              "      <td>4.326759</td>\n",
              "      <td>-1.366271</td>\n",
              "      <td>0.720983</td>\n",
              "      <td>2.657494</td>\n",
              "      <td>5.502511</td>\n",
              "      <td>6.129621</td>\n",
              "      <td>-1.155109</td>\n",
              "      <td>9.711989</td>\n",
              "      <td>5.343099</td>\n",
              "      <td>-7.353672</td>\n",
              "      <td>2.485260</td>\n",
              "      <td>7.425995</td>\n",
              "      <td>-9.048266</td>\n",
              "      <td>-7.630582</td>\n",
              "      <td>7.810077</td>\n",
              "      <td>6.552491</td>\n",
              "      <td>3.859978</td>\n",
              "      <td>5.717528</td>\n",
              "      <td>-3.768863</td>\n",
              "      <td>-7.753635</td>\n",
              "      <td>5.075417</td>\n",
              "      <td>-1.536883</td>\n",
              "      <td>5.055226</td>\n",
              "    </tr>\n",
              "    <tr>\n",
              "      <th>...</th>\n",
              "      <td>...</td>\n",
              "      <td>...</td>\n",
              "      <td>...</td>\n",
              "      <td>...</td>\n",
              "      <td>...</td>\n",
              "      <td>...</td>\n",
              "      <td>...</td>\n",
              "      <td>...</td>\n",
              "      <td>...</td>\n",
              "      <td>...</td>\n",
              "      <td>...</td>\n",
              "      <td>...</td>\n",
              "      <td>...</td>\n",
              "      <td>...</td>\n",
              "      <td>...</td>\n",
              "      <td>...</td>\n",
              "      <td>...</td>\n",
              "      <td>...</td>\n",
              "      <td>...</td>\n",
              "      <td>...</td>\n",
              "      <td>...</td>\n",
              "      <td>...</td>\n",
              "      <td>...</td>\n",
              "      <td>...</td>\n",
              "      <td>...</td>\n",
              "      <td>...</td>\n",
              "      <td>...</td>\n",
              "      <td>...</td>\n",
              "      <td>...</td>\n",
              "    </tr>\n",
              "    <tr>\n",
              "      <th>9995</th>\n",
              "      <td>-5.982394</td>\n",
              "      <td>-2.377600</td>\n",
              "      <td>3.991366</td>\n",
              "      <td>2.066386</td>\n",
              "      <td>8.939499</td>\n",
              "      <td>3.515521</td>\n",
              "      <td>-0.687216</td>\n",
              "      <td>-7.096250</td>\n",
              "      <td>-0.483933</td>\n",
              "      <td>-3.487503</td>\n",
              "      <td>-6.412030</td>\n",
              "      <td>1.698171</td>\n",
              "      <td>5.591985</td>\n",
              "      <td>2.200870</td>\n",
              "      <td>1.710173</td>\n",
              "      <td>4.215186</td>\n",
              "      <td>7.796989</td>\n",
              "      <td>7.679128</td>\n",
              "      <td>5.763228</td>\n",
              "      <td>-5.406276</td>\n",
              "      <td>-5.459429</td>\n",
              "      <td>8.663905</td>\n",
              "      <td>-0.663315</td>\n",
              "      <td>-1.347786</td>\n",
              "      <td>1.658434</td>\n",
              "      <td>4.270892</td>\n",
              "      <td>5.375995</td>\n",
              "      <td>-0.445427</td>\n",
              "      <td>10.680069</td>\n",
              "    </tr>\n",
              "    <tr>\n",
              "      <th>9996</th>\n",
              "      <td>9.351393</td>\n",
              "      <td>5.487986</td>\n",
              "      <td>5.947889</td>\n",
              "      <td>-8.621342</td>\n",
              "      <td>5.833916</td>\n",
              "      <td>-0.831200</td>\n",
              "      <td>0.799592</td>\n",
              "      <td>2.719228</td>\n",
              "      <td>-3.751520</td>\n",
              "      <td>-4.101230</td>\n",
              "      <td>3.144996</td>\n",
              "      <td>3.296714</td>\n",
              "      <td>7.119346</td>\n",
              "      <td>3.873315</td>\n",
              "      <td>-10.067322</td>\n",
              "      <td>-7.486359</td>\n",
              "      <td>5.966499</td>\n",
              "      <td>-6.699479</td>\n",
              "      <td>-5.169989</td>\n",
              "      <td>7.498531</td>\n",
              "      <td>8.563825</td>\n",
              "      <td>0.733198</td>\n",
              "      <td>-6.472467</td>\n",
              "      <td>4.942586</td>\n",
              "      <td>-0.162590</td>\n",
              "      <td>2.895984</td>\n",
              "      <td>5.859200</td>\n",
              "      <td>1.094162</td>\n",
              "      <td>0.813355</td>\n",
              "    </tr>\n",
              "    <tr>\n",
              "      <th>9997</th>\n",
              "      <td>7.818759</td>\n",
              "      <td>6.398568</td>\n",
              "      <td>-4.755216</td>\n",
              "      <td>-5.181228</td>\n",
              "      <td>-3.405445</td>\n",
              "      <td>11.223262</td>\n",
              "      <td>3.490421</td>\n",
              "      <td>6.006418</td>\n",
              "      <td>-9.669740</td>\n",
              "      <td>6.020925</td>\n",
              "      <td>-9.548196</td>\n",
              "      <td>-8.811076</td>\n",
              "      <td>-9.948476</td>\n",
              "      <td>-4.142153</td>\n",
              "      <td>-3.013274</td>\n",
              "      <td>8.687351</td>\n",
              "      <td>7.583746</td>\n",
              "      <td>1.857641</td>\n",
              "      <td>5.131343</td>\n",
              "      <td>-10.503256</td>\n",
              "      <td>2.915657</td>\n",
              "      <td>-8.064281</td>\n",
              "      <td>-3.891103</td>\n",
              "      <td>7.350757</td>\n",
              "      <td>-5.370867</td>\n",
              "      <td>5.108498</td>\n",
              "      <td>0.922176</td>\n",
              "      <td>3.686926</td>\n",
              "      <td>3.322278</td>\n",
              "    </tr>\n",
              "    <tr>\n",
              "      <th>9998</th>\n",
              "      <td>-7.750469</td>\n",
              "      <td>9.031552</td>\n",
              "      <td>9.307987</td>\n",
              "      <td>-1.619870</td>\n",
              "      <td>1.449752</td>\n",
              "      <td>-2.457904</td>\n",
              "      <td>6.772582</td>\n",
              "      <td>-7.931218</td>\n",
              "      <td>8.501263</td>\n",
              "      <td>6.798074</td>\n",
              "      <td>1.240366</td>\n",
              "      <td>4.155902</td>\n",
              "      <td>6.037059</td>\n",
              "      <td>0.815239</td>\n",
              "      <td>-5.158712</td>\n",
              "      <td>-5.980060</td>\n",
              "      <td>5.424738</td>\n",
              "      <td>4.949754</td>\n",
              "      <td>-0.027357</td>\n",
              "      <td>9.037065</td>\n",
              "      <td>-4.983274</td>\n",
              "      <td>-2.470661</td>\n",
              "      <td>-4.061016</td>\n",
              "      <td>-3.000973</td>\n",
              "      <td>3.853341</td>\n",
              "      <td>-7.830560</td>\n",
              "      <td>2.054371</td>\n",
              "      <td>2.182887</td>\n",
              "      <td>-10.723758</td>\n",
              "    </tr>\n",
              "    <tr>\n",
              "      <th>9999</th>\n",
              "      <td>11.360828</td>\n",
              "      <td>5.989421</td>\n",
              "      <td>-5.527974</td>\n",
              "      <td>-5.459924</td>\n",
              "      <td>-3.514900</td>\n",
              "      <td>8.817097</td>\n",
              "      <td>-0.313162</td>\n",
              "      <td>9.560471</td>\n",
              "      <td>-10.101839</td>\n",
              "      <td>5.200510</td>\n",
              "      <td>-10.135598</td>\n",
              "      <td>-8.593570</td>\n",
              "      <td>-9.544607</td>\n",
              "      <td>-5.230351</td>\n",
              "      <td>-3.073770</td>\n",
              "      <td>9.298421</td>\n",
              "      <td>7.449832</td>\n",
              "      <td>2.206924</td>\n",
              "      <td>5.900636</td>\n",
              "      <td>-12.027623</td>\n",
              "      <td>6.250410</td>\n",
              "      <td>-8.929068</td>\n",
              "      <td>-5.143601</td>\n",
              "      <td>8.422081</td>\n",
              "      <td>-4.812894</td>\n",
              "      <td>6.345059</td>\n",
              "      <td>-0.791921</td>\n",
              "      <td>5.813688</td>\n",
              "      <td>1.784168</td>\n",
              "    </tr>\n",
              "  </tbody>\n",
              "</table>\n",
              "<p>10000 rows × 29 columns</p>\n",
              "</div>"
            ],
            "text/plain": [
              "             1         2         3   ...        27        28         29\n",
              "0      5.645359 -1.512009 -8.408605  ... -4.957104  6.386672 -10.452964\n",
              "1     -9.680265 -5.146325 -1.400457  ...  5.241182 -1.075735   4.753808\n",
              "2     10.088068  6.267673 -5.007461  ... -0.567453  3.676044   3.636315\n",
              "3     -5.619996 -0.729111  7.873232  ... -1.835569 -1.134072   7.054722\n",
              "4    -10.918593 -6.447384  1.260397  ...  5.075417 -1.536883   5.055226\n",
              "...         ...       ...       ...  ...       ...       ...        ...\n",
              "9995  -5.982394 -2.377600  3.991366  ...  5.375995 -0.445427  10.680069\n",
              "9996   9.351393  5.487986  5.947889  ...  5.859200  1.094162   0.813355\n",
              "9997   7.818759  6.398568 -4.755216  ...  0.922176  3.686926   3.322278\n",
              "9998  -7.750469  9.031552  9.307987  ...  2.054371  2.182887 -10.723758\n",
              "9999  11.360828  5.989421 -5.527974  ... -0.791921  5.813688   1.784168\n",
              "\n",
              "[10000 rows x 29 columns]"
            ]
          },
          "metadata": {
            "tags": []
          },
          "execution_count": 42
        }
      ]
    },
    {
      "cell_type": "markdown",
      "metadata": {
        "id": "W9X5_YXZ41J3"
      },
      "source": [
        "ติดตั้งการทำ Factor Analysis"
      ]
    },
    {
      "cell_type": "code",
      "metadata": {
        "id": "U-igjoV844-w",
        "outputId": "66ad52f4-2ff1-439e-f9f5-4dd60978ae5a",
        "colab": {
          "base_uri": "https://localhost:8080/"
        }
      },
      "source": [
        "!pip install factor_analyzer\n",
        "from factor_analyzer import FactorAnalyzer\n",
        "import matplotlib.pyplot as plt "
      ],
      "execution_count": 44,
      "outputs": [
        {
          "output_type": "stream",
          "text": [
            "Collecting factor_analyzer\n",
            "\u001b[?25l  Downloading https://files.pythonhosted.org/packages/44/b5/cbd83484ca6dd4c6562c6d66a6a3a0ecf526e79b2b575b9fb4bf5ad172dd/factor_analyzer-0.3.2.tar.gz (40kB)\n",
            "\r\u001b[K     |████████▏                       | 10kB 14.5MB/s eta 0:00:01\r\u001b[K     |████████████████▍               | 20kB 8.4MB/s eta 0:00:01\r\u001b[K     |████████████████████████▌       | 30kB 7.3MB/s eta 0:00:01\r\u001b[K     |████████████████████████████████| 40kB 3.0MB/s \n",
            "\u001b[?25hRequirement already satisfied: pandas in /usr/local/lib/python3.7/dist-packages (from factor_analyzer) (1.1.5)\n",
            "Requirement already satisfied: scipy in /usr/local/lib/python3.7/dist-packages (from factor_analyzer) (1.4.1)\n",
            "Requirement already satisfied: numpy in /usr/local/lib/python3.7/dist-packages (from factor_analyzer) (1.19.5)\n",
            "Requirement already satisfied: scikit-learn in /usr/local/lib/python3.7/dist-packages (from factor_analyzer) (0.22.2.post1)\n",
            "Requirement already satisfied: pytz>=2017.2 in /usr/local/lib/python3.7/dist-packages (from pandas->factor_analyzer) (2018.9)\n",
            "Requirement already satisfied: python-dateutil>=2.7.3 in /usr/local/lib/python3.7/dist-packages (from pandas->factor_analyzer) (2.8.1)\n",
            "Requirement already satisfied: joblib>=0.11 in /usr/local/lib/python3.7/dist-packages (from scikit-learn->factor_analyzer) (1.0.1)\n",
            "Requirement already satisfied: six>=1.5 in /usr/local/lib/python3.7/dist-packages (from python-dateutil>=2.7.3->pandas->factor_analyzer) (1.15.0)\n",
            "Building wheels for collected packages: factor-analyzer\n",
            "  Building wheel for factor-analyzer (setup.py) ... \u001b[?25l\u001b[?25hdone\n",
            "  Created wheel for factor-analyzer: filename=factor_analyzer-0.3.2-cp37-none-any.whl size=40383 sha256=b86a80f0516dbae41f255c0a13082de660bc1fcd05e955af1ff20129bd56d688\n",
            "  Stored in directory: /root/.cache/pip/wheels/4a/d0/57/f1330cb9c80e82d8d05391c74c94ed61ce3f03bf6157f3d6db\n",
            "Successfully built factor-analyzer\n",
            "Installing collected packages: factor-analyzer\n",
            "Successfully installed factor-analyzer-0.3.2\n"
          ],
          "name": "stdout"
        }
      ]
    },
    {
      "cell_type": "markdown",
      "metadata": {
        "id": "qdil3WEa5aJb"
      },
      "source": [
        "หลังจากนั้นทำการใช้งาน Bartlett's test"
      ]
    },
    {
      "cell_type": "code",
      "metadata": {
        "id": "NtulRJN45ILV",
        "outputId": "b688da15-7db1-4758-a1d3-07b11e5e7b7b",
        "colab": {
          "base_uri": "https://localhost:8080/"
        }
      },
      "source": [
        "from factor_analyzer.factor_analyzer import calculate_bartlett_sphericity\n",
        "chi_square_value,p_value=calculate_bartlett_sphericity(newdata)\n",
        "chi_square_value, p_value"
      ],
      "execution_count": 46,
      "outputs": [
        {
          "output_type": "execute_result",
          "data": {
            "text/plain": [
              "(430695.58221493143, 0.0)"
            ]
          },
          "metadata": {
            "tags": []
          },
          "execution_count": 46
        }
      ]
    },
    {
      "cell_type": "markdown",
      "metadata": {
        "id": "gmxH76-e5xaM"
      },
      "source": [
        "จากการ Test ด้วย Bartlett พบว่า P-value = 0 แปลว่าข้อมูลถือว่าผ่านหรือดีนั้นเอง"
      ]
    },
    {
      "cell_type": "markdown",
      "metadata": {
        "id": "fwL-TQ0c5_WT"
      },
      "source": [
        "และทำการใช้ Kaiser-Meyer-Olkin (KMO) Test"
      ]
    },
    {
      "cell_type": "code",
      "metadata": {
        "id": "pgdeMdxF6EYZ",
        "outputId": "514e1397-ce07-43cb-e8a3-1a511fccb280",
        "colab": {
          "base_uri": "https://localhost:8080/"
        }
      },
      "source": [
        "from factor_analyzer.factor_analyzer import calculate_kmo\n",
        "\n",
        "kmo_all,kmo_model=calculate_kmo(newdata)\n",
        "\n",
        "kmo_model"
      ],
      "execution_count": 47,
      "outputs": [
        {
          "output_type": "execute_result",
          "data": {
            "text/plain": [
              "0.6267169865107326"
            ]
          },
          "metadata": {
            "tags": []
          },
          "execution_count": 47
        }
      ]
    },
    {
      "cell_type": "markdown",
      "metadata": {
        "id": "pVZk73ux6bhz"
      },
      "source": [
        "แปลผลจาก Output ได้ว่า\n",
        "\n",
        "ค่า KMO จาก model มีค่าประมาณ 0.6267 ซึ่งมากกว่า 0.6 แปลว่าเหมาะสมที่นำไปทำ Factor Analysis"
      ]
    },
    {
      "cell_type": "markdown",
      "metadata": {
        "id": "XdBIwQTZ6_lb"
      },
      "source": [
        "**ทำการ Factor Analysis**"
      ]
    },
    {
      "cell_type": "markdown",
      "metadata": {
        "id": "eJ4xb2YW7FbL"
      },
      "source": [
        "IMPORT"
      ]
    },
    {
      "cell_type": "code",
      "metadata": {
        "id": "n-9t3BMO7ET6"
      },
      "source": [
        "from factor_analyzer import FactorAnalyzer"
      ],
      "execution_count": 48,
      "outputs": []
    },
    {
      "cell_type": "markdown",
      "metadata": {
        "id": "Q7JDKcv87HYT"
      },
      "source": [
        "DEFINE"
      ]
    },
    {
      "cell_type": "code",
      "metadata": {
        "id": "J2jX2zfT7Qiy"
      },
      "source": [
        "fa = FactorAnalyzer(n_factors=10)"
      ],
      "execution_count": 49,
      "outputs": []
    },
    {
      "cell_type": "markdown",
      "metadata": {
        "id": "5hpmu8o_7Zfq"
      },
      "source": [
        "FIT - TRANSFORM"
      ]
    },
    {
      "cell_type": "code",
      "metadata": {
        "id": "W2f_p-VV7UXs"
      },
      "source": [
        "data_fa = fa.fit_transform(newdata)"
      ],
      "execution_count": 50,
      "outputs": []
    },
    {
      "cell_type": "markdown",
      "metadata": {
        "id": "ehDhdb6a7P1z"
      },
      "source": [
        "โดยที่ขนาดข้อมูลที่ขนาดเท่านี้"
      ]
    },
    {
      "cell_type": "code",
      "metadata": {
        "id": "Mcx3E6Og7jk7",
        "outputId": "7b69f3e6-25a0-49cc-bb86-5dd4d318efbe",
        "colab": {
          "base_uri": "https://localhost:8080/"
        }
      },
      "source": [
        "data_fa.shape"
      ],
      "execution_count": 51,
      "outputs": [
        {
          "output_type": "execute_result",
          "data": {
            "text/plain": [
              "(10000, 10)"
            ]
          },
          "metadata": {
            "tags": []
          },
          "execution_count": 51
        }
      ]
    }
  ]
}