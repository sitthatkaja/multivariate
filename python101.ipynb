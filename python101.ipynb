{
  "nbformat": 4,
  "nbformat_minor": 0,
  "metadata": {
    "colab": {
      "name": "python101.ipynb",
      "provenance": [],
      "authorship_tag": "ABX9TyNnzlD6YT/ZpegkckXBwj31",
      "include_colab_link": true
    },
    "kernelspec": {
      "name": "python3",
      "display_name": "Python 3"
    }
  },
  "cells": [
    {
      "cell_type": "markdown",
      "metadata": {
        "id": "view-in-github",
        "colab_type": "text"
      },
      "source": [
        "<a href=\"https://colab.research.google.com/github/sitthatkaja/multivariate/blob/main/python101.ipynb\" target=\"_parent\"><img src=\"https://colab.research.google.com/assets/colab-badge.svg\" alt=\"Open In Colab\"/></a>"
      ]
    },
    {
      "cell_type": "markdown",
      "metadata": {
        "id": "BAZ4i94YLhim"
      },
      "source": [
        "# **ตัวแปร Variable**\r\n",
        "***"
      ]
    },
    {
      "cell_type": "markdown",
      "metadata": {
        "id": "NsPffZmlL4hw"
      },
      "source": [
        "###**หลักการตั้งชื่อตัวแปรเบื้องต้น**\r\n",
        "\r\n",
        "- ตั้งใจสื่อ\r\n",
        "\r\n",
        "- ภาษาอังกฤษ\r\n",
        "\r\n",
        "- ใช้ตัวเลขได้แต่ห้ามขึ้นต้นด้วยตัวเลข\r\n",
        "\r\n",
        "- ห้ามเว้นวรรค\r\n",
        "\r\n",
        "- ตัวเล็กกับตัวใหญ่ต่างกัน\r\n",
        "\r\n",
        "***\r\n",
        "\r\n"
      ]
    },
    {
      "cell_type": "markdown",
      "metadata": {
        "id": "amKZDq5PMqIh"
      },
      "source": [
        "มี output 2 mode : ออกหน้าจอ กับ เข้าไปเก็บในตัวแปร\r\n",
        "\r\n",
        "***"
      ]
    },
    {
      "cell_type": "markdown",
      "metadata": {
        "id": "Enhd_lBkN0CH"
      },
      "source": [
        "###***ตัวอย่าง***"
      ]
    },
    {
      "cell_type": "code",
      "metadata": {
        "colab": {
          "base_uri": "https://localhost:8080/"
        },
        "id": "UcGVhS4mNGGp",
        "outputId": "e54cd666-a600-4b96-d209-7ff4518d07c0"
      },
      "source": [
        "3.14159 # อันนี้คือ output ที่เข้าไปอยู่หน้าจอ "
      ],
      "execution_count": 2,
      "outputs": [
        {
          "output_type": "execute_result",
          "data": {
            "text/plain": [
              "3.14159"
            ]
          },
          "metadata": {
            "tags": []
          },
          "execution_count": 2
        }
      ]
    },
    {
      "cell_type": "code",
      "metadata": {
        "id": "mWfkPtVHKBpO"
      },
      "source": [
        "Pi = 3.14159 # อันนี้คือ output ที่เข้าไปอยู่ในตัวแปร"
      ],
      "execution_count": 3,
      "outputs": []
    },
    {
      "cell_type": "code",
      "metadata": {
        "colab": {
          "base_uri": "https://localhost:8080/"
        },
        "id": "twFcdegjM-cO",
        "outputId": "b0b76eb7-c56f-4bf9-a38f-c4e546c5886b"
      },
      "source": [
        "Pi"
      ],
      "execution_count": 4,
      "outputs": [
        {
          "output_type": "execute_result",
          "data": {
            "text/plain": [
              "3.14159"
            ]
          },
          "metadata": {
            "tags": []
          },
          "execution_count": 4
        }
      ]
    },
    {
      "cell_type": "code",
      "metadata": {
        "colab": {
          "base_uri": "https://localhost:8080/"
        },
        "id": "QtAUoOBCNL3x",
        "outputId": "d20a7853-c452-427b-e38a-759f8aa62625"
      },
      "source": [
        "a = 1234567\r\n",
        "print(a)"
      ],
      "execution_count": 1,
      "outputs": [
        {
          "output_type": "stream",
          "text": [
            "1234567\n"
          ],
          "name": "stdout"
        }
      ]
    },
    {
      "cell_type": "markdown",
      "metadata": {
        "id": "5ylh_5RiNjaC"
      },
      "source": [
        "\r\n",
        "***\r\n",
        "##**ชนิดของตัวแปร 3 ชนิด**\r\n",
        "***\r\n",
        "\r\n",
        "**1. จำนวนเต็ม (integer,int)**\r\n",
        "###***ตัวอย่าง***"
      ]
    },
    {
      "cell_type": "code",
      "metadata": {
        "colab": {
          "base_uri": "https://localhost:8080/"
        },
        "id": "8eYjo2QOOtTR",
        "outputId": "df5c1c3d-8020-48b7-b8ca-93c0e05e9c72"
      },
      "source": [
        "aaa = 1092\r\n",
        "print(aaa)"
      ],
      "execution_count": 9,
      "outputs": [
        {
          "output_type": "stream",
          "text": [
            "1092\n"
          ],
          "name": "stdout"
        }
      ]
    },
    {
      "cell_type": "markdown",
      "metadata": {
        "id": "Dr31hoJgO0wH"
      },
      "source": [
        "**2. จำนวนจริง (float)**\r\n",
        "###***ตัวอย่าง***\r\n"
      ]
    },
    {
      "cell_type": "code",
      "metadata": {
        "colab": {
          "base_uri": "https://localhost:8080/"
        },
        "id": "Zo_ecezbO6r6",
        "outputId": "cf37bbc1-0865-40b3-a061-289d8b52b1ba"
      },
      "source": [
        "bbb = 11.\r\n",
        "print(bbb)"
      ],
      "execution_count": 10,
      "outputs": [
        {
          "output_type": "stream",
          "text": [
            "11.0\n"
          ],
          "name": "stdout"
        }
      ]
    },
    {
      "cell_type": "markdown",
      "metadata": {
        "id": "njiWvpCcPChW"
      },
      "source": [
        "**3.ตัวอักษร-ข้อความ (character และ text,string )**\r\n",
        "###***ตัวอย่าง***"
      ]
    },
    {
      "cell_type": "code",
      "metadata": {
        "colab": {
          "base_uri": "https://localhost:8080/"
        },
        "id": "f9EhAzVjPNea",
        "outputId": "408ab2d5-a672-475e-a24f-f4664e0c6630"
      },
      "source": [
        "ccc = 'ประยุทธ์เทพซ่า' # เราใช้ sigle qoute ' หรือ double qoute \"\" ล้อมรอบตัวหนังสือเพื่อระบุว่าเป็น Character-string\r\n",
        "print(ccc)"
      ],
      "execution_count": 11,
      "outputs": [
        {
          "output_type": "stream",
          "text": [
            "ประยุทธ์เทพซ่า\n"
          ],
          "name": "stdout"
        }
      ]
    },
    {
      "cell_type": "markdown",
      "metadata": {
        "id": "OQovMe1cQ4i-"
      },
      "source": [
        "**หมายเหตุ** float + int จะได้ float"
      ]
    },
    {
      "cell_type": "code",
      "metadata": {
        "colab": {
          "base_uri": "https://localhost:8080/"
        },
        "id": "rYDePzzKQF54",
        "outputId": "dd456eaa-2e58-45be-f746-b7daf8abe0db"
      },
      "source": [
        "aaa + bbb # float + int = float"
      ],
      "execution_count": 12,
      "outputs": [
        {
          "output_type": "execute_result",
          "data": {
            "text/plain": [
              "1103.0"
            ]
          },
          "metadata": {
            "tags": []
          },
          "execution_count": 12
        }
      ]
    },
    {
      "cell_type": "markdown",
      "metadata": {
        "id": "Va-aYoKzQrfV"
      },
      "source": [
        "***\r\n",
        "## **การเปลียนชนิดของตัวแปร Variable casting**\r\n",
        "***\r\n",
        "###***ตัวอย่าง***"
      ]
    },
    {
      "cell_type": "code",
      "metadata": {
        "colab": {
          "base_uri": "https://localhost:8080/"
        },
        "id": "Bb5X-1IyRn2w",
        "outputId": "de603f68-ff83-45c4-a97c-6c7e1a49b268"
      },
      "source": [
        "ddd = '123' #ตัวแปร character ต้องเป็นตัวเลขเท่านั้นถึงคำนวนได้\r\n",
        "print(ddd)"
      ],
      "execution_count": 13,
      "outputs": [
        {
          "output_type": "stream",
          "text": [
            "123\n"
          ],
          "name": "stdout"
        }
      ]
    },
    {
      "cell_type": "code",
      "metadata": {
        "colab": {
          "base_uri": "https://localhost:8080/"
        },
        "id": "kuL6rmJ2Q-_c",
        "outputId": "b5541c81-7a73-4b07-b418-854cd5ad2ca5"
      },
      "source": [
        "aaa + float(ddd)"
      ],
      "execution_count": 14,
      "outputs": [
        {
          "output_type": "execute_result",
          "data": {
            "text/plain": [
              "1215.0"
            ]
          },
          "metadata": {
            "tags": []
          },
          "execution_count": 14
        }
      ]
    },
    {
      "cell_type": "code",
      "metadata": {
        "colab": {
          "base_uri": "https://localhost:8080/"
        },
        "id": "EDTHmzrZRxxP",
        "outputId": "49ae35e3-fb27-4b5c-f89f-b289f26c1b38"
      },
      "source": [
        "aaa + int(ddd)"
      ],
      "execution_count": 15,
      "outputs": [
        {
          "output_type": "execute_result",
          "data": {
            "text/plain": [
              "1215"
            ]
          },
          "metadata": {
            "tags": []
          },
          "execution_count": 15
        }
      ]
    },
    {
      "cell_type": "code",
      "metadata": {
        "colab": {
          "base_uri": "https://localhost:8080/",
          "height": 36
        },
        "id": "rJts80b4R2A5",
        "outputId": "ec7f5e9a-4665-4c68-9a42-68b2a194ae7a"
      },
      "source": [
        "str(aaa) # สามารถเปลี่ยนตัวเลขเป็นตัวแปร charracter ได้"
      ],
      "execution_count": 16,
      "outputs": [
        {
          "output_type": "execute_result",
          "data": {
            "application/vnd.google.colaboratory.intrinsic+json": {
              "type": "string"
            },
            "text/plain": [
              "'1092'"
            ]
          },
          "metadata": {
            "tags": []
          },
          "execution_count": 16
        }
      ]
    },
    {
      "cell_type": "markdown",
      "metadata": {
        "id": "RezBrJi5SI2S"
      },
      "source": [
        "***\r\n",
        "##**การดำเนินการ Operation (Opearator +,-,*,/)** \r\n",
        "***\r\n",
        "###***ตัวอย่าง***"
      ]
    },
    {
      "cell_type": "code",
      "metadata": {
        "colab": {
          "base_uri": "https://localhost:8080/"
        },
        "id": "79GLrcM6SiCZ",
        "outputId": "3a50d2d5-c5b3-4cba-a7e4-077bc3995072"
      },
      "source": [
        "aaa + bbb"
      ],
      "execution_count": 17,
      "outputs": [
        {
          "output_type": "execute_result",
          "data": {
            "text/plain": [
              "1103.0"
            ]
          },
          "metadata": {
            "tags": []
          },
          "execution_count": 17
        }
      ]
    },
    {
      "cell_type": "code",
      "metadata": {
        "colab": {
          "base_uri": "https://localhost:8080/"
        },
        "id": "q1ennEpaS21Z",
        "outputId": "46d657c8-f05e-46b8-dbfc-67a48e521464"
      },
      "source": [
        "ab = aaa*bbb\r\n",
        "print(ab)"
      ],
      "execution_count": 18,
      "outputs": [
        {
          "output_type": "stream",
          "text": [
            "12012.0\n"
          ],
          "name": "stdout"
        }
      ]
    },
    {
      "cell_type": "code",
      "metadata": {
        "colab": {
          "base_uri": "https://localhost:8080/"
        },
        "id": "ac9gH-kBTA3A",
        "outputId": "742d6302-c66c-44d8-e11e-d924a4a67b01"
      },
      "source": [
        "aaa - bbb"
      ],
      "execution_count": 19,
      "outputs": [
        {
          "output_type": "execute_result",
          "data": {
            "text/plain": [
              "1081.0"
            ]
          },
          "metadata": {
            "tags": []
          },
          "execution_count": 19
        }
      ]
    },
    {
      "cell_type": "markdown",
      "metadata": {
        "id": "niiwXE2ZTjS_"
      },
      "source": [
        "**หมายเหตุ** % คือ modulo (mod)"
      ]
    },
    {
      "cell_type": "code",
      "metadata": {
        "colab": {
          "base_uri": "https://localhost:8080/"
        },
        "id": "YZr-8iSVTn4d",
        "outputId": "56353ed7-cbc7-40d6-f356-2f9e92da6525"
      },
      "source": [
        "5%3"
      ],
      "execution_count": 20,
      "outputs": [
        {
          "output_type": "execute_result",
          "data": {
            "text/plain": [
              "2"
            ]
          },
          "metadata": {
            "tags": []
          },
          "execution_count": 20
        }
      ]
    },
    {
      "cell_type": "code",
      "metadata": {
        "colab": {
          "base_uri": "https://localhost:8080/"
        },
        "id": "LwBIRPCiTrNu",
        "outputId": "7790a000-6173-4f16-d00b-12a6dddec49d"
      },
      "source": [
        "7%3"
      ],
      "execution_count": 21,
      "outputs": [
        {
          "output_type": "execute_result",
          "data": {
            "text/plain": [
              "1"
            ]
          },
          "metadata": {
            "tags": []
          },
          "execution_count": 21
        }
      ]
    },
    {
      "cell_type": "markdown",
      "metadata": {
        "id": "e9NJ9h9EUPyi"
      },
      "source": [
        "***\r\n",
        "## **คำสั่ง Print แบบพิเศษ ( การ Format String )**\r\n",
        "***\r\n",
        "###***ตัวอย่าง***"
      ]
    },
    {
      "cell_type": "code",
      "metadata": {
        "colab": {
          "base_uri": "https://localhost:8080/"
        },
        "id": "7A1Mnn7CUD5a",
        "outputId": "7790c11d-fbd5-4c24-8986-8f5b13f971b0"
      },
      "source": [
        "print('ตัวแปร') # ส่งที่อยู่ข้างในวงเล็บคือตัวแปร และ string"
      ],
      "execution_count": 22,
      "outputs": [
        {
          "output_type": "stream",
          "text": [
            "ตัวแปร\n"
          ],
          "name": "stdout"
        }
      ]
    },
    {
      "cell_type": "code",
      "metadata": {
        "colab": {
          "base_uri": "https://localhost:8080/"
        },
        "id": "kK-t5eYRUsnG",
        "outputId": "dad7f23e-ded2-457b-e93e-abeca8fdf16b"
      },
      "source": [
        "print(f'% คือการหารเอาเศษเช่น 7%3 ={7%3}')"
      ],
      "execution_count": 23,
      "outputs": [
        {
          "output_type": "stream",
          "text": [
            "% คือการหารเอาเศษเช่น 7%3 =1\n"
          ],
          "name": "stdout"
        }
      ]
    },
    {
      "cell_type": "code",
      "metadata": {
        "colab": {
          "base_uri": "https://localhost:8080/"
        },
        "id": "pcMGsj3cU7Rv",
        "outputId": "34ffbce4-6090-4d9a-f13c-6bf5c533aef1"
      },
      "source": [
        "print(f'% คือการหารเอาเศษเช่น 7%3 = {7%3} \\\r\n",
        "แต่\\n/ คือการหารปกติเช่น เช่น 7/3 = {7/3} \\\r\n",
        "และ\\n// คือการหารเอาส่วน เช่น 7//3 = {7//3} \\\r\n",
        "หรือ\\n ใช้ int() เพื่อหารเอาส่วน เช่น (7/3) = {int(7/3)}') # \\n คือการขึ้นบรรทัดใหม่ \\ ใช้ในการตัด Code แต่ com มองไม่เห็น"
      ],
      "execution_count": 24,
      "outputs": [
        {
          "output_type": "stream",
          "text": [
            "% คือการหารเอาเศษเช่น 7%3 = 1 แต่\n",
            "/ คือการหารปกติเช่น เช่น 7/3 = 2.3333333333333335 และ\n",
            "// คือการหารเอาส่วน เช่น 7//3 = 2 หรือ\n",
            " ใช้ int() เพื่อหารเอาส่วน เช่น (7/3) = 2\n"
          ],
          "name": "stdout"
        }
      ]
    },
    {
      "cell_type": "markdown",
      "metadata": {
        "id": "4ZgkQa0sXDq1"
      },
      "source": [
        "***\r\n",
        "## **Data structure (โครงสร้างข้อมูล )**\r\n",
        "***\r\n",
        "###***ตัวอย่าง***"
      ]
    },
    {
      "cell_type": "code",
      "metadata": {
        "colab": {
          "base_uri": "https://localhost:8080/"
        },
        "id": "3a7jKbDhXJ63",
        "outputId": "c6c41144-9934-46c2-cb2f-da8357379cec"
      },
      "source": [
        "[111,'c','งง',aaa]"
      ],
      "execution_count": 25,
      "outputs": [
        {
          "output_type": "execute_result",
          "data": {
            "text/plain": [
              "[111, 'c', 'งง', 1092]"
            ]
          },
          "metadata": {
            "tags": []
          },
          "execution_count": 25
        }
      ]
    },
    {
      "cell_type": "markdown",
      "metadata": {
        "id": "t9G8uXZrXXs-"
      },
      "source": [
        "**List คือการเอาข้อมูลหลายๆตัวมาเรียงต่อกัน**\r\n",
        "\r\n",
        "**list สามารถสร้างได้ 2 แบบดังนี้** "
      ]
    },
    {
      "cell_type": "markdown",
      "metadata": {
        "id": "RAa-BNo_Xifz"
      },
      "source": [
        "**แบบที่ 1 > square brackets**\r\n",
        "###***ตัวอย่าง***"
      ]
    },
    {
      "cell_type": "code",
      "metadata": {
        "colab": {
          "base_uri": "https://localhost:8080/"
        },
        "id": "8B_2L-5CXors",
        "outputId": "446df0f9-71d6-4061-c7f7-365a7ed49833"
      },
      "source": [
        "list_a = []\r\n",
        "print(list_a)"
      ],
      "execution_count": 26,
      "outputs": [
        {
          "output_type": "stream",
          "text": [
            "[]\n"
          ],
          "name": "stdout"
        }
      ]
    },
    {
      "cell_type": "code",
      "metadata": {
        "colab": {
          "base_uri": "https://localhost:8080/"
        },
        "id": "KcYKBi30XwPd",
        "outputId": "0bbb5b19-a454-4495-bd46-59c252c055bc"
      },
      "source": [
        "list_b = [111,'c','งง',aaa]\r\n",
        "print(list_b)"
      ],
      "execution_count": 27,
      "outputs": [
        {
          "output_type": "stream",
          "text": [
            "[111, 'c', 'งง', 1092]\n"
          ],
          "name": "stdout"
        }
      ]
    },
    {
      "cell_type": "markdown",
      "metadata": {
        "id": "UJj0mJVhX5lM"
      },
      "source": [
        "**หมายเหตุ** *ลำดับที่อยู่ใน list มีความสำคัญ (ลำดับใน list เริ่มจาก 0,1,2,...)*\r\n"
      ]
    },
    {
      "cell_type": "code",
      "metadata": {
        "colab": {
          "base_uri": "https://localhost:8080/",
          "height": 36
        },
        "id": "c9d_MBOtYGYY",
        "outputId": "8ca1377a-e51a-45f8-be2f-528117191eba"
      },
      "source": [
        "list_b[2]"
      ],
      "execution_count": 28,
      "outputs": [
        {
          "output_type": "execute_result",
          "data": {
            "application/vnd.google.colaboratory.intrinsic+json": {
              "type": "string"
            },
            "text/plain": [
              "'งง'"
            ]
          },
          "metadata": {
            "tags": []
          },
          "execution_count": 28
        }
      ]
    },
    {
      "cell_type": "markdown",
      "metadata": {
        "id": "opR_wo8lc-kh"
      },
      "source": [
        "**แบบที่ 2**\r\n",
        "###***ตัวอย่าง***"
      ]
    },
    {
      "cell_type": "code",
      "metadata": {
        "colab": {
          "base_uri": "https://localhost:8080/"
        },
        "id": "_1CnNrdkZKTn",
        "outputId": "2a826bd7-0bd0-4a40-e2b5-97e0275d12f7"
      },
      "source": [
        "list_c =[]\r\n",
        "print(list_c)"
      ],
      "execution_count": 29,
      "outputs": [
        {
          "output_type": "stream",
          "text": [
            "[]\n"
          ],
          "name": "stdout"
        }
      ]
    },
    {
      "cell_type": "markdown",
      "metadata": {
        "id": "aeI_fJVUYMrP"
      },
      "source": [
        "***\r\n",
        "## **append() เพิ่มสมาชิก list**\r\n",
        "***\r\n",
        "###***ตัวอย่าง***"
      ]
    },
    {
      "cell_type": "code",
      "metadata": {
        "colab": {
          "base_uri": "https://localhost:8080/"
        },
        "id": "-qjrUfl5YhXt",
        "outputId": "9362375f-591c-427c-cd92-6f5e79adaab8"
      },
      "source": [
        "list_b.append('u')\r\n",
        "print(list_b)"
      ],
      "execution_count": 30,
      "outputs": [
        {
          "output_type": "stream",
          "text": [
            "[111, 'c', 'งง', 1092, 'u']\n"
          ],
          "name": "stdout"
        }
      ]
    },
    {
      "cell_type": "code",
      "metadata": {
        "colab": {
          "base_uri": "https://localhost:8080/",
          "height": 36
        },
        "id": "ULiiYDn4ZFFU",
        "outputId": "d5bce8f7-5a81-4ecf-fb10-c6d502232f7b"
      },
      "source": [
        "list_b[-1] #ตัวที่อยู่ในวงเล็บหลังจากตัวแปร list เรียกว่า index ใช้สำหรับชี้ข้อมูลใน list (ชี้จากข้างหน้า,ขี้จาข้างหลัง)"
      ],
      "execution_count": 31,
      "outputs": [
        {
          "output_type": "execute_result",
          "data": {
            "application/vnd.google.colaboratory.intrinsic+json": {
              "type": "string"
            },
            "text/plain": [
              "'u'"
            ]
          },
          "metadata": {
            "tags": []
          },
          "execution_count": 31
        }
      ]
    },
    {
      "cell_type": "markdown",
      "metadata": {
        "id": "Rjql_vASZdRi"
      },
      "source": [
        "***\r\n",
        "## **String : list of Character**\r\n",
        "\r\n",
        "***\r\n",
        "###***ตัวอย่าง***"
      ]
    },
    {
      "cell_type": "code",
      "metadata": {
        "colab": {
          "base_uri": "https://localhost:8080/"
        },
        "id": "utaOD4SVZsos",
        "outputId": "d996b907-768d-4199-b437-8aad5ddd999c"
      },
      "source": [
        "t = 'python is easy'\r\n",
        "print(t)"
      ],
      "execution_count": 32,
      "outputs": [
        {
          "output_type": "stream",
          "text": [
            "python is easy\n"
          ],
          "name": "stdout"
        }
      ]
    },
    {
      "cell_type": "code",
      "metadata": {
        "colab": {
          "base_uri": "https://localhost:8080/",
          "height": 36
        },
        "id": "f9OvnaOdZzv_",
        "outputId": "79510804-5b01-4bad-f12d-ffa0f659147a"
      },
      "source": [
        "t[1]"
      ],
      "execution_count": 33,
      "outputs": [
        {
          "output_type": "execute_result",
          "data": {
            "application/vnd.google.colaboratory.intrinsic+json": {
              "type": "string"
            },
            "text/plain": [
              "'y'"
            ]
          },
          "metadata": {
            "tags": []
          },
          "execution_count": 33
        }
      ]
    },
    {
      "cell_type": "code",
      "metadata": {
        "colab": {
          "base_uri": "https://localhost:8080/",
          "height": 36
        },
        "id": "BHw7ybRdZ1OW",
        "outputId": "1e5ba375-1e90-4ffe-f1e7-b2ebdbe683a2"
      },
      "source": [
        "t[6]"
      ],
      "execution_count": 34,
      "outputs": [
        {
          "output_type": "execute_result",
          "data": {
            "application/vnd.google.colaboratory.intrinsic+json": {
              "type": "string"
            },
            "text/plain": [
              "' '"
            ]
          },
          "metadata": {
            "tags": []
          },
          "execution_count": 34
        }
      ]
    },
    {
      "cell_type": "markdown",
      "metadata": {
        "id": "3zkYtvG_hYm-"
      },
      "source": [
        "***\r\n",
        "###**คาบ 3 มกราคม 2564**\r\n",
        "\r\n",
        "***"
      ]
    },
    {
      "cell_type": "code",
      "metadata": {
        "id": "MTHUEg-JibDy",
        "colab": {
          "base_uri": "https://localhost:8080/"
        },
        "outputId": "ca2e1f21-1cba-4ced-90e4-b4fc7251c55d"
      },
      "source": [
        "len(t)"
      ],
      "execution_count": 35,
      "outputs": [
        {
          "output_type": "execute_result",
          "data": {
            "text/plain": [
              "14"
            ]
          },
          "metadata": {
            "tags": []
          },
          "execution_count": 35
        }
      ]
    },
    {
      "cell_type": "code",
      "metadata": {
        "id": "HSled1VXimhc",
        "colab": {
          "base_uri": "https://localhost:8080/"
        },
        "outputId": "512b77a7-d152-4897-cd75-fd44e5dba597"
      },
      "source": [
        "len(list_b) #len คือคำสั่งตรวจสอบความยาวของ list (จำนวนสมาชิกทั้งหมด)"
      ],
      "execution_count": 36,
      "outputs": [
        {
          "output_type": "execute_result",
          "data": {
            "text/plain": [
              "5"
            ]
          },
          "metadata": {
            "tags": []
          },
          "execution_count": 36
        }
      ]
    },
    {
      "cell_type": "code",
      "metadata": {
        "id": "cXqbQSDli3Yu",
        "colab": {
          "base_uri": "https://localhost:8080/",
          "height": 36
        },
        "outputId": "b034f6c5-df15-4643-f110-0717b946969f"
      },
      "source": [
        "t[-4]"
      ],
      "execution_count": 37,
      "outputs": [
        {
          "output_type": "execute_result",
          "data": {
            "application/vnd.google.colaboratory.intrinsic+json": {
              "type": "string"
            },
            "text/plain": [
              "'e'"
            ]
          },
          "metadata": {
            "tags": []
          },
          "execution_count": 37
        }
      ]
    },
    {
      "cell_type": "code",
      "metadata": {
        "id": "0mQIpdnllN04",
        "colab": {
          "base_uri": "https://localhost:8080/"
        },
        "outputId": "8927233a-87c0-4e38-8b28-1c78671fecd8"
      },
      "source": [
        "list_b.append(t)\r\n",
        "print(list_b)"
      ],
      "execution_count": 38,
      "outputs": [
        {
          "output_type": "stream",
          "text": [
            "[111, 'c', 'งง', 1092, 'u', 'python is easy']\n"
          ],
          "name": "stdout"
        }
      ]
    },
    {
      "cell_type": "markdown",
      "metadata": {
        "id": "GcHXIYp2jLa3"
      },
      "source": [
        "###**ตัวที่อยู่ข้างใน [ ] เราเรียกว่า Index (ตัวชี้)**\r\n",
        "***\r\n",
        "##### **List slicing สามารถทำได้โดยใช้ Colon ( : )**\r\n",
        "\r\n",
        " [a:b] -> [a,b)"
      ]
    },
    {
      "cell_type": "code",
      "metadata": {
        "id": "LwAUgCARmtPp",
        "colab": {
          "base_uri": "https://localhost:8080/"
        },
        "outputId": "64cd14a6-ca18-43ac-c5b0-b5f335870e51"
      },
      "source": [
        "print(t)\r\n",
        "print(t[7:9])\r\n",
        "print(len(t[7:9]))"
      ],
      "execution_count": 39,
      "outputs": [
        {
          "output_type": "stream",
          "text": [
            "python is easy\n",
            "is\n",
            "2\n"
          ],
          "name": "stdout"
        }
      ]
    },
    {
      "cell_type": "code",
      "metadata": {
        "id": "97OP7GwHnfj9",
        "colab": {
          "base_uri": "https://localhost:8080/",
          "height": 36
        },
        "outputId": "798be3c1-ae0c-4ef3-cc86-6143be3286c5"
      },
      "source": [
        "t[0:14:2]"
      ],
      "execution_count": 40,
      "outputs": [
        {
          "output_type": "execute_result",
          "data": {
            "application/vnd.google.colaboratory.intrinsic+json": {
              "type": "string"
            },
            "text/plain": [
              "'pto ses'"
            ]
          },
          "metadata": {
            "tags": []
          },
          "execution_count": 40
        }
      ]
    },
    {
      "cell_type": "markdown",
      "metadata": {
        "id": "jM2zQyuCogHx"
      },
      "source": [
        "#**Quiz**\r\n",
        "***"
      ]
    },
    {
      "cell_type": "code",
      "metadata": {
        "id": "duM5JfeyoF27",
        "colab": {
          "base_uri": "https://localhost:8080/"
        },
        "outputId": "3ca80669-fff2-4d53-c285-2bad4e818b54"
      },
      "source": [
        "z = [1,2,3,4,5,6,7,8,9,10]\r\n",
        "z[1:10:2]"
      ],
      "execution_count": 41,
      "outputs": [
        {
          "output_type": "execute_result",
          "data": {
            "text/plain": [
              "[2, 4, 6, 8, 10]"
            ]
          },
          "metadata": {
            "tags": []
          },
          "execution_count": 41
        }
      ]
    },
    {
      "cell_type": "markdown",
      "metadata": {
        "id": "3VGnjXegnEjx"
      },
      "source": [
        "***ถ้าเว้นว่างหน้า : หมายความว่า เริ่มตั้งแต่ตัวแรก (0)***\r\n",
        "\r\n",
        "***ถ้าเว้นว่างหลัง : หมายความว่า ไปจนถึงตัวสุดท้าย (len(list))***"
      ]
    },
    {
      "cell_type": "code",
      "metadata": {
        "id": "0zoCugaSo_OC",
        "colab": {
          "base_uri": "https://localhost:8080/"
        },
        "outputId": "c5fcba4c-689a-4ab7-8d40-f77f005dfb46"
      },
      "source": [
        "print(t)\r\n",
        "print(t[:6])\r\n",
        "print(t[10:])\r\n",
        "print(t[-4:])\r\n",
        "print(t[:])"
      ],
      "execution_count": 42,
      "outputs": [
        {
          "output_type": "stream",
          "text": [
            "python is easy\n",
            "python\n",
            "easy\n",
            "easy\n",
            "python is easy\n"
          ],
          "name": "stdout"
        }
      ]
    },
    {
      "cell_type": "code",
      "metadata": {
        "id": "gqdTQ9CFrmov",
        "colab": {
          "base_uri": "https://localhost:8080/"
        },
        "outputId": "3fda4021-6233-4c35-9e24-5b0df88da81e"
      },
      "source": [
        "print(z[::2])"
      ],
      "execution_count": 43,
      "outputs": [
        {
          "output_type": "stream",
          "text": [
            "[1, 3, 5, 7, 9]\n"
          ],
          "name": "stdout"
        }
      ]
    },
    {
      "cell_type": "markdown",
      "metadata": {
        "id": "0Q_6hG-Vpdhd"
      },
      "source": [
        "***\r\n",
        "### **เราสามารถเอา list มาต่อกันได้ด้วย +**"
      ]
    },
    {
      "cell_type": "code",
      "metadata": {
        "id": "82Y4juMnruwv",
        "colab": {
          "base_uri": "https://localhost:8080/",
          "height": 36
        },
        "outputId": "45b84f12-ecee-43a1-825e-8e34960d09c6"
      },
      "source": [
        "t + 'จริงหรอ ?'"
      ],
      "execution_count": 44,
      "outputs": [
        {
          "output_type": "execute_result",
          "data": {
            "application/vnd.google.colaboratory.intrinsic+json": {
              "type": "string"
            },
            "text/plain": [
              "'python is easyจริงหรอ ?'"
            ]
          },
          "metadata": {
            "tags": []
          },
          "execution_count": 44
        }
      ]
    },
    {
      "cell_type": "code",
      "metadata": {
        "id": "Fc-5KVAfr6ax",
        "colab": {
          "base_uri": "https://localhost:8080/",
          "height": 168
        },
        "outputId": "2cb13774-cb32-427b-fd99-44cac902b101"
      },
      "source": [
        "t + list_b ##ไม่สามารภเอา list ปกติมาบวกกับ string ได้"
      ],
      "execution_count": 45,
      "outputs": [
        {
          "output_type": "error",
          "ename": "TypeError",
          "evalue": "ignored",
          "traceback": [
            "\u001b[0;31m---------------------------------------------------------------------------\u001b[0m",
            "\u001b[0;31mTypeError\u001b[0m                                 Traceback (most recent call last)",
            "\u001b[0;32m<ipython-input-45-bca2d9df1c58>\u001b[0m in \u001b[0;36m<module>\u001b[0;34m()\u001b[0m\n\u001b[0;32m----> 1\u001b[0;31m \u001b[0mt\u001b[0m \u001b[0;34m+\u001b[0m \u001b[0mlist_b\u001b[0m \u001b[0;31m##ไม่สามารภเอา list ปกติมาบวกกับ string ได้\u001b[0m\u001b[0;34m\u001b[0m\u001b[0;34m\u001b[0m\u001b[0m\n\u001b[0m",
            "\u001b[0;31mTypeError\u001b[0m: must be str, not list"
          ]
        }
      ]
    },
    {
      "cell_type": "code",
      "metadata": {
        "id": "RpXFfu93sFNO",
        "colab": {
          "base_uri": "https://localhost:8080/"
        },
        "outputId": "34f13c76-d45c-4687-bc9b-72711c68508c"
      },
      "source": [
        "print(list_a)\r\n",
        "list_b = [111,'c','งง',aaa]\r\n",
        "print(list_b)\r\n",
        "print(list_b + list_a)"
      ],
      "execution_count": 46,
      "outputs": [
        {
          "output_type": "stream",
          "text": [
            "[]\n",
            "[111, 'c', 'งง', 1092]\n",
            "[111, 'c', 'งง', 1092]\n"
          ],
          "name": "stdout"
        }
      ]
    },
    {
      "cell_type": "code",
      "metadata": {
        "id": "oHpCMjb_s7jH",
        "colab": {
          "base_uri": "https://localhost:8080/"
        },
        "outputId": "3c1f6f99-e323-44c2-862f-5ab50be1edf2"
      },
      "source": [
        "list_b.append(list_a)\r\n",
        "print(list_b)"
      ],
      "execution_count": 47,
      "outputs": [
        {
          "output_type": "stream",
          "text": [
            "[111, 'c', 'งง', 1092, []]\n"
          ],
          "name": "stdout"
        }
      ]
    },
    {
      "cell_type": "markdown",
      "metadata": {
        "id": "NLUwR1ASsdQh"
      },
      "source": [
        "***\r\n",
        "### **การแบ่ง string ตามสัญลักษณ์ที่กำหนด -> split string**"
      ]
    },
    {
      "cell_type": "code",
      "metadata": {
        "id": "Ig5YAziguFql",
        "colab": {
          "base_uri": "https://localhost:8080/",
          "height": 35
        },
        "outputId": "c1c3cdd6-63bb-4430-8b39-55d82d743919"
      },
      "source": [
        "t"
      ],
      "execution_count": null,
      "outputs": [
        {
          "output_type": "execute_result",
          "data": {
            "application/vnd.google.colaboratory.intrinsic+json": {
              "type": "string"
            },
            "text/plain": [
              "'python is easy'"
            ]
          },
          "metadata": {
            "tags": []
          },
          "execution_count": 78
        }
      ]
    },
    {
      "cell_type": "code",
      "metadata": {
        "id": "kQ9CZmd2tt9q",
        "colab": {
          "base_uri": "https://localhost:8080/"
        },
        "outputId": "8edc6310-834e-4d0e-d4ab-30a93f76ff7b"
      },
      "source": [
        "t.split(' ')"
      ],
      "execution_count": null,
      "outputs": [
        {
          "output_type": "execute_result",
          "data": {
            "text/plain": [
              "['python', 'is', 'easy']"
            ]
          },
          "metadata": {
            "tags": []
          },
          "execution_count": 79
        }
      ]
    },
    {
      "cell_type": "code",
      "metadata": {
        "id": "Q2w8TwnwtzsX"
      },
      "source": [
        "time = '19:14:15'"
      ],
      "execution_count": null,
      "outputs": []
    },
    {
      "cell_type": "code",
      "metadata": {
        "id": "_YAdeVput9Y7",
        "colab": {
          "base_uri": "https://localhost:8080/"
        },
        "outputId": "5565f769-eeac-4cfd-fc49-5996c8007995"
      },
      "source": [
        "time.split(':')"
      ],
      "execution_count": null,
      "outputs": [
        {
          "output_type": "execute_result",
          "data": {
            "text/plain": [
              "['19', '14', '15']"
            ]
          },
          "metadata": {
            "tags": []
          },
          "execution_count": 81
        }
      ]
    },
    {
      "cell_type": "code",
      "metadata": {
        "id": "mwwu0I6Hut9_",
        "colab": {
          "base_uri": "https://localhost:8080/"
        },
        "outputId": "4f214899-98ba-4a37-bb6f-9b63e8cde1c5"
      },
      "source": [
        "t_sp = t.split(' ')\r\n",
        "print(t_sp)"
      ],
      "execution_count": null,
      "outputs": [
        {
          "output_type": "stream",
          "text": [
            "['python', 'is', 'easy']\n"
          ],
          "name": "stdout"
        }
      ]
    },
    {
      "cell_type": "code",
      "metadata": {
        "id": "7Re2gvptu9ZS",
        "colab": {
          "base_uri": "https://localhost:8080/"
        },
        "outputId": "93ce5786-d7fe-417c-fafb-3d3fd9077eb4"
      },
      "source": [
        "#วีธีรวมกลับ\r\n",
        "print(' '.join(t_sp))"
      ],
      "execution_count": null,
      "outputs": [
        {
          "output_type": "stream",
          "text": [
            "python is easy\n"
          ],
          "name": "stdout"
        }
      ]
    },
    {
      "cell_type": "markdown",
      "metadata": {
        "id": "4GwCNVfgvXvL"
      },
      "source": [
        "***\r\n",
        "# **HW คำนวณเวลาเป็นวินาทีของเวลาต่อไปนี้โดยใช้คำสั่ง split() ช่วย (print ออกมาให้สวยงาม)**\r\n",
        "\r\n",
        "12:30:15\r\n",
        "\r\n",
        "13:41:07\r\n",
        "\r\n",
        "12:53:15\r\n",
        "\r\n",
        "00:59:25\r\n",
        "\r\n",
        "11:11:11\r\n",
        "\r\n",
        "16:06:09\r\n",
        "\r\n",
        "21:12:30\r\n",
        "\r\n",
        "10:06:15\r\n",
        "\r\n",
        "ตัวอย่าง > 01:00:01 = 3601 วินาที\r\n",
        "\r\n",
        "ตัวอย่าง > 00:01:10 = 70 วินาที\r\n",
        "***"
      ]
    },
    {
      "cell_type": "markdown",
      "metadata": {
        "id": "rfUyR9aWTHFo"
      },
      "source": [
        "#***คำตอบของการบ้าน***\r\n",
        "***"
      ]
    },
    {
      "cell_type": "code",
      "metadata": {
        "id": "R6okTWh-dk-3",
        "outputId": "aaed6d97-70fa-44a8-a465-07446a1ff5de",
        "colab": {
          "base_uri": "https://localhost:8080/"
        }
      },
      "source": [
        "q1 ='12:30:15'\r\n",
        "q1.split(':')\r\n",
        "list_q1 = [12,30,15]\r\n",
        "h1 = list_q1[0]*3600\r\n",
        "m1 = list_q1[1]*60\r\n",
        "s1 = list_q1[2]\r\n",
        "aq1 = h1+m1+s1\r\n",
        "print(f'แปลงเป็นวินาทีได้เป็น {aq1} วินาที')"
      ],
      "execution_count": 48,
      "outputs": [
        {
          "output_type": "stream",
          "text": [
            "แปลงเป็นวินาทีได้เป็น 45015 วินาที\n"
          ],
          "name": "stdout"
        }
      ]
    },
    {
      "cell_type": "code",
      "metadata": {
        "id": "mm9A2QZnfCbB",
        "outputId": "c40da438-e893-4e2a-b398-0835ad19b884",
        "colab": {
          "base_uri": "https://localhost:8080/"
        }
      },
      "source": [
        "q2 ='13:41:07'\r\n",
        "q2.split(':')\r\n",
        "list_q2 = [13,41,7]\r\n",
        "h2 = list_q2[0]*3600\r\n",
        "m2 = list_q2[1]*60\r\n",
        "s2 = list_q2[2]\r\n",
        "aq2 = h2+m2+s2\r\n",
        "print(f'แปลงเป็นวินาทีได้เป็น {aq2} วินาที')"
      ],
      "execution_count": 49,
      "outputs": [
        {
          "output_type": "stream",
          "text": [
            "แปลงเป็นวินาทีได้เป็น 49267 วินาที\n"
          ],
          "name": "stdout"
        }
      ]
    },
    {
      "cell_type": "code",
      "metadata": {
        "id": "yzbbg81afQEH",
        "outputId": "22bad67f-28e3-4406-99b5-74d43919fb88",
        "colab": {
          "base_uri": "https://localhost:8080/"
        }
      },
      "source": [
        "q3 ='12:53:15'\r\n",
        "q3.split(':')\r\n",
        "list_q3 = [12,53,15]\r\n",
        "h3 = list_q3[0]*3600\r\n",
        "m3 = list_q3[1]*60\r\n",
        "s3 = list_q3[2]\r\n",
        "aq3 = h3+m3+s3\r\n",
        "print(f'แปลงเป็นวินาทิได้เป็น {aq3} วินาที')"
      ],
      "execution_count": 50,
      "outputs": [
        {
          "output_type": "stream",
          "text": [
            "แปลงเป็นวินาทิได้เป็น 46395 วินาที\n"
          ],
          "name": "stdout"
        }
      ]
    },
    {
      "cell_type": "code",
      "metadata": {
        "id": "DQEcqjqMfigo",
        "outputId": "63468689-62f2-4115-f868-587a957627be",
        "colab": {
          "base_uri": "https://localhost:8080/"
        }
      },
      "source": [
        "q4 ='00:59:25'\r\n",
        "q4.split(':')\r\n",
        "list_q4 = [00,59,25]\r\n",
        "h4 = list_q4[0]*3600\r\n",
        "m4 = list_q4[1]*60\r\n",
        "s4 = list_q4[2]\r\n",
        "aq4 = h4+m4+s4\r\n",
        "print(f'แปลงเป็นวินาทิได้เป็น {aq4} วินาที')"
      ],
      "execution_count": 51,
      "outputs": [
        {
          "output_type": "stream",
          "text": [
            "แปลงเป็นวินาทิได้เป็น 3565 วินาที\n"
          ],
          "name": "stdout"
        }
      ]
    },
    {
      "cell_type": "code",
      "metadata": {
        "id": "H_-fzMH2f3bL",
        "outputId": "61090a29-12f5-4bf2-c50d-841738a9e962",
        "colab": {
          "base_uri": "https://localhost:8080/"
        }
      },
      "source": [
        "q5 ='11:11:11'\r\n",
        "q5.split(':')\r\n",
        "list_q5 = [11,11,11]\r\n",
        "h5 = list_q5[0]*3600\r\n",
        "m5 = list_q5[1]*60\r\n",
        "s5 = list_q5[2]\r\n",
        "aq5 = h5+m5+s5\r\n",
        "print(f'แปลงเป็นวินาทิได้เป็น {aq5} วินาที')"
      ],
      "execution_count": 52,
      "outputs": [
        {
          "output_type": "stream",
          "text": [
            "แปลงเป็นวินาทิได้เป็น 40271 วินาที\n"
          ],
          "name": "stdout"
        }
      ]
    },
    {
      "cell_type": "code",
      "metadata": {
        "id": "LW5ldsgMgJcY",
        "outputId": "c24615d8-56cc-470c-fb2b-cdb08a83c912",
        "colab": {
          "base_uri": "https://localhost:8080/"
        }
      },
      "source": [
        "q6 ='16:06:09'\r\n",
        "q6.split(':')\r\n",
        "list_q6 = [16,6,9]\r\n",
        "h6 = list_q6[0]*3600\r\n",
        "m6 = list_q6[1]*60\r\n",
        "s6 = list_q6[2]\r\n",
        "aq6 = h6+m6+s6\r\n",
        "print(f'แปลงเป็นวินาทิได้เป็น {aq6} วินาที')"
      ],
      "execution_count": 53,
      "outputs": [
        {
          "output_type": "stream",
          "text": [
            "แปลงเป็นวินาทิได้เป็น 57969 วินาที\n"
          ],
          "name": "stdout"
        }
      ]
    },
    {
      "cell_type": "code",
      "metadata": {
        "id": "ux5OEo22gzMa",
        "outputId": "a63be39f-e494-4ac3-e086-dadb08c20338",
        "colab": {
          "base_uri": "https://localhost:8080/"
        }
      },
      "source": [
        "q7 ='21:12:30'\r\n",
        "q7.split(':')\r\n",
        "list_q7 = [21,12,30]\r\n",
        "h7 = list_q7[0]*3600\r\n",
        "m7 = list_q7[1]*60\r\n",
        "s7 = list_q7[2]\r\n",
        "aq7 = h7+m7+s7\r\n",
        "print(f'แปลงเป็นวินาทิได้เป็น {aq7} วินาที')"
      ],
      "execution_count": 54,
      "outputs": [
        {
          "output_type": "stream",
          "text": [
            "แปลงเป็นวินาทิได้เป็น 76350 วินาที\n"
          ],
          "name": "stdout"
        }
      ]
    },
    {
      "cell_type": "code",
      "metadata": {
        "id": "g_RMeMndhDFq",
        "outputId": "8f255b34-17e0-4e29-dbe8-2d9fb864af60",
        "colab": {
          "base_uri": "https://localhost:8080/"
        }
      },
      "source": [
        "q8 ='10:06:15'\r\n",
        "q8.split(':')\r\n",
        "list_q8 = [10,6,15]\r\n",
        "h8 = list_q8[0]*3600\r\n",
        "m8 = list_q8[1]*60\r\n",
        "s8 = list_q8[2]\r\n",
        "aq8 = h8+m8+s8\r\n",
        "print(f'แปลงเป็นวินาทิได้เป็น {aq8} วินาที')"
      ],
      "execution_count": 56,
      "outputs": [
        {
          "output_type": "stream",
          "text": [
            "แปลงเป็นวินาทิได้เป็น 36375 วินาที\n"
          ],
          "name": "stdout"
        }
      ]
    },
    {
      "cell_type": "markdown",
      "metadata": {
        "id": "hDARA4lVhVtH"
      },
      "source": [
        "***"
      ]
    }
  ]
}