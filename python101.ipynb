{
  "nbformat": 4,
  "nbformat_minor": 0,
  "metadata": {
    "colab": {
      "name": "python101.ipynb",
      "provenance": [],
      "authorship_tag": "ABX9TyNWSemCgXIkKASyNV6Q0Lov",
      "include_colab_link": true
    },
    "kernelspec": {
      "name": "python3",
      "display_name": "Python 3"
    }
  },
  "cells": [
    {
      "cell_type": "markdown",
      "metadata": {
        "id": "view-in-github",
        "colab_type": "text"
      },
      "source": [
        "<a href=\"https://colab.research.google.com/github/sitthatkaja/multivariate/blob/main/python101.ipynb\" target=\"_parent\"><img src=\"https://colab.research.google.com/assets/colab-badge.svg\" alt=\"Open In Colab\"/></a>"
      ]
    },
    {
      "cell_type": "markdown",
      "metadata": {
        "id": "BAZ4i94YLhim"
      },
      "source": [
        "# **ตัวแปร Variable**\r\n",
        "***"
      ]
    },
    {
      "cell_type": "markdown",
      "metadata": {
        "id": "NsPffZmlL4hw"
      },
      "source": [
        "###**หลักการตั้งชื่อตัวแปรเบื้องต้น**\r\n",
        "\r\n",
        "- ตั้งใจสื่อ\r\n",
        "\r\n",
        "- ภาษาอังกฤษ\r\n",
        "\r\n",
        "- ใช้ตัวเลขได้แต่ห้ามขึ้นต้นด้วยตัวเลข\r\n",
        "\r\n",
        "- ห้ามเว้นวรรค\r\n",
        "\r\n",
        "- ตัวเล็กกับตัวใหญ่ต่างกัน\r\n",
        "\r\n",
        "***\r\n",
        "\r\n"
      ]
    },
    {
      "cell_type": "markdown",
      "metadata": {
        "id": "amKZDq5PMqIh"
      },
      "source": [
        "มี output 2 mode : ออกหน้าจอ กับ เข้าไปเก็บในตัวแปร\r\n",
        "\r\n",
        "***"
      ]
    },
    {
      "cell_type": "markdown",
      "metadata": {
        "id": "Enhd_lBkN0CH"
      },
      "source": [
        "###***ตัวอย่าง***"
      ]
    },
    {
      "cell_type": "code",
      "metadata": {
        "colab": {
          "base_uri": "https://localhost:8080/"
        },
        "id": "UcGVhS4mNGGp",
        "outputId": "8b147722-301c-4397-e565-5ad644363a83"
      },
      "source": [
        "3.14159 # อันนี้คือ output ที่เข้าไปอยู่หน้าจอ "
      ],
      "execution_count": null,
      "outputs": [
        {
          "output_type": "execute_result",
          "data": {
            "text/plain": [
              "3.14159"
            ]
          },
          "metadata": {
            "tags": []
          },
          "execution_count": 1
        }
      ]
    },
    {
      "cell_type": "code",
      "metadata": {
        "id": "mWfkPtVHKBpO"
      },
      "source": [
        "Pi = 3.14159 # อันนี้คือ output ที่เข้าไปอยู่ในตัวแปร"
      ],
      "execution_count": null,
      "outputs": []
    },
    {
      "cell_type": "code",
      "metadata": {
        "colab": {
          "base_uri": "https://localhost:8080/"
        },
        "id": "twFcdegjM-cO",
        "outputId": "9d3a8224-64e7-42fd-b3b5-b46826ad23ab"
      },
      "source": [
        "Pi"
      ],
      "execution_count": null,
      "outputs": [
        {
          "output_type": "execute_result",
          "data": {
            "text/plain": [
              "3.14159"
            ]
          },
          "metadata": {
            "tags": []
          },
          "execution_count": 3
        }
      ]
    },
    {
      "cell_type": "code",
      "metadata": {
        "colab": {
          "base_uri": "https://localhost:8080/"
        },
        "id": "QtAUoOBCNL3x",
        "outputId": "49943ce4-0042-4b9e-d002-fa0edbe682f9"
      },
      "source": [
        "a = 1234567\r\n",
        "print(a)"
      ],
      "execution_count": null,
      "outputs": [
        {
          "output_type": "stream",
          "text": [
            "1234567\n"
          ],
          "name": "stdout"
        }
      ]
    },
    {
      "cell_type": "markdown",
      "metadata": {
        "id": "5ylh_5RiNjaC"
      },
      "source": [
        "\r\n",
        "***\r\n",
        "##**ชนิดของตัวแปร 3 ชนิด**\r\n",
        "***\r\n",
        "\r\n",
        "**1. จำนวนเต็ม (integer,int)**\r\n",
        "###***ตัวอย่าง***"
      ]
    },
    {
      "cell_type": "code",
      "metadata": {
        "colab": {
          "base_uri": "https://localhost:8080/"
        },
        "id": "8eYjo2QOOtTR",
        "outputId": "eb80e4d7-0be6-488b-8cda-400d78eb1443"
      },
      "source": [
        "aaa = 1092\r\n",
        "print(aaa)"
      ],
      "execution_count": null,
      "outputs": [
        {
          "output_type": "stream",
          "text": [
            "1092\n"
          ],
          "name": "stdout"
        }
      ]
    },
    {
      "cell_type": "markdown",
      "metadata": {
        "id": "Dr31hoJgO0wH"
      },
      "source": [
        "**2. จำนวนจริง (float)**\r\n",
        "###***ตัวอย่าง***\r\n"
      ]
    },
    {
      "cell_type": "code",
      "metadata": {
        "colab": {
          "base_uri": "https://localhost:8080/"
        },
        "id": "Zo_ecezbO6r6",
        "outputId": "5599de59-c0ed-4fcf-bb6e-28f880e07502"
      },
      "source": [
        "bbb = 11.\r\n",
        "print(bbb)"
      ],
      "execution_count": null,
      "outputs": [
        {
          "output_type": "stream",
          "text": [
            "11.0\n"
          ],
          "name": "stdout"
        }
      ]
    },
    {
      "cell_type": "markdown",
      "metadata": {
        "id": "njiWvpCcPChW"
      },
      "source": [
        "**3.ตัวอักษร-ข้อความ (character และ text,string )**\r\n",
        "###***ตัวอย่าง***"
      ]
    },
    {
      "cell_type": "code",
      "metadata": {
        "colab": {
          "base_uri": "https://localhost:8080/"
        },
        "id": "f9EhAzVjPNea",
        "outputId": "dbcfeec8-e98f-4bba-e6e5-1fff3e4107cc"
      },
      "source": [
        "ccc = 'ประยุทธ์เทพซ่า' # เราใช้ sigle qoute ' หรือ double qoute \"\" ล้อมรอบตัวหนังสือเพื่อระบุว่าเป็น Character-string\r\n",
        "print(ccc)"
      ],
      "execution_count": null,
      "outputs": [
        {
          "output_type": "stream",
          "text": [
            "ประยุทธ์เทพซ่า\n"
          ],
          "name": "stdout"
        }
      ]
    },
    {
      "cell_type": "markdown",
      "metadata": {
        "id": "OQovMe1cQ4i-"
      },
      "source": [
        "**หมายเหตุ** float + int จะได้ float"
      ]
    },
    {
      "cell_type": "code",
      "metadata": {
        "colab": {
          "base_uri": "https://localhost:8080/"
        },
        "id": "rYDePzzKQF54",
        "outputId": "ddb0aa60-6fae-4b50-ced2-8645aa272f2e"
      },
      "source": [
        "aaa + bbb # float + int = float"
      ],
      "execution_count": null,
      "outputs": [
        {
          "output_type": "execute_result",
          "data": {
            "text/plain": [
              "1103.0"
            ]
          },
          "metadata": {
            "tags": []
          },
          "execution_count": 8
        }
      ]
    },
    {
      "cell_type": "markdown",
      "metadata": {
        "id": "Va-aYoKzQrfV"
      },
      "source": [
        "***\r\n",
        "## **การเปลียนชนิดของตัวแปร Variable casting**\r\n",
        "***\r\n",
        "###***ตัวอย่าง***"
      ]
    },
    {
      "cell_type": "code",
      "metadata": {
        "colab": {
          "base_uri": "https://localhost:8080/"
        },
        "id": "Bb5X-1IyRn2w",
        "outputId": "1442349b-2673-4166-b4c6-a24bbb987af3"
      },
      "source": [
        "ddd = '123' #ตัวแปร character ต้องเป็นตัวเลขเท่านั้นถึงคำนวนได้\r\n",
        "print(ddd)"
      ],
      "execution_count": null,
      "outputs": [
        {
          "output_type": "stream",
          "text": [
            "123\n"
          ],
          "name": "stdout"
        }
      ]
    },
    {
      "cell_type": "code",
      "metadata": {
        "colab": {
          "base_uri": "https://localhost:8080/"
        },
        "id": "kuL6rmJ2Q-_c",
        "outputId": "f6d5089d-4929-416c-8b58-f83ce8a0dddf"
      },
      "source": [
        "aaa + float(ddd)"
      ],
      "execution_count": null,
      "outputs": [
        {
          "output_type": "execute_result",
          "data": {
            "text/plain": [
              "1215.0"
            ]
          },
          "metadata": {
            "tags": []
          },
          "execution_count": 10
        }
      ]
    },
    {
      "cell_type": "code",
      "metadata": {
        "colab": {
          "base_uri": "https://localhost:8080/"
        },
        "id": "EDTHmzrZRxxP",
        "outputId": "748a78f6-fd15-42e2-8b14-18fcbde9901a"
      },
      "source": [
        "aaa + int(ddd)"
      ],
      "execution_count": null,
      "outputs": [
        {
          "output_type": "execute_result",
          "data": {
            "text/plain": [
              "1215"
            ]
          },
          "metadata": {
            "tags": []
          },
          "execution_count": 11
        }
      ]
    },
    {
      "cell_type": "code",
      "metadata": {
        "colab": {
          "base_uri": "https://localhost:8080/",
          "height": 35
        },
        "id": "rJts80b4R2A5",
        "outputId": "49538023-8b6f-4852-e80b-ddcc7127cb12"
      },
      "source": [
        "str(aaa) # สามารถเปลี่ยนตัวเลขเป็นตัวแปร charracter ได้"
      ],
      "execution_count": null,
      "outputs": [
        {
          "output_type": "execute_result",
          "data": {
            "application/vnd.google.colaboratory.intrinsic+json": {
              "type": "string"
            },
            "text/plain": [
              "'1092'"
            ]
          },
          "metadata": {
            "tags": []
          },
          "execution_count": 12
        }
      ]
    },
    {
      "cell_type": "markdown",
      "metadata": {
        "id": "RezBrJi5SI2S"
      },
      "source": [
        "***\r\n",
        "##**การดำเนินการ Operation (Opearator +,-,*,/)** \r\n",
        "***\r\n",
        "###***ตัวอย่าง***"
      ]
    },
    {
      "cell_type": "code",
      "metadata": {
        "colab": {
          "base_uri": "https://localhost:8080/"
        },
        "id": "79GLrcM6SiCZ",
        "outputId": "636bb7cc-17c5-4066-b68b-997d2b1c673e"
      },
      "source": [
        "aaa + bbb"
      ],
      "execution_count": null,
      "outputs": [
        {
          "output_type": "execute_result",
          "data": {
            "text/plain": [
              "1103.0"
            ]
          },
          "metadata": {
            "tags": []
          },
          "execution_count": 13
        }
      ]
    },
    {
      "cell_type": "code",
      "metadata": {
        "colab": {
          "base_uri": "https://localhost:8080/"
        },
        "id": "q1ennEpaS21Z",
        "outputId": "fdf1ef0d-5072-44e6-87c1-7cc0c1ae57c2"
      },
      "source": [
        "ab = aaa*bbb\r\n",
        "print(ab)"
      ],
      "execution_count": null,
      "outputs": [
        {
          "output_type": "stream",
          "text": [
            "12012.0\n"
          ],
          "name": "stdout"
        }
      ]
    },
    {
      "cell_type": "code",
      "metadata": {
        "colab": {
          "base_uri": "https://localhost:8080/"
        },
        "id": "ac9gH-kBTA3A",
        "outputId": "c9972f97-7e72-4b35-c762-d7527c6cb8af"
      },
      "source": [
        "aaa - bbb"
      ],
      "execution_count": null,
      "outputs": [
        {
          "output_type": "execute_result",
          "data": {
            "text/plain": [
              "1081.0"
            ]
          },
          "metadata": {
            "tags": []
          },
          "execution_count": 15
        }
      ]
    },
    {
      "cell_type": "markdown",
      "metadata": {
        "id": "niiwXE2ZTjS_"
      },
      "source": [
        "**หมายเหตุ** % คือ modulo (mod)"
      ]
    },
    {
      "cell_type": "code",
      "metadata": {
        "colab": {
          "base_uri": "https://localhost:8080/"
        },
        "id": "YZr-8iSVTn4d",
        "outputId": "f87f7d7d-b122-42cf-9b08-e33326be1d3e"
      },
      "source": [
        "5%3"
      ],
      "execution_count": null,
      "outputs": [
        {
          "output_type": "execute_result",
          "data": {
            "text/plain": [
              "2"
            ]
          },
          "metadata": {
            "tags": []
          },
          "execution_count": 16
        }
      ]
    },
    {
      "cell_type": "code",
      "metadata": {
        "colab": {
          "base_uri": "https://localhost:8080/"
        },
        "id": "LwBIRPCiTrNu",
        "outputId": "e1bccbd4-f58e-4663-a255-c79f8853e3c8"
      },
      "source": [
        "7%3"
      ],
      "execution_count": null,
      "outputs": [
        {
          "output_type": "execute_result",
          "data": {
            "text/plain": [
              "1"
            ]
          },
          "metadata": {
            "tags": []
          },
          "execution_count": 17
        }
      ]
    },
    {
      "cell_type": "markdown",
      "metadata": {
        "id": "e9NJ9h9EUPyi"
      },
      "source": [
        "***\r\n",
        "## **คำสั่ง Print แบบพิเศษ ( การ Format String )**\r\n",
        "***\r\n",
        "###***ตัวอย่าง***"
      ]
    },
    {
      "cell_type": "code",
      "metadata": {
        "colab": {
          "base_uri": "https://localhost:8080/"
        },
        "id": "7A1Mnn7CUD5a",
        "outputId": "0b4344e8-2dc8-40a0-cd36-b8d6e32f21ac"
      },
      "source": [
        "print('ตัวแปร') # ส่งที่อยู่ข้างในวงเล็บคือตัวแปร และ string"
      ],
      "execution_count": null,
      "outputs": [
        {
          "output_type": "stream",
          "text": [
            "ตัวแปร\n"
          ],
          "name": "stdout"
        }
      ]
    },
    {
      "cell_type": "code",
      "metadata": {
        "colab": {
          "base_uri": "https://localhost:8080/"
        },
        "id": "kK-t5eYRUsnG",
        "outputId": "93c68025-4158-490c-843d-65c347702ce0"
      },
      "source": [
        "print(f'% คือการหารเอาเศษเช่น 7%3 ={7%3}')"
      ],
      "execution_count": null,
      "outputs": [
        {
          "output_type": "stream",
          "text": [
            "% คือการหารเอาเศษเช่น 7%3 =1\n"
          ],
          "name": "stdout"
        }
      ]
    },
    {
      "cell_type": "code",
      "metadata": {
        "colab": {
          "base_uri": "https://localhost:8080/"
        },
        "id": "pcMGsj3cU7Rv",
        "outputId": "e2d348b0-f444-4c9a-85ce-bc2c8fc91771"
      },
      "source": [
        "print(f'% คือการหารเอาเศษเช่น 7%3 = {7%3} \\\r\n",
        "แต่\\n/ คือการหารปกติเช่น เช่น 7/3 = {7/3} \\\r\n",
        "และ\\n// คือการหารเอาส่วน เช่น 7//3 = {7//3} \\\r\n",
        "หรือ\\n ใช้ int() เพื่อหารเอาส่วน เช่น (7/3) = {int(7/3)}') # \\n คือการขึ้นบรรทัดใหม่ \\ ใช้ในการตัด Code แต่ com มองไม่เห็น"
      ],
      "execution_count": null,
      "outputs": [
        {
          "output_type": "stream",
          "text": [
            "% คือการหารเอาเศษเช่น 7%3 = 1 แต่\n",
            "/ คือการหารปกติเช่น เช่น 7/3 = 2.3333333333333335 และ\n",
            "// คือการหารเอาส่วน เช่น 7//3 = 2 หรือ\n",
            " ใช้ int() เพื่อหารเอาส่วน เช่น (7/3) = 2\n"
          ],
          "name": "stdout"
        }
      ]
    },
    {
      "cell_type": "markdown",
      "metadata": {
        "id": "4ZgkQa0sXDq1"
      },
      "source": [
        "***\r\n",
        "## **Data structure (โครงสร้างข้อมูล )**\r\n",
        "***\r\n",
        "###***ตัวอย่าง***"
      ]
    },
    {
      "cell_type": "code",
      "metadata": {
        "colab": {
          "base_uri": "https://localhost:8080/"
        },
        "id": "3a7jKbDhXJ63",
        "outputId": "eff7e9fb-fdf3-47ca-feb3-b2f429cdb48b"
      },
      "source": [
        "[111,'c','งง',aaa]"
      ],
      "execution_count": null,
      "outputs": [
        {
          "output_type": "execute_result",
          "data": {
            "text/plain": [
              "[111, 'c', 'งง', 1092]"
            ]
          },
          "metadata": {
            "tags": []
          },
          "execution_count": 21
        }
      ]
    },
    {
      "cell_type": "markdown",
      "metadata": {
        "id": "t9G8uXZrXXs-"
      },
      "source": [
        "**List คือการเอาข้อมูลหลายๆตัวมาเรียงต่อกัน**\r\n",
        "\r\n",
        "**list สามารถสร้างได้ 2 แบบดังนี้** "
      ]
    },
    {
      "cell_type": "markdown",
      "metadata": {
        "id": "RAa-BNo_Xifz"
      },
      "source": [
        "**แบบที่ 1 > square brackets**\r\n",
        "###***ตัวอย่าง***"
      ]
    },
    {
      "cell_type": "code",
      "metadata": {
        "colab": {
          "base_uri": "https://localhost:8080/"
        },
        "id": "8B_2L-5CXors",
        "outputId": "106cecf7-c706-4fb1-8dda-e6948102ff6f"
      },
      "source": [
        "list_a = []\r\n",
        "print(list_a)"
      ],
      "execution_count": 91,
      "outputs": [
        {
          "output_type": "stream",
          "text": [
            "[]\n"
          ],
          "name": "stdout"
        }
      ]
    },
    {
      "cell_type": "code",
      "metadata": {
        "colab": {
          "base_uri": "https://localhost:8080/"
        },
        "id": "KcYKBi30XwPd",
        "outputId": "061dab24-86d3-489d-ab9e-4ff8a191a16c"
      },
      "source": [
        "list_b = [111,'c','งง',aaa]\r\n",
        "print(list_b)"
      ],
      "execution_count": 92,
      "outputs": [
        {
          "output_type": "stream",
          "text": [
            "[111, 'c', 'งง', 1092]\n"
          ],
          "name": "stdout"
        }
      ]
    },
    {
      "cell_type": "markdown",
      "metadata": {
        "id": "UJj0mJVhX5lM"
      },
      "source": [
        "**หมายเหตุ** *ลำดับที่อยู่ใน list มีความสำคัญ (ลำดับใน list เริ่มจาก 0,1,2,...)*\r\n"
      ]
    },
    {
      "cell_type": "code",
      "metadata": {
        "colab": {
          "base_uri": "https://localhost:8080/",
          "height": 35
        },
        "id": "c9d_MBOtYGYY",
        "outputId": "fdc498ef-8bbc-4e0a-fa74-147196b4b5c6"
      },
      "source": [
        "list_b[2]"
      ],
      "execution_count": 93,
      "outputs": [
        {
          "output_type": "execute_result",
          "data": {
            "application/vnd.google.colaboratory.intrinsic+json": {
              "type": "string"
            },
            "text/plain": [
              "'งง'"
            ]
          },
          "metadata": {
            "tags": []
          },
          "execution_count": 93
        }
      ]
    },
    {
      "cell_type": "markdown",
      "metadata": {
        "id": "opR_wo8lc-kh"
      },
      "source": [
        "**แบบที่ 2**\r\n",
        "###***ตัวอย่าง***"
      ]
    },
    {
      "cell_type": "code",
      "metadata": {
        "colab": {
          "base_uri": "https://localhost:8080/"
        },
        "id": "_1CnNrdkZKTn",
        "outputId": "7572fc56-ece7-4eed-d2d1-74e6031ff642"
      },
      "source": [
        "list_c =[]\r\n",
        "print(list_c)"
      ],
      "execution_count": 94,
      "outputs": [
        {
          "output_type": "stream",
          "text": [
            "[]\n"
          ],
          "name": "stdout"
        }
      ]
    },
    {
      "cell_type": "markdown",
      "metadata": {
        "id": "aeI_fJVUYMrP"
      },
      "source": [
        "***\r\n",
        "## **append() เพิ่มสมาชิก list**\r\n",
        "***\r\n",
        "###***ตัวอย่าง***"
      ]
    },
    {
      "cell_type": "code",
      "metadata": {
        "colab": {
          "base_uri": "https://localhost:8080/"
        },
        "id": "-qjrUfl5YhXt",
        "outputId": "18ae2d23-b5e1-4679-ca93-7f67eadbd2cb"
      },
      "source": [
        "list_b.append('u')\r\n",
        "print(list_b)"
      ],
      "execution_count": null,
      "outputs": [
        {
          "output_type": "stream",
          "text": [
            "[111, 'c', 'งง', 1092, 'u']\n"
          ],
          "name": "stdout"
        }
      ]
    },
    {
      "cell_type": "code",
      "metadata": {
        "colab": {
          "base_uri": "https://localhost:8080/",
          "height": 35
        },
        "id": "ULiiYDn4ZFFU",
        "outputId": "eba9f14f-a043-4897-94dc-c894f7e2fa97"
      },
      "source": [
        "list_b[-1] #ตัวที่อยู่ในวงเล็บหลังจากตัวแปร list เรียกว่า index ใช้สำหรับชี้ข้อมูลใน list (ชี้จากข้างหน้า,ขี้จาข้างหลัง)"
      ],
      "execution_count": null,
      "outputs": [
        {
          "output_type": "execute_result",
          "data": {
            "application/vnd.google.colaboratory.intrinsic+json": {
              "type": "string"
            },
            "text/plain": [
              "'u'"
            ]
          },
          "metadata": {
            "tags": []
          },
          "execution_count": 27
        }
      ]
    },
    {
      "cell_type": "markdown",
      "metadata": {
        "id": "Rjql_vASZdRi"
      },
      "source": [
        "***\r\n",
        "## **String : list of Character**\r\n",
        "\r\n",
        "***\r\n",
        "###***ตัวอย่าง***"
      ]
    },
    {
      "cell_type": "code",
      "metadata": {
        "colab": {
          "base_uri": "https://localhost:8080/"
        },
        "id": "utaOD4SVZsos",
        "outputId": "a5b8dbc3-16df-4168-d133-f37544eb5cfd"
      },
      "source": [
        "t = 'python is easy'\r\n",
        "print(t)"
      ],
      "execution_count": null,
      "outputs": [
        {
          "output_type": "stream",
          "text": [
            "python is easy\n"
          ],
          "name": "stdout"
        }
      ]
    },
    {
      "cell_type": "code",
      "metadata": {
        "colab": {
          "base_uri": "https://localhost:8080/",
          "height": 35
        },
        "id": "f9OvnaOdZzv_",
        "outputId": "1645f1a4-46d7-44a9-96d4-7a2829dd0b33"
      },
      "source": [
        "t[1]"
      ],
      "execution_count": null,
      "outputs": [
        {
          "output_type": "execute_result",
          "data": {
            "application/vnd.google.colaboratory.intrinsic+json": {
              "type": "string"
            },
            "text/plain": [
              "'y'"
            ]
          },
          "metadata": {
            "tags": []
          },
          "execution_count": 29
        }
      ]
    },
    {
      "cell_type": "code",
      "metadata": {
        "colab": {
          "base_uri": "https://localhost:8080/",
          "height": 35
        },
        "id": "BHw7ybRdZ1OW",
        "outputId": "b353071f-b19a-4bcc-8aeb-eacc21e14ddf"
      },
      "source": [
        "t[6]"
      ],
      "execution_count": null,
      "outputs": [
        {
          "output_type": "execute_result",
          "data": {
            "application/vnd.google.colaboratory.intrinsic+json": {
              "type": "string"
            },
            "text/plain": [
              "' '"
            ]
          },
          "metadata": {
            "tags": []
          },
          "execution_count": 30
        }
      ]
    },
    {
      "cell_type": "markdown",
      "metadata": {
        "id": "3zkYtvG_hYm-"
      },
      "source": [
        "***\r\n",
        "###**คาบ 3 มกราคม 2564**\r\n",
        "\r\n",
        "***"
      ]
    },
    {
      "cell_type": "code",
      "metadata": {
        "id": "MTHUEg-JibDy",
        "colab": {
          "base_uri": "https://localhost:8080/"
        },
        "outputId": "309076dd-548a-4d54-830b-c23ec0b48638"
      },
      "source": [
        "len(t)"
      ],
      "execution_count": null,
      "outputs": [
        {
          "output_type": "execute_result",
          "data": {
            "text/plain": [
              "14"
            ]
          },
          "metadata": {
            "tags": []
          },
          "execution_count": 31
        }
      ]
    },
    {
      "cell_type": "code",
      "metadata": {
        "id": "HSled1VXimhc",
        "colab": {
          "base_uri": "https://localhost:8080/"
        },
        "outputId": "f92406af-3ef4-44c9-aad4-5fe4c5d3cbeb"
      },
      "source": [
        "len(list_b) #len คือคำสั่งตรวจสอบความยาวของ list (จำนวนสมาชิกทั้งหมด)"
      ],
      "execution_count": null,
      "outputs": [
        {
          "output_type": "execute_result",
          "data": {
            "text/plain": [
              "5"
            ]
          },
          "metadata": {
            "tags": []
          },
          "execution_count": 32
        }
      ]
    },
    {
      "cell_type": "code",
      "metadata": {
        "id": "cXqbQSDli3Yu",
        "colab": {
          "base_uri": "https://localhost:8080/",
          "height": 35
        },
        "outputId": "0c963cb2-f6fa-4ee6-d05a-22ac3f23fdb9"
      },
      "source": [
        "t[-4]"
      ],
      "execution_count": null,
      "outputs": [
        {
          "output_type": "execute_result",
          "data": {
            "application/vnd.google.colaboratory.intrinsic+json": {
              "type": "string"
            },
            "text/plain": [
              "'e'"
            ]
          },
          "metadata": {
            "tags": []
          },
          "execution_count": 33
        }
      ]
    },
    {
      "cell_type": "code",
      "metadata": {
        "id": "0mQIpdnllN04",
        "colab": {
          "base_uri": "https://localhost:8080/"
        },
        "outputId": "b882e93e-c442-48e6-87f1-906ebd122836"
      },
      "source": [
        "list_b.append(t)\r\n",
        "print(list_b)"
      ],
      "execution_count": null,
      "outputs": [
        {
          "output_type": "stream",
          "text": [
            "[111, 'c', 'งง', 1092, 'u', 'python is easy']\n"
          ],
          "name": "stdout"
        }
      ]
    },
    {
      "cell_type": "markdown",
      "metadata": {
        "id": "GcHXIYp2jLa3"
      },
      "source": [
        "###**ตัวที่อยู่ข้างใน [ ] เราเรียกว่า Index (ตัวชี้)**\r\n",
        "***\r\n",
        "##### **List slicing สามารถทำได้โดยใช้ Colon ( : )**\r\n",
        "\r\n",
        " [a:b] -> [a,b)"
      ]
    },
    {
      "cell_type": "code",
      "metadata": {
        "id": "LwAUgCARmtPp",
        "colab": {
          "base_uri": "https://localhost:8080/"
        },
        "outputId": "54fd6357-2878-40ca-b2ad-ee89524ab51d"
      },
      "source": [
        "print(t)\r\n",
        "print(t[7:9])\r\n",
        "print(len(t[7:9]))"
      ],
      "execution_count": null,
      "outputs": [
        {
          "output_type": "stream",
          "text": [
            "python is easy\n",
            "is\n",
            "2\n"
          ],
          "name": "stdout"
        }
      ]
    },
    {
      "cell_type": "code",
      "metadata": {
        "id": "97OP7GwHnfj9",
        "colab": {
          "base_uri": "https://localhost:8080/",
          "height": 35
        },
        "outputId": "3647c14d-3b66-44e6-c973-ca1f031a9af7"
      },
      "source": [
        "t[0:14:2]"
      ],
      "execution_count": null,
      "outputs": [
        {
          "output_type": "execute_result",
          "data": {
            "application/vnd.google.colaboratory.intrinsic+json": {
              "type": "string"
            },
            "text/plain": [
              "'pto ses'"
            ]
          },
          "metadata": {
            "tags": []
          },
          "execution_count": 38
        }
      ]
    },
    {
      "cell_type": "markdown",
      "metadata": {
        "id": "jM2zQyuCogHx"
      },
      "source": [
        "#**Quiz**\r\n",
        "***"
      ]
    },
    {
      "cell_type": "code",
      "metadata": {
        "id": "duM5JfeyoF27",
        "colab": {
          "base_uri": "https://localhost:8080/"
        },
        "outputId": "84f3886a-e214-4e9d-9259-1d2a658e5521"
      },
      "source": [
        "z = [1,2,3,4,5,6,7,8,9,10]\r\n",
        "z[1:10:2]"
      ],
      "execution_count": null,
      "outputs": [
        {
          "output_type": "execute_result",
          "data": {
            "text/plain": [
              "[2, 4, 6, 8, 10]"
            ]
          },
          "metadata": {
            "tags": []
          },
          "execution_count": 44
        }
      ]
    },
    {
      "cell_type": "markdown",
      "metadata": {
        "id": "3VGnjXegnEjx"
      },
      "source": [
        "***ถ้าเว้นว่างหน้า : หมายความว่า เริ่มตั้งแต่ตัวแรก (0)***\r\n",
        "\r\n",
        "***ถ้าเว้นว่างหลัง : หมายความว่า ไปจนถึงตัวสุดท้าย (len(list))***"
      ]
    },
    {
      "cell_type": "code",
      "metadata": {
        "id": "0zoCugaSo_OC",
        "colab": {
          "base_uri": "https://localhost:8080/"
        },
        "outputId": "c68a33c8-10ee-4809-d4b2-4721210d17f3"
      },
      "source": [
        "print(t)\r\n",
        "print(t[:6])\r\n",
        "print(t[10:])\r\n",
        "print(t[-4:])\r\n",
        "print(t[:])"
      ],
      "execution_count": null,
      "outputs": [
        {
          "output_type": "stream",
          "text": [
            "python is easy\n",
            "python\n",
            "easy\n",
            "easy\n",
            "python is easy\n"
          ],
          "name": "stdout"
        }
      ]
    },
    {
      "cell_type": "code",
      "metadata": {
        "id": "gqdTQ9CFrmov",
        "colab": {
          "base_uri": "https://localhost:8080/"
        },
        "outputId": "7689325d-deea-4c98-bef5-fe841f8fba5b"
      },
      "source": [
        "print(z[::2])"
      ],
      "execution_count": null,
      "outputs": [
        {
          "output_type": "stream",
          "text": [
            "[1, 3, 5, 7, 9]\n"
          ],
          "name": "stdout"
        }
      ]
    },
    {
      "cell_type": "markdown",
      "metadata": {
        "id": "0Q_6hG-Vpdhd"
      },
      "source": [
        "***\r\n",
        "### **เราสามารถเอา list มาต่อกันได้ด้วย +**"
      ]
    },
    {
      "cell_type": "code",
      "metadata": {
        "id": "82Y4juMnruwv",
        "colab": {
          "base_uri": "https://localhost:8080/",
          "height": 35
        },
        "outputId": "27902680-0726-43dd-b6d8-54d0f79156ae"
      },
      "source": [
        "t + 'จริงหรอ ?'"
      ],
      "execution_count": null,
      "outputs": [
        {
          "output_type": "execute_result",
          "data": {
            "application/vnd.google.colaboratory.intrinsic+json": {
              "type": "string"
            },
            "text/plain": [
              "'python is easyจริงหรอ ?'"
            ]
          },
          "metadata": {
            "tags": []
          },
          "execution_count": 48
        }
      ]
    },
    {
      "cell_type": "code",
      "metadata": {
        "id": "Fc-5KVAfr6ax",
        "colab": {
          "base_uri": "https://localhost:8080/",
          "height": 162
        },
        "outputId": "0e30c588-f96c-414b-e42c-0f35278da310"
      },
      "source": [
        "t + list_b ##ไม่สามารภเอา list ปกติมาบวกกับ string ได้"
      ],
      "execution_count": 75,
      "outputs": [
        {
          "output_type": "error",
          "ename": "TypeError",
          "evalue": "ignored",
          "traceback": [
            "\u001b[0;31m---------------------------------------------------------------------------\u001b[0m",
            "\u001b[0;31mTypeError\u001b[0m                                 Traceback (most recent call last)",
            "\u001b[0;32m<ipython-input-75-bca2d9df1c58>\u001b[0m in \u001b[0;36m<module>\u001b[0;34m()\u001b[0m\n\u001b[0;32m----> 1\u001b[0;31m \u001b[0mt\u001b[0m \u001b[0;34m+\u001b[0m \u001b[0mlist_b\u001b[0m \u001b[0;31m##ไม่สามารภเอา list ปกติมาบวกกับ string ได้\u001b[0m\u001b[0;34m\u001b[0m\u001b[0;34m\u001b[0m\u001b[0m\n\u001b[0m",
            "\u001b[0;31mTypeError\u001b[0m: must be str, not list"
          ]
        }
      ]
    },
    {
      "cell_type": "code",
      "metadata": {
        "id": "RpXFfu93sFNO",
        "colab": {
          "base_uri": "https://localhost:8080/"
        },
        "outputId": "83d2a85a-60a2-4c62-c32f-f60ef9b8433e"
      },
      "source": [
        "print(list_a)\r\n",
        "list_b = [111,'c','งง',aaa]\r\n",
        "print(list_b)\r\n",
        "print(list_b + list_a)"
      ],
      "execution_count": 76,
      "outputs": [
        {
          "output_type": "stream",
          "text": [
            "[]\n",
            "[111, 'c', 'งง', 1092]\n",
            "[111, 'c', 'งง', 1092]\n"
          ],
          "name": "stdout"
        }
      ]
    },
    {
      "cell_type": "code",
      "metadata": {
        "id": "oHpCMjb_s7jH",
        "colab": {
          "base_uri": "https://localhost:8080/"
        },
        "outputId": "677d43be-f200-40dd-8be7-1d7560d84561"
      },
      "source": [
        "list_b.append(list_a)\r\n",
        "print(list_b)"
      ],
      "execution_count": 77,
      "outputs": [
        {
          "output_type": "stream",
          "text": [
            "[111, 'c', 'งง', 1092, []]\n"
          ],
          "name": "stdout"
        }
      ]
    },
    {
      "cell_type": "markdown",
      "metadata": {
        "id": "NLUwR1ASsdQh"
      },
      "source": [
        "***\r\n",
        "### **การแบ่ง string ตามสัญลักษณ์ที่กำหนด -> split string**"
      ]
    },
    {
      "cell_type": "code",
      "metadata": {
        "id": "Ig5YAziguFql",
        "colab": {
          "base_uri": "https://localhost:8080/",
          "height": 35
        },
        "outputId": "c1c3cdd6-63bb-4430-8b39-55d82d743919"
      },
      "source": [
        "t"
      ],
      "execution_count": 78,
      "outputs": [
        {
          "output_type": "execute_result",
          "data": {
            "application/vnd.google.colaboratory.intrinsic+json": {
              "type": "string"
            },
            "text/plain": [
              "'python is easy'"
            ]
          },
          "metadata": {
            "tags": []
          },
          "execution_count": 78
        }
      ]
    },
    {
      "cell_type": "code",
      "metadata": {
        "id": "kQ9CZmd2tt9q",
        "colab": {
          "base_uri": "https://localhost:8080/"
        },
        "outputId": "8edc6310-834e-4d0e-d4ab-30a93f76ff7b"
      },
      "source": [
        "t.split(' ')"
      ],
      "execution_count": 79,
      "outputs": [
        {
          "output_type": "execute_result",
          "data": {
            "text/plain": [
              "['python', 'is', 'easy']"
            ]
          },
          "metadata": {
            "tags": []
          },
          "execution_count": 79
        }
      ]
    },
    {
      "cell_type": "code",
      "metadata": {
        "id": "Q2w8TwnwtzsX"
      },
      "source": [
        "time = '19:14:15'"
      ],
      "execution_count": 80,
      "outputs": []
    },
    {
      "cell_type": "code",
      "metadata": {
        "id": "_YAdeVput9Y7",
        "colab": {
          "base_uri": "https://localhost:8080/"
        },
        "outputId": "5565f769-eeac-4cfd-fc49-5996c8007995"
      },
      "source": [
        "time.split(':')"
      ],
      "execution_count": 81,
      "outputs": [
        {
          "output_type": "execute_result",
          "data": {
            "text/plain": [
              "['19', '14', '15']"
            ]
          },
          "metadata": {
            "tags": []
          },
          "execution_count": 81
        }
      ]
    },
    {
      "cell_type": "code",
      "metadata": {
        "id": "mwwu0I6Hut9_",
        "colab": {
          "base_uri": "https://localhost:8080/"
        },
        "outputId": "4f214899-98ba-4a37-bb6f-9b63e8cde1c5"
      },
      "source": [
        "t_sp = t.split(' ')\r\n",
        "print(t_sp)"
      ],
      "execution_count": 82,
      "outputs": [
        {
          "output_type": "stream",
          "text": [
            "['python', 'is', 'easy']\n"
          ],
          "name": "stdout"
        }
      ]
    },
    {
      "cell_type": "code",
      "metadata": {
        "id": "7Re2gvptu9ZS",
        "colab": {
          "base_uri": "https://localhost:8080/"
        },
        "outputId": "93ce5786-d7fe-417c-fafb-3d3fd9077eb4"
      },
      "source": [
        "#วีธีรวมกลับ\r\n",
        "print(' '.join(t_sp))"
      ],
      "execution_count": 83,
      "outputs": [
        {
          "output_type": "stream",
          "text": [
            "python is easy\n"
          ],
          "name": "stdout"
        }
      ]
    },
    {
      "cell_type": "markdown",
      "metadata": {
        "id": "4GwCNVfgvXvL"
      },
      "source": [
        "***\r\n",
        "# **HW คำนวณเวลาเป็นวินาทีของเวลาต่อไปนี้โดยใช้คำสั่ง split() ช่วย (print ออกมาให้สวยงาม)**\r\n",
        "\r\n",
        "12:30:15\r\n",
        "\r\n",
        "13:41:07\r\n",
        "\r\n",
        "12:53:15\r\n",
        "\r\n",
        "00:59:25\r\n",
        "\r\n",
        "11:11:11\r\n",
        "\r\n",
        "16:06:09\r\n",
        "\r\n",
        "21:12:30\r\n",
        "\r\n",
        "10:06:15\r\n",
        "\r\n",
        "ตัวอย่าง > 01:00:01 = 3601 วินาที\r\n",
        "\r\n",
        "ตัวอย่าง > 00:01:10 = 70 วินาที\r\n",
        "***"
      ]
    },
    {
      "cell_type": "markdown",
      "metadata": {
        "id": "rfUyR9aWTHFo"
      },
      "source": [
        "#***คำตอบของการบ้าน***\r\n",
        "***"
      ]
    },
    {
      "cell_type": "code",
      "metadata": {
        "id": "j89qPS1kwn2V",
        "outputId": "5358ca1d-489e-4b17-912a-75848dc68f66",
        "colab": {
          "base_uri": "https://localhost:8080/",
          "height": 204
        }
      },
      "source": [
        "q1 = '12:30:15'\r\n",
        "q1.split(':')\r\n",
        "list_q1 = [12,30,15]\r\n",
        "h1 = list_q1[0]*3600\r\n",
        "m1 = list_q1[1]*60\r\n",
        "s1 = list_q1[2]\r\n",
        "a_q1 = h1+m1+s1\r\n",
        "print(\"แปลงเป็นวินาที ได้ = วินาที\")"
      ],
      "execution_count": 144,
      "outputs": [
        {
          "output_type": "error",
          "ename": "TypeError",
          "evalue": "ignored",
          "traceback": [
            "\u001b[0;31m---------------------------------------------------------------------------\u001b[0m",
            "\u001b[0;31mTypeError\u001b[0m                                 Traceback (most recent call last)",
            "\u001b[0;32m<ipython-input-144-94066ee31e62>\u001b[0m in \u001b[0;36m<module>\u001b[0;34m()\u001b[0m\n\u001b[1;32m      6\u001b[0m \u001b[0ms1\u001b[0m \u001b[0;34m=\u001b[0m \u001b[0mlist_q1\u001b[0m\u001b[0;34m[\u001b[0m\u001b[0;36m2\u001b[0m\u001b[0;34m]\u001b[0m\u001b[0;34m\u001b[0m\u001b[0;34m\u001b[0m\u001b[0m\n\u001b[1;32m      7\u001b[0m \u001b[0ma_q1\u001b[0m \u001b[0;34m=\u001b[0m \u001b[0mh1\u001b[0m\u001b[0;34m+\u001b[0m\u001b[0mm1\u001b[0m\u001b[0;34m+\u001b[0m\u001b[0ms1\u001b[0m\u001b[0;34m\u001b[0m\u001b[0;34m\u001b[0m\u001b[0m\n\u001b[0;32m----> 8\u001b[0;31m \u001b[0mprint\u001b[0m\u001b[0;34m(\u001b[0m\u001b[0;34m\"แปลงเป็นวินาที ได้ = วินาที\"\u001b[0m\u001b[0;34m)\u001b[0m\u001b[0;34m\u001b[0m\u001b[0;34m\u001b[0m\u001b[0m\n\u001b[0m",
            "\u001b[0;31mTypeError\u001b[0m: 'str' object is not callable"
          ]
        }
      ]
    },
    {
      "cell_type": "code",
      "metadata": {
        "id": "ARPfWatrPkXW",
        "outputId": "ffe25136-912c-42a5-d596-50c42bc622a0",
        "colab": {
          "base_uri": "https://localhost:8080/",
          "height": 204
        }
      },
      "source": [
        "q2 = '13:41:07'\r\n",
        "q2.split(':')\r\n",
        "list_q2 = [13,30,15]\r\n",
        "h2 = list_q2[0]*3600\r\n",
        "m2 = list_q2[1]*60\r\n",
        "s2 = list_q2[2]\r\n",
        "a_q2 = h2+m2+s2\r\n",
        "print(f'{a_q2} วินาที')"
      ],
      "execution_count": 133,
      "outputs": [
        {
          "output_type": "error",
          "ename": "TypeError",
          "evalue": "ignored",
          "traceback": [
            "\u001b[0;31m---------------------------------------------------------------------------\u001b[0m",
            "\u001b[0;31mTypeError\u001b[0m                                 Traceback (most recent call last)",
            "\u001b[0;32m<ipython-input-133-5e2a55e5b0f7>\u001b[0m in \u001b[0;36m<module>\u001b[0;34m()\u001b[0m\n\u001b[1;32m      6\u001b[0m \u001b[0ms2\u001b[0m \u001b[0;34m=\u001b[0m \u001b[0mlist_q2\u001b[0m\u001b[0;34m[\u001b[0m\u001b[0;36m2\u001b[0m\u001b[0;34m]\u001b[0m\u001b[0;34m\u001b[0m\u001b[0;34m\u001b[0m\u001b[0m\n\u001b[1;32m      7\u001b[0m \u001b[0ma_q2\u001b[0m \u001b[0;34m=\u001b[0m \u001b[0mh2\u001b[0m\u001b[0;34m+\u001b[0m\u001b[0mm2\u001b[0m\u001b[0;34m+\u001b[0m\u001b[0ms2\u001b[0m\u001b[0;34m\u001b[0m\u001b[0;34m\u001b[0m\u001b[0m\n\u001b[0;32m----> 8\u001b[0;31m \u001b[0mprint\u001b[0m\u001b[0;34m(\u001b[0m\u001b[0;34mf'{a_q2} วินาที'\u001b[0m\u001b[0;34m)\u001b[0m\u001b[0;34m\u001b[0m\u001b[0;34m\u001b[0m\u001b[0m\n\u001b[0m",
            "\u001b[0;31mTypeError\u001b[0m: 'str' object is not callable"
          ]
        }
      ]
    },
    {
      "cell_type": "code",
      "metadata": {
        "id": "ItkFGlImUHp0"
      },
      "source": [
        "q3 ='12:53:15'\r\n",
        "q2.split(':')\r\n",
        "list_q3 = [12,53,15]\r\n",
        "h3 = list_q3[0]*3600\r\n",
        "m3 = list_q3[1]*60\r\n",
        "s3 = list_q3[2]\r\n",
        "a_q3 = h3+m3+s3\r\n",
        "print(f'{a_q3} วินาที')"
      ],
      "execution_count": null,
      "outputs": []
    },
    {
      "cell_type": "code",
      "metadata": {
        "id": "N9rKPlLtU3kc"
      },
      "source": [
        "q4 = '00:59:25'\r\n",
        "q4.split (':')\r\n",
        "list_q4 = [00,59,25]\r\n",
        "h4 = list_q4[0]*3600\r\n",
        "m4 = list_q4[1]*60\r\n",
        "s4 = list_q4[2]\r\n",
        "a_q4 = h4+m4+s4\r\n",
        "print(f'{a_q4} วินาที')"
      ],
      "execution_count": null,
      "outputs": []
    },
    {
      "cell_type": "code",
      "metadata": {
        "id": "YoE1SsQPVnch",
        "outputId": "74d28648-e1d2-4889-b2da-aa857eab6a21",
        "colab": {
          "base_uri": "https://localhost:8080/",
          "height": 195
        }
      },
      "source": [
        "q5 = '11:11:11'\r\n",
        "q5.split (':')\r\n",
        "list_q5 = [11,11,11]\r\n",
        "h5 = list_q5[0]*3600\r\n",
        "m5 = list_q5[1]*60\r\n",
        "s5 = list_q5[2]\r\n",
        "a_q = h5+m5+s5\r\n",
        "print(f'{a_q5} วินาที')"
      ],
      "execution_count": 134,
      "outputs": [
        {
          "output_type": "error",
          "ename": "TypeError",
          "evalue": "ignored",
          "traceback": [
            "\u001b[0;31m---------------------------------------------------------------------------\u001b[0m",
            "\u001b[0;31mTypeError\u001b[0m                                 Traceback (most recent call last)",
            "\u001b[0;32m<ipython-input-134-11288fa850c5>\u001b[0m in \u001b[0;36m<module>\u001b[0;34m()\u001b[0m\n\u001b[1;32m      6\u001b[0m \u001b[0ms5\u001b[0m \u001b[0;34m=\u001b[0m \u001b[0mlist_q5\u001b[0m\u001b[0;34m[\u001b[0m\u001b[0;36m2\u001b[0m\u001b[0;34m]\u001b[0m\u001b[0;34m\u001b[0m\u001b[0;34m\u001b[0m\u001b[0m\n\u001b[1;32m      7\u001b[0m \u001b[0ma_q\u001b[0m \u001b[0;34m=\u001b[0m \u001b[0mh5\u001b[0m\u001b[0;34m+\u001b[0m\u001b[0mm5\u001b[0m\u001b[0;34m+\u001b[0m\u001b[0ms5\u001b[0m\u001b[0;34m\u001b[0m\u001b[0;34m\u001b[0m\u001b[0m\n\u001b[0;32m----> 8\u001b[0;31m \u001b[0mprint\u001b[0m\u001b[0;34m(\u001b[0m\u001b[0;34mf'{a_q5} วินาที'\u001b[0m\u001b[0;34m)\u001b[0m\u001b[0;34m\u001b[0m\u001b[0;34m\u001b[0m\u001b[0m\n\u001b[0m",
            "\u001b[0;31mTypeError\u001b[0m: 'str' object is not callable"
          ]
        }
      ]
    },
    {
      "cell_type": "code",
      "metadata": {
        "id": "I3nVI7A5WHsy"
      },
      "source": [
        "q6 = '16:06:09'\r\n",
        "q6.split (':')\r\n",
        "list_q6 = [16,6,9]\r\n",
        "h6 = list_q6[0]*3600\r\n",
        "m6 = list_q6[1]*60\r\n",
        "s6 = list_q6[2]\r\n",
        "a_q = h6+m6+s6\r\n",
        "print(f'{a_q6} วินาที')"
      ],
      "execution_count": null,
      "outputs": []
    },
    {
      "cell_type": "code",
      "metadata": {
        "id": "gZg2H2b5X-K3"
      },
      "source": [
        ""
      ],
      "execution_count": null,
      "outputs": []
    }
  ]
}