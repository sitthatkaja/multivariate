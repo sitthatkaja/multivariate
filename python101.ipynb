{
  "nbformat": 4,
  "nbformat_minor": 0,
  "metadata": {
    "colab": {
      "name": "python101.ipynb",
      "provenance": [],
      "authorship_tag": "ABX9TyMDB75k92/o/esCzEuSGI7G",
      "include_colab_link": true
    },
    "kernelspec": {
      "name": "python3",
      "display_name": "Python 3"
    }
  },
  "cells": [
    {
      "cell_type": "markdown",
      "metadata": {
        "id": "view-in-github",
        "colab_type": "text"
      },
      "source": [
        "<a href=\"https://colab.research.google.com/github/sitthatkaja/multivariate/blob/main/python101.ipynb\" target=\"_parent\"><img src=\"https://colab.research.google.com/assets/colab-badge.svg\" alt=\"Open In Colab\"/></a>"
      ]
    },
    {
      "cell_type": "markdown",
      "metadata": {
        "id": "BAZ4i94YLhim"
      },
      "source": [
        "# **ตัวแปร Variable**\r\n",
        "\r\n",
        "***"
      ]
    },
    {
      "cell_type": "markdown",
      "metadata": {
        "id": "NsPffZmlL4hw"
      },
      "source": [
        "###**หลักการตั้งชื่อตัวแปรเบื้องต้น**\r\n",
        "\r\n",
        "1.ตั้งใจสื่อ\r\n",
        "\r\n",
        "2.ภาษาอังกฤษ\r\n",
        "\r\n",
        "3.ใช้ตัวเลขได้แต่ห้ามขึ้นต้นด้วยตัวเลข\r\n",
        "\r\n",
        "4.ห้ามเว้นวรรค\r\n",
        "\r\n",
        "5.ตัวเล็กกับตัวใหญ่ต่างกัน\r\n",
        "\r\n",
        "***\r\n",
        "\r\n"
      ]
    },
    {
      "cell_type": "markdown",
      "metadata": {
        "id": "amKZDq5PMqIh"
      },
      "source": [
        "มี output 2 mode : ออกหน้าจอ กับ เข้าไปเก็บในตัวแปร\r\n",
        "\r\n",
        "***"
      ]
    },
    {
      "cell_type": "markdown",
      "metadata": {
        "id": "Enhd_lBkN0CH"
      },
      "source": [
        "###***ตัวอย่าง***"
      ]
    },
    {
      "cell_type": "code",
      "metadata": {
        "colab": {
          "base_uri": "https://localhost:8080/"
        },
        "id": "UcGVhS4mNGGp",
        "outputId": "23224e09-eb84-4ecd-d515-8e3581dd8806"
      },
      "source": [
        "3.14159 # อันนี้คือ output ที่เข้าไปอยู่หน้าจอ "
      ],
      "execution_count": 2,
      "outputs": [
        {
          "output_type": "execute_result",
          "data": {
            "text/plain": [
              "3.14159"
            ]
          },
          "metadata": {
            "tags": []
          },
          "execution_count": 2
        }
      ]
    },
    {
      "cell_type": "code",
      "metadata": {
        "id": "mWfkPtVHKBpO"
      },
      "source": [
        "Pi = 3.14159 # อันนี้คือ output ที่เข้าไปอยู่ในตัวแปร"
      ],
      "execution_count": 3,
      "outputs": []
    },
    {
      "cell_type": "code",
      "metadata": {
        "colab": {
          "base_uri": "https://localhost:8080/"
        },
        "id": "twFcdegjM-cO",
        "outputId": "63bbdaa6-db88-449c-d4aa-9752cfd3ba82"
      },
      "source": [
        "Pi"
      ],
      "execution_count": 4,
      "outputs": [
        {
          "output_type": "execute_result",
          "data": {
            "text/plain": [
              "3.14159"
            ]
          },
          "metadata": {
            "tags": []
          },
          "execution_count": 4
        }
      ]
    },
    {
      "cell_type": "code",
      "metadata": {
        "colab": {
          "base_uri": "https://localhost:8080/"
        },
        "id": "QtAUoOBCNL3x",
        "outputId": "79b3399a-b7ab-48cb-d455-c92630c30403"
      },
      "source": [
        "a = 1234567\r\n",
        "print(a)"
      ],
      "execution_count": 5,
      "outputs": [
        {
          "output_type": "stream",
          "text": [
            "1234567\n"
          ],
          "name": "stdout"
        }
      ]
    },
    {
      "cell_type": "markdown",
      "metadata": {
        "id": "5ylh_5RiNjaC"
      },
      "source": [
        "\r\n",
        "***\r\n",
        "##**ชนิดของตัวแปร 3 ชนิด**\r\n",
        "***\r\n",
        "\r\n",
        "**1. จำนวนเต็ม (integer,int)**"
      ]
    },
    {
      "cell_type": "code",
      "metadata": {
        "colab": {
          "base_uri": "https://localhost:8080/"
        },
        "id": "8eYjo2QOOtTR",
        "outputId": "e9634284-f1b2-4a70-bf51-4c8e54ba6625"
      },
      "source": [
        "aaa = 1092\r\n",
        "print(aaa)"
      ],
      "execution_count": 6,
      "outputs": [
        {
          "output_type": "stream",
          "text": [
            "1092\n"
          ],
          "name": "stdout"
        }
      ]
    },
    {
      "cell_type": "markdown",
      "metadata": {
        "id": "Dr31hoJgO0wH"
      },
      "source": [
        "**2. จำนวนจริง (float)**\r\n"
      ]
    },
    {
      "cell_type": "code",
      "metadata": {
        "colab": {
          "base_uri": "https://localhost:8080/"
        },
        "id": "Zo_ecezbO6r6",
        "outputId": "a5264b5f-414b-4a07-888d-ef180b204d6c"
      },
      "source": [
        "bbb = 11.\r\n",
        "print(bbb)"
      ],
      "execution_count": 7,
      "outputs": [
        {
          "output_type": "stream",
          "text": [
            "11.0\n"
          ],
          "name": "stdout"
        }
      ]
    },
    {
      "cell_type": "markdown",
      "metadata": {
        "id": "njiWvpCcPChW"
      },
      "source": [
        "**3.ตัวอักษร-ข้อความ (character และ text,string )**"
      ]
    },
    {
      "cell_type": "code",
      "metadata": {
        "colab": {
          "base_uri": "https://localhost:8080/"
        },
        "id": "f9EhAzVjPNea",
        "outputId": "373b9ea3-a208-4e0f-c18f-9c696cb1847e"
      },
      "source": [
        "ccc = 'ประยุทธ์เทพซ่า' # เราใช้ sigle qoute ' หรือ double qoute \"\" ล้อมรอบตัวหนังสือเพื่อระบุว่าเป็น Character-string\r\n",
        "print(ccc)"
      ],
      "execution_count": 8,
      "outputs": [
        {
          "output_type": "stream",
          "text": [
            "ประยุทธ์เทพซ่า\n"
          ],
          "name": "stdout"
        }
      ]
    },
    {
      "cell_type": "markdown",
      "metadata": {
        "id": "OQovMe1cQ4i-"
      },
      "source": [
        "**หมายเหตุ** float + int จะได้ float"
      ]
    },
    {
      "cell_type": "code",
      "metadata": {
        "colab": {
          "base_uri": "https://localhost:8080/"
        },
        "id": "rYDePzzKQF54",
        "outputId": "3bb10b4f-78a2-4baa-c860-9a63e87e0e26"
      },
      "source": [
        "aaa + bbb # float + int = float"
      ],
      "execution_count": 9,
      "outputs": [
        {
          "output_type": "execute_result",
          "data": {
            "text/plain": [
              "1103.0"
            ]
          },
          "metadata": {
            "tags": []
          },
          "execution_count": 9
        }
      ]
    },
    {
      "cell_type": "markdown",
      "metadata": {
        "id": "Va-aYoKzQrfV"
      },
      "source": [
        "***\r\n",
        "## **การเปลียนชนิดของตัวแปร Variable casting**\r\n",
        "***"
      ]
    },
    {
      "cell_type": "code",
      "metadata": {
        "colab": {
          "base_uri": "https://localhost:8080/"
        },
        "id": "Bb5X-1IyRn2w",
        "outputId": "59cf2936-f561-4c62-ab2a-9663a7a8c683"
      },
      "source": [
        "ddd = '123' #ตัวแปร character ต้องเป็นตัวเลขเท่านั้นถึงคำนวนได้\r\n",
        "print(ddd)"
      ],
      "execution_count": 13,
      "outputs": [
        {
          "output_type": "stream",
          "text": [
            "123\n"
          ],
          "name": "stdout"
        }
      ]
    },
    {
      "cell_type": "code",
      "metadata": {
        "colab": {
          "base_uri": "https://localhost:8080/"
        },
        "id": "kuL6rmJ2Q-_c",
        "outputId": "af8478f9-9328-459f-e901-05e6e082e853"
      },
      "source": [
        "aaa + float(ddd)"
      ],
      "execution_count": 14,
      "outputs": [
        {
          "output_type": "execute_result",
          "data": {
            "text/plain": [
              "1215.0"
            ]
          },
          "metadata": {
            "tags": []
          },
          "execution_count": 14
        }
      ]
    },
    {
      "cell_type": "code",
      "metadata": {
        "colab": {
          "base_uri": "https://localhost:8080/"
        },
        "id": "EDTHmzrZRxxP",
        "outputId": "0621e66d-3247-4ce4-b8cc-c37cc9195fc3"
      },
      "source": [
        "aaa + int(ddd)"
      ],
      "execution_count": 16,
      "outputs": [
        {
          "output_type": "execute_result",
          "data": {
            "text/plain": [
              "1215"
            ]
          },
          "metadata": {
            "tags": []
          },
          "execution_count": 16
        }
      ]
    },
    {
      "cell_type": "code",
      "metadata": {
        "colab": {
          "base_uri": "https://localhost:8080/",
          "height": 35
        },
        "id": "rJts80b4R2A5",
        "outputId": "3370a8e0-4eb8-4de5-bb5d-6024bd186ad8"
      },
      "source": [
        "str(aaa) # สามารถเปลี่ยนตัวเลขเป็นตัวแปร charracter ได้"
      ],
      "execution_count": 17,
      "outputs": [
        {
          "output_type": "execute_result",
          "data": {
            "application/vnd.google.colaboratory.intrinsic+json": {
              "type": "string"
            },
            "text/plain": [
              "'1092'"
            ]
          },
          "metadata": {
            "tags": []
          },
          "execution_count": 17
        }
      ]
    },
    {
      "cell_type": "markdown",
      "metadata": {
        "id": "RezBrJi5SI2S"
      },
      "source": [
        "***\r\n",
        "##**การดำเนินการ Operation (Opearator +,-,*,/)** \r\n",
        "***"
      ]
    },
    {
      "cell_type": "code",
      "metadata": {
        "colab": {
          "base_uri": "https://localhost:8080/"
        },
        "id": "79GLrcM6SiCZ",
        "outputId": "60a27666-11d4-40a8-9ce5-3e2c8236ac57"
      },
      "source": [
        "aaa + bbb"
      ],
      "execution_count": 18,
      "outputs": [
        {
          "output_type": "execute_result",
          "data": {
            "text/plain": [
              "1103.0"
            ]
          },
          "metadata": {
            "tags": []
          },
          "execution_count": 18
        }
      ]
    },
    {
      "cell_type": "code",
      "metadata": {
        "colab": {
          "base_uri": "https://localhost:8080/"
        },
        "id": "q1ennEpaS21Z",
        "outputId": "13c34bd4-6c3b-47f0-bf68-7b1a5ef62d98"
      },
      "source": [
        "ab = aaa*bbb\r\n",
        "print(ab)"
      ],
      "execution_count": 19,
      "outputs": [
        {
          "output_type": "stream",
          "text": [
            "12012.0\n"
          ],
          "name": "stdout"
        }
      ]
    },
    {
      "cell_type": "code",
      "metadata": {
        "colab": {
          "base_uri": "https://localhost:8080/"
        },
        "id": "ac9gH-kBTA3A",
        "outputId": "c9ac1968-3e2f-4611-ab9d-7a9af63cb700"
      },
      "source": [
        "aaa - bbb"
      ],
      "execution_count": 20,
      "outputs": [
        {
          "output_type": "execute_result",
          "data": {
            "text/plain": [
              "1081.0"
            ]
          },
          "metadata": {
            "tags": []
          },
          "execution_count": 20
        }
      ]
    },
    {
      "cell_type": "markdown",
      "metadata": {
        "id": "niiwXE2ZTjS_"
      },
      "source": [
        "**หมายเหตุ** % คือ modulo (mod)"
      ]
    },
    {
      "cell_type": "code",
      "metadata": {
        "colab": {
          "base_uri": "https://localhost:8080/"
        },
        "id": "YZr-8iSVTn4d",
        "outputId": "3d621f1f-4dad-43fd-d0a6-b1d08e9d54de"
      },
      "source": [
        "5%3"
      ],
      "execution_count": 21,
      "outputs": [
        {
          "output_type": "execute_result",
          "data": {
            "text/plain": [
              "2"
            ]
          },
          "metadata": {
            "tags": []
          },
          "execution_count": 21
        }
      ]
    },
    {
      "cell_type": "code",
      "metadata": {
        "colab": {
          "base_uri": "https://localhost:8080/"
        },
        "id": "LwBIRPCiTrNu",
        "outputId": "27f0ae4a-4e65-4b66-c345-e5a37fc971fd"
      },
      "source": [
        "7%3"
      ],
      "execution_count": 22,
      "outputs": [
        {
          "output_type": "execute_result",
          "data": {
            "text/plain": [
              "1"
            ]
          },
          "metadata": {
            "tags": []
          },
          "execution_count": 22
        }
      ]
    },
    {
      "cell_type": "markdown",
      "metadata": {
        "id": "e9NJ9h9EUPyi"
      },
      "source": [
        "***\r\n",
        "## **คำสั่ง Print แบบพิเศษ ( การ Format String )**\r\n",
        "***"
      ]
    },
    {
      "cell_type": "code",
      "metadata": {
        "colab": {
          "base_uri": "https://localhost:8080/"
        },
        "id": "7A1Mnn7CUD5a",
        "outputId": "b3b6f963-e6b9-4f5a-dca2-2d06d8a64c43"
      },
      "source": [
        "print('ตัวแปร') # ส่งที่อยู่ข้างในวงเล็บคือตัวแปร และ string"
      ],
      "execution_count": 27,
      "outputs": [
        {
          "output_type": "stream",
          "text": [
            "ตัวแปร\n"
          ],
          "name": "stdout"
        }
      ]
    },
    {
      "cell_type": "code",
      "metadata": {
        "colab": {
          "base_uri": "https://localhost:8080/"
        },
        "id": "kK-t5eYRUsnG",
        "outputId": "9aedc51a-24c6-493b-a0f5-b31244e0effd"
      },
      "source": [
        "print(f'% คือการหารเอาเศษเช่น 7%3 ={7%3}')"
      ],
      "execution_count": 51,
      "outputs": [
        {
          "output_type": "stream",
          "text": [
            "% คือการหารเอาเศษเช่น 7%3 =1\n"
          ],
          "name": "stdout"
        }
      ]
    },
    {
      "cell_type": "code",
      "metadata": {
        "colab": {
          "base_uri": "https://localhost:8080/"
        },
        "id": "pcMGsj3cU7Rv",
        "outputId": "cde451d2-b7e6-44a0-c114-6308b1e72fc1"
      },
      "source": [
        "print(f'% คือการหารเอาเศษเช่น 7%3 = {7%3} \\\r\n",
        "แต่\\n/ คือการหารปกติเช่น เช่น 7/3 = {7/3} \\\r\n",
        "และ\\n// คือการหารเอาส่วน เช่น 7//3 = {7//3} \\\r\n",
        "หรือ\\n ใช้ int() เพื่อหารเอาส่วน เช่น (7/3) = {int(7/3)}') # \\n คือการขึ้นบรรทัดใหม่ \\ ใช้ในการตัด Code แต่ com มองไม่เห็น"
      ],
      "execution_count": 56,
      "outputs": [
        {
          "output_type": "stream",
          "text": [
            "% คือการหารเอาเศษเช่น 7%3 = 1 แต่\n",
            "/ คือการหารปกติเช่น เช่น 7/3 = 2.3333333333333335 และ\n",
            "// คือการหารเอาส่วน เช่น 7//3 = 2 หรือ\n",
            " ใช้ int() เพื่อหารเอาส่วน เช่น (7/3) = 2\n"
          ],
          "name": "stdout"
        }
      ]
    },
    {
      "cell_type": "markdown",
      "metadata": {
        "id": "4ZgkQa0sXDq1"
      },
      "source": [
        "***\r\n",
        "## **Data structure (โครงสร้างข้อมูล )**\r\n",
        "***"
      ]
    },
    {
      "cell_type": "code",
      "metadata": {
        "colab": {
          "base_uri": "https://localhost:8080/"
        },
        "id": "3a7jKbDhXJ63",
        "outputId": "32a0f1c5-98bc-4463-8b21-67364d953c66"
      },
      "source": [
        "[111,'c','งง',aaa]"
      ],
      "execution_count": 34,
      "outputs": [
        {
          "output_type": "execute_result",
          "data": {
            "text/plain": [
              "[111, 'c', 'งง', 1092]"
            ]
          },
          "metadata": {
            "tags": []
          },
          "execution_count": 34
        }
      ]
    },
    {
      "cell_type": "markdown",
      "metadata": {
        "id": "t9G8uXZrXXs-"
      },
      "source": [
        "**List คือการเอาข้อมูลหลายๆตัวมาเรียงต่อกัน**\r\n",
        "\r\n",
        "**list สามารถสร้างได้ 2 แบบดังนี้** "
      ]
    },
    {
      "cell_type": "markdown",
      "metadata": {
        "id": "RAa-BNo_Xifz"
      },
      "source": [
        "**แบบที่ 1 > square brackets**"
      ]
    },
    {
      "cell_type": "code",
      "metadata": {
        "colab": {
          "base_uri": "https://localhost:8080/"
        },
        "id": "8B_2L-5CXors",
        "outputId": "2e85878c-6be9-4f41-9c74-2913f639f173"
      },
      "source": [
        "list_a = []\r\n",
        "print(list_a)"
      ],
      "execution_count": 35,
      "outputs": [
        {
          "output_type": "stream",
          "text": [
            "[]\n"
          ],
          "name": "stdout"
        }
      ]
    },
    {
      "cell_type": "code",
      "metadata": {
        "colab": {
          "base_uri": "https://localhost:8080/"
        },
        "id": "KcYKBi30XwPd",
        "outputId": "76a10553-b65e-40cc-8464-860bd9df5acc"
      },
      "source": [
        "list_b = [111,'c','งง',aaa]\r\n",
        "print(list_b)"
      ],
      "execution_count": 36,
      "outputs": [
        {
          "output_type": "stream",
          "text": [
            "[111, 'c', 'งง', 1092]\n"
          ],
          "name": "stdout"
        }
      ]
    },
    {
      "cell_type": "markdown",
      "metadata": {
        "id": "UJj0mJVhX5lM"
      },
      "source": [
        "**หมายเหตุ** *ลำดับที่อยู่ใน list มีความสำคัญ (ลำดับใน list เริ่มจาก 0,1,2,...)*\r\n"
      ]
    },
    {
      "cell_type": "code",
      "metadata": {
        "colab": {
          "base_uri": "https://localhost:8080/",
          "height": 35
        },
        "id": "c9d_MBOtYGYY",
        "outputId": "c5a5c250-101a-42a2-a77f-404f40c76d16"
      },
      "source": [
        "list_b[2]"
      ],
      "execution_count": 38,
      "outputs": [
        {
          "output_type": "execute_result",
          "data": {
            "application/vnd.google.colaboratory.intrinsic+json": {
              "type": "string"
            },
            "text/plain": [
              "'งง'"
            ]
          },
          "metadata": {
            "tags": []
          },
          "execution_count": 38
        }
      ]
    },
    {
      "cell_type": "markdown",
      "metadata": {
        "id": "opR_wo8lc-kh"
      },
      "source": [
        "**แบบที่ 2**"
      ]
    },
    {
      "cell_type": "code",
      "metadata": {
        "colab": {
          "base_uri": "https://localhost:8080/"
        },
        "id": "_1CnNrdkZKTn",
        "outputId": "e73df617-a003-4546-8f1b-4ed5200e6c73"
      },
      "source": [
        "list_c =[]\r\n",
        "print(list_c)"
      ],
      "execution_count": 41,
      "outputs": [
        {
          "output_type": "stream",
          "text": [
            "[]\n"
          ],
          "name": "stdout"
        }
      ]
    },
    {
      "cell_type": "markdown",
      "metadata": {
        "id": "aeI_fJVUYMrP"
      },
      "source": [
        "***\r\n",
        "## **append() เพิ่มสมาชิก list**\r\n",
        "***"
      ]
    },
    {
      "cell_type": "code",
      "metadata": {
        "colab": {
          "base_uri": "https://localhost:8080/"
        },
        "id": "-qjrUfl5YhXt",
        "outputId": "419cfbaf-3cc4-4207-9ccd-f97c6f6db677"
      },
      "source": [
        "list_b.append('u')\r\n",
        "print(list_b)"
      ],
      "execution_count": 39,
      "outputs": [
        {
          "output_type": "stream",
          "text": [
            "[111, 'c', 'งง', 1092, 'u']\n"
          ],
          "name": "stdout"
        }
      ]
    },
    {
      "cell_type": "code",
      "metadata": {
        "colab": {
          "base_uri": "https://localhost:8080/",
          "height": 35
        },
        "id": "ULiiYDn4ZFFU",
        "outputId": "8b428f10-0989-4659-f3bb-1088150f65e0"
      },
      "source": [
        "list_b[-1] #ตัวที่อยู่ในวงเล็บหลังจากตัวแปร list เรียกว่า index ใช้สำหรับชี้ข้อมูลใน list (ชี้จากข้างหน้า,ขี้จาข้างหลัง)"
      ],
      "execution_count": 40,
      "outputs": [
        {
          "output_type": "execute_result",
          "data": {
            "application/vnd.google.colaboratory.intrinsic+json": {
              "type": "string"
            },
            "text/plain": [
              "'u'"
            ]
          },
          "metadata": {
            "tags": []
          },
          "execution_count": 40
        }
      ]
    },
    {
      "cell_type": "markdown",
      "metadata": {
        "id": "Rjql_vASZdRi"
      },
      "source": [
        "***\r\n",
        "## **String > list of Character**\r\n",
        "***"
      ]
    },
    {
      "cell_type": "code",
      "metadata": {
        "colab": {
          "base_uri": "https://localhost:8080/"
        },
        "id": "utaOD4SVZsos",
        "outputId": "5ba948a1-1ad2-4a01-b982-2be8b9eb7bee"
      },
      "source": [
        "t = 'python is easy'\r\n",
        "print(t)"
      ],
      "execution_count": 42,
      "outputs": [
        {
          "output_type": "stream",
          "text": [
            "python is easy\n"
          ],
          "name": "stdout"
        }
      ]
    },
    {
      "cell_type": "code",
      "metadata": {
        "colab": {
          "base_uri": "https://localhost:8080/",
          "height": 35
        },
        "id": "f9OvnaOdZzv_",
        "outputId": "77f9934f-97d3-44d8-f50e-5ee8be0165a5"
      },
      "source": [
        "t[1]"
      ],
      "execution_count": 43,
      "outputs": [
        {
          "output_type": "execute_result",
          "data": {
            "application/vnd.google.colaboratory.intrinsic+json": {
              "type": "string"
            },
            "text/plain": [
              "'y'"
            ]
          },
          "metadata": {
            "tags": []
          },
          "execution_count": 43
        }
      ]
    },
    {
      "cell_type": "code",
      "metadata": {
        "colab": {
          "base_uri": "https://localhost:8080/",
          "height": 35
        },
        "id": "BHw7ybRdZ1OW",
        "outputId": "c65a0b28-b414-41ce-ca6c-cd4256856da5"
      },
      "source": [
        "t[6]"
      ],
      "execution_count": 48,
      "outputs": [
        {
          "output_type": "execute_result",
          "data": {
            "application/vnd.google.colaboratory.intrinsic+json": {
              "type": "string"
            },
            "text/plain": [
              "' '"
            ]
          },
          "metadata": {
            "tags": []
          },
          "execution_count": 48
        }
      ]
    }
  ]
}