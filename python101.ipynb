{
  "nbformat": 4,
  "nbformat_minor": 0,
  "metadata": {
    "colab": {
      "name": "python101.ipynb",
      "provenance": [],
      "authorship_tag": "ABX9TyMDC0FH7FAG56UVIih3Toli",
      "include_colab_link": true
    },
    "kernelspec": {
      "name": "python3",
      "display_name": "Python 3"
    }
  },
  "cells": [
    {
      "cell_type": "markdown",
      "metadata": {
        "id": "view-in-github",
        "colab_type": "text"
      },
      "source": [
        "<a href=\"https://colab.research.google.com/github/sitthatkaja/multivariate/blob/main/python101.ipynb\" target=\"_parent\"><img src=\"https://colab.research.google.com/assets/colab-badge.svg\" alt=\"Open In Colab\"/></a>"
      ]
    },
    {
      "cell_type": "markdown",
      "metadata": {
        "id": "BAZ4i94YLhim"
      },
      "source": [
        "# **ตัวแปร Variable**\r\n",
        "***"
      ]
    },
    {
      "cell_type": "markdown",
      "metadata": {
        "id": "NsPffZmlL4hw"
      },
      "source": [
        "###**หลักการตั้งชื่อตัวแปรเบื้องต้น**\r\n",
        "\r\n",
        "- ตั้งใจสื่อ\r\n",
        "\r\n",
        "- ภาษาอังกฤษ\r\n",
        "\r\n",
        "- ใช้ตัวเลขได้แต่ห้ามขึ้นต้นด้วยตัวเลข\r\n",
        "\r\n",
        "- ห้ามเว้นวรรค\r\n",
        "\r\n",
        "- ตัวเล็กกับตัวใหญ่ต่างกัน\r\n",
        "\r\n",
        "***\r\n",
        "\r\n"
      ]
    },
    {
      "cell_type": "markdown",
      "metadata": {
        "id": "amKZDq5PMqIh"
      },
      "source": [
        "มี output 2 mode : ออกหน้าจอ กับ เข้าไปเก็บในตัวแปร\r\n",
        "\r\n",
        "***"
      ]
    },
    {
      "cell_type": "markdown",
      "metadata": {
        "id": "Enhd_lBkN0CH"
      },
      "source": [
        "###***ตัวอย่าง***"
      ]
    },
    {
      "cell_type": "code",
      "metadata": {
        "colab": {
          "base_uri": "https://localhost:8080/"
        },
        "id": "UcGVhS4mNGGp",
        "outputId": "e54cd666-a600-4b96-d209-7ff4518d07c0"
      },
      "source": [
        "3.14159 # อันนี้คือ output ที่เข้าไปอยู่หน้าจอ "
      ],
      "execution_count": null,
      "outputs": [
        {
          "output_type": "execute_result",
          "data": {
            "text/plain": [
              "3.14159"
            ]
          },
          "metadata": {
            "tags": []
          },
          "execution_count": 2
        }
      ]
    },
    {
      "cell_type": "code",
      "metadata": {
        "id": "mWfkPtVHKBpO"
      },
      "source": [
        "Pi = 3.14159 # อันนี้คือ output ที่เข้าไปอยู่ในตัวแปร"
      ],
      "execution_count": null,
      "outputs": []
    },
    {
      "cell_type": "code",
      "metadata": {
        "colab": {
          "base_uri": "https://localhost:8080/"
        },
        "id": "twFcdegjM-cO",
        "outputId": "b0b76eb7-c56f-4bf9-a38f-c4e546c5886b"
      },
      "source": [
        "Pi"
      ],
      "execution_count": null,
      "outputs": [
        {
          "output_type": "execute_result",
          "data": {
            "text/plain": [
              "3.14159"
            ]
          },
          "metadata": {
            "tags": []
          },
          "execution_count": 4
        }
      ]
    },
    {
      "cell_type": "code",
      "metadata": {
        "colab": {
          "base_uri": "https://localhost:8080/"
        },
        "id": "QtAUoOBCNL3x",
        "outputId": "3d90f4cc-8f47-4942-a181-016ea340ec55"
      },
      "source": [
        "a = 1234567\r\n",
        "print(a)"
      ],
      "execution_count": 1,
      "outputs": [
        {
          "output_type": "stream",
          "text": [
            "1234567\n"
          ],
          "name": "stdout"
        }
      ]
    },
    {
      "cell_type": "markdown",
      "metadata": {
        "id": "5ylh_5RiNjaC"
      },
      "source": [
        "\r\n",
        "***\r\n",
        "##**ชนิดของตัวแปร 3 ชนิด**\r\n",
        "***\r\n",
        "\r\n",
        "**1. จำนวนเต็ม (integer,int)**\r\n",
        "###***ตัวอย่าง***"
      ]
    },
    {
      "cell_type": "code",
      "metadata": {
        "colab": {
          "base_uri": "https://localhost:8080/"
        },
        "id": "8eYjo2QOOtTR",
        "outputId": "eab08e25-abf3-44ec-9c4f-5760ae672e1e"
      },
      "source": [
        "aaa = 1092\r\n",
        "print(aaa)"
      ],
      "execution_count": 2,
      "outputs": [
        {
          "output_type": "stream",
          "text": [
            "1092\n"
          ],
          "name": "stdout"
        }
      ]
    },
    {
      "cell_type": "markdown",
      "metadata": {
        "id": "Dr31hoJgO0wH"
      },
      "source": [
        "**2. จำนวนจริง (float)**\r\n",
        "###***ตัวอย่าง***\r\n"
      ]
    },
    {
      "cell_type": "code",
      "metadata": {
        "colab": {
          "base_uri": "https://localhost:8080/"
        },
        "id": "Zo_ecezbO6r6",
        "outputId": "20c9a189-72dc-4e73-da1e-f1a53f059133"
      },
      "source": [
        "bbb = 11.\r\n",
        "print(bbb)"
      ],
      "execution_count": 3,
      "outputs": [
        {
          "output_type": "stream",
          "text": [
            "11.0\n"
          ],
          "name": "stdout"
        }
      ]
    },
    {
      "cell_type": "markdown",
      "metadata": {
        "id": "njiWvpCcPChW"
      },
      "source": [
        "**3.ตัวอักษร-ข้อความ (character และ text,string )**\r\n",
        "###***ตัวอย่าง***"
      ]
    },
    {
      "cell_type": "code",
      "metadata": {
        "colab": {
          "base_uri": "https://localhost:8080/"
        },
        "id": "f9EhAzVjPNea",
        "outputId": "fba3ba7f-8878-48db-b2b0-1bd5e3d93aa8"
      },
      "source": [
        "ccc = 'ประยุทธ์เทพซ่า' # เราใช้ sigle qoute ' หรือ double qoute \"\" ล้อมรอบตัวหนังสือเพื่อระบุว่าเป็น Character-string\r\n",
        "print(ccc)"
      ],
      "execution_count": 4,
      "outputs": [
        {
          "output_type": "stream",
          "text": [
            "ประยุทธ์เทพซ่า\n"
          ],
          "name": "stdout"
        }
      ]
    },
    {
      "cell_type": "markdown",
      "metadata": {
        "id": "OQovMe1cQ4i-"
      },
      "source": [
        "**หมายเหตุ** float + int จะได้ float"
      ]
    },
    {
      "cell_type": "code",
      "metadata": {
        "colab": {
          "base_uri": "https://localhost:8080/"
        },
        "id": "rYDePzzKQF54",
        "outputId": "9ccf93ae-fe16-4218-8d28-9d65725803c6"
      },
      "source": [
        "aaa + bbb # float + int = float"
      ],
      "execution_count": 5,
      "outputs": [
        {
          "output_type": "execute_result",
          "data": {
            "text/plain": [
              "1103.0"
            ]
          },
          "metadata": {
            "tags": []
          },
          "execution_count": 5
        }
      ]
    },
    {
      "cell_type": "markdown",
      "metadata": {
        "id": "Va-aYoKzQrfV"
      },
      "source": [
        "***\r\n",
        "## **การเปลียนชนิดของตัวแปร Variable casting**\r\n",
        "***\r\n",
        "###***ตัวอย่าง***"
      ]
    },
    {
      "cell_type": "code",
      "metadata": {
        "colab": {
          "base_uri": "https://localhost:8080/"
        },
        "id": "Bb5X-1IyRn2w",
        "outputId": "6eae0731-dc27-48a6-ea12-2bcbfdeabe6a"
      },
      "source": [
        "ddd = '123' #ตัวแปร character ต้องเป็นตัวเลขเท่านั้นถึงคำนวนได้\r\n",
        "print(ddd)"
      ],
      "execution_count": 6,
      "outputs": [
        {
          "output_type": "stream",
          "text": [
            "123\n"
          ],
          "name": "stdout"
        }
      ]
    },
    {
      "cell_type": "code",
      "metadata": {
        "colab": {
          "base_uri": "https://localhost:8080/"
        },
        "id": "kuL6rmJ2Q-_c",
        "outputId": "e635a328-48ab-41ca-ea55-7810127cffa9"
      },
      "source": [
        "aaa + float(ddd)"
      ],
      "execution_count": 7,
      "outputs": [
        {
          "output_type": "execute_result",
          "data": {
            "text/plain": [
              "1215.0"
            ]
          },
          "metadata": {
            "tags": []
          },
          "execution_count": 7
        }
      ]
    },
    {
      "cell_type": "code",
      "metadata": {
        "colab": {
          "base_uri": "https://localhost:8080/"
        },
        "id": "EDTHmzrZRxxP",
        "outputId": "adfab0a7-b9ae-4549-d217-bda22bff850d"
      },
      "source": [
        "aaa + int(ddd)"
      ],
      "execution_count": 8,
      "outputs": [
        {
          "output_type": "execute_result",
          "data": {
            "text/plain": [
              "1215"
            ]
          },
          "metadata": {
            "tags": []
          },
          "execution_count": 8
        }
      ]
    },
    {
      "cell_type": "code",
      "metadata": {
        "colab": {
          "base_uri": "https://localhost:8080/",
          "height": 36
        },
        "id": "rJts80b4R2A5",
        "outputId": "f631a865-fdaa-4395-b3a3-b6d40002de0e"
      },
      "source": [
        "str(aaa) # สามารถเปลี่ยนตัวเลขเป็นตัวแปร charracter ได้"
      ],
      "execution_count": 9,
      "outputs": [
        {
          "output_type": "execute_result",
          "data": {
            "application/vnd.google.colaboratory.intrinsic+json": {
              "type": "string"
            },
            "text/plain": [
              "'1092'"
            ]
          },
          "metadata": {
            "tags": []
          },
          "execution_count": 9
        }
      ]
    },
    {
      "cell_type": "markdown",
      "metadata": {
        "id": "RezBrJi5SI2S"
      },
      "source": [
        "***\r\n",
        "##**การดำเนินการ Operation (Opearator +,-,*,/)** \r\n",
        "***\r\n",
        "###***ตัวอย่าง***"
      ]
    },
    {
      "cell_type": "code",
      "metadata": {
        "colab": {
          "base_uri": "https://localhost:8080/"
        },
        "id": "79GLrcM6SiCZ",
        "outputId": "51c1b5a9-efcb-4b8d-cca0-24a6d1d10ac9"
      },
      "source": [
        "aaa + bbb"
      ],
      "execution_count": 10,
      "outputs": [
        {
          "output_type": "execute_result",
          "data": {
            "text/plain": [
              "1103.0"
            ]
          },
          "metadata": {
            "tags": []
          },
          "execution_count": 10
        }
      ]
    },
    {
      "cell_type": "code",
      "metadata": {
        "colab": {
          "base_uri": "https://localhost:8080/"
        },
        "id": "q1ennEpaS21Z",
        "outputId": "31a82843-0bd9-4455-b966-e93c645f3cca"
      },
      "source": [
        "ab = aaa*bbb\r\n",
        "print(ab)"
      ],
      "execution_count": 11,
      "outputs": [
        {
          "output_type": "stream",
          "text": [
            "12012.0\n"
          ],
          "name": "stdout"
        }
      ]
    },
    {
      "cell_type": "code",
      "metadata": {
        "colab": {
          "base_uri": "https://localhost:8080/"
        },
        "id": "ac9gH-kBTA3A",
        "outputId": "7e092805-997d-4fe6-f9d5-ec5b7ed32eab"
      },
      "source": [
        "aaa - bbb"
      ],
      "execution_count": 12,
      "outputs": [
        {
          "output_type": "execute_result",
          "data": {
            "text/plain": [
              "1081.0"
            ]
          },
          "metadata": {
            "tags": []
          },
          "execution_count": 12
        }
      ]
    },
    {
      "cell_type": "markdown",
      "metadata": {
        "id": "niiwXE2ZTjS_"
      },
      "source": [
        "**หมายเหตุ** % คือ modulo (mod)"
      ]
    },
    {
      "cell_type": "code",
      "metadata": {
        "colab": {
          "base_uri": "https://localhost:8080/"
        },
        "id": "YZr-8iSVTn4d",
        "outputId": "ba41b621-1484-45b7-ebb1-f1fef4eef8f2"
      },
      "source": [
        "5%3"
      ],
      "execution_count": 13,
      "outputs": [
        {
          "output_type": "execute_result",
          "data": {
            "text/plain": [
              "2"
            ]
          },
          "metadata": {
            "tags": []
          },
          "execution_count": 13
        }
      ]
    },
    {
      "cell_type": "code",
      "metadata": {
        "colab": {
          "base_uri": "https://localhost:8080/"
        },
        "id": "LwBIRPCiTrNu",
        "outputId": "021ee292-d894-4690-dc37-340c4683b6f0"
      },
      "source": [
        "7%3"
      ],
      "execution_count": 14,
      "outputs": [
        {
          "output_type": "execute_result",
          "data": {
            "text/plain": [
              "1"
            ]
          },
          "metadata": {
            "tags": []
          },
          "execution_count": 14
        }
      ]
    },
    {
      "cell_type": "markdown",
      "metadata": {
        "id": "e9NJ9h9EUPyi"
      },
      "source": [
        "***\r\n",
        "## **คำสั่ง Print แบบพิเศษ ( การ Format String )**\r\n",
        "***\r\n",
        "###***ตัวอย่าง***"
      ]
    },
    {
      "cell_type": "code",
      "metadata": {
        "colab": {
          "base_uri": "https://localhost:8080/"
        },
        "id": "7A1Mnn7CUD5a",
        "outputId": "00deb0e9-934c-4773-96df-17f6c0df79fe"
      },
      "source": [
        "print('ตัวแปร') # ส่งที่อยู่ข้างในวงเล็บคือตัวแปร และ string"
      ],
      "execution_count": 15,
      "outputs": [
        {
          "output_type": "stream",
          "text": [
            "ตัวแปร\n"
          ],
          "name": "stdout"
        }
      ]
    },
    {
      "cell_type": "code",
      "metadata": {
        "colab": {
          "base_uri": "https://localhost:8080/"
        },
        "id": "kK-t5eYRUsnG",
        "outputId": "aff4d72c-7326-4ae2-c344-eba4a63fe81b"
      },
      "source": [
        "print(f'% คือการหารเอาเศษเช่น 7%3 ={7%3}')"
      ],
      "execution_count": 16,
      "outputs": [
        {
          "output_type": "stream",
          "text": [
            "% คือการหารเอาเศษเช่น 7%3 =1\n"
          ],
          "name": "stdout"
        }
      ]
    },
    {
      "cell_type": "code",
      "metadata": {
        "colab": {
          "base_uri": "https://localhost:8080/"
        },
        "id": "pcMGsj3cU7Rv",
        "outputId": "1d8cc69a-d8c5-44e4-b0f5-b5dc572ef161"
      },
      "source": [
        "print(f'% คือการหารเอาเศษเช่น 7%3 = {7%3} \\\r\n",
        "แต่\\n/ คือการหารปกติเช่น เช่น 7/3 = {7/3} \\\r\n",
        "และ\\n// คือการหารเอาส่วน เช่น 7//3 = {7//3} \\\r\n",
        "หรือ\\n ใช้ int() เพื่อหารเอาส่วน เช่น (7/3) = {int(7/3)}') # \\n คือการขึ้นบรรทัดใหม่ \\ ใช้ในการตัด Code แต่ com มองไม่เห็น"
      ],
      "execution_count": 17,
      "outputs": [
        {
          "output_type": "stream",
          "text": [
            "% คือการหารเอาเศษเช่น 7%3 = 1 แต่\n",
            "/ คือการหารปกติเช่น เช่น 7/3 = 2.3333333333333335 และ\n",
            "// คือการหารเอาส่วน เช่น 7//3 = 2 หรือ\n",
            " ใช้ int() เพื่อหารเอาส่วน เช่น (7/3) = 2\n"
          ],
          "name": "stdout"
        }
      ]
    },
    {
      "cell_type": "markdown",
      "metadata": {
        "id": "4ZgkQa0sXDq1"
      },
      "source": [
        "***\r\n",
        "## **Data structure (โครงสร้างข้อมูล )**\r\n",
        "***\r\n",
        "###***ตัวอย่าง***"
      ]
    },
    {
      "cell_type": "code",
      "metadata": {
        "colab": {
          "base_uri": "https://localhost:8080/"
        },
        "id": "3a7jKbDhXJ63",
        "outputId": "924661de-7893-48c4-9646-4c16759c5016"
      },
      "source": [
        "[111,'c','งง',aaa]"
      ],
      "execution_count": 18,
      "outputs": [
        {
          "output_type": "execute_result",
          "data": {
            "text/plain": [
              "[111, 'c', 'งง', 1092]"
            ]
          },
          "metadata": {
            "tags": []
          },
          "execution_count": 18
        }
      ]
    },
    {
      "cell_type": "markdown",
      "metadata": {
        "id": "t9G8uXZrXXs-"
      },
      "source": [
        "**List คือการเอาข้อมูลหลายๆตัวมาเรียงต่อกัน**\r\n",
        "\r\n",
        "**list สามารถสร้างได้ 2 แบบดังนี้** "
      ]
    },
    {
      "cell_type": "markdown",
      "metadata": {
        "id": "RAa-BNo_Xifz"
      },
      "source": [
        "**แบบที่ 1 > square brackets**\r\n",
        "###***ตัวอย่าง***"
      ]
    },
    {
      "cell_type": "code",
      "metadata": {
        "colab": {
          "base_uri": "https://localhost:8080/"
        },
        "id": "8B_2L-5CXors",
        "outputId": "a1935074-b89b-4c70-f1bd-89b52a889a41"
      },
      "source": [
        "list_a = []\r\n",
        "print(list_a)"
      ],
      "execution_count": 19,
      "outputs": [
        {
          "output_type": "stream",
          "text": [
            "[]\n"
          ],
          "name": "stdout"
        }
      ]
    },
    {
      "cell_type": "code",
      "metadata": {
        "colab": {
          "base_uri": "https://localhost:8080/"
        },
        "id": "KcYKBi30XwPd",
        "outputId": "b76b8cdf-1689-4b75-c1db-bccea5471547"
      },
      "source": [
        "list_b = [111,'c','งง',aaa]\r\n",
        "print(list_b)"
      ],
      "execution_count": 20,
      "outputs": [
        {
          "output_type": "stream",
          "text": [
            "[111, 'c', 'งง', 1092]\n"
          ],
          "name": "stdout"
        }
      ]
    },
    {
      "cell_type": "markdown",
      "metadata": {
        "id": "UJj0mJVhX5lM"
      },
      "source": [
        "**หมายเหตุ** *ลำดับที่อยู่ใน list มีความสำคัญ (ลำดับใน list เริ่มจาก 0,1,2,...)*\r\n"
      ]
    },
    {
      "cell_type": "code",
      "metadata": {
        "colab": {
          "base_uri": "https://localhost:8080/",
          "height": 36
        },
        "id": "c9d_MBOtYGYY",
        "outputId": "c27351d3-a62c-4020-acda-77d946cdbff6"
      },
      "source": [
        "list_b[2]"
      ],
      "execution_count": 21,
      "outputs": [
        {
          "output_type": "execute_result",
          "data": {
            "application/vnd.google.colaboratory.intrinsic+json": {
              "type": "string"
            },
            "text/plain": [
              "'งง'"
            ]
          },
          "metadata": {
            "tags": []
          },
          "execution_count": 21
        }
      ]
    },
    {
      "cell_type": "markdown",
      "metadata": {
        "id": "opR_wo8lc-kh"
      },
      "source": [
        "**แบบที่ 2**\r\n",
        "###***ตัวอย่าง***"
      ]
    },
    {
      "cell_type": "code",
      "metadata": {
        "colab": {
          "base_uri": "https://localhost:8080/"
        },
        "id": "_1CnNrdkZKTn",
        "outputId": "ed1e8ac3-1911-4236-9871-9eabe6d219ac"
      },
      "source": [
        "list_c =[]\r\n",
        "print(list_c)"
      ],
      "execution_count": 22,
      "outputs": [
        {
          "output_type": "stream",
          "text": [
            "[]\n"
          ],
          "name": "stdout"
        }
      ]
    },
    {
      "cell_type": "markdown",
      "metadata": {
        "id": "aeI_fJVUYMrP"
      },
      "source": [
        "***\r\n",
        "## **append() เพิ่มสมาชิก list**\r\n",
        "***\r\n",
        "###***ตัวอย่าง***"
      ]
    },
    {
      "cell_type": "code",
      "metadata": {
        "colab": {
          "base_uri": "https://localhost:8080/"
        },
        "id": "-qjrUfl5YhXt",
        "outputId": "b79fa31d-8117-42e7-fc8c-56c3c605357d"
      },
      "source": [
        "list_b.append('u')\r\n",
        "print(list_b)"
      ],
      "execution_count": 23,
      "outputs": [
        {
          "output_type": "stream",
          "text": [
            "[111, 'c', 'งง', 1092, 'u']\n"
          ],
          "name": "stdout"
        }
      ]
    },
    {
      "cell_type": "code",
      "metadata": {
        "colab": {
          "base_uri": "https://localhost:8080/",
          "height": 36
        },
        "id": "ULiiYDn4ZFFU",
        "outputId": "bcb3e4be-9ea4-4fa5-ab18-1d9007f56e0e"
      },
      "source": [
        "list_b[-1] #ตัวที่อยู่ในวงเล็บหลังจากตัวแปร list เรียกว่า index ใช้สำหรับชี้ข้อมูลใน list (ชี้จากข้างหน้า,ขี้จาข้างหลัง)"
      ],
      "execution_count": 24,
      "outputs": [
        {
          "output_type": "execute_result",
          "data": {
            "application/vnd.google.colaboratory.intrinsic+json": {
              "type": "string"
            },
            "text/plain": [
              "'u'"
            ]
          },
          "metadata": {
            "tags": []
          },
          "execution_count": 24
        }
      ]
    },
    {
      "cell_type": "markdown",
      "metadata": {
        "id": "Rjql_vASZdRi"
      },
      "source": [
        "***\r\n",
        "## **String : list of Character**\r\n",
        "\r\n",
        "***\r\n",
        "###***ตัวอย่าง***"
      ]
    },
    {
      "cell_type": "code",
      "metadata": {
        "colab": {
          "base_uri": "https://localhost:8080/"
        },
        "id": "utaOD4SVZsos",
        "outputId": "9db95bad-4086-4b2f-82d7-bb13c067ba53"
      },
      "source": [
        "t = 'python is easy'\r\n",
        "print(t)"
      ],
      "execution_count": 25,
      "outputs": [
        {
          "output_type": "stream",
          "text": [
            "python is easy\n"
          ],
          "name": "stdout"
        }
      ]
    },
    {
      "cell_type": "code",
      "metadata": {
        "colab": {
          "base_uri": "https://localhost:8080/",
          "height": 36
        },
        "id": "f9OvnaOdZzv_",
        "outputId": "cf685953-fc40-42b0-ecbe-2a7df63a97bd"
      },
      "source": [
        "t[1]"
      ],
      "execution_count": 26,
      "outputs": [
        {
          "output_type": "execute_result",
          "data": {
            "application/vnd.google.colaboratory.intrinsic+json": {
              "type": "string"
            },
            "text/plain": [
              "'y'"
            ]
          },
          "metadata": {
            "tags": []
          },
          "execution_count": 26
        }
      ]
    },
    {
      "cell_type": "code",
      "metadata": {
        "colab": {
          "base_uri": "https://localhost:8080/",
          "height": 36
        },
        "id": "BHw7ybRdZ1OW",
        "outputId": "11a479ba-3795-4394-9344-6f41b4633dd0"
      },
      "source": [
        "t[6]"
      ],
      "execution_count": 27,
      "outputs": [
        {
          "output_type": "execute_result",
          "data": {
            "application/vnd.google.colaboratory.intrinsic+json": {
              "type": "string"
            },
            "text/plain": [
              "' '"
            ]
          },
          "metadata": {
            "tags": []
          },
          "execution_count": 27
        }
      ]
    },
    {
      "cell_type": "markdown",
      "metadata": {
        "id": "3zkYtvG_hYm-"
      },
      "source": [
        "***\r\n",
        "###**คาบ 3 มกราคม 2564**\r\n",
        "\r\n",
        "***"
      ]
    },
    {
      "cell_type": "code",
      "metadata": {
        "id": "MTHUEg-JibDy",
        "colab": {
          "base_uri": "https://localhost:8080/"
        },
        "outputId": "5fc05b73-92ed-4a30-9903-b4b4ecdf42c4"
      },
      "source": [
        "len(t)"
      ],
      "execution_count": 28,
      "outputs": [
        {
          "output_type": "execute_result",
          "data": {
            "text/plain": [
              "14"
            ]
          },
          "metadata": {
            "tags": []
          },
          "execution_count": 28
        }
      ]
    },
    {
      "cell_type": "code",
      "metadata": {
        "id": "HSled1VXimhc",
        "colab": {
          "base_uri": "https://localhost:8080/"
        },
        "outputId": "bdf16a5c-ccda-44bf-97f7-b498526c8d90"
      },
      "source": [
        "len(list_b) #len คือคำสั่งตรวจสอบความยาวของ list (จำนวนสมาชิกทั้งหมด)"
      ],
      "execution_count": 29,
      "outputs": [
        {
          "output_type": "execute_result",
          "data": {
            "text/plain": [
              "5"
            ]
          },
          "metadata": {
            "tags": []
          },
          "execution_count": 29
        }
      ]
    },
    {
      "cell_type": "code",
      "metadata": {
        "id": "cXqbQSDli3Yu",
        "colab": {
          "base_uri": "https://localhost:8080/",
          "height": 36
        },
        "outputId": "1751bb98-f8b4-413d-8b13-c6d08e76a1fc"
      },
      "source": [
        "t[-4]"
      ],
      "execution_count": 30,
      "outputs": [
        {
          "output_type": "execute_result",
          "data": {
            "application/vnd.google.colaboratory.intrinsic+json": {
              "type": "string"
            },
            "text/plain": [
              "'e'"
            ]
          },
          "metadata": {
            "tags": []
          },
          "execution_count": 30
        }
      ]
    },
    {
      "cell_type": "code",
      "metadata": {
        "id": "0mQIpdnllN04",
        "colab": {
          "base_uri": "https://localhost:8080/"
        },
        "outputId": "49e43230-4a1d-408b-9745-0bd9294a6c22"
      },
      "source": [
        "list_b.append(t)\r\n",
        "print(list_b)"
      ],
      "execution_count": 31,
      "outputs": [
        {
          "output_type": "stream",
          "text": [
            "[111, 'c', 'งง', 1092, 'u', 'python is easy']\n"
          ],
          "name": "stdout"
        }
      ]
    },
    {
      "cell_type": "markdown",
      "metadata": {
        "id": "GcHXIYp2jLa3"
      },
      "source": [
        "###**ตัวที่อยู่ข้างใน [ ] เราเรียกว่า Index (ตัวชี้)**\r\n",
        "***\r\n",
        "##### **List slicing สามารถทำได้โดยใช้ Colon ( : )**\r\n",
        "\r\n",
        " [a:b] -> [a,b)"
      ]
    },
    {
      "cell_type": "code",
      "metadata": {
        "id": "LwAUgCARmtPp",
        "colab": {
          "base_uri": "https://localhost:8080/"
        },
        "outputId": "2ee51f9f-3511-4605-c355-543e103613ed"
      },
      "source": [
        "print(t)\r\n",
        "print(t[7:9])\r\n",
        "print(len(t[7:9]))"
      ],
      "execution_count": 32,
      "outputs": [
        {
          "output_type": "stream",
          "text": [
            "python is easy\n",
            "is\n",
            "2\n"
          ],
          "name": "stdout"
        }
      ]
    },
    {
      "cell_type": "code",
      "metadata": {
        "id": "97OP7GwHnfj9",
        "colab": {
          "base_uri": "https://localhost:8080/",
          "height": 36
        },
        "outputId": "16d3a476-ef6e-4370-8369-78aba207e989"
      },
      "source": [
        "t[0:14:2]"
      ],
      "execution_count": 33,
      "outputs": [
        {
          "output_type": "execute_result",
          "data": {
            "application/vnd.google.colaboratory.intrinsic+json": {
              "type": "string"
            },
            "text/plain": [
              "'pto ses'"
            ]
          },
          "metadata": {
            "tags": []
          },
          "execution_count": 33
        }
      ]
    },
    {
      "cell_type": "markdown",
      "metadata": {
        "id": "jM2zQyuCogHx"
      },
      "source": [
        "#**Quiz**\r\n",
        "***"
      ]
    },
    {
      "cell_type": "code",
      "metadata": {
        "id": "duM5JfeyoF27",
        "colab": {
          "base_uri": "https://localhost:8080/"
        },
        "outputId": "b47d92df-aaaa-4328-8809-19b1265efa1f"
      },
      "source": [
        "z = [1,2,3,4,5,6,7,8,9,10]\r\n",
        "z[1:10:2]"
      ],
      "execution_count": 34,
      "outputs": [
        {
          "output_type": "execute_result",
          "data": {
            "text/plain": [
              "[2, 4, 6, 8, 10]"
            ]
          },
          "metadata": {
            "tags": []
          },
          "execution_count": 34
        }
      ]
    },
    {
      "cell_type": "markdown",
      "metadata": {
        "id": "3VGnjXegnEjx"
      },
      "source": [
        "***ถ้าเว้นว่างหน้า : หมายความว่า เริ่มตั้งแต่ตัวแรก (0)***\r\n",
        "\r\n",
        "***ถ้าเว้นว่างหลัง : หมายความว่า ไปจนถึงตัวสุดท้าย (len(list))***"
      ]
    },
    {
      "cell_type": "code",
      "metadata": {
        "id": "0zoCugaSo_OC",
        "colab": {
          "base_uri": "https://localhost:8080/"
        },
        "outputId": "6f98cd3c-8084-4105-b89f-adaa6c10f191"
      },
      "source": [
        "print(t)\r\n",
        "print(t[:6])\r\n",
        "print(t[10:])\r\n",
        "print(t[-4:])\r\n",
        "print(t[:])"
      ],
      "execution_count": 35,
      "outputs": [
        {
          "output_type": "stream",
          "text": [
            "python is easy\n",
            "python\n",
            "easy\n",
            "easy\n",
            "python is easy\n"
          ],
          "name": "stdout"
        }
      ]
    },
    {
      "cell_type": "code",
      "metadata": {
        "id": "gqdTQ9CFrmov",
        "colab": {
          "base_uri": "https://localhost:8080/"
        },
        "outputId": "546658d6-3f52-40a2-e9d5-141ff0586343"
      },
      "source": [
        "print(z[::2])"
      ],
      "execution_count": 36,
      "outputs": [
        {
          "output_type": "stream",
          "text": [
            "[1, 3, 5, 7, 9]\n"
          ],
          "name": "stdout"
        }
      ]
    },
    {
      "cell_type": "markdown",
      "metadata": {
        "id": "0Q_6hG-Vpdhd"
      },
      "source": [
        "***\r\n",
        "### **เราสามารถเอา list มาต่อกันได้ด้วย +**"
      ]
    },
    {
      "cell_type": "code",
      "metadata": {
        "id": "82Y4juMnruwv",
        "colab": {
          "base_uri": "https://localhost:8080/",
          "height": 36
        },
        "outputId": "d796e28c-89a6-41d7-8d6c-9c13a34eb780"
      },
      "source": [
        "t + 'จริงหรอ ?'"
      ],
      "execution_count": 37,
      "outputs": [
        {
          "output_type": "execute_result",
          "data": {
            "application/vnd.google.colaboratory.intrinsic+json": {
              "type": "string"
            },
            "text/plain": [
              "'python is easyจริงหรอ ?'"
            ]
          },
          "metadata": {
            "tags": []
          },
          "execution_count": 37
        }
      ]
    },
    {
      "cell_type": "code",
      "metadata": {
        "id": "Fc-5KVAfr6ax",
        "colab": {
          "base_uri": "https://localhost:8080/",
          "height": 168
        },
        "outputId": "dd862fef-a4bb-49e9-a4b7-cabaf03c4683"
      },
      "source": [
        "t + list_b ##ไม่สามารภเอา list ปกติมาบวกกับ string ได้"
      ],
      "execution_count": 38,
      "outputs": [
        {
          "output_type": "error",
          "ename": "TypeError",
          "evalue": "ignored",
          "traceback": [
            "\u001b[0;31m---------------------------------------------------------------------------\u001b[0m",
            "\u001b[0;31mTypeError\u001b[0m                                 Traceback (most recent call last)",
            "\u001b[0;32m<ipython-input-38-bca2d9df1c58>\u001b[0m in \u001b[0;36m<module>\u001b[0;34m()\u001b[0m\n\u001b[0;32m----> 1\u001b[0;31m \u001b[0mt\u001b[0m \u001b[0;34m+\u001b[0m \u001b[0mlist_b\u001b[0m \u001b[0;31m##ไม่สามารภเอา list ปกติมาบวกกับ string ได้\u001b[0m\u001b[0;34m\u001b[0m\u001b[0;34m\u001b[0m\u001b[0m\n\u001b[0m",
            "\u001b[0;31mTypeError\u001b[0m: must be str, not list"
          ]
        }
      ]
    },
    {
      "cell_type": "code",
      "metadata": {
        "id": "RpXFfu93sFNO",
        "colab": {
          "base_uri": "https://localhost:8080/"
        },
        "outputId": "00543e5a-42cb-47fb-b403-412fc2dbea2a"
      },
      "source": [
        "print(list_a)\r\n",
        "list_b = [111,'c','งง',aaa]\r\n",
        "print(list_b)\r\n",
        "print(list_b + list_a)"
      ],
      "execution_count": 60,
      "outputs": [
        {
          "output_type": "stream",
          "text": [
            "[]\n",
            "[111, 'c', 'งง', 1092]\n",
            "[111, 'c', 'งง', 1092]\n"
          ],
          "name": "stdout"
        }
      ]
    },
    {
      "cell_type": "code",
      "metadata": {
        "id": "oHpCMjb_s7jH",
        "colab": {
          "base_uri": "https://localhost:8080/"
        },
        "outputId": "40213f23-f375-43e4-d23b-8b40fcb4504f"
      },
      "source": [
        "list_b.append(list_a)\r\n",
        "print(list_b)"
      ],
      "execution_count": 61,
      "outputs": [
        {
          "output_type": "stream",
          "text": [
            "[111, 'c', 'งง', 1092, []]\n"
          ],
          "name": "stdout"
        }
      ]
    },
    {
      "cell_type": "markdown",
      "metadata": {
        "id": "NLUwR1ASsdQh"
      },
      "source": [
        "***\r\n",
        "### **การแบ่ง string ตามสัญลักษณ์ที่กำหนด -> split string**"
      ]
    },
    {
      "cell_type": "code",
      "metadata": {
        "id": "Ig5YAziguFql",
        "colab": {
          "base_uri": "https://localhost:8080/",
          "height": 36
        },
        "outputId": "6010e107-b494-4e97-98a7-0ed81bad374a"
      },
      "source": [
        "t"
      ],
      "execution_count": 62,
      "outputs": [
        {
          "output_type": "execute_result",
          "data": {
            "application/vnd.google.colaboratory.intrinsic+json": {
              "type": "string"
            },
            "text/plain": [
              "'python is easy'"
            ]
          },
          "metadata": {
            "tags": []
          },
          "execution_count": 62
        }
      ]
    },
    {
      "cell_type": "code",
      "metadata": {
        "id": "kQ9CZmd2tt9q",
        "colab": {
          "base_uri": "https://localhost:8080/"
        },
        "outputId": "0bbd2189-c32e-471d-ae95-c0c51b703c84"
      },
      "source": [
        "t.split(' ')"
      ],
      "execution_count": 63,
      "outputs": [
        {
          "output_type": "execute_result",
          "data": {
            "text/plain": [
              "['python', 'is', 'easy']"
            ]
          },
          "metadata": {
            "tags": []
          },
          "execution_count": 63
        }
      ]
    },
    {
      "cell_type": "code",
      "metadata": {
        "id": "Q2w8TwnwtzsX"
      },
      "source": [
        "time = '19:14:15'"
      ],
      "execution_count": 64,
      "outputs": []
    },
    {
      "cell_type": "code",
      "metadata": {
        "id": "_YAdeVput9Y7",
        "colab": {
          "base_uri": "https://localhost:8080/"
        },
        "outputId": "597cfe88-b3d8-49e8-e829-bb08df4d1950"
      },
      "source": [
        "time.split(':')"
      ],
      "execution_count": 65,
      "outputs": [
        {
          "output_type": "execute_result",
          "data": {
            "text/plain": [
              "['19', '14', '15']"
            ]
          },
          "metadata": {
            "tags": []
          },
          "execution_count": 65
        }
      ]
    },
    {
      "cell_type": "code",
      "metadata": {
        "id": "mwwu0I6Hut9_",
        "colab": {
          "base_uri": "https://localhost:8080/"
        },
        "outputId": "061d64b9-a77c-4bd4-f2da-d5d9973d8b93"
      },
      "source": [
        "t_sp = t.split(' ')\r\n",
        "print(t_sp)"
      ],
      "execution_count": 66,
      "outputs": [
        {
          "output_type": "stream",
          "text": [
            "['python', 'is', 'easy']\n"
          ],
          "name": "stdout"
        }
      ]
    },
    {
      "cell_type": "code",
      "metadata": {
        "id": "7Re2gvptu9ZS",
        "colab": {
          "base_uri": "https://localhost:8080/"
        },
        "outputId": "896d21c7-eba8-4535-fe50-4c65c058b770"
      },
      "source": [
        "#วีธีรวมกลับ\r\n",
        "print(' '.join(t_sp))"
      ],
      "execution_count": 67,
      "outputs": [
        {
          "output_type": "stream",
          "text": [
            "python is easy\n"
          ],
          "name": "stdout"
        }
      ]
    },
    {
      "cell_type": "markdown",
      "metadata": {
        "id": "4GwCNVfgvXvL"
      },
      "source": [
        "***\r\n",
        "# **HW คำนวณเวลาเป็นวินาทีของเวลาต่อไปนี้โดยใช้คำสั่ง split() ช่วย (print ออกมาให้สวยงาม)**\r\n",
        "\r\n",
        "12:30:15\r\n",
        "\r\n",
        "13:41:07\r\n",
        "\r\n",
        "12:53:15\r\n",
        "\r\n",
        "00:59:25\r\n",
        "\r\n",
        "11:11:11\r\n",
        "\r\n",
        "16:06:09\r\n",
        "\r\n",
        "21:12:30\r\n",
        "\r\n",
        "10:06:15\r\n",
        "\r\n",
        "ตัวอย่าง > 01:00:01 = 3601 วินาที\r\n",
        "\r\n",
        "ตัวอย่าง > 00:01:10 = 70 วินาที\r\n",
        "***"
      ]
    },
    {
      "cell_type": "markdown",
      "metadata": {
        "id": "rfUyR9aWTHFo"
      },
      "source": [
        "#***คำตอบของการบ้าน***\r\n",
        "***"
      ]
    },
    {
      "cell_type": "code",
      "metadata": {
        "id": "R6okTWh-dk-3",
        "colab": {
          "base_uri": "https://localhost:8080/"
        },
        "outputId": "f3ff7321-ce0b-4a71-d9d8-8ff4043d883e"
      },
      "source": [
        "q1 ='12:30:15'\r\n",
        "q1.split(':')\r\n",
        "list_q1 = [12,30,15]\r\n",
        "h1 = list_q1[0]*3600\r\n",
        "m1 = list_q1[1]*60\r\n",
        "s1 = list_q1[2]\r\n",
        "aq1 = h1+m1+s1\r\n",
        "print(f'แปลงเป็นวินาทีได้เป็น {aq1} วินาที')"
      ],
      "execution_count": 68,
      "outputs": [
        {
          "output_type": "stream",
          "text": [
            "แปลงเป็นวินาทีได้เป็น 45015 วินาที\n"
          ],
          "name": "stdout"
        }
      ]
    },
    {
      "cell_type": "code",
      "metadata": {
        "id": "mm9A2QZnfCbB",
        "colab": {
          "base_uri": "https://localhost:8080/"
        },
        "outputId": "bd6aa28e-a233-4c9d-f446-ff80e11ccfba"
      },
      "source": [
        "q2 ='13:41:07'\r\n",
        "q2.split(':')\r\n",
        "list_q2 = [13,41,7]\r\n",
        "h2 = list_q2[0]*3600\r\n",
        "m2 = list_q2[1]*60\r\n",
        "s2 = list_q2[2]\r\n",
        "aq2 = h2+m2+s2\r\n",
        "print(f'แปลงเป็นวินาทีได้เป็น {aq2} วินาที')"
      ],
      "execution_count": 69,
      "outputs": [
        {
          "output_type": "stream",
          "text": [
            "แปลงเป็นวินาทีได้เป็น 49267 วินาที\n"
          ],
          "name": "stdout"
        }
      ]
    },
    {
      "cell_type": "code",
      "metadata": {
        "id": "yzbbg81afQEH",
        "colab": {
          "base_uri": "https://localhost:8080/"
        },
        "outputId": "2a6ebbc2-f495-4ae7-f1c3-c1ca37208873"
      },
      "source": [
        "q3 ='12:53:15'\r\n",
        "q3.split(':')\r\n",
        "list_q3 = [12,53,15]\r\n",
        "h3 = list_q3[0]*3600\r\n",
        "m3 = list_q3[1]*60\r\n",
        "s3 = list_q3[2]\r\n",
        "aq3 = h3+m3+s3\r\n",
        "print(f'แปลงเป็นวินาทิได้เป็น {aq3} วินาที')"
      ],
      "execution_count": 70,
      "outputs": [
        {
          "output_type": "stream",
          "text": [
            "แปลงเป็นวินาทิได้เป็น 46395 วินาที\n"
          ],
          "name": "stdout"
        }
      ]
    },
    {
      "cell_type": "code",
      "metadata": {
        "id": "DQEcqjqMfigo",
        "colab": {
          "base_uri": "https://localhost:8080/"
        },
        "outputId": "8d29579e-d374-4c19-c382-0efbaa45bc14"
      },
      "source": [
        "q4 ='00:59:25'\r\n",
        "q4.split(':')\r\n",
        "list_q4 = [00,59,25]\r\n",
        "h4 = list_q4[0]*3600\r\n",
        "m4 = list_q4[1]*60\r\n",
        "s4 = list_q4[2]\r\n",
        "aq4 = h4+m4+s4\r\n",
        "print(f'แปลงเป็นวินาทิได้เป็น {aq4} วินาที')"
      ],
      "execution_count": 71,
      "outputs": [
        {
          "output_type": "stream",
          "text": [
            "แปลงเป็นวินาทิได้เป็น 3565 วินาที\n"
          ],
          "name": "stdout"
        }
      ]
    },
    {
      "cell_type": "code",
      "metadata": {
        "id": "H_-fzMH2f3bL",
        "colab": {
          "base_uri": "https://localhost:8080/"
        },
        "outputId": "f9f093be-9d55-4320-97a0-9c2333f1cd67"
      },
      "source": [
        "q5 ='11:11:11'\r\n",
        "q5.split(':')\r\n",
        "list_q5 = [11,11,11]\r\n",
        "h5 = list_q5[0]*3600\r\n",
        "m5 = list_q5[1]*60\r\n",
        "s5 = list_q5[2]\r\n",
        "aq5 = h5+m5+s5\r\n",
        "print(f'แปลงเป็นวินาทิได้เป็น {aq5} วินาที')"
      ],
      "execution_count": 72,
      "outputs": [
        {
          "output_type": "stream",
          "text": [
            "แปลงเป็นวินาทิได้เป็น 40271 วินาที\n"
          ],
          "name": "stdout"
        }
      ]
    },
    {
      "cell_type": "code",
      "metadata": {
        "id": "LW5ldsgMgJcY",
        "colab": {
          "base_uri": "https://localhost:8080/"
        },
        "outputId": "79624f30-9359-4e66-de87-62c857b1436f"
      },
      "source": [
        "q6 ='16:06:09'\r\n",
        "q6.split(':')\r\n",
        "list_q6 = [16,6,9]\r\n",
        "h6 = list_q6[0]*3600\r\n",
        "m6 = list_q6[1]*60\r\n",
        "s6 = list_q6[2]\r\n",
        "aq6 = h6+m6+s6\r\n",
        "print(f'แปลงเป็นวินาทิได้เป็น {aq6} วินาที')"
      ],
      "execution_count": 73,
      "outputs": [
        {
          "output_type": "stream",
          "text": [
            "แปลงเป็นวินาทิได้เป็น 57969 วินาที\n"
          ],
          "name": "stdout"
        }
      ]
    },
    {
      "cell_type": "code",
      "metadata": {
        "id": "ux5OEo22gzMa",
        "colab": {
          "base_uri": "https://localhost:8080/"
        },
        "outputId": "fb9b71bb-48c5-471f-9ccd-94250f34b29a"
      },
      "source": [
        "q7 ='21:12:30'\r\n",
        "q7.split(':')\r\n",
        "list_q7 = [21,12,30]\r\n",
        "h7 = list_q7[0]*3600\r\n",
        "m7 = list_q7[1]*60\r\n",
        "s7 = list_q7[2]\r\n",
        "aq7 = h7+m7+s7\r\n",
        "print(f'แปลงเป็นวินาทิได้เป็น {aq7} วินาที')"
      ],
      "execution_count": 74,
      "outputs": [
        {
          "output_type": "stream",
          "text": [
            "แปลงเป็นวินาทิได้เป็น 76350 วินาที\n"
          ],
          "name": "stdout"
        }
      ]
    },
    {
      "cell_type": "code",
      "metadata": {
        "id": "g_RMeMndhDFq",
        "colab": {
          "base_uri": "https://localhost:8080/"
        },
        "outputId": "279de111-1645-4980-aa1f-1c3cca1375d4"
      },
      "source": [
        "q8 ='10:06:15'\r\n",
        "q8.split(':')\r\n",
        "list_q8 = [10,6,15]\r\n",
        "h8 = list_q8[0]*3600\r\n",
        "m8 = list_q8[1]*60\r\n",
        "s8 = list_q8[2]\r\n",
        "aq8 = h8+m8+s8\r\n",
        "print(f'แปลงเป็นวินาทิได้เป็น {aq8} วินาที')"
      ],
      "execution_count": 75,
      "outputs": [
        {
          "output_type": "stream",
          "text": [
            "แปลงเป็นวินาทิได้เป็น 36375 วินาที\n"
          ],
          "name": "stdout"
        }
      ]
    },
    {
      "cell_type": "markdown",
      "metadata": {
        "id": "hDARA4lVhVtH"
      },
      "source": [
        "***"
      ]
    },
    {
      "cell_type": "markdown",
      "metadata": {
        "id": "LBusLZBtOM9r"
      },
      "source": [
        "# ***แก้ไขเฉลย***\r\n",
        "***"
      ]
    },
    {
      "cell_type": "code",
      "metadata": {
        "id": "4pFY1PhuOKWF"
      },
      "source": [
        "qq1 = '12:30:15'"
      ],
      "execution_count": 78,
      "outputs": []
    },
    {
      "cell_type": "code",
      "metadata": {
        "id": "KdpdX4A4OOyq",
        "outputId": "c11f4fc4-1629-43c1-c26c-bba9020b6bf9",
        "colab": {
          "base_uri": "https://localhost:8080/"
        }
      },
      "source": [
        "qq1_sp = qq1.split(':')\r\n",
        "print(qq1_sp)"
      ],
      "execution_count": 77,
      "outputs": [
        {
          "output_type": "stream",
          "text": [
            "['12', '30', '15']\n"
          ],
          "name": "stdout"
        }
      ]
    },
    {
      "cell_type": "code",
      "metadata": {
        "id": "B8Vkm1OBOnDe",
        "outputId": "999b3dd5-6289-4f43-8799-019532396926",
        "colab": {
          "base_uri": "https://localhost:8080/"
        }
      },
      "source": [
        "hh1 = int(qq1_sp[0])*3600\r\n",
        "mm1 = int(qq1_sp[1])*60\r\n",
        "ss1 = int(qq1_sp[2])\r\n",
        "aaq1 = hh1+mm1+ss1\r\n",
        "print(f'แปลงเป็นวินาทิได้เป็น {aaq1} วินาที')\r\n",
        "print(f'เวลา {qq1} คำนวณเป็นจำนวนวินาทีได้เท่ากับ {aaq1} วินาที')"
      ],
      "execution_count": 79,
      "outputs": [
        {
          "output_type": "stream",
          "text": [
            "แปลงเป็นวินาทิได้เป็น 45015 วินาที\n",
            "เวลา 12:30:15 คำนวณเป็นจำนวนวินาทีได้เท่ากับ 45015 วินาที\n"
          ],
          "name": "stdout"
        }
      ]
    }
  ]
}